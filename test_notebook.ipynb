{
 "cells": [
  {
   "metadata": {
    "ExecuteTime": {
     "end_time": "2024-05-07T05:38:39.318557Z",
     "start_time": "2024-05-07T05:38:38.994901Z"
    }
   },
   "cell_type": "code",
   "source": [
    "import requests\n",
    "from bs4 import BeautifulSoup\n",
    "import dateparser"
   ],
   "id": "21445bbf06706b51",
   "outputs": [],
   "execution_count": 1
  },
  {
   "metadata": {
    "ExecuteTime": {
     "end_time": "2024-05-07T05:44:43.674854Z",
     "start_time": "2024-05-07T05:44:43.671495Z"
    }
   },
   "cell_type": "code",
   "source": "url = \"https://malijet.com/a_la_une_du_mali/?page=3\"",
   "id": "5e6a317f1414ba9f",
   "outputs": [],
   "execution_count": 15
  },
  {
   "metadata": {
    "ExecuteTime": {
     "end_time": "2024-05-07T05:44:46.666Z",
     "start_time": "2024-05-07T05:44:43.939250Z"
    }
   },
   "cell_type": "code",
   "source": "response = requests.get(url)",
   "id": "d6fed687f8fb7536",
   "outputs": [],
   "execution_count": 16
  },
  {
   "metadata": {
    "ExecuteTime": {
     "end_time": "2024-05-07T05:44:46.678771Z",
     "start_time": "2024-05-07T05:44:46.671359Z"
    }
   },
   "cell_type": "code",
   "source": "response.text[:100]",
   "id": "4e84cac9b2ef6069",
   "outputs": [
    {
     "data": {
      "text/plain": [
       "'  <!DOCTYPE html>\\n<html lang=\"en\">\\n<head>\\n<meta charset=\"UTF-8\">\\n<meta http-equiv=\"X-UA-Compatible\" '"
      ]
     },
     "execution_count": 17,
     "metadata": {},
     "output_type": "execute_result"
    }
   ],
   "execution_count": 17
  },
  {
   "metadata": {
    "ExecuteTime": {
     "end_time": "2024-05-07T05:44:46.722715Z",
     "start_time": "2024-05-07T05:44:46.681348Z"
    }
   },
   "cell_type": "code",
   "source": "soup = BeautifulSoup(response.text, \"html.parser\")",
   "id": "27f48edd8a4156c9",
   "outputs": [],
   "execution_count": 18
  },
  {
   "metadata": {
    "ExecuteTime": {
     "end_time": "2024-05-07T05:45:14.947324Z",
     "start_time": "2024-05-07T05:45:14.874273Z"
    }
   },
   "cell_type": "code",
   "source": [
    "articles = soup.find(\"div\", id=\"v_container\").find_all(\"div\", class_=\"card\")\n",
    "\n",
    "for article in articles[:-1]:\n",
    "    title = article.find_all(\"div\", class_=\"card-header\")\n",
    "    title = None if len(title)==0 else title[0].text.strip().split(\"\\n\")[-1]\n",
    "    infos = article.find_all(\"div\", class_=\"card-body\")\n",
    "    infos = None if len(infos)==0 else infos[0].text.strip().split(\"\\n\")\n",
    "    \n",
    "    print(f\"title : {title}\")\n",
    "    print(f\"source_paper : {'None' if not infos else infos[0]}\")\n",
    "    print(f\"date : {'None' if not infos or not dateparser.parse(infos[1]) else dateparser.parse(infos[1]).date()}\")\n",
    "    \n",
    "    print(\"*\"*100)"
   ],
   "id": "914146809b3a7a16",
   "outputs": [
    {
     "name": "stdout",
     "output_type": "stream",
     "text": [
      "title : Retrait des troupes US du Niger: en voilà une raison, selon un dirigeant malien\n",
      "source_paper : Sputnik\n",
      "date : 2024-04-23\n",
      "****************************************************************************************************\n",
      "title : Dialogue inter-maliens pour la paix et la réconciliation: La Commune I suggère que les 5 Colonels soient promus Généraux\n",
      "source_paper : Le Challenger\n",
      "date : 2024-04-23\n",
      "****************************************************************************************************\n",
      "title : Nécrologie : décès de Oumou Berthé dite Dikorè\n",
      "source_paper : Malijet\n",
      "date : 2024-04-23\n",
      "****************************************************************************************************\n",
      "title : Des attestations d’encouragement pour certains Agents de l’agence principale de la commune II\n",
      "source_paper : Malijet\n",
      "date : 2024-04-22\n",
      "****************************************************************************************************\n",
      "title : Aide à l’Ukraine : Moussa Mara dénonce la politique de deux poids deux mesures de l'occident\n",
      "source_paper : Malijet\n",
      "date : 2024-04-21\n",
      "****************************************************************************************************\n",
      "title : Kidal : Installation d’un nouveau commandant dans ses fonctions\n",
      "source_paper : Fama\n",
      "date : 2024-04-21\n",
      "****************************************************************************************************\n",
      "title : Renforcement des liens sécuritaires : le Président de la Transition reçoit le ministre de la Défense de la Mauritanie\n",
      "source_paper : Présidence \n",
      "date : 2024-04-20\n",
      "****************************************************************************************************\n",
      "title : Justice : Le président de la transition accorde la grâce à 298 détenus\n",
      "source_paper : Ministère de la Justice\n",
      "date : 2024-04-19\n",
      "****************************************************************************************************\n",
      "title : Tribunal militaire de Bamako : un dossier de détournement de droits des militaires devant le tribunal\n",
      "source_paper : Fama\n",
      "date : 2024-04-19\n",
      "****************************************************************************************************\n",
      "title : Fonction publique des Collectivités territoriales : Le recrutement de 684 nouveaux enseignants sera lancé.\n",
      "source_paper : Malijet\n",
      "date : 2024-04-19\n",
      "****************************************************************************************************\n",
      "title : Dialogue inter-malien pour la paix et la réconciliation nationale : Vers un nouveau plan social pour enfin bâtir la nation\n",
      "source_paper : Le Challenger\n",
      "date : 2024-04-19\n",
      "****************************************************************************************************\n",
      "title : \"Riposter de manière efficace\": pourquoi le Mali a créé sa Force d’intervention rapide\n",
      "source_paper : Sputnik\n",
      "date : 2024-04-19\n",
      "****************************************************************************************************\n",
      "title : \"Riposter de manière efficace\": pourquoi le Mali a créé sa Force d’intervention rapide\n",
      "source_paper : Sputnik\n",
      "date : 2024-04-18\n",
      "****************************************************************************************************\n",
      "title : Cour Suprême : de nouveaux Inspecteurs des Armées et Services prêtent serment\n",
      "source_paper : Fama\n",
      "date : 2024-04-18\n",
      "****************************************************************************************************\n",
      "title : Les Forces Armées du Mali : sur la voie vers le succès\n",
      "source_paper : Afrique média\n",
      "date : 2024-04-18\n",
      "****************************************************************************************************\n",
      "title : La dissolution des associations continue au Mali : Le gouvernement dissout la Coordination des Organisations de l’Appel du 20 février 2023 pour sauver le Mali\n",
      "source_paper : Le Républicain \n",
      "date : 2024-04-18\n",
      "****************************************************************************************************\n",
      "title : Mali: La Coordination des Organisations de l'Appel du 20 février 2023 est dissoute par le gouvernement.\n",
      "source_paper : Malijet\n",
      "date : 2024-04-17\n",
      "****************************************************************************************************\n",
      "title : Le Chérif de Nioro \"Bouyé Haïdara\" s'exprime sur l'organisation de l'élection présidentielle au Mali et le dialogue inter-malien.\n",
      "source_paper : Malijet\n",
      "date : 2024-04-17\n",
      "****************************************************************************************************\n",
      "title : Mali: Création de la force rapide d'intervention de l'armée.\n",
      "source_paper : Malijet\n",
      "date : 2024-04-17\n",
      "****************************************************************************************************\n",
      "title : Lancement Tecno Camon 30 : Encore des performances au rendez-vous !\n",
      "source_paper : Malijet\n",
      "date : 2024-04-17\n",
      "****************************************************************************************************\n"
     ]
    }
   ],
   "execution_count": 20
  },
  {
   "metadata": {},
   "cell_type": "code",
   "outputs": [],
   "execution_count": null,
   "source": "",
   "id": "ec157f3d7e568cb1"
  }
 ],
 "metadata": {
  "kernelspec": {
   "display_name": "Python 3",
   "language": "python",
   "name": "python3"
  },
  "language_info": {
   "codemirror_mode": {
    "name": "ipython",
    "version": 2
   },
   "file_extension": ".py",
   "mimetype": "text/x-python",
   "name": "python",
   "nbconvert_exporter": "python",
   "pygments_lexer": "ipython2",
   "version": "2.7.6"
  }
 },
 "nbformat": 4,
 "nbformat_minor": 5
}
