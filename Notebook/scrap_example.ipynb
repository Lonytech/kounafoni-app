{
 "cells": [
  {
   "metadata": {
    "ExecuteTime": {
     "end_time": "2024-05-08T12:05:53.952401Z",
     "start_time": "2024-05-08T12:05:52.748618Z"
    }
   },
   "cell_type": "code",
   "source": [
    "import requests\n",
    "from bs4 import BeautifulSoup\n",
    "import dateparser\n",
    "import pandas as pd\n",
    "from tqdm import tqdm\n",
    "import unicodedata\n",
    "from pathlib import Path"
   ],
   "id": "21445bbf06706b51",
   "outputs": [],
   "execution_count": 1
  },
  {
   "metadata": {
    "ExecuteTime": {
     "end_time": "2024-05-08T12:05:53.956683Z",
     "start_time": "2024-05-08T12:05:53.953570Z"
    }
   },
   "cell_type": "code",
   "source": [
    "def get_soup_parser(url):\n",
    "    response = requests.get(url)\n",
    "    return BeautifulSoup(response.text, \"html.parser\")"
   ],
   "id": "77a7450f57fa5c99",
   "outputs": [],
   "execution_count": 2
  },
  {
   "metadata": {
    "ExecuteTime": {
     "end_time": "2024-05-08T12:05:53.964106Z",
     "start_time": "2024-05-08T12:05:53.957625Z"
    }
   },
   "cell_type": "code",
   "source": [
    "def get_mali_jet_page_list_of_articles(num_page):\n",
    "    soup = get_soup_parser(url=f\"https://malijet.com/a_la_une_du_mali/?page={num_page}\")\n",
    "    articles = soup.find(\"div\", id=\"v_container\").find_all(\"div\", class_=\"card\")\n",
    "    titles, source_papers, dates, links = [], [], [], []\n",
    "    print('Getting list of articles...')\n",
    "    for article in tqdm(articles[:-1]):\n",
    "        header = article.find(\"div\", class_=\"card-header\")\n",
    "        link = header.find(\"a\", href=True)\n",
    "        title = None if not header else header.text.strip().split(\"\\n\")[-1]\n",
    "        infos = article.find(\"div\", class_=\"card-body\")\n",
    "        infos = None if not infos else infos.text.strip().split(\"\\n\")\n",
    "        \n",
    "        titles.append(title)\n",
    "        source_papers.append(None if not infos else infos[0])\n",
    "        dates.append(None if not infos or not dateparser.parse(infos[1]) else dateparser.parse(infos[1]).date())\n",
    "        links.append(link['href'])\n",
    "        # print(\"*\"*100)\n",
    "    return pd.DataFrame({\"title\": titles, \"source_paper\": source_papers, \"date\": dates, \"link\": links})"
   ],
   "id": "914146809b3a7a16",
   "outputs": [],
   "execution_count": 3
  },
  {
   "metadata": {},
   "cell_type": "markdown",
   "source": "## Extract info from one article\n",
   "id": "e575c235a38f5bac"
  },
  {
   "metadata": {
    "ExecuteTime": {
     "end_time": "2024-05-08T12:05:57.064428Z",
     "start_time": "2024-05-08T12:05:57.060364Z"
    }
   },
   "cell_type": "code",
   "source": [
    "def fetch_article_content(article_link):\n",
    "    soup = get_soup_parser(url=article_link)\n",
    "    \n",
    "    # get content\n",
    "    content = \" \".join(paragraph.text for paragraph in soup.find_all(\"div\", dir=\"auto\") if not paragraph.text.isspace())\n",
    "    \n",
    "    # TODO : We must implement a way to parse the article's author and return it as a tuple with \"content\"\n",
    "    # author = \"\"\n",
    "    \n",
    "    if content != '':\n",
    "        return content\n",
    "    else:\n",
    "        return unicodedata.normalize(\"NFKD\", \" \".join(soup.find(\"div\", class_=\"card-header\").text.split('Date : ')[1].split('\\n')[1:])).strip().replace(\"     \", \" \")"
   ],
   "id": "f6140d6fd0fcb4f1",
   "outputs": [],
   "execution_count": 5
  },
  {
   "metadata": {
    "ExecuteTime": {
     "end_time": "2024-05-08T12:05:57.068699Z",
     "start_time": "2024-05-08T12:05:57.065626Z"
    }
   },
   "cell_type": "code",
   "source": "new_article_link = \"https://malijet.com/a_la_une_du_mali/290531-industrie--le-president-assimi-goita-a-recu-l’ancien-footballeur.html\"",
   "id": "ceea7e747900819",
   "outputs": [],
   "execution_count": 6
  },
  {
   "metadata": {
    "ExecuteTime": {
     "end_time": "2024-05-08T12:05:59.753702Z",
     "start_time": "2024-05-08T12:05:57.069791Z"
    }
   },
   "cell_type": "code",
   "source": "fetch_article_content(new_article_link)",
   "id": "8ffb36c42127e895",
   "outputs": [
    {
     "data": {
      "text/plain": [
       "'Le Président de la Transition, Son Excellence le Colonel Assimi GOÏTA, Chef de l’État, a reçu en audience, ce mardi 07 mai 2024, Seydou KEÏTA, ancien footballeur international et entrepreneur visionnaire, en prélude de la finalisation de son complexe industriel à Sanankoroba, dans le Cercle de Kati. Cette rencontre, qui s’est tenue en présence du ministre de l’Industrie et du Commerce, marque un jalon important dans le parcours de M. KEÏTA et pour le développement économique du Mali. Seydou KEÏTA, qui a entamé ce projet ambitieux en 2021, a transformé son rêve en réalité, illustrant parfaitement la transition réussie d’une carrière sportive à celle d’entrepreneur engagé. Le complexe industriel, résultat d’années d’efforts et d’investissements considérables, est désormais prêt à démarrer ses opérations, promettant de devenir un moteur de croissance pour la région et pour le Mali tout entier. Au cours de cette audience, Seydou KEÏTA a exprimé sa gratitude envers les autorités maliennes pour leur soutien constant durant les phases de développement du projet. Il a également mis en avant l’impact significatif du complexe sur la communauté locale, en offrant des opportunités d’emploi et en contribuant au développement économique du pays. Le Président GOÏTA a chaleureusement félicité M. KEÏTA pour son initiative et son dévouement à la nation. Soulignant l’importance de soutenir les entrepreneurs locaux, le Président de la Transition a réitéré l’engagement du Gouvernement à créer un environnement propice à l’investissement et à la croissance économique durable. Le complexe industriel Seydou KEÏTA englobe trois unités de production principales : une unité de production d’huile végétale alimentaire, de tourteau et d’aliment pour bétail ; une unité de fabrication de bidons plastiques et de savons ; ainsi qu’une unité dédiée à la production de beurre de karité. Ces installations modernes sont conçues pour répondre aux standards internationaux et visent à renforcer l’autosuffisance du Mali dans ces secteurs clés. La mise en service de ce complexe industriel est imminente, et Seydou KEÏTA a assuré que les portes s’ouvriraient très prochainement. Cette inauguration est attendue avec impatience, tant par les futurs employés que par les communautés locales, qui verront là une source significative de développement et d’amélioration de leurs conditions de vie.'"
      ]
     },
     "execution_count": 7,
     "metadata": {},
     "output_type": "execute_result"
    }
   ],
   "execution_count": 7
  },
  {
   "metadata": {},
   "cell_type": "markdown",
   "source": "## Second part : Parsing using date",
   "id": "b20f56f71dfb35c0"
  },
  {
   "metadata": {
    "ExecuteTime": {
     "end_time": "2024-05-08T12:05:59.766862Z",
     "start_time": "2024-05-08T12:05:59.754706Z"
    }
   },
   "cell_type": "code",
   "source": [
    "begin_date = \"2024-04-27\"\n",
    "end_date = \"2024-05-08\" #today\n",
    "\n",
    "# parse them\n",
    "begin_date = dateparser.parse(begin_date).date()\n",
    "end_date = dateparser.parse(end_date).date()"
   ],
   "id": "80319b05fdb70481",
   "outputs": [],
   "execution_count": 8
  },
  {
   "metadata": {
    "ExecuteTime": {
     "end_time": "2024-05-08T12:06:06.176560Z",
     "start_time": "2024-05-08T12:05:59.767830Z"
    }
   },
   "cell_type": "code",
   "source": [
    "page_number = 1\n",
    "articles_to_fetch_df = pd.DataFrame(columns=[\"title\", \"source_paper\", \"date\", \"link\"])\n",
    "contents = []\n",
    "current_date = end_date\n",
    "while begin_date <= current_date:\n",
    "    print(f\"fetching article from page {page_number} ...\")\n",
    "    articles_to_fetch_df = pd.concat([articles_to_fetch_df, get_mali_jet_page_list_of_articles(page_number)])\n",
    "    page_number+=1\n",
    "    current_date = articles_to_fetch_df.date.min()\n",
    "\n",
    "    articles_to_fetch_df.query(\"date >= @begin_date and date <= @end_date\")"
   ],
   "id": "abefb3d88b9f1c0a",
   "outputs": [
    {
     "name": "stdout",
     "output_type": "stream",
     "text": [
      "fetching article from page 1 ...\n",
      "Getting list of articles...\n"
     ]
    },
    {
     "name": "stderr",
     "output_type": "stream",
     "text": [
      "100%|██████████| 20/20 [00:00<00:00, 184.30it/s]"
     ]
    },
    {
     "name": "stdout",
     "output_type": "stream",
     "text": [
      "fetching article from page 2 ...\n"
     ]
    },
    {
     "name": "stderr",
     "output_type": "stream",
     "text": [
      "\n"
     ]
    },
    {
     "name": "stdout",
     "output_type": "stream",
     "text": [
      "Getting list of articles...\n"
     ]
    },
    {
     "name": "stderr",
     "output_type": "stream",
     "text": [
      "100%|██████████| 20/20 [00:00<00:00, 397.17it/s]\n"
     ]
    },
    {
     "data": {
      "text/plain": [
       "                                                title  \\\n",
       "0   Industrie : Le Président Assimi GOITA a reçu l...   \n",
       "1   Célébration du 3 mai: La presse malienne, actr...   \n",
       "2   Assimi Goïta lors du lancement des travaux de ...   \n",
       "3   Ouverture de la phase finale du Dialogue Inter...   \n",
       "4   Top départ de la phase finale du Dialogue inte...   \n",
       "5   Journée mondiale de la liberté de la presse le...   \n",
       "6   Discours de Son Excellence, le colonel Assimi,...   \n",
       "7   Cérémonie d’ouverture: Discours de Monsieur Ou...   \n",
       "8                  Les Maliens se parlent sans filtre   \n",
       "9   Situation sécuritaire : Les Fama occupent le t...   \n",
       "10  OMH : Les conditions de retrait des logements ...   \n",
       "11  Journée internationale de la presse : APPEL-MA...   \n",
       "12  Journée internationale du travail : L’Untm pou...   \n",
       "13  Discours du Président de la Maison de la Press...   \n",
       "14  Célébration du 3 mai, Journée mondiale de la l...   \n",
       "15  Exercice de la liberté de la presse au Mali : ...   \n",
       "16  Dialogue inter-malien : Atelier d'information ...   \n",
       "17  Le ministre Guindo apporte son soutien au ciné...   \n",
       "18  Yacouba Katilé, secrétaire général de l’UNTM l...   \n",
       "19  14e congres de l’UNTM : Bassaro Haïdara aux co...   \n",
       "0   Lutte contre le terrorisme : Abu Huzeifa dit H...   \n",
       "1   Création de la force d’intervention rapide des...   \n",
       "2   BVG : Le nouveau vérificateur Mohamed Daou prê...   \n",
       "3          Pourquoi la France veut revenir au Sahel ?   \n",
       "4   Conseil Supérieur de l’Agriculture (CSA): Le P...   \n",
       "5                                        Cnt-gate!!!!   \n",
       "6   Chronique du jour : Des compétences à avoir da...   \n",
       "7   Lutte contre les groupes terroristes : Les FAM...   \n",
       "8   Sahel : L'opération conjointe des forces armée...   \n",
       "9   La Russie a beaucoup fait pour aider le Mali à...   \n",
       "10  Dialogue social au Mali : rencontre entre le P...   \n",
       "11               La vérité sur l'affaire Gah vs Komé.   \n",
       "\n",
       "                           source_paper        date  \\\n",
       "0                           Présidence   2024-05-08   \n",
       "1                        Le Challenger   2024-05-07   \n",
       "2                       Le Républicain   2024-05-07   \n",
       "3                           Présidence   2024-05-06   \n",
       "4                               Malijet  2024-05-06   \n",
       "5                           Arc en Ciel  2024-05-06   \n",
       "6                               Malijet  2024-05-06   \n",
       "7                               Malijet  2024-05-06   \n",
       "8                         Studio tamani  2024-05-06   \n",
       "9                                L'Aube  2024-05-06   \n",
       "10                         Mali Tribune  2024-05-04   \n",
       "11                              Malijet  2024-05-04   \n",
       "12                        Le Challenger  2024-05-03   \n",
       "13                              Malijet  2024-05-03   \n",
       "14                        Le Challenger  2024-05-03   \n",
       "15                        Le Challenger  2024-05-03   \n",
       "16                              Malijet  2024-05-03   \n",
       "17                        Le Challenger  2024-05-03   \n",
       "18                      Le Républicain   2024-05-02   \n",
       "19                         Mali Tribune  2024-05-02   \n",
       "0                          Mali Tribune  2024-05-02   \n",
       "1                          Mali Tribune  2024-05-02   \n",
       "2                          Mali Tribune  2024-05-02   \n",
       "3                               Malijet  2024-05-01   \n",
       "4   Présidence de la République du Mali  2024-05-01   \n",
       "5                         Le Challenger  2024-04-29   \n",
       "6                         Le Challenger  2024-04-29   \n",
       "7                                L'Aube  2024-04-29   \n",
       "8                               Malijet  2024-04-28   \n",
       "9                               Sputnik  2024-04-27   \n",
       "10                          Présidence   2024-04-27   \n",
       "11                              Malijet  2024-04-27   \n",
       "\n",
       "                                                 link  \n",
       "0   https://malijet.com/a_la_une_du_mali/290531-in...  \n",
       "1   https://malijet.com/a_la_une_du_mali/290517-ce...  \n",
       "2   https://malijet.com/a_la_une_du_mali/290501-as...  \n",
       "3   https://malijet.com/a_la_une_du_mali/290494-ou...  \n",
       "4   https://malijet.com/a_la_une_du_mali/290492-to...  \n",
       "5   https://malijet.com/a_la_une_du_mali/290490-jo...  \n",
       "6   https://malijet.com/a_la_une_du_mali/290483-di...  \n",
       "7   https://malijet.com/a_la_une_du_mali/290482-ce...  \n",
       "8   https://malijet.com/a_la_une_du_mali/290481-le...  \n",
       "9   https://malijet.com/a_la_une_du_mali/290455-si...  \n",
       "10  https://malijet.com/a_la_une_du_mali/290445-om...  \n",
       "11  https://malijet.com/a_la_une_du_mali/290434-jo...  \n",
       "12  https://malijet.com/a_la_une_du_mali/290408-jo...  \n",
       "13  https://malijet.com/a_la_une_du_mali/290404-di...  \n",
       "14  https://malijet.com/a_la_une_du_mali/290396-ce...  \n",
       "15  https://malijet.com/a_la_une_du_mali/290394-ex...  \n",
       "16  https://malijet.com/a_la_une_du_mali/290392-di...  \n",
       "17  https://malijet.com/a_la_une_du_mali/290388-le...  \n",
       "18  https://malijet.com/a_la_une_du_mali/290384-ya...  \n",
       "19  https://malijet.com/a_la_une_du_mali/290373-14...  \n",
       "0   https://malijet.com/a_la_une_du_mali/290371-lu...  \n",
       "1   https://malijet.com/a_la_une_du_mali/290369-cr...  \n",
       "2   https://malijet.com/a_la_une_du_mali/290367-bv...  \n",
       "3   https://malijet.com/a_la_une_du_mali/290353-po...  \n",
       "4   https://malijet.com/a_la_une_du_mali/290347-co...  \n",
       "5   https://malijet.com/a_la_une_du_mali/290275-cn...  \n",
       "6   https://malijet.com/a_la_une_du_mali/290273-ch...  \n",
       "7   https://malijet.com/a_la_une_du_mali/290255-lu...  \n",
       "8   https://malijet.com/a_la_une_du_mali/290247-sa...  \n",
       "9   https://malijet.com/a_la_une_du_mali/290224-la...  \n",
       "10  https://malijet.com/a_la_une_du_mali/290214-di...  \n",
       "11  https://malijet.com/a_la_une_du_mali/290197-la...  "
      ],
      "text/html": [
       "<div>\n",
       "<style scoped>\n",
       "    .dataframe tbody tr th:only-of-type {\n",
       "        vertical-align: middle;\n",
       "    }\n",
       "\n",
       "    .dataframe tbody tr th {\n",
       "        vertical-align: top;\n",
       "    }\n",
       "\n",
       "    .dataframe thead th {\n",
       "        text-align: right;\n",
       "    }\n",
       "</style>\n",
       "<table border=\"1\" class=\"dataframe\">\n",
       "  <thead>\n",
       "    <tr style=\"text-align: right;\">\n",
       "      <th></th>\n",
       "      <th>title</th>\n",
       "      <th>source_paper</th>\n",
       "      <th>date</th>\n",
       "      <th>link</th>\n",
       "    </tr>\n",
       "  </thead>\n",
       "  <tbody>\n",
       "    <tr>\n",
       "      <th>0</th>\n",
       "      <td>Industrie : Le Président Assimi GOITA a reçu l...</td>\n",
       "      <td>Présidence</td>\n",
       "      <td>2024-05-08</td>\n",
       "      <td>https://malijet.com/a_la_une_du_mali/290531-in...</td>\n",
       "    </tr>\n",
       "    <tr>\n",
       "      <th>1</th>\n",
       "      <td>Célébration du 3 mai: La presse malienne, actr...</td>\n",
       "      <td>Le Challenger</td>\n",
       "      <td>2024-05-07</td>\n",
       "      <td>https://malijet.com/a_la_une_du_mali/290517-ce...</td>\n",
       "    </tr>\n",
       "    <tr>\n",
       "      <th>2</th>\n",
       "      <td>Assimi Goïta lors du lancement des travaux de ...</td>\n",
       "      <td>Le Républicain</td>\n",
       "      <td>2024-05-07</td>\n",
       "      <td>https://malijet.com/a_la_une_du_mali/290501-as...</td>\n",
       "    </tr>\n",
       "    <tr>\n",
       "      <th>3</th>\n",
       "      <td>Ouverture de la phase finale du Dialogue Inter...</td>\n",
       "      <td>Présidence</td>\n",
       "      <td>2024-05-06</td>\n",
       "      <td>https://malijet.com/a_la_une_du_mali/290494-ou...</td>\n",
       "    </tr>\n",
       "    <tr>\n",
       "      <th>4</th>\n",
       "      <td>Top départ de la phase finale du Dialogue inte...</td>\n",
       "      <td>Malijet</td>\n",
       "      <td>2024-05-06</td>\n",
       "      <td>https://malijet.com/a_la_une_du_mali/290492-to...</td>\n",
       "    </tr>\n",
       "    <tr>\n",
       "      <th>5</th>\n",
       "      <td>Journée mondiale de la liberté de la presse le...</td>\n",
       "      <td>Arc en Ciel</td>\n",
       "      <td>2024-05-06</td>\n",
       "      <td>https://malijet.com/a_la_une_du_mali/290490-jo...</td>\n",
       "    </tr>\n",
       "    <tr>\n",
       "      <th>6</th>\n",
       "      <td>Discours de Son Excellence, le colonel Assimi,...</td>\n",
       "      <td>Malijet</td>\n",
       "      <td>2024-05-06</td>\n",
       "      <td>https://malijet.com/a_la_une_du_mali/290483-di...</td>\n",
       "    </tr>\n",
       "    <tr>\n",
       "      <th>7</th>\n",
       "      <td>Cérémonie d’ouverture: Discours de Monsieur Ou...</td>\n",
       "      <td>Malijet</td>\n",
       "      <td>2024-05-06</td>\n",
       "      <td>https://malijet.com/a_la_une_du_mali/290482-ce...</td>\n",
       "    </tr>\n",
       "    <tr>\n",
       "      <th>8</th>\n",
       "      <td>Les Maliens se parlent sans filtre</td>\n",
       "      <td>Studio tamani</td>\n",
       "      <td>2024-05-06</td>\n",
       "      <td>https://malijet.com/a_la_une_du_mali/290481-le...</td>\n",
       "    </tr>\n",
       "    <tr>\n",
       "      <th>9</th>\n",
       "      <td>Situation sécuritaire : Les Fama occupent le t...</td>\n",
       "      <td>L'Aube</td>\n",
       "      <td>2024-05-06</td>\n",
       "      <td>https://malijet.com/a_la_une_du_mali/290455-si...</td>\n",
       "    </tr>\n",
       "    <tr>\n",
       "      <th>10</th>\n",
       "      <td>OMH : Les conditions de retrait des logements ...</td>\n",
       "      <td>Mali Tribune</td>\n",
       "      <td>2024-05-04</td>\n",
       "      <td>https://malijet.com/a_la_une_du_mali/290445-om...</td>\n",
       "    </tr>\n",
       "    <tr>\n",
       "      <th>11</th>\n",
       "      <td>Journée internationale de la presse : APPEL-MA...</td>\n",
       "      <td>Malijet</td>\n",
       "      <td>2024-05-04</td>\n",
       "      <td>https://malijet.com/a_la_une_du_mali/290434-jo...</td>\n",
       "    </tr>\n",
       "    <tr>\n",
       "      <th>12</th>\n",
       "      <td>Journée internationale du travail : L’Untm pou...</td>\n",
       "      <td>Le Challenger</td>\n",
       "      <td>2024-05-03</td>\n",
       "      <td>https://malijet.com/a_la_une_du_mali/290408-jo...</td>\n",
       "    </tr>\n",
       "    <tr>\n",
       "      <th>13</th>\n",
       "      <td>Discours du Président de la Maison de la Press...</td>\n",
       "      <td>Malijet</td>\n",
       "      <td>2024-05-03</td>\n",
       "      <td>https://malijet.com/a_la_une_du_mali/290404-di...</td>\n",
       "    </tr>\n",
       "    <tr>\n",
       "      <th>14</th>\n",
       "      <td>Célébration du 3 mai, Journée mondiale de la l...</td>\n",
       "      <td>Le Challenger</td>\n",
       "      <td>2024-05-03</td>\n",
       "      <td>https://malijet.com/a_la_une_du_mali/290396-ce...</td>\n",
       "    </tr>\n",
       "    <tr>\n",
       "      <th>15</th>\n",
       "      <td>Exercice de la liberté de la presse au Mali : ...</td>\n",
       "      <td>Le Challenger</td>\n",
       "      <td>2024-05-03</td>\n",
       "      <td>https://malijet.com/a_la_une_du_mali/290394-ex...</td>\n",
       "    </tr>\n",
       "    <tr>\n",
       "      <th>16</th>\n",
       "      <td>Dialogue inter-malien : Atelier d'information ...</td>\n",
       "      <td>Malijet</td>\n",
       "      <td>2024-05-03</td>\n",
       "      <td>https://malijet.com/a_la_une_du_mali/290392-di...</td>\n",
       "    </tr>\n",
       "    <tr>\n",
       "      <th>17</th>\n",
       "      <td>Le ministre Guindo apporte son soutien au ciné...</td>\n",
       "      <td>Le Challenger</td>\n",
       "      <td>2024-05-03</td>\n",
       "      <td>https://malijet.com/a_la_une_du_mali/290388-le...</td>\n",
       "    </tr>\n",
       "    <tr>\n",
       "      <th>18</th>\n",
       "      <td>Yacouba Katilé, secrétaire général de l’UNTM l...</td>\n",
       "      <td>Le Républicain</td>\n",
       "      <td>2024-05-02</td>\n",
       "      <td>https://malijet.com/a_la_une_du_mali/290384-ya...</td>\n",
       "    </tr>\n",
       "    <tr>\n",
       "      <th>19</th>\n",
       "      <td>14e congres de l’UNTM : Bassaro Haïdara aux co...</td>\n",
       "      <td>Mali Tribune</td>\n",
       "      <td>2024-05-02</td>\n",
       "      <td>https://malijet.com/a_la_une_du_mali/290373-14...</td>\n",
       "    </tr>\n",
       "    <tr>\n",
       "      <th>0</th>\n",
       "      <td>Lutte contre le terrorisme : Abu Huzeifa dit H...</td>\n",
       "      <td>Mali Tribune</td>\n",
       "      <td>2024-05-02</td>\n",
       "      <td>https://malijet.com/a_la_une_du_mali/290371-lu...</td>\n",
       "    </tr>\n",
       "    <tr>\n",
       "      <th>1</th>\n",
       "      <td>Création de la force d’intervention rapide des...</td>\n",
       "      <td>Mali Tribune</td>\n",
       "      <td>2024-05-02</td>\n",
       "      <td>https://malijet.com/a_la_une_du_mali/290369-cr...</td>\n",
       "    </tr>\n",
       "    <tr>\n",
       "      <th>2</th>\n",
       "      <td>BVG : Le nouveau vérificateur Mohamed Daou prê...</td>\n",
       "      <td>Mali Tribune</td>\n",
       "      <td>2024-05-02</td>\n",
       "      <td>https://malijet.com/a_la_une_du_mali/290367-bv...</td>\n",
       "    </tr>\n",
       "    <tr>\n",
       "      <th>3</th>\n",
       "      <td>Pourquoi la France veut revenir au Sahel ?</td>\n",
       "      <td>Malijet</td>\n",
       "      <td>2024-05-01</td>\n",
       "      <td>https://malijet.com/a_la_une_du_mali/290353-po...</td>\n",
       "    </tr>\n",
       "    <tr>\n",
       "      <th>4</th>\n",
       "      <td>Conseil Supérieur de l’Agriculture (CSA): Le P...</td>\n",
       "      <td>Présidence de la République du Mali</td>\n",
       "      <td>2024-05-01</td>\n",
       "      <td>https://malijet.com/a_la_une_du_mali/290347-co...</td>\n",
       "    </tr>\n",
       "    <tr>\n",
       "      <th>5</th>\n",
       "      <td>Cnt-gate!!!!</td>\n",
       "      <td>Le Challenger</td>\n",
       "      <td>2024-04-29</td>\n",
       "      <td>https://malijet.com/a_la_une_du_mali/290275-cn...</td>\n",
       "    </tr>\n",
       "    <tr>\n",
       "      <th>6</th>\n",
       "      <td>Chronique du jour : Des compétences à avoir da...</td>\n",
       "      <td>Le Challenger</td>\n",
       "      <td>2024-04-29</td>\n",
       "      <td>https://malijet.com/a_la_une_du_mali/290273-ch...</td>\n",
       "    </tr>\n",
       "    <tr>\n",
       "      <th>7</th>\n",
       "      <td>Lutte contre les groupes terroristes : Les FAM...</td>\n",
       "      <td>L'Aube</td>\n",
       "      <td>2024-04-29</td>\n",
       "      <td>https://malijet.com/a_la_une_du_mali/290255-lu...</td>\n",
       "    </tr>\n",
       "    <tr>\n",
       "      <th>8</th>\n",
       "      <td>Sahel : L'opération conjointe des forces armée...</td>\n",
       "      <td>Malijet</td>\n",
       "      <td>2024-04-28</td>\n",
       "      <td>https://malijet.com/a_la_une_du_mali/290247-sa...</td>\n",
       "    </tr>\n",
       "    <tr>\n",
       "      <th>9</th>\n",
       "      <td>La Russie a beaucoup fait pour aider le Mali à...</td>\n",
       "      <td>Sputnik</td>\n",
       "      <td>2024-04-27</td>\n",
       "      <td>https://malijet.com/a_la_une_du_mali/290224-la...</td>\n",
       "    </tr>\n",
       "    <tr>\n",
       "      <th>10</th>\n",
       "      <td>Dialogue social au Mali : rencontre entre le P...</td>\n",
       "      <td>Présidence</td>\n",
       "      <td>2024-04-27</td>\n",
       "      <td>https://malijet.com/a_la_une_du_mali/290214-di...</td>\n",
       "    </tr>\n",
       "    <tr>\n",
       "      <th>11</th>\n",
       "      <td>La vérité sur l'affaire Gah vs Komé.</td>\n",
       "      <td>Malijet</td>\n",
       "      <td>2024-04-27</td>\n",
       "      <td>https://malijet.com/a_la_une_du_mali/290197-la...</td>\n",
       "    </tr>\n",
       "  </tbody>\n",
       "</table>\n",
       "</div>"
      ]
     },
     "execution_count": 9,
     "metadata": {},
     "output_type": "execute_result"
    }
   ],
   "execution_count": 9
  },
  {
   "metadata": {
    "ExecuteTime": {
     "end_time": "2024-05-08T12:06:06.182202Z",
     "start_time": "2024-05-08T12:06:06.177693Z"
    }
   },
   "cell_type": "code",
   "source": [
    "CSV_DIR = Path().resolve() / 'data' / 'malijet' / 'source.csv'\n",
    "CSV_DIR"
   ],
   "id": "bd134ab43ed5fe92",
   "outputs": [
    {
     "data": {
      "text/plain": [
       "PosixPath('/home/bouba/Workspace/kounafoni-app/data/malijet/source.csv')"
      ]
     },
     "execution_count": 10,
     "metadata": {},
     "output_type": "execute_result"
    }
   ],
   "execution_count": 10
  },
  {
   "metadata": {
    "ExecuteTime": {
     "end_time": "2024-05-08T12:06:06.202390Z",
     "start_time": "2024-05-08T12:06:06.183837Z"
    }
   },
   "cell_type": "code",
   "source": [
    "subset_fetching_articles_df = articles_to_fetch_df.query(\"date >= @begin_date and date <= @end_date\").copy()\n",
    "article_contents, new_titles = [], []\n",
    "existing_article_titles = pd.read_csv(CSV_DIR, sep='\\t').title.tolist()\n",
    "for _, row in tqdm(subset_fetching_articles_df.iterrows(), total=subset_fetching_articles_df.shape[0]):\n",
    "    if row.title not in existing_article_titles:\n",
    "        new_titles.append(row.title)\n",
    "        article_contents.append(fetch_article_content(row.link))\n",
    "if article_contents:\n",
    "    print(\"New articles found, writing article contents to file...\")\n",
    "    subset_fetching_articles_df.query(\"title in @new_titles\").assign(content=article_contents).to_csv(CSV_DIR, mode='a', sep='\\t', index=False)\n",
    "else:\n",
    "    print(\"No new articles found, skipping...\")"
   ],
   "id": "3fb398fa6d4877e3",
   "outputs": [
    {
     "name": "stderr",
     "output_type": "stream",
     "text": [
      "100%|██████████| 32/32 [00:00<00:00, 14641.40it/s]"
     ]
    },
    {
     "name": "stdout",
     "output_type": "stream",
     "text": [
      "No new articles found, skipping...\n"
     ]
    },
    {
     "name": "stderr",
     "output_type": "stream",
     "text": [
      "\n"
     ]
    }
   ],
   "execution_count": 11
  },
  {
   "metadata": {
    "ExecuteTime": {
     "end_time": "2024-05-10T00:40:10.262490Z",
     "start_time": "2024-05-10T00:40:10.023297Z"
    }
   },
   "cell_type": "code",
   "source": "from langchain_community.llms import OpenLLM",
   "id": "ac361b083ceef58b",
   "outputs": [],
   "execution_count": 1
  },
  {
   "metadata": {
    "ExecuteTime": {
     "end_time": "2024-05-10T00:42:19.019644Z",
     "start_time": "2024-05-10T00:40:11.795317Z"
    }
   },
   "cell_type": "code",
   "source": [
    "llm = OpenLLM(\n",
    "    model_name='flan-t5',\n",
    "    model_id='google/flan-t5-large',\n",
    ")"
   ],
   "id": "60df4d571bcbb520",
   "outputs": [
    {
     "name": "stderr",
     "output_type": "stream",
     "text": [
      "/home/bouba/Workspace/kounafoni-app/.venv/lib/python3.10/site-packages/huggingface_hub/file_download.py:1132: FutureWarning: `resume_download` is deprecated and will be removed in version 1.0.0. Downloads always resume when possible. If you want to force a new download, use `force_download=True`.\n",
      "  warnings.warn(\n",
      "/home/bouba/Workspace/kounafoni-app/.venv/lib/python3.10/site-packages/huggingface_hub/file_download.py:1194: UserWarning: `local_dir_use_symlinks` parameter is deprecated and will be ignored. The process to download files to a local folder has been updated and do not rely on symlinks anymore. You only need to pass a destination folder as`local_dir`.\n",
      "For more details, check out https://huggingface.co/docs/huggingface_hub/main/en/guides/download#download-files-to-local-folder.\n",
      "  warnings.warn(\n"
     ]
    },
    {
     "data": {
      "text/plain": [
       "Fetching 7 files:   0%|          | 0/7 [00:00<?, ?it/s]"
      ],
      "application/vnd.jupyter.widget-view+json": {
       "version_major": 2,
       "version_minor": 0,
       "model_id": "3981be37fb904ba5a933ab38ccad5223"
      }
     },
     "metadata": {},
     "output_type": "display_data"
    },
    {
     "data": {
      "text/plain": [
       "model.safetensors:   0%|          | 0.00/3.13G [00:00<?, ?B/s]"
      ],
      "application/vnd.jupyter.widget-view+json": {
       "version_major": 2,
       "version_minor": 0,
       "model_id": "c58236a3066c42f49278b4c76f0f6a62"
      }
     },
     "metadata": {},
     "output_type": "display_data"
    },
    {
     "data": {
      "text/plain": [
       "generation_config.json:   0%|          | 0.00/147 [00:00<?, ?B/s]"
      ],
      "application/vnd.jupyter.widget-view+json": {
       "version_major": 2,
       "version_minor": 0,
       "model_id": "1f441e1faef946c39039e41aecd551e4"
      }
     },
     "metadata": {},
     "output_type": "display_data"
    },
    {
     "name": "stderr",
     "output_type": "stream",
     "text": [
      "NOT RECOMMENDED in production and SHOULD ONLY used for development.\n"
     ]
    }
   ],
   "execution_count": 2
  },
  {
   "metadata": {
    "ExecuteTime": {
     "end_time": "2024-05-10T01:57:18.373593Z",
     "start_time": "2024-05-10T01:57:18.315626Z"
    }
   },
   "cell_type": "code",
   "source": "llm.invoke(\"What is the difference between a duck and a goose?\")",
   "id": "dc7b713cb098df03",
   "outputs": [
    {
     "ename": "TypeError",
     "evalue": "'FlanT5Runner' object is not callable",
     "output_type": "error",
     "traceback": [
      "\u001B[0;31m---------------------------------------------------------------------------\u001B[0m",
      "\u001B[0;31mTypeError\u001B[0m                                 Traceback (most recent call last)",
      "Cell \u001B[0;32mIn[4], line 1\u001B[0m\n\u001B[0;32m----> 1\u001B[0m \u001B[43mllm\u001B[49m\u001B[38;5;241;43m.\u001B[39;49m\u001B[43minvoke\u001B[49m\u001B[43m(\u001B[49m\u001B[38;5;124;43m\"\u001B[39;49m\u001B[38;5;124;43mWhat is the difference between a duck and a goose?\u001B[39;49m\u001B[38;5;124;43m\"\u001B[39;49m\u001B[43m)\u001B[49m\n",
      "File \u001B[0;32m~/Workspace/kounafoni-app/.venv/lib/python3.10/site-packages/langchain_core/language_models/llms.py:276\u001B[0m, in \u001B[0;36mBaseLLM.invoke\u001B[0;34m(self, input, config, stop, **kwargs)\u001B[0m\n\u001B[1;32m    266\u001B[0m \u001B[38;5;28;01mdef\u001B[39;00m \u001B[38;5;21minvoke\u001B[39m(\n\u001B[1;32m    267\u001B[0m     \u001B[38;5;28mself\u001B[39m,\n\u001B[1;32m    268\u001B[0m     \u001B[38;5;28minput\u001B[39m: LanguageModelInput,\n\u001B[0;32m   (...)\u001B[0m\n\u001B[1;32m    272\u001B[0m     \u001B[38;5;241m*\u001B[39m\u001B[38;5;241m*\u001B[39mkwargs: Any,\n\u001B[1;32m    273\u001B[0m ) \u001B[38;5;241m-\u001B[39m\u001B[38;5;241m>\u001B[39m \u001B[38;5;28mstr\u001B[39m:\n\u001B[1;32m    274\u001B[0m     config \u001B[38;5;241m=\u001B[39m ensure_config(config)\n\u001B[1;32m    275\u001B[0m     \u001B[38;5;28;01mreturn\u001B[39;00m (\n\u001B[0;32m--> 276\u001B[0m         \u001B[38;5;28;43mself\u001B[39;49m\u001B[38;5;241;43m.\u001B[39;49m\u001B[43mgenerate_prompt\u001B[49m\u001B[43m(\u001B[49m\n\u001B[1;32m    277\u001B[0m \u001B[43m            \u001B[49m\u001B[43m[\u001B[49m\u001B[38;5;28;43mself\u001B[39;49m\u001B[38;5;241;43m.\u001B[39;49m\u001B[43m_convert_input\u001B[49m\u001B[43m(\u001B[49m\u001B[38;5;28;43minput\u001B[39;49m\u001B[43m)\u001B[49m\u001B[43m]\u001B[49m\u001B[43m,\u001B[49m\n\u001B[1;32m    278\u001B[0m \u001B[43m            \u001B[49m\u001B[43mstop\u001B[49m\u001B[38;5;241;43m=\u001B[39;49m\u001B[43mstop\u001B[49m\u001B[43m,\u001B[49m\n\u001B[1;32m    279\u001B[0m \u001B[43m            \u001B[49m\u001B[43mcallbacks\u001B[49m\u001B[38;5;241;43m=\u001B[39;49m\u001B[43mconfig\u001B[49m\u001B[38;5;241;43m.\u001B[39;49m\u001B[43mget\u001B[49m\u001B[43m(\u001B[49m\u001B[38;5;124;43m\"\u001B[39;49m\u001B[38;5;124;43mcallbacks\u001B[39;49m\u001B[38;5;124;43m\"\u001B[39;49m\u001B[43m)\u001B[49m\u001B[43m,\u001B[49m\n\u001B[1;32m    280\u001B[0m \u001B[43m            \u001B[49m\u001B[43mtags\u001B[49m\u001B[38;5;241;43m=\u001B[39;49m\u001B[43mconfig\u001B[49m\u001B[38;5;241;43m.\u001B[39;49m\u001B[43mget\u001B[49m\u001B[43m(\u001B[49m\u001B[38;5;124;43m\"\u001B[39;49m\u001B[38;5;124;43mtags\u001B[39;49m\u001B[38;5;124;43m\"\u001B[39;49m\u001B[43m)\u001B[49m\u001B[43m,\u001B[49m\n\u001B[1;32m    281\u001B[0m \u001B[43m            \u001B[49m\u001B[43mmetadata\u001B[49m\u001B[38;5;241;43m=\u001B[39;49m\u001B[43mconfig\u001B[49m\u001B[38;5;241;43m.\u001B[39;49m\u001B[43mget\u001B[49m\u001B[43m(\u001B[49m\u001B[38;5;124;43m\"\u001B[39;49m\u001B[38;5;124;43mmetadata\u001B[39;49m\u001B[38;5;124;43m\"\u001B[39;49m\u001B[43m)\u001B[49m\u001B[43m,\u001B[49m\n\u001B[1;32m    282\u001B[0m \u001B[43m            \u001B[49m\u001B[43mrun_name\u001B[49m\u001B[38;5;241;43m=\u001B[39;49m\u001B[43mconfig\u001B[49m\u001B[38;5;241;43m.\u001B[39;49m\u001B[43mget\u001B[49m\u001B[43m(\u001B[49m\u001B[38;5;124;43m\"\u001B[39;49m\u001B[38;5;124;43mrun_name\u001B[39;49m\u001B[38;5;124;43m\"\u001B[39;49m\u001B[43m)\u001B[49m\u001B[43m,\u001B[49m\n\u001B[1;32m    283\u001B[0m \u001B[43m            \u001B[49m\u001B[43mrun_id\u001B[49m\u001B[38;5;241;43m=\u001B[39;49m\u001B[43mconfig\u001B[49m\u001B[38;5;241;43m.\u001B[39;49m\u001B[43mpop\u001B[49m\u001B[43m(\u001B[49m\u001B[38;5;124;43m\"\u001B[39;49m\u001B[38;5;124;43mrun_id\u001B[39;49m\u001B[38;5;124;43m\"\u001B[39;49m\u001B[43m,\u001B[49m\u001B[43m \u001B[49m\u001B[38;5;28;43;01mNone\u001B[39;49;00m\u001B[43m)\u001B[49m\u001B[43m,\u001B[49m\n\u001B[1;32m    284\u001B[0m \u001B[43m            \u001B[49m\u001B[38;5;241;43m*\u001B[39;49m\u001B[38;5;241;43m*\u001B[39;49m\u001B[43mkwargs\u001B[49m\u001B[43m,\u001B[49m\n\u001B[1;32m    285\u001B[0m \u001B[43m        \u001B[49m\u001B[43m)\u001B[49m\n\u001B[1;32m    286\u001B[0m         \u001B[38;5;241m.\u001B[39mgenerations[\u001B[38;5;241m0\u001B[39m][\u001B[38;5;241m0\u001B[39m]\n\u001B[1;32m    287\u001B[0m         \u001B[38;5;241m.\u001B[39mtext\n\u001B[1;32m    288\u001B[0m     )\n",
      "File \u001B[0;32m~/Workspace/kounafoni-app/.venv/lib/python3.10/site-packages/langchain_core/language_models/llms.py:633\u001B[0m, in \u001B[0;36mBaseLLM.generate_prompt\u001B[0;34m(self, prompts, stop, callbacks, **kwargs)\u001B[0m\n\u001B[1;32m    625\u001B[0m \u001B[38;5;28;01mdef\u001B[39;00m \u001B[38;5;21mgenerate_prompt\u001B[39m(\n\u001B[1;32m    626\u001B[0m     \u001B[38;5;28mself\u001B[39m,\n\u001B[1;32m    627\u001B[0m     prompts: List[PromptValue],\n\u001B[0;32m   (...)\u001B[0m\n\u001B[1;32m    630\u001B[0m     \u001B[38;5;241m*\u001B[39m\u001B[38;5;241m*\u001B[39mkwargs: Any,\n\u001B[1;32m    631\u001B[0m ) \u001B[38;5;241m-\u001B[39m\u001B[38;5;241m>\u001B[39m LLMResult:\n\u001B[1;32m    632\u001B[0m     prompt_strings \u001B[38;5;241m=\u001B[39m [p\u001B[38;5;241m.\u001B[39mto_string() \u001B[38;5;28;01mfor\u001B[39;00m p \u001B[38;5;129;01min\u001B[39;00m prompts]\n\u001B[0;32m--> 633\u001B[0m     \u001B[38;5;28;01mreturn\u001B[39;00m \u001B[38;5;28;43mself\u001B[39;49m\u001B[38;5;241;43m.\u001B[39;49m\u001B[43mgenerate\u001B[49m\u001B[43m(\u001B[49m\u001B[43mprompt_strings\u001B[49m\u001B[43m,\u001B[49m\u001B[43m \u001B[49m\u001B[43mstop\u001B[49m\u001B[38;5;241;43m=\u001B[39;49m\u001B[43mstop\u001B[49m\u001B[43m,\u001B[49m\u001B[43m \u001B[49m\u001B[43mcallbacks\u001B[49m\u001B[38;5;241;43m=\u001B[39;49m\u001B[43mcallbacks\u001B[49m\u001B[43m,\u001B[49m\u001B[43m \u001B[49m\u001B[38;5;241;43m*\u001B[39;49m\u001B[38;5;241;43m*\u001B[39;49m\u001B[43mkwargs\u001B[49m\u001B[43m)\u001B[49m\n",
      "File \u001B[0;32m~/Workspace/kounafoni-app/.venv/lib/python3.10/site-packages/langchain_core/language_models/llms.py:803\u001B[0m, in \u001B[0;36mBaseLLM.generate\u001B[0;34m(self, prompts, stop, callbacks, tags, metadata, run_name, run_id, **kwargs)\u001B[0m\n\u001B[1;32m    788\u001B[0m \u001B[38;5;28;01mif\u001B[39;00m (\u001B[38;5;28mself\u001B[39m\u001B[38;5;241m.\u001B[39mcache \u001B[38;5;129;01mis\u001B[39;00m \u001B[38;5;28;01mNone\u001B[39;00m \u001B[38;5;129;01mand\u001B[39;00m get_llm_cache() \u001B[38;5;129;01mis\u001B[39;00m \u001B[38;5;28;01mNone\u001B[39;00m) \u001B[38;5;129;01mor\u001B[39;00m \u001B[38;5;28mself\u001B[39m\u001B[38;5;241m.\u001B[39mcache \u001B[38;5;129;01mis\u001B[39;00m \u001B[38;5;28;01mFalse\u001B[39;00m:\n\u001B[1;32m    789\u001B[0m     run_managers \u001B[38;5;241m=\u001B[39m [\n\u001B[1;32m    790\u001B[0m         callback_manager\u001B[38;5;241m.\u001B[39mon_llm_start(\n\u001B[1;32m    791\u001B[0m             dumpd(\u001B[38;5;28mself\u001B[39m),\n\u001B[0;32m   (...)\u001B[0m\n\u001B[1;32m    801\u001B[0m         )\n\u001B[1;32m    802\u001B[0m     ]\n\u001B[0;32m--> 803\u001B[0m     output \u001B[38;5;241m=\u001B[39m \u001B[38;5;28;43mself\u001B[39;49m\u001B[38;5;241;43m.\u001B[39;49m\u001B[43m_generate_helper\u001B[49m\u001B[43m(\u001B[49m\n\u001B[1;32m    804\u001B[0m \u001B[43m        \u001B[49m\u001B[43mprompts\u001B[49m\u001B[43m,\u001B[49m\u001B[43m \u001B[49m\u001B[43mstop\u001B[49m\u001B[43m,\u001B[49m\u001B[43m \u001B[49m\u001B[43mrun_managers\u001B[49m\u001B[43m,\u001B[49m\u001B[43m \u001B[49m\u001B[38;5;28;43mbool\u001B[39;49m\u001B[43m(\u001B[49m\u001B[43mnew_arg_supported\u001B[49m\u001B[43m)\u001B[49m\u001B[43m,\u001B[49m\u001B[43m \u001B[49m\u001B[38;5;241;43m*\u001B[39;49m\u001B[38;5;241;43m*\u001B[39;49m\u001B[43mkwargs\u001B[49m\n\u001B[1;32m    805\u001B[0m \u001B[43m    \u001B[49m\u001B[43m)\u001B[49m\n\u001B[1;32m    806\u001B[0m     \u001B[38;5;28;01mreturn\u001B[39;00m output\n\u001B[1;32m    807\u001B[0m \u001B[38;5;28;01mif\u001B[39;00m \u001B[38;5;28mlen\u001B[39m(missing_prompts) \u001B[38;5;241m>\u001B[39m \u001B[38;5;241m0\u001B[39m:\n",
      "File \u001B[0;32m~/Workspace/kounafoni-app/.venv/lib/python3.10/site-packages/langchain_core/language_models/llms.py:670\u001B[0m, in \u001B[0;36mBaseLLM._generate_helper\u001B[0;34m(self, prompts, stop, run_managers, new_arg_supported, **kwargs)\u001B[0m\n\u001B[1;32m    668\u001B[0m     \u001B[38;5;28;01mfor\u001B[39;00m run_manager \u001B[38;5;129;01min\u001B[39;00m run_managers:\n\u001B[1;32m    669\u001B[0m         run_manager\u001B[38;5;241m.\u001B[39mon_llm_error(e, response\u001B[38;5;241m=\u001B[39mLLMResult(generations\u001B[38;5;241m=\u001B[39m[]))\n\u001B[0;32m--> 670\u001B[0m     \u001B[38;5;28;01mraise\u001B[39;00m e\n\u001B[1;32m    671\u001B[0m flattened_outputs \u001B[38;5;241m=\u001B[39m output\u001B[38;5;241m.\u001B[39mflatten()\n\u001B[1;32m    672\u001B[0m \u001B[38;5;28;01mfor\u001B[39;00m manager, flattened_output \u001B[38;5;129;01min\u001B[39;00m \u001B[38;5;28mzip\u001B[39m(run_managers, flattened_outputs):\n",
      "File \u001B[0;32m~/Workspace/kounafoni-app/.venv/lib/python3.10/site-packages/langchain_core/language_models/llms.py:657\u001B[0m, in \u001B[0;36mBaseLLM._generate_helper\u001B[0;34m(self, prompts, stop, run_managers, new_arg_supported, **kwargs)\u001B[0m\n\u001B[1;32m    647\u001B[0m \u001B[38;5;28;01mdef\u001B[39;00m \u001B[38;5;21m_generate_helper\u001B[39m(\n\u001B[1;32m    648\u001B[0m     \u001B[38;5;28mself\u001B[39m,\n\u001B[1;32m    649\u001B[0m     prompts: List[\u001B[38;5;28mstr\u001B[39m],\n\u001B[0;32m   (...)\u001B[0m\n\u001B[1;32m    653\u001B[0m     \u001B[38;5;241m*\u001B[39m\u001B[38;5;241m*\u001B[39mkwargs: Any,\n\u001B[1;32m    654\u001B[0m ) \u001B[38;5;241m-\u001B[39m\u001B[38;5;241m>\u001B[39m LLMResult:\n\u001B[1;32m    655\u001B[0m     \u001B[38;5;28;01mtry\u001B[39;00m:\n\u001B[1;32m    656\u001B[0m         output \u001B[38;5;241m=\u001B[39m (\n\u001B[0;32m--> 657\u001B[0m             \u001B[38;5;28;43mself\u001B[39;49m\u001B[38;5;241;43m.\u001B[39;49m\u001B[43m_generate\u001B[49m\u001B[43m(\u001B[49m\n\u001B[1;32m    658\u001B[0m \u001B[43m                \u001B[49m\u001B[43mprompts\u001B[49m\u001B[43m,\u001B[49m\n\u001B[1;32m    659\u001B[0m \u001B[43m                \u001B[49m\u001B[43mstop\u001B[49m\u001B[38;5;241;43m=\u001B[39;49m\u001B[43mstop\u001B[49m\u001B[43m,\u001B[49m\n\u001B[1;32m    660\u001B[0m \u001B[43m                \u001B[49m\u001B[38;5;66;43;03m# TODO: support multiple run managers\u001B[39;49;00m\n\u001B[1;32m    661\u001B[0m \u001B[43m                \u001B[49m\u001B[43mrun_manager\u001B[49m\u001B[38;5;241;43m=\u001B[39;49m\u001B[43mrun_managers\u001B[49m\u001B[43m[\u001B[49m\u001B[38;5;241;43m0\u001B[39;49m\u001B[43m]\u001B[49m\u001B[43m \u001B[49m\u001B[38;5;28;43;01mif\u001B[39;49;00m\u001B[43m \u001B[49m\u001B[43mrun_managers\u001B[49m\u001B[43m \u001B[49m\u001B[38;5;28;43;01melse\u001B[39;49;00m\u001B[43m \u001B[49m\u001B[38;5;28;43;01mNone\u001B[39;49;00m\u001B[43m,\u001B[49m\n\u001B[1;32m    662\u001B[0m \u001B[43m                \u001B[49m\u001B[38;5;241;43m*\u001B[39;49m\u001B[38;5;241;43m*\u001B[39;49m\u001B[43mkwargs\u001B[49m\u001B[43m,\u001B[49m\n\u001B[1;32m    663\u001B[0m \u001B[43m            \u001B[49m\u001B[43m)\u001B[49m\n\u001B[1;32m    664\u001B[0m             \u001B[38;5;28;01mif\u001B[39;00m new_arg_supported\n\u001B[1;32m    665\u001B[0m             \u001B[38;5;28;01melse\u001B[39;00m \u001B[38;5;28mself\u001B[39m\u001B[38;5;241m.\u001B[39m_generate(prompts, stop\u001B[38;5;241m=\u001B[39mstop)\n\u001B[1;32m    666\u001B[0m         )\n\u001B[1;32m    667\u001B[0m     \u001B[38;5;28;01mexcept\u001B[39;00m \u001B[38;5;167;01mBaseException\u001B[39;00m \u001B[38;5;28;01mas\u001B[39;00m e:\n\u001B[1;32m    668\u001B[0m         \u001B[38;5;28;01mfor\u001B[39;00m run_manager \u001B[38;5;129;01min\u001B[39;00m run_managers:\n",
      "File \u001B[0;32m~/Workspace/kounafoni-app/.venv/lib/python3.10/site-packages/langchain_core/language_models/llms.py:1317\u001B[0m, in \u001B[0;36mLLM._generate\u001B[0;34m(self, prompts, stop, run_manager, **kwargs)\u001B[0m\n\u001B[1;32m   1314\u001B[0m new_arg_supported \u001B[38;5;241m=\u001B[39m inspect\u001B[38;5;241m.\u001B[39msignature(\u001B[38;5;28mself\u001B[39m\u001B[38;5;241m.\u001B[39m_call)\u001B[38;5;241m.\u001B[39mparameters\u001B[38;5;241m.\u001B[39mget(\u001B[38;5;124m\"\u001B[39m\u001B[38;5;124mrun_manager\u001B[39m\u001B[38;5;124m\"\u001B[39m)\n\u001B[1;32m   1315\u001B[0m \u001B[38;5;28;01mfor\u001B[39;00m prompt \u001B[38;5;129;01min\u001B[39;00m prompts:\n\u001B[1;32m   1316\u001B[0m     text \u001B[38;5;241m=\u001B[39m (\n\u001B[0;32m-> 1317\u001B[0m         \u001B[38;5;28;43mself\u001B[39;49m\u001B[38;5;241;43m.\u001B[39;49m\u001B[43m_call\u001B[49m\u001B[43m(\u001B[49m\u001B[43mprompt\u001B[49m\u001B[43m,\u001B[49m\u001B[43m \u001B[49m\u001B[43mstop\u001B[49m\u001B[38;5;241;43m=\u001B[39;49m\u001B[43mstop\u001B[49m\u001B[43m,\u001B[49m\u001B[43m \u001B[49m\u001B[43mrun_manager\u001B[49m\u001B[38;5;241;43m=\u001B[39;49m\u001B[43mrun_manager\u001B[49m\u001B[43m,\u001B[49m\u001B[43m \u001B[49m\u001B[38;5;241;43m*\u001B[39;49m\u001B[38;5;241;43m*\u001B[39;49m\u001B[43mkwargs\u001B[49m\u001B[43m)\u001B[49m\n\u001B[1;32m   1318\u001B[0m         \u001B[38;5;28;01mif\u001B[39;00m new_arg_supported\n\u001B[1;32m   1319\u001B[0m         \u001B[38;5;28;01melse\u001B[39;00m \u001B[38;5;28mself\u001B[39m\u001B[38;5;241m.\u001B[39m_call(prompt, stop\u001B[38;5;241m=\u001B[39mstop, \u001B[38;5;241m*\u001B[39m\u001B[38;5;241m*\u001B[39mkwargs)\n\u001B[1;32m   1320\u001B[0m     )\n\u001B[1;32m   1321\u001B[0m     generations\u001B[38;5;241m.\u001B[39mappend([Generation(text\u001B[38;5;241m=\u001B[39mtext)])\n\u001B[1;32m   1322\u001B[0m \u001B[38;5;28;01mreturn\u001B[39;00m LLMResult(generations\u001B[38;5;241m=\u001B[39mgenerations)\n",
      "File \u001B[0;32m~/Workspace/kounafoni-app/.venv/lib/python3.10/site-packages/langchain_community/llms/openllm.py:279\u001B[0m, in \u001B[0;36mOpenLLM._call\u001B[0;34m(self, prompt, stop, run_manager, **kwargs)\u001B[0m\n\u001B[1;32m    277\u001B[0m \u001B[38;5;28;01melse\u001B[39;00m:\n\u001B[1;32m    278\u001B[0m     \u001B[38;5;28;01massert\u001B[39;00m \u001B[38;5;28mself\u001B[39m\u001B[38;5;241m.\u001B[39m_runner \u001B[38;5;129;01mis\u001B[39;00m \u001B[38;5;129;01mnot\u001B[39;00m \u001B[38;5;28;01mNone\u001B[39;00m\n\u001B[0;32m--> 279\u001B[0m     res \u001B[38;5;241m=\u001B[39m \u001B[38;5;28;43mself\u001B[39;49m\u001B[38;5;241;43m.\u001B[39;49m\u001B[43m_runner\u001B[49m\u001B[43m(\u001B[49m\u001B[43mprompt\u001B[49m\u001B[43m,\u001B[49m\u001B[43m \u001B[49m\u001B[38;5;241;43m*\u001B[39;49m\u001B[38;5;241;43m*\u001B[39;49m\u001B[43mconfig\u001B[49m\u001B[38;5;241;43m.\u001B[39;49m\u001B[43mmodel_dump\u001B[49m\u001B[43m(\u001B[49m\u001B[43mflatten\u001B[49m\u001B[38;5;241;43m=\u001B[39;49m\u001B[38;5;28;43;01mTrue\u001B[39;49;00m\u001B[43m)\u001B[49m\u001B[43m)\u001B[49m\n\u001B[1;32m    280\u001B[0m \u001B[38;5;28;01mif\u001B[39;00m \u001B[38;5;28misinstance\u001B[39m(res, \u001B[38;5;28mdict\u001B[39m) \u001B[38;5;129;01mand\u001B[39;00m \u001B[38;5;124m\"\u001B[39m\u001B[38;5;124mtext\u001B[39m\u001B[38;5;124m\"\u001B[39m \u001B[38;5;129;01min\u001B[39;00m res:\n\u001B[1;32m    281\u001B[0m     \u001B[38;5;28;01mreturn\u001B[39;00m res[\u001B[38;5;124m\"\u001B[39m\u001B[38;5;124mtext\u001B[39m\u001B[38;5;124m\"\u001B[39m]\n",
      "\u001B[0;31mTypeError\u001B[0m: 'FlanT5Runner' object is not callable"
     ]
    }
   ],
   "execution_count": 4
  },
  {
   "metadata": {},
   "cell_type": "code",
   "outputs": [],
   "execution_count": null,
   "source": "",
   "id": "4749ccb0de377f60"
  }
 ],
 "metadata": {
  "kernelspec": {
   "display_name": "Python 3",
   "language": "python",
   "name": "python3"
  },
  "language_info": {
   "codemirror_mode": {
    "name": "ipython",
    "version": 2
   },
   "file_extension": ".py",
   "mimetype": "text/x-python",
   "name": "python",
   "nbconvert_exporter": "python",
   "pygments_lexer": "ipython2",
   "version": "2.7.6"
  }
 },
 "nbformat": 4,
 "nbformat_minor": 5
}
