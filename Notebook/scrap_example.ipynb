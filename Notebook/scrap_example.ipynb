{
 "cells": [
  {
   "metadata": {
    "ExecuteTime": {
     "end_time": "2024-05-22T12:19:49.830647Z",
     "start_time": "2024-05-22T12:19:49.825557Z"
    }
   },
   "cell_type": "code",
   "source": [
    "import requests\n",
    "from bs4 import BeautifulSoup\n",
    "import dateparser\n",
    "import pandas as pd\n",
    "from tqdm import tqdm\n",
    "import unicodedata\n",
    "from pathlib import Path"
   ],
   "id": "21445bbf06706b51",
   "outputs": [],
   "execution_count": 2
  },
  {
   "metadata": {
    "ExecuteTime": {
     "end_time": "2024-05-17T02:51:54.436416Z",
     "start_time": "2024-05-17T02:51:54.433330Z"
    }
   },
   "cell_type": "code",
   "source": [
    "def get_soup_parser(url):\n",
    "    response = requests.get(url)\n",
    "    return BeautifulSoup(response.text, \"html.parser\")"
   ],
   "id": "77a7450f57fa5c99",
   "outputs": [],
   "execution_count": 2
  },
  {
   "metadata": {
    "ExecuteTime": {
     "end_time": "2024-05-17T03:11:34.817166Z",
     "start_time": "2024-05-17T03:11:34.809232Z"
    }
   },
   "cell_type": "code",
   "source": [
    "def get_mali_jet_page_list_of_articles(num_page):\n",
    "    soup = get_soup_parser(url=f\"https://malijet.com/a_la_une_du_mali/?page={num_page}\")\n",
    "    articles = soup.find(\"div\", id=\"v_container\").find_all(\"div\", class_=\"card\")\n",
    "    titles, source_papers, dates, links = [], [], [], []\n",
    "    print('Getting list of articles...')\n",
    "    for article in tqdm(articles[:-1]):\n",
    "        header = article.find(\"div\", class_=\"card-header\")\n",
    "        link = header.find(\"a\", href=True)\n",
    "        title = None if not header else unicodedata.normalize(\"NFKD\", header.text.strip().split(\"\\n\")[-1])\n",
    "        infos = article.find(\"div\", class_=\"card-body\")\n",
    "        infos = None if not infos else infos.text.strip().split(\"\\n\")\n",
    "        \n",
    "        titles.append(title)\n",
    "        source_papers.append(None if not infos else infos[0])\n",
    "        dates.append(None if not infos or not dateparser.parse(infos[1]) else dateparser.parse(infos[1]).date())\n",
    "        links.append(unicodedata.normalize(\"NFKD\", link['href']))\n",
    "        # print(\"*\"*100)\n",
    "    return pd.DataFrame({\"title\": titles, \"source_paper\": source_papers, \"date\": dates, \"link\": links})"
   ],
   "id": "914146809b3a7a16",
   "outputs": [],
   "execution_count": 19
  },
  {
   "metadata": {},
   "cell_type": "markdown",
   "source": "## Extract info from one article\n",
   "id": "e575c235a38f5bac"
  },
  {
   "metadata": {
    "ExecuteTime": {
     "end_time": "2024-05-17T03:09:29.721069Z",
     "start_time": "2024-05-17T03:09:29.714883Z"
    }
   },
   "cell_type": "code",
   "source": [
    "def fetch_article_content(article_link):\n",
    "    soup = get_soup_parser(url=article_link)\n",
    "    \n",
    "    # get content\n",
    "    content = \" \".join(paragraph.text for paragraph in soup.find_all(\"div\", dir=\"auto\") if not paragraph.text.isspace())\n",
    "    \n",
    "    # TODO : We must implement a way to parse the article's author and return it as a tuple with \"content\"\n",
    "    # author = \"\"\n",
    "    \n",
    "    if content != '':\n",
    "        return content\n",
    "    else:\n",
    "        large_paragraphs = soup.find(\"div\", class_=\"card-header\").text.split('Date : ')[1].split('À lire aussi \\n\\n\\n')\n",
    "        if len(large_paragraphs) > 1: \n",
    "            large_paragraphs[1] = large_paragraphs[1].split('\\n\\n\\n\\n')[-1] # take the text after \"A lire aussi\"\n",
    "        final_content = \" \".join(large_paragraphs)\n",
    "        return unicodedata.normalize(\"NFKD\", \" \".join(final_content.split('\\n')[1:])).strip().replace(\"     \", \" \")"
   ],
   "id": "f6140d6fd0fcb4f1",
   "outputs": [],
   "execution_count": 16
  },
  {
   "metadata": {
    "ExecuteTime": {
     "end_time": "2024-05-17T02:01:36.897876Z",
     "start_time": "2024-05-17T02:01:36.894680Z"
    }
   },
   "cell_type": "code",
   "source": "new_article_link = \"https://malijet.com/a_la_une_du_mali/290531-industrie--le-president-assimi-goita-a-recu-l’ancien-footballeur.html\"",
   "id": "ceea7e747900819",
   "outputs": [],
   "execution_count": 47
  },
  {
   "metadata": {
    "ExecuteTime": {
     "end_time": "2024-05-17T02:01:40.996587Z",
     "start_time": "2024-05-17T02:01:37.409366Z"
    }
   },
   "cell_type": "code",
   "source": "fetch_article_content(new_article_link)",
   "id": "8ffb36c42127e895",
   "outputs": [
    {
     "data": {
      "text/plain": [
       "'Le Président de la Transition, Son Excellence le Colonel Assimi GOÏTA, Chef de l’État, a reçu en audience, ce mardi 07 mai 2024, Seydou KEÏTA, ancien footballeur international et entrepreneur visionnaire, en prélude de la finalisation de son complexe industriel à Sanankoroba, dans le Cercle de Kati. Cette rencontre, qui s’est tenue en présence du ministre de l’Industrie et du Commerce, marque un jalon important dans le parcours de M. KEÏTA et pour le développement économique du Mali. Seydou KEÏTA, qui a entamé ce projet ambitieux en 2021, a transformé son rêve en réalité, illustrant parfaitement la transition réussie d’une carrière sportive à celle d’entrepreneur engagé. Le complexe industriel, résultat d’années d’efforts et d’investissements considérables, est désormais prêt à démarrer ses opérations, promettant de devenir un moteur de croissance pour la région et pour le Mali tout entier. Au cours de cette audience, Seydou KEÏTA a exprimé sa gratitude envers les autorités maliennes pour leur soutien constant durant les phases de développement du projet. Il a également mis en avant l’impact significatif du complexe sur la communauté locale, en offrant des opportunités d’emploi et en contribuant au développement économique du pays. Le Président GOÏTA a chaleureusement félicité M. KEÏTA pour son initiative et son dévouement à la nation. Soulignant l’importance de soutenir les entrepreneurs locaux, le Président de la Transition a réitéré l’engagement du Gouvernement à créer un environnement propice à l’investissement et à la croissance économique durable. Le complexe industriel Seydou KEÏTA englobe trois unités de production principales : une unité de production d’huile végétale alimentaire, de tourteau et d’aliment pour bétail ; une unité de fabrication de bidons plastiques et de savons ; ainsi qu’une unité dédiée à la production de beurre de karité. Ces installations modernes sont conçues pour répondre aux standards internationaux et visent à renforcer l’autosuffisance du Mali dans ces secteurs clés. La mise en service de ce complexe industriel est imminente, et Seydou KEÏTA a assuré que les portes s’ouvriraient très prochainement. Cette inauguration est attendue avec impatience, tant par les futurs employés que par les communautés locales, qui verront là une source significative de développement et d’amélioration de leurs conditions de vie.'"
      ]
     },
     "execution_count": 48,
     "metadata": {},
     "output_type": "execute_result"
    }
   ],
   "execution_count": 48
  },
  {
   "metadata": {
    "ExecuteTime": {
     "end_time": "2024-05-17T02:52:11.141640Z",
     "start_time": "2024-05-17T02:52:11.138637Z"
    }
   },
   "cell_type": "code",
   "source": "new_article_link = \"https://malijet.com/a_la_une_du_mali/290746-les-coulisses-du-dim -le-pupitre-presidentiel.html\"",
   "id": "bcac7e9e488ca83e",
   "outputs": [],
   "execution_count": 5
  },
  {
   "metadata": {
    "ExecuteTime": {
     "end_time": "2024-05-17T02:52:18.520343Z",
     "start_time": "2024-05-17T02:52:14.523024Z"
    }
   },
   "cell_type": "code",
   "source": "fetch_article_content(new_article_link)",
   "id": "b1734bb11ff2eb9e",
   "outputs": [
    {
     "data": {
      "text/plain": [
       "'À l’ouverture comme à la clôture des travaux du dernier round du DIM, deux pupitres ont été installés aux côtés du présidium : celui de gauche pour les autres intervenants et celui d’à droite réservé exclusivement au maître de céans, Colonel Assimi Goïta. Jusqu’à la fin de la cérémonie, il n’y a eu aucune méprise. Qui est fou ? Magma et la «peur» des femmes Entré dans la salle Wa Kamissoko, où siégeait la “Commission économie et développement durable”, Magma Gabriel Konaté, Président de la Commission culture du Cnt, a été surpris par la présence massive des femmes. Il est resté débout quelques minutes avant qu’un délégué ne l’invite à s’asseoir à ses côtés. Magma a tenu, avec l’humour qu’on lui connaît, à justifier son apparent embarras. «Eh, je vais m’asseoir ici à côté, dans un coin de la salle....car j’ai peur quand il y a beaucoup de femmes...». C’était peu avant la reprise des travaux, et il est effectivement resté dans  son coin jusqu’à la fin.   Des gouverneurs «ingouvernables» Général de Brigade Ismaïla Cissé, président de la Commission défense et sécurité, peinait manifestement à «gouverner» ses «gouverneurs» au cours des travaux. Au point qu’un membre de la commission l’a rejoint au présidium pour lui chuchoter à l’oreille de tout faire pour bien «gouverner» ses «gouverneurs» qui monopolisaient la parole en rivalisant de loquacité. Il dut reconnaître lui-même à la fin que ce n’était pas chose aisée. “Assimi Maréchal, les autres généraux...” ‘’Et le compte est bon’’, poursuit l’auteur de cette proposition qui n’est autre que Ousmane Aly Gata, persuadé que l’on ne saurait “les vendre au même prix”. Le délégué de Tombouctou parlait ainsi de l’élévation, au grade de Général, des 6 colonels. Il  n’était pas d’accord qu’ils soient mis au même pied d’égalité. «Même les chevaux ne peuvent être vendus au même prix. Assimi Maréchal et les 5 autres colonels, généraux. Si aujourd’hui ça marche, c’est Assimi qu’on connaît. Et si ça ne marche pas aussi, c’est lui qu’on connait. Et ce sont les autres colonels qui lui ont donné la tête de leur mouvement, en ce moment nous on n’était pas là». Supprimer Whatsapp ? La proposition avait été émise de supprimer Whatsapp. Ce qui n’était pas l’avis de l’ancien Directeur de protocole de l’ancien président ATT, Ilal Kamar. «Je m’informe beaucoup à travers WhatsApp, il ne faut surtout pas supprimer ce canal, je ne suis pas d’accord avec cette proposition». Edm fidèle à son...absence Incorrigible Edm! Fidèle à ce qui est devenu chez elle une seconde nature, elle n’a pas dérogé malgré le contexte. Elle a joué aux abonnés absents sous le regard du président de la transition lors de la cérémonie  d’ouverture du DIM. Comme s’ils avaient parié sur l’éventualité, certains  participants se sont écriés : «Ma fi yé wa... » littéralement en français «ne te l’ai- je pas dit? ». Le président du comité de pilotage a été obligé d’interrompre son discours, pendant au moins 45 secondes, le temps que les choses rentrent dans l’ordre. «Tout ça fait partie du dialogue», a lancé Ousmane Issoufi Maïga pour détendre l’atmosphère. Live dans live Les confrères ont suivi l’ouverture et la clôture cantonné, dans une salle aménagée à cet effet avec les écrans géants. Seuls Ortm et Studio Tamani avaient droit à l’exclusivité des sons et images du dialogue. Quand on n’a pas les moyens de sa politique, il faut adopter la politique de ses moyens. Beaucoup de web activistes ont été obligés de filmer l’écran géant pour servir leurs followers en direct... Le pied dans le fil Un incident a failli ouvrir le bal à la fin des travaux, le vendredi 10 mai, dans la salle de banquet du CicB, où se déroulait la présentation finale et l’adoption des différentes recommandations des commissions. Le président du comité de pilotage s’est  emmêlé les pinceaux (pardon !) les pieds à un fil qui traînait par terre. C’était celui de l’écran géant installé devant l’assistance. Il y a eu un petit bruit presque inaudible dans la salle vite suivi d’un un «ouf!» de soulagement. Gal Gamou a été le premier et le plus prompt à se dresser aux côtés de son président. Heureusement qu’il y a eu plus de peur que de mal. Le directeur du CicB s’est personnellement investi à ce que tout soit bien rangé dans la salle. Après avoir regagné sa place au présidium, quelques minutes plus tard,  Pinochet a déclaré d’une voix grave : «Mesdames et Messieurs, bonjour. Nous arrivons au début de la fin...C’est un immense bonheur qui nous anime tous...». La sécurité présidentielle « toujours » prête à en découdre On dirait qu’ils sont directement venus du terrain pour la sécurité du président de la transition à bord de leurs Pickups auxquels étaient accrochés pêle-mêle: nattes, couvertures, draps et bidons de 20 litres. Jusqu’à la clôture des travaux, les quatre véhicules ne laissaient personne indifférent au hall du CicB. Motion retirée  Sacré Ousmane Issoufi ! Toujours lucide. «Mesdames messieurs, désolé ! On ne peut pas travailler et se dire merci à soi », a-t-il lancé sous les rires de l’assistance. C’était quand l’ancienne ambassadrice, Mme Seck Oumou Sall a fini de lire la motion de remerciements réservée aux participants lors de la séance d’adoption des recommandations, résolutions et des motions. La motion n’a finalement pas été lue à la cérémonie de clôture. Quel discours !  Le discours de Pinochet a mis d’accord tout le monde par rapport à la paix, la concorde et la cohésion nationale. Même lorsque du fait de l’émotion sa voix l’a trahi, il a su se contenir et transmettre son message en véritable homme d’Etat.  Sacré Pinochet ! Toujours égal à lui-même ! Le président du comité de pilotage en retard Venu en retard à l’atelier d’information des journalistes, le président du comité de pilotage s’est ainsi adressé à l’assistance «C’est toujours un grand plaisir de vous rencontrer. Je suis très content d’être aujourd’hui avec vous... », Histoire de présenter ses excuses avec tact. La séance s’est poursuivie dans une atmosphère de détente, surtout après le petit déjeuner .... Rassemblés par O.Tangara'"
      ]
     },
     "execution_count": 6,
     "metadata": {},
     "output_type": "execute_result"
    }
   ],
   "execution_count": 6
  },
  {
   "metadata": {},
   "cell_type": "markdown",
   "source": "## Second part: Parsing using date",
   "id": "b20f56f71dfb35c0"
  },
  {
   "metadata": {
    "ExecuteTime": {
     "end_time": "2024-05-17T03:11:41.939446Z",
     "start_time": "2024-05-17T03:11:41.933493Z"
    }
   },
   "cell_type": "code",
   "source": [
    "begin_date = \"2024-05-13\"\n",
    "end_date = \"2024-05-14\" #today\n",
    "# parse them\n",
    "begin_date = dateparser.parse(begin_date).date()\n",
    "end_date = dateparser.parse(end_date).date()"
   ],
   "id": "80319b05fdb70481",
   "outputs": [],
   "execution_count": 20
  },
  {
   "metadata": {
    "ExecuteTime": {
     "end_time": "2024-05-17T03:11:45.953942Z",
     "start_time": "2024-05-17T03:11:42.198962Z"
    }
   },
   "cell_type": "code",
   "source": [
    "page_number = 1\n",
    "articles_to_fetch_df = pd.DataFrame(columns=[\"title\", \"source_paper\", \"date\", \"link\"])\n",
    "contents = []\n",
    "current_date = end_date\n",
    "while begin_date <= current_date:\n",
    "    print(f\"fetching article from page {page_number} ...\")\n",
    "    articles_to_fetch_df = pd.concat([articles_to_fetch_df, get_mali_jet_page_list_of_articles(page_number)])\n",
    "    page_number+=1\n",
    "    current_date = articles_to_fetch_df.date.min()\n",
    "\n",
    "articles_to_fetch_df.query(\"date >= @begin_date and date <= @end_date\")"
   ],
   "id": "abefb3d88b9f1c0a",
   "outputs": [
    {
     "name": "stdout",
     "output_type": "stream",
     "text": [
      "fetching article from page 1 ...\n",
      "Getting list of articles...\n"
     ]
    },
    {
     "name": "stderr",
     "output_type": "stream",
     "text": [
      "100%|██████████| 20/20 [00:00<00:00, 463.40it/s]\n"
     ]
    },
    {
     "data": {
      "text/plain": [
       "                                                title     source_paper  \\\n",
       "6     Les coulisses du DIM : Le pupitre présidentiel    Le Challenger   \n",
       "7   Dialogue Inter-maliens pour la paix et la réc...    Le Challenger   \n",
       "8   Dialogue inter-malien : des recommandations on...          Malijet   \n",
       "9   Fin du Dialogue inter-Maliens : remise du rapp...      Présidence    \n",
       "10  Mali : le dialogue inter-maliens débouche sur...          Anadolu   \n",
       "11  Métier Postal : Des acteurs postaux à l’éco...          Malijet   \n",
       "12  Salon des médias : le Maroc et la Chine, pays...          Malijet   \n",
       "13   Recommandations phares du dialogue inter-maliens  Le Républicain    \n",
       "14  Pour tout savoir sur les recommandations du di...          Malijet   \n",
       "15          EMGA : Les adieux du Commandant de l’EUTM             Fama   \n",
       "\n",
       "          date                                               link  \n",
       "6   2024-05-14  https://malijet.com/a_la_une_du_mali/290746-le...  \n",
       "7   2024-05-14  https://malijet.com/a_la_une_du_mali/290745-di...  \n",
       "8   2024-05-13  https://malijet.com/a_la_une_du_mali/290715-di...  \n",
       "9   2024-05-13  https://malijet.com/a_la_une_du_mali/290712-fi...  \n",
       "10  2024-05-13  https://malijet.com/a_la_une_du_mali/290707-ma...  \n",
       "11  2024-05-13  https://malijet.com/a_la_une_du_mali/290706-me...  \n",
       "12  2024-05-13  https://malijet.com/a_la_une_du_mali/290705-sa...  \n",
       "13  2024-05-13  https://malijet.com/a_la_une_du_mali/290700-re...  \n",
       "14  2024-05-13  https://malijet.com/a_la_une_du_mali/290699-po...  \n",
       "15  2024-05-13  https://malijet.com/a_la_une_du_mali/290695-em...  "
      ],
      "text/html": [
       "<div>\n",
       "<style scoped>\n",
       "    .dataframe tbody tr th:only-of-type {\n",
       "        vertical-align: middle;\n",
       "    }\n",
       "\n",
       "    .dataframe tbody tr th {\n",
       "        vertical-align: top;\n",
       "    }\n",
       "\n",
       "    .dataframe thead th {\n",
       "        text-align: right;\n",
       "    }\n",
       "</style>\n",
       "<table border=\"1\" class=\"dataframe\">\n",
       "  <thead>\n",
       "    <tr style=\"text-align: right;\">\n",
       "      <th></th>\n",
       "      <th>title</th>\n",
       "      <th>source_paper</th>\n",
       "      <th>date</th>\n",
       "      <th>link</th>\n",
       "    </tr>\n",
       "  </thead>\n",
       "  <tbody>\n",
       "    <tr>\n",
       "      <th>6</th>\n",
       "      <td>Les coulisses du DIM : Le pupitre présidentiel</td>\n",
       "      <td>Le Challenger</td>\n",
       "      <td>2024-05-14</td>\n",
       "      <td>https://malijet.com/a_la_une_du_mali/290746-le...</td>\n",
       "    </tr>\n",
       "    <tr>\n",
       "      <th>7</th>\n",
       "      <td>Dialogue Inter-maliens pour la paix et la réc...</td>\n",
       "      <td>Le Challenger</td>\n",
       "      <td>2024-05-14</td>\n",
       "      <td>https://malijet.com/a_la_une_du_mali/290745-di...</td>\n",
       "    </tr>\n",
       "    <tr>\n",
       "      <th>8</th>\n",
       "      <td>Dialogue inter-malien : des recommandations on...</td>\n",
       "      <td>Malijet</td>\n",
       "      <td>2024-05-13</td>\n",
       "      <td>https://malijet.com/a_la_une_du_mali/290715-di...</td>\n",
       "    </tr>\n",
       "    <tr>\n",
       "      <th>9</th>\n",
       "      <td>Fin du Dialogue inter-Maliens : remise du rapp...</td>\n",
       "      <td>Présidence</td>\n",
       "      <td>2024-05-13</td>\n",
       "      <td>https://malijet.com/a_la_une_du_mali/290712-fi...</td>\n",
       "    </tr>\n",
       "    <tr>\n",
       "      <th>10</th>\n",
       "      <td>Mali : le dialogue inter-maliens débouche sur...</td>\n",
       "      <td>Anadolu</td>\n",
       "      <td>2024-05-13</td>\n",
       "      <td>https://malijet.com/a_la_une_du_mali/290707-ma...</td>\n",
       "    </tr>\n",
       "    <tr>\n",
       "      <th>11</th>\n",
       "      <td>Métier Postal : Des acteurs postaux à l’éco...</td>\n",
       "      <td>Malijet</td>\n",
       "      <td>2024-05-13</td>\n",
       "      <td>https://malijet.com/a_la_une_du_mali/290706-me...</td>\n",
       "    </tr>\n",
       "    <tr>\n",
       "      <th>12</th>\n",
       "      <td>Salon des médias : le Maroc et la Chine, pays...</td>\n",
       "      <td>Malijet</td>\n",
       "      <td>2024-05-13</td>\n",
       "      <td>https://malijet.com/a_la_une_du_mali/290705-sa...</td>\n",
       "    </tr>\n",
       "    <tr>\n",
       "      <th>13</th>\n",
       "      <td>Recommandations phares du dialogue inter-maliens</td>\n",
       "      <td>Le Républicain</td>\n",
       "      <td>2024-05-13</td>\n",
       "      <td>https://malijet.com/a_la_une_du_mali/290700-re...</td>\n",
       "    </tr>\n",
       "    <tr>\n",
       "      <th>14</th>\n",
       "      <td>Pour tout savoir sur les recommandations du di...</td>\n",
       "      <td>Malijet</td>\n",
       "      <td>2024-05-13</td>\n",
       "      <td>https://malijet.com/a_la_une_du_mali/290699-po...</td>\n",
       "    </tr>\n",
       "    <tr>\n",
       "      <th>15</th>\n",
       "      <td>EMGA : Les adieux du Commandant de l’EUTM</td>\n",
       "      <td>Fama</td>\n",
       "      <td>2024-05-13</td>\n",
       "      <td>https://malijet.com/a_la_une_du_mali/290695-em...</td>\n",
       "    </tr>\n",
       "  </tbody>\n",
       "</table>\n",
       "</div>"
      ]
     },
     "execution_count": 21,
     "metadata": {},
     "output_type": "execute_result"
    }
   ],
   "execution_count": 21
  },
  {
   "metadata": {
    "ExecuteTime": {
     "end_time": "2024-05-08T12:06:06.182202Z",
     "start_time": "2024-05-08T12:06:06.177693Z"
    }
   },
   "cell_type": "code",
   "source": [
    "CSV_DIR = Path().resolve() / 'data' / 'malijet' / 'source.csv'\n",
    "CSV_DIR"
   ],
   "id": "bd134ab43ed5fe92",
   "outputs": [
    {
     "data": {
      "text/plain": [
       "PosixPath('/home/bouba/Workspace/kounafoni-app/data/malijet/source.csv')"
      ]
     },
     "execution_count": 10,
     "metadata": {},
     "output_type": "execute_result"
    }
   ],
   "execution_count": 10
  },
  {
   "metadata": {
    "ExecuteTime": {
     "end_time": "2024-05-08T12:06:06.202390Z",
     "start_time": "2024-05-08T12:06:06.183837Z"
    }
   },
   "cell_type": "code",
   "source": [
    "subset_fetching_articles_df = articles_to_fetch_df.query(\"date >= @begin_date and date <= @end_date\").copy()\n",
    "article_contents, new_titles = [], []\n",
    "existing_article_titles = pd.read_csv(CSV_DIR, sep='\\t').title.tolist()\n",
    "for _, row in tqdm(subset_fetching_articles_df.iterrows(), total=subset_fetching_articles_df.shape[0]):\n",
    "    if row.title not in existing_article_titles:\n",
    "        new_titles.append(row.title)\n",
    "        article_contents.append(fetch_article_content(row.link))\n",
    "if article_contents:\n",
    "    print(\"New articles found, writing article contents to file...\")\n",
    "    subset_fetching_articles_df.query(\"title in @new_titles\").assign(content=article_contents).to_csv(CSV_DIR, mode='a', sep='\\t', index=False, header=False)\n",
    "else:\n",
    "    print(\"No new articles found, skipping...\")"
   ],
   "id": "3fb398fa6d4877e3",
   "outputs": [
    {
     "name": "stderr",
     "output_type": "stream",
     "text": [
      "100%|██████████| 32/32 [00:00<00:00, 14641.40it/s]"
     ]
    },
    {
     "name": "stdout",
     "output_type": "stream",
     "text": [
      "No new articles found, skipping...\n"
     ]
    },
    {
     "name": "stderr",
     "output_type": "stream",
     "text": [
      "\n"
     ]
    }
   ],
   "execution_count": 11
  },
  {
   "metadata": {
    "ExecuteTime": {
     "end_time": "2024-09-22T04:20:44.146731Z",
     "start_time": "2024-09-22T04:20:44.141597Z"
    }
   },
   "cell_type": "code",
   "source": [
    "from pathlib import Path\n",
    "import pandas as pd\n",
    "ARTICLE_DIRECTORY_PATH = (\n",
    "        Path().resolve().parents[1] / \"new_test\" / \"data\" / \"articles\" / \"malijet\" / \"2024\" / \"01\" / \"01.csv\"\n",
    "    )\n",
    "ARTICLE_DIRECTORY_PATH"
   ],
   "id": "f2adf7da1c43d9b6",
   "outputs": [
    {
     "data": {
      "text/plain": [
       "PosixPath('/home/bouba/Workspace/new_test/data/articles/malijet/2024/01/01.csv')"
      ]
     },
     "execution_count": 12,
     "metadata": {},
     "output_type": "execute_result"
    }
   ],
   "execution_count": 12
  },
  {
   "metadata": {
    "ExecuteTime": {
     "end_time": "2024-09-22T05:00:12.039180Z",
     "start_time": "2024-09-22T05:00:12.027968Z"
    }
   },
   "cell_type": "code",
   "source": [
    "df = pd.read_csv(\n",
    "    ARTICLE_DIRECTORY_PATH, delimiter=\"\\t\", encoding = \"latin1\"\n",
    ")\n",
    "df"
   ],
   "id": "2a6834cd0ac4d4c0",
   "outputs": [
    {
     "data": {
      "text/plain": [
       "                                               title source_paper        date  \\\n",
       "0  Mali: le Col Assimi GOITA annonce la creÌatio...      Malijet  2024-01-01   \n",
       "1  Ronde des airs de santeÌ aÌ la veille du nou...      Malijet  2024-01-01   \n",
       "2  A lâoreÌe du nouvel: Le ministre de la Sant...      Malijet  2024-01-01   \n",
       "\n",
       "                                                link  \\\n",
       "0  https://malijet.com/a_la_une_du_mali/286070-ma...   \n",
       "1  https://malijet.com/a_la_une_du_mali/286069-ro...   \n",
       "2  https://malijet.com/a_la_une_du_mali/286056-a-...   \n",
       "\n",
       "                                             content  \n",
       "0  C'eÌtait  lors de son discours du Nouvel An. ...  \n",
       "1  Au seuil du nouvel an 2024, Madame le Ministre...  \n",
       "2  Câest deÌsormais  une tradition pour le min...  "
      ],
      "text/html": [
       "<div>\n",
       "<style scoped>\n",
       "    .dataframe tbody tr th:only-of-type {\n",
       "        vertical-align: middle;\n",
       "    }\n",
       "\n",
       "    .dataframe tbody tr th {\n",
       "        vertical-align: top;\n",
       "    }\n",
       "\n",
       "    .dataframe thead th {\n",
       "        text-align: right;\n",
       "    }\n",
       "</style>\n",
       "<table border=\"1\" class=\"dataframe\">\n",
       "  <thead>\n",
       "    <tr style=\"text-align: right;\">\n",
       "      <th></th>\n",
       "      <th>title</th>\n",
       "      <th>source_paper</th>\n",
       "      <th>date</th>\n",
       "      <th>link</th>\n",
       "      <th>content</th>\n",
       "    </tr>\n",
       "  </thead>\n",
       "  <tbody>\n",
       "    <tr>\n",
       "      <th>0</th>\n",
       "      <td>Mali: le Col Assimi GOITA annonce la creÌatio...</td>\n",
       "      <td>Malijet</td>\n",
       "      <td>2024-01-01</td>\n",
       "      <td>https://malijet.com/a_la_une_du_mali/286070-ma...</td>\n",
       "      <td>C'eÌtait  lors de son discours du Nouvel An. ...</td>\n",
       "    </tr>\n",
       "    <tr>\n",
       "      <th>1</th>\n",
       "      <td>Ronde des airs de santeÌ aÌ la veille du nou...</td>\n",
       "      <td>Malijet</td>\n",
       "      <td>2024-01-01</td>\n",
       "      <td>https://malijet.com/a_la_une_du_mali/286069-ro...</td>\n",
       "      <td>Au seuil du nouvel an 2024, Madame le Ministre...</td>\n",
       "    </tr>\n",
       "    <tr>\n",
       "      <th>2</th>\n",
       "      <td>A lâoreÌe du nouvel: Le ministre de la Sant...</td>\n",
       "      <td>Malijet</td>\n",
       "      <td>2024-01-01</td>\n",
       "      <td>https://malijet.com/a_la_une_du_mali/286056-a-...</td>\n",
       "      <td>Câest deÌsormais  une tradition pour le min...</td>\n",
       "    </tr>\n",
       "  </tbody>\n",
       "</table>\n",
       "</div>"
      ]
     },
     "execution_count": 17,
     "metadata": {},
     "output_type": "execute_result"
    }
   ],
   "execution_count": 17
  },
  {
   "metadata": {
    "ExecuteTime": {
     "end_time": "2024-09-22T04:45:41.657062Z",
     "start_time": "2024-09-22T04:45:41.445173Z"
    }
   },
   "cell_type": "code",
   "source": "pd.read_table(ARTICLE_DIRECTORY_PATH)",
   "id": "3ba6d4344509745",
   "outputs": [
    {
     "data": {
      "text/plain": [
       "                                               title source_paper        date  \\\n",
       "0  Mali: le Col Assimi GOITA annonce la création...      Malijet  2024-01-01   \n",
       "1  Ronde des airs de santé à la veille du nouve...      Malijet  2024-01-01   \n",
       "2  A l’orée du nouvel: Le ministre de la Santé ...      Malijet  2024-01-01   \n",
       "\n",
       "                                                link  \\\n",
       "0  https://malijet.com/a_la_une_du_mali/286070-ma...   \n",
       "1  https://malijet.com/a_la_une_du_mali/286069-ro...   \n",
       "2  https://malijet.com/a_la_une_du_mali/286056-a-...   \n",
       "\n",
       "                                             content  \n",
       "0  C'était  lors de son discours du Nouvel An. I...  \n",
       "1  Au seuil du nouvel an 2024, Madame le Ministre...  \n",
       "2  C’est désormais  une tradition pour le minist...  "
      ],
      "text/html": [
       "<div>\n",
       "<style scoped>\n",
       "    .dataframe tbody tr th:only-of-type {\n",
       "        vertical-align: middle;\n",
       "    }\n",
       "\n",
       "    .dataframe tbody tr th {\n",
       "        vertical-align: top;\n",
       "    }\n",
       "\n",
       "    .dataframe thead th {\n",
       "        text-align: right;\n",
       "    }\n",
       "</style>\n",
       "<table border=\"1\" class=\"dataframe\">\n",
       "  <thead>\n",
       "    <tr style=\"text-align: right;\">\n",
       "      <th></th>\n",
       "      <th>title</th>\n",
       "      <th>source_paper</th>\n",
       "      <th>date</th>\n",
       "      <th>link</th>\n",
       "      <th>content</th>\n",
       "    </tr>\n",
       "  </thead>\n",
       "  <tbody>\n",
       "    <tr>\n",
       "      <th>0</th>\n",
       "      <td>Mali: le Col Assimi GOITA annonce la création...</td>\n",
       "      <td>Malijet</td>\n",
       "      <td>2024-01-01</td>\n",
       "      <td>https://malijet.com/a_la_une_du_mali/286070-ma...</td>\n",
       "      <td>C'était  lors de son discours du Nouvel An. I...</td>\n",
       "    </tr>\n",
       "    <tr>\n",
       "      <th>1</th>\n",
       "      <td>Ronde des airs de santé à la veille du nouve...</td>\n",
       "      <td>Malijet</td>\n",
       "      <td>2024-01-01</td>\n",
       "      <td>https://malijet.com/a_la_une_du_mali/286069-ro...</td>\n",
       "      <td>Au seuil du nouvel an 2024, Madame le Ministre...</td>\n",
       "    </tr>\n",
       "    <tr>\n",
       "      <th>2</th>\n",
       "      <td>A l’orée du nouvel: Le ministre de la Santé ...</td>\n",
       "      <td>Malijet</td>\n",
       "      <td>2024-01-01</td>\n",
       "      <td>https://malijet.com/a_la_une_du_mali/286056-a-...</td>\n",
       "      <td>C’est désormais  une tradition pour le minist...</td>\n",
       "    </tr>\n",
       "  </tbody>\n",
       "</table>\n",
       "</div>"
      ]
     },
     "execution_count": 14,
     "metadata": {},
     "output_type": "execute_result"
    }
   ],
   "execution_count": 14
  }
 ],
 "metadata": {
  "kernelspec": {
   "display_name": "Python 3",
   "language": "python",
   "name": "python3"
  },
  "language_info": {
   "codemirror_mode": {
    "name": "ipython",
    "version": 2
   },
   "file_extension": ".py",
   "mimetype": "text/x-python",
   "name": "python",
   "nbconvert_exporter": "python",
   "pygments_lexer": "ipython2",
   "version": "2.7.6"
  }
 },
 "nbformat": 4,
 "nbformat_minor": 5
}
