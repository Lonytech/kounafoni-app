{
 "cells": [
  {
   "cell_type": "code",
   "id": "initial_id",
   "metadata": {
    "collapsed": true,
    "ExecuteTime": {
     "end_time": "2024-05-21T14:44:08.283407Z",
     "start_time": "2024-05-21T14:44:08.032427Z"
    }
   },
   "source": [
    "from pytube import YouTube\n",
    "import moviepy.editor as mp"
   ],
   "execution_count": 1,
   "outputs": []
  },
  {
   "metadata": {
    "ExecuteTime": {
     "end_time": "2024-05-21T14:24:58.074705Z",
     "start_time": "2024-05-21T14:24:16.644691Z"
    }
   },
   "cell_type": "code",
   "source": [
    "def download_youtube_audio(youtube_url, output_path):\n",
    "    # Create a YouTube object\n",
    "    yt = YouTube(youtube_url)\n",
    "\n",
    "    # Select the best audio stream\n",
    "    audio_stream = yt.streams.filter(only_audio=True).first()\n",
    "\n",
    "    # Download the audio stream to a temporary file\n",
    "    audio_stream.download(filename='temp_audio.mp4')\n",
    "\n",
    "    # Convert the downloaded file to MP3\n",
    "    clip = mp.AudioFileClip('temp_audio.mp4')\n",
    "    clip.write_audiofile(output_path)\n",
    "\n",
    "    # Remove the temporary MP4 file\n",
    "    clip.close()\n",
    "\n",
    "youtube_url = \"https://www.youtube.com/watch?v=MDCyBIdXnlI&list=PLDBQmURq6pOfBKc6WU0wXTg2vxAjxjQel&index=3&ab_channel=ORTM\"\n",
    "\n",
    "# In case you want to enter the video to use directly:\n",
    "# youtube_url = str(input(\"Enter the URL of the video you want to \n",
    "#               download: \\n>>\"))\n",
    "\n",
    "output_path = 'output_file.mp3'\n",
    "download_youtube_audio(youtube_url, output_path)"
   ],
   "id": "1a3c5a6919e8c88d",
   "execution_count": 2,
   "outputs": []
  },
  {
   "metadata": {
    "ExecuteTime": {
     "end_time": "2024-05-21T14:44:17.315148Z",
     "start_time": "2024-05-21T14:44:15.304570Z"
    }
   },
   "cell_type": "code",
   "source": "import whisper",
   "id": "8b8b85d717240121",
   "execution_count": 2,
   "outputs": []
  },
  {
   "metadata": {
    "ExecuteTime": {
     "end_time": "2024-05-21T14:50:22.906196Z",
     "start_time": "2024-05-21T14:48:19.661768Z"
    }
   },
   "cell_type": "code",
   "source": [
    "model = whisper.load_model(\"base\")\n",
    "result = model.transcribe(\"output_file.mp3\", language=\"fr\")\n",
    "print(result[\"text\"])"
   ],
   "id": "5271be1ed9e5c5b9",
   "execution_count": 4,
   "outputs": []
  },
  {
   "metadata": {
    "ExecuteTime": {
     "end_time": "2024-05-23T20:28:14.136571Z",
     "start_time": "2024-05-23T20:28:14.113484Z"
    }
   },
   "cell_type": "code",
   "source": [
    "# modelname = \"tiny\"\n",
    "# model = whisper.load_model(modelname)\n",
    "# result = model.transcribe(\"output_file.mp3\", fp16=False, language=\"en\")\n",
    "# transcription_text = result['text']"
   ],
   "id": "7ba7a4f4d0023421",
   "execution_count": 1,
   "outputs": []
  },
  {
   "metadata": {},
   "cell_type": "code",
   "execution_count": null,
   "source": "",
   "id": "b1be36551b528fe6",
   "outputs": []
  }
 ],
 "metadata": {
  "kernelspec": {
   "display_name": "Python 3",
   "language": "python",
   "name": "python3"
  },
  "language_info": {
   "codemirror_mode": {
    "name": "ipython",
    "version": 2
   },
   "file_extension": ".py",
   "mimetype": "text/x-python",
   "name": "python",
   "nbconvert_exporter": "python",
   "pygments_lexer": "ipython2",
   "version": "2.7.6"
  }
 },
 "nbformat": 4,
 "nbformat_minor": 5
}
