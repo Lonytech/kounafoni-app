{
 "cells": [
  {
   "metadata": {},
   "cell_type": "markdown",
   "source": [
    "- Ollama -> See : https://ollama.com/download\n",
    "  - For linux users :\n",
    "    \n",
    "    For this tutorial, run these instructions\n",
    "    - Install Ollama : `curl -fsSL https://ollama.com/install.sh | sh`\n",
    "    - Run the model : `ollama run mistral:7b-instruct-q4_0`\n",
    "    \n",
    "    -------------------------------------------------------------------------------\n",
    "  \n",
    "    Additional informations about Ollama\n",
    "    - To remove Ollama : https://github.com/ollama/ollama/blob/main/docs/linux.md\n",
    "    - To stop ollama server : `systemctl stop ollama`\n",
    "    - To restart server : `systemctl start ollama`\n"
   ],
   "id": "1b3ffc25e5487cf2"
  },
  {
   "cell_type": "code",
   "id": "initial_id",
   "metadata": {
    "collapsed": true,
    "ExecuteTime": {
     "end_time": "2024-05-15T12:51:18.157754Z",
     "start_time": "2024-05-15T12:51:16.694474Z"
    }
   },
   "source": [
    "from pathlib import Path\n",
    "\n",
    "import pandas as pd\n",
    "from langchain_community.llms import Ollama\n",
    "from langchain_core.output_parsers import StrOutputParser\n",
    "from langchain.document_loaders.csv_loader import CSVLoader\n",
    "from langchain_text_splitters import RecursiveCharacterTextSplitter\n",
    "from langchain.embeddings import OllamaEmbeddings\n",
    "from langchain_core.prompts import ChatPromptTemplate\n",
    "from langchain_core.runnables import RunnablePassthrough\n",
    "from langchain_chroma import Chroma"
   ],
   "outputs": [],
   "execution_count": 1
  },
  {
   "metadata": {
    "ExecuteTime": {
     "end_time": "2024-05-15T12:51:18.164243Z",
     "start_time": "2024-05-15T12:51:18.159246Z"
    }
   },
   "cell_type": "code",
   "source": [
    "ARTICLE_SOURCE_FILE_PATH = Path().resolve().parent /\"data\" / \"malijet\" / \"source.csv\"\n",
    "CHROMA_DB_PERSIST_PATH = Path().resolve().parent / \"data\" / \"chroma_db\"\n",
    "MODEL_NAME = \"mistral:7b-instruct-q4_0\""
   ],
   "id": "1e5d62f9058c6a59",
   "outputs": [],
   "execution_count": 2
  },
  {
   "metadata": {
    "ExecuteTime": {
     "end_time": "2024-05-15T12:51:18.175367Z",
     "start_time": "2024-05-15T12:51:18.165674Z"
    }
   },
   "cell_type": "code",
   "source": [
    "llm = Ollama(model=MODEL_NAME)\n",
    "llm"
   ],
   "id": "609b90e8d6c8fa64",
   "outputs": [
    {
     "data": {
      "text/plain": [
       "Ollama(model='mistral:7b-instruct-q4_0')"
      ]
     },
     "execution_count": 3,
     "metadata": {},
     "output_type": "execute_result"
    }
   ],
   "execution_count": 3
  },
  {
   "metadata": {},
   "cell_type": "markdown",
   "source": "## Testing Simple LLM discussion",
   "id": "79883c6433748c08"
  },
  {
   "metadata": {
    "ExecuteTime": {
     "end_time": "2024-05-15T12:51:51.792317Z",
     "start_time": "2024-05-15T12:51:18.176812Z"
    }
   },
   "cell_type": "code",
   "source": "llm.invoke(\"Quelle est la recette la plus populaire en France ?\")",
   "id": "6c432e52d17e2d79",
   "outputs": [
    {
     "data": {
      "text/plain": [
       "'\\nLa cuisine française est très riche et diverse, et il y a de nombreuses recettes qui sont populaires dans le pays. Mais si je dois choisir une seule recette, je dirais que la recette la plus populaire en France serait peut-être la boîte gorgonzola, aussi appelée \"bœuf bourguignon\". Il s\\'agit d\\'un plat simple mais très savoureux à base de filet mignon ou de bœuf bourguignon, cuit avec du vin rouge, des herbes et d\\'une pointe de gorgonzola. Cet aliment est très apprécié dans les régions du Sud-Ouest, mais il est consommé partout en France.'"
      ]
     },
     "execution_count": 4,
     "metadata": {},
     "output_type": "execute_result"
    }
   ],
   "execution_count": 4
  },
  {
   "metadata": {
    "ExecuteTime": {
     "end_time": "2024-05-15T12:52:16.311855Z",
     "start_time": "2024-05-15T12:51:51.795356Z"
    }
   },
   "cell_type": "code",
   "source": "llm.invoke(\"Who is the most popular scientist in the world?\")",
   "id": "abbaf94d1945f818",
   "outputs": [
    {
     "data": {
      "text/plain": [
       "\"\\nIt's difficult to definitively say who the most popular scientist in the world is, as popularity can be measured in various ways and scientists from different fields can gain popularity for their work in different regions of the world. However, as of 2021, some of the most well-known and widely recognized scientists globally include physicist Albert Einstein, biologist Charles Darwin, mathematician Isaac Newton, and astronaut Neil Armstrong. These scientists have made significant contributions to their respective fields and their work has had a profound impact on humanity.\""
      ]
     },
     "execution_count": 5,
     "metadata": {},
     "output_type": "execute_result"
    }
   ],
   "execution_count": 5
  },
  {
   "metadata": {
    "ExecuteTime": {
     "end_time": "2024-05-15T12:52:44.041543Z",
     "start_time": "2024-05-15T12:52:16.313226Z"
    }
   },
   "cell_type": "code",
   "source": "llm.invoke(\"Where is the greatest place to visit in the world?\")",
   "id": "6f263462f56240b3",
   "outputs": [
    {
     "data": {
      "text/plain": [
       "\"That's a difficult question as it depends on personal preferences. However, some popular places that are often considered the greatest to visit in the world include Paris, France for its romantic atmosphere and iconic landmarks; New York City, USA for its energy, diversity, and famous attractions; Tokyo, Japan for its blend of tradition and modernity; Sydney, Australia for its beautiful beaches and outdoor lifestyle; and Bali, Indonesia for its stunning rice terraces, temples, and serene natural beauty. Ultimately, the greatest place to visit in the world is subjective and depends on individual experiences and interests.\""
      ]
     },
     "execution_count": 6,
     "metadata": {},
     "output_type": "execute_result"
    }
   ],
   "execution_count": 6
  },
  {
   "metadata": {},
   "cell_type": "markdown",
   "source": "## 2. Build RAG with CSV file",
   "id": "72e4efb57cc1c09b"
  },
  {
   "metadata": {
    "ExecuteTime": {
     "end_time": "2024-05-15T12:52:44.049637Z",
     "start_time": "2024-05-15T12:52:44.043463Z"
    }
   },
   "cell_type": "code",
   "source": [
    "loader = CSVLoader(\n",
    "    file_path=ARTICLE_SOURCE_FILE_PATH,\n",
    "    csv_args={\n",
    "        \"delimiter\": \"\\t\",\n",
    "    }\n",
    ")\n",
    "loader"
   ],
   "id": "e79a45440193a7cb",
   "outputs": [
    {
     "data": {
      "text/plain": [
       "<langchain_community.document_loaders.csv_loader.CSVLoader at 0x7207d63953c0>"
      ]
     },
     "execution_count": 7,
     "metadata": {},
     "output_type": "execute_result"
    }
   ],
   "execution_count": 7
  },
  {
   "metadata": {
    "ExecuteTime": {
     "end_time": "2024-05-15T12:52:44.062250Z",
     "start_time": "2024-05-15T12:52:44.051227Z"
    }
   },
   "cell_type": "code",
   "source": [
    "data = loader.load()\n",
    "data[:3] # three first documents"
   ],
   "id": "70ccadc444e78928",
   "outputs": [
    {
     "data": {
      "text/plain": [
       "[Document(page_content='title: Industrie : Le Président Assimi GOITA a reçu l’ancien footballeur international Seydou Keita\\nsource_paper: Présidence\\ndate: 2024-05-08\\nlink: https://malijet.com/a_la_une_du_mali/290531-industrie--le-president-assimi-goita-a-recu-l’ancien-footballeur.html\\ncontent: Le Président de la Transition, Son Excellence le Colonel Assimi GOÏTA, Chef de l’État, a reçu en audience, ce mardi 07 mai 2024, Seydou KEÏTA, ancien footballeur international et entrepreneur visionnaire, en prélude de la finalisation de son complexe industriel à Sanankoroba, dans le Cercle de Kati. Cette rencontre, qui s’est tenue en présence du ministre de l’Industrie et du Commerce, marque un jalon important dans le parcours de M. KEÏTA et pour le développement économique du Mali. Seydou KEÏTA, qui a entamé ce projet ambitieux en 2021, a transformé son rêve en réalité, illustrant parfaitement la transition réussie d’une carrière sportive à celle d’entrepreneur engagé. Le complexe industriel, résultat d’années d’efforts et d’investissements considérables, est désormais prêt à démarrer ses opérations, promettant de devenir un moteur de croissance pour la région et pour le Mali tout entier. Au cours de cette audience, Seydou KEÏTA a exprimé sa gratitude envers les autorités maliennes pour leur soutien constant durant les phases de développement du projet. Il a également mis en avant l’impact significatif du complexe sur la communauté locale, en offrant des opportunités d’emploi et en contribuant au développement économique du pays. Le Président GOÏTA a chaleureusement félicité M. KEÏTA pour son initiative et son dévouement à la nation. Soulignant l’importance de soutenir les entrepreneurs locaux, le Président de la Transition a réitéré l’engagement du Gouvernement à créer un environnement propice à l’investissement et à la croissance économique durable. Le complexe industriel Seydou KEÏTA englobe trois unités de production principales : une unité de production d’huile végétale alimentaire, de tourteau et d’aliment pour bétail ; une unité de fabrication de bidons plastiques et de savons ; ainsi qu’une unité dédiée à la production de beurre de karité. Ces installations modernes sont conçues pour répondre aux standards internationaux et visent à renforcer l’autosuffisance du Mali dans ces secteurs clés. La mise en service de ce complexe industriel est imminente, et Seydou KEÏTA a assuré que les portes s’ouvriraient très prochainement. Cette inauguration est attendue avec impatience, tant par les futurs employés que par les communautés locales, qui verront là une source significative de développement et d’amélioration de leurs conditions de vie.', metadata={'source': '/home/bouba/Workspace/kounafoni-app/data/malijet/source.csv', 'row': 0}),\n",
       " Document(page_content='title: Célébration du 3 mai: La presse malienne, actrice majeure de la concorde nationale\\nsource_paper: Le Challenger\\ndate: 2024-05-07\\nlink: https://malijet.com/a_la_une_du_mali/290517-celebration-du-3-mai-la-presse-malienne-actrice-majeure-de-la-co.html\\ncontent: Le vendredi 3 mai 2024, à la Maison de la presse, les journalistes maliens se sont retrouvés pour célébrer la 31è édition de la journée Internationale consacrée à la liberté de la presse. Le thème national cette année est: «rôle et place de la presse dans la construction de la concorde nationale». En phase avec le Dialogue inter-maliens qui boucle sa dernière étape, ce thème interpelle les hommes de médias sur le chantier de la paix et de la réconciliation. Chaque année, la célébration du 03 Mai est un rappel aux gouvernants sur la nécessité d’agir en faveur de la liberté de la presse.  À lire aussi    Industrie : Le Président Assimi GOITA a reçu l’ancien footballeur international Seydou Keita   Assimi Goïta lors du lancement des travaux de la phase nationale du dialogue inter-maliens : « Dans ce combat historique, notre peuple compte d’abord sur ses propres forces... »   Ouverture de la phase finale du Dialogue Inter-Maliens pour la Paix et la Réconciliation nationale sous la présidence de SE le Colonel Assimi GOÏTA    Elle donne également l’opportunité aux acteurs des médias, de se focaliser sur les défis, obstacles et menaces qui pèsent sur le métier. Le président de la maison de la presse, Bandiougou Danté, a rappelé la «disparition» du confrère Birama Touré, dont les siens demeurent à ce jour sans nouvelles. L’image de la presse malienne et de la liberté de la presse laisse à désirer, a-t-il déploré. Toutefois, dans ce contexte de précarité, d’insécurité à la fois physique comme économique, les hommes de médias continuent d’apporter leur pierre à l’édifice par leur engagement pour la paix et la réconciliation. Raison pour laquelle Martin Faye, un doyen de la presse malienne et représentant de la Fondation Hirondelle au Mali, a été célébré par un Prix d’Excellence pour son apport à la cohésion sociale et la paix au Mali. Ousmane Tangara', metadata={'source': '/home/bouba/Workspace/kounafoni-app/data/malijet/source.csv', 'row': 1}),\n",
       " Document(page_content='title: Assimi Goïta lors du lancement des travaux de la phase nationale du dialogue inter-maliens : « Dans ce combat historique, notre peuple compte d’abord sur ses propres forces… »\\nsource_paper: Le Républicain\\ndate: 2024-05-07\\nlink: https://malijet.com/a_la_une_du_mali/290501-assimi-goïta-lors-du-lancement-des-travaux-de-la-phase-nationale.html\\ncontent: Président de la transition, Col. Assimi Goïta Sous la haute présidence du président de la transition, Col. Assimi Goïta, les travaux de la phase nationale du dialogue inter-maliens ont débuté, hier lundi 6 mai 2024, au Centre International de Conférences de Bamako. C’était en présence du président du comité de pilotage dudit dialogue, Ousmane Issoufi Maïga et des membres du gouvernement. La cérémonie d’ouverture de cette phase nationale qui se veut inclusive a vu la participation de l’ancien président de la transition, Pr. Dioncounda Traoré, des autorités religieuses et des légitimités traditionnelles, des représentants des missions diplomatiques accréditées au Mali, des délégués venus de toutes les régions du pays et bien d’autres invités. Au rythme d’une symphonie dans plusieurs aires culturelles du pays, les participants, enthousiasmés, ont débuté les travaux pour dessiner une nouvelle architecture de paix et de réconciliation nationale. En tout cas, les partis politiques continuent de briller par leur absence aux activités du dialogue. Cinq jours durant, les participants vont se pencher sur les différentes recommandations formulées lors des rencontres préliminaires, notamment aux niveaux communal et régional, en passant par les Institutions de la République, les Maliens établis à l’extérieur, les partis politiques, les universités et les grandes écoles, les légitimités traditionnelles, les confessions religieuses, les ambassades et les consulats. Après le discours de bienvenue du Maire de la Commune III, Mme Djiré Mariam Diallo, le président du comité de pilotage du dialogue inter-maliens pour la paix et la réconciliation nationale, Ousmane Issoufi Maïga, a rappelé que 763 communes, 19 régions et 48 ambassades et consulats ont participé aux débats directs et francs dont les recommandations serviront de levier pour poser les jalons de la paix et de la réconciliation nationale. Pour lui, l’innovation dans la présente rencontre est l’implication des universités et des grandes écoles dans les débats.                    Pour sa part, le président de la transition, Col. Assimi Goïta, a tout d’abord expliqué que des semaines durant, les Maliens se sont retrouvés dans les phases communales, régionales et les représentations diplomatiques et consulaires. A tous ces niveaux, selon lui, les participants n’avaient qu’un seul objectif : se parler en toute franchise et proposer des solutions pour sortir définitivement de la crise, recoudre le tissu social et renforcer le vivre ensemble. « Fort de l’expérience des assises nationales de la refondation et d’autres rencontres plus importantes, nous avons décidé que les Maliens se retrouvent entre eux sans intermédiaire pour dessiner une nouvelle architecture de la paix et de la réconciliation nationale selon les réalités, les valeurs et les intérêts propres des populations inspirés par les trois principes qui guident désormais l’action publique dans notre pays à savoir : le respect de la souveraineté du Mali, le respect des choix stratégiques et des partenaires,  la défense des intérêts du peuple malien dans les décisions prises. » a-t-il indiqué. Ainsi dira-t-il qu’il a demandé au comité de pilotage de tout mettre en œuvre pour rendre le processus le plus inclusif possible et qu’il se réjouit de constater que la méthode imprimée par le comité de pilotage ait obéi aux exigences liées à ces enjeux à savoir : la paix durable, la défense des terres et la mise en place des bases de développement dont les premiers fruits devraient être profitables à tous les Maliens et à toutes les Maliennes. A cet effet, expliquera-t-il qu’il lui plaît de signaler que dans son règlement intérieur, le comité de pilotage s’est obligé au respect de la diversité d’opinions et de la liberté d’expression à reconnaitre et à respecter la diversité culturelle et linguistique des participants. Pour lui, le comité de pilotage s’est également atteler à l’interdiction de toute forme de discours haineux, injurié ou discriminatoire.  Ensuite, indiquera le président de la transition, Col. Assimi Goïta, la forme ascendante du dialogue du niveau communal, au niveau national en passant par les régions et du district de Bamako et représentations diplomatiques et consulaires devrait avoir pour effet de permettre à tous les Maliens de s’exprimer. Par ailleurs, il a souligné que le dialogue a privilégié les discussions sur les thématiques concrètes ayant un lien direct avec les aspects de la vie socio-économique et culturelle des Maliens à savoir : la paix, la réconciliation nationale et la cohésion sociale, les questions politiques et institutionnelles, l’économie et le développement durable les aspects sécuritaires et de défense du territoire, la géopolitique et l’environnement. « Aujourd’hui, plus que jamais notre peuple dont je salue encore et toujours la résilience a besoin de plus d’unité et de solidarité. C’est seulement à ces conditions que nous réussirons à vaincre l’adversité et à gagner la bataille du développement profitable à chaque Malien. Dans ce combat historique, notre peuple compte d’abord sur ses propres forces, mais il peut compter également sur l’accompagnement des partenaires sincères. Je suis convaincu que l’esprit de franchise et de patriotisme qui a prévalu au cours des phases précédentes sera de mise durant la présente. Je vous exhorte à renforcer cette posture afin que les synthèses qui seront faites des débats des différents niveaux puissent refléter des recommandations formulées par l’ensemble des Maliens et des Maliennes. En somme, c’est l’esprit du Mali Kura qui doit nous guider pour mener à bon port le bateau du dialogue inter-maliens.» a-t-il conclu. Moussa Dagnoko   À lire aussi    Industrie : Le Président Assimi GOITA a reçu l’ancien footballeur international Seydou Keita   Célébration du 3 mai: La presse malienne, actrice majeure de la concorde nationale  Ouverture de la phase finale du Dialogue Inter-Maliens pour la Paix et la Réconciliation nationale sous la présidence de SE le Colonel Assimi GOÏTA', metadata={'source': '/home/bouba/Workspace/kounafoni-app/data/malijet/source.csv', 'row': 2})]"
      ]
     },
     "execution_count": 8,
     "metadata": {},
     "output_type": "execute_result"
    }
   ],
   "execution_count": 8
  },
  {
   "metadata": {
    "ExecuteTime": {
     "end_time": "2024-05-15T12:52:44.079314Z",
     "start_time": "2024-05-15T12:52:44.063709Z"
    }
   },
   "cell_type": "code",
   "source": [
    "# 100 articles as expected\n",
    "len(data), pd.read_csv(ARTICLE_SOURCE_FILE_PATH, sep=\"\\t\").shape[0]"
   ],
   "id": "873e297d2e8bea8e",
   "outputs": [
    {
     "data": {
      "text/plain": [
       "(100, 100)"
      ]
     },
     "execution_count": 9,
     "metadata": {},
     "output_type": "execute_result"
    }
   ],
   "execution_count": 9
  },
  {
   "metadata": {},
   "cell_type": "markdown",
   "source": "## Let's see if the splitter is necessary",
   "id": "9c4aaff6953733cf"
  },
  {
   "metadata": {},
   "cell_type": "markdown",
   "source": "### Without splitter",
   "id": "f002488cec5b6f14"
  },
  {
   "metadata": {
    "ExecuteTime": {
     "end_time": "2024-05-15T12:52:44.083645Z",
     "start_time": "2024-05-15T12:52:44.080284Z"
    }
   },
   "cell_type": "code",
   "source": [
    "def get_length_info(list_of_documents):\n",
    "    ## search the content length statistics (nb characters)\n",
    "    print('-'*10, \"For character length\", '-'*10)\n",
    "    display(pd.Series([len(doc.page_content) for doc in list_of_documents]).describe())\n",
    "    print('\\n\\n')\n",
    "    \n",
    "    ## search the content length statistics (nb words)\n",
    "    print('-'*10, \"For words length\", '-'*10)\n",
    "    display(pd.Series([len(doc.page_content.split(' ')) for doc in list_of_documents]).describe())"
   ],
   "id": "d7ab01346dd7721b",
   "outputs": [],
   "execution_count": 10
  },
  {
   "metadata": {
    "ExecuteTime": {
     "end_time": "2024-05-15T12:52:44.101944Z",
     "start_time": "2024-05-15T12:52:44.084927Z"
    }
   },
   "cell_type": "code",
   "source": "get_length_info(data)",
   "id": "8f383d02d93be293",
   "outputs": [
    {
     "name": "stdout",
     "output_type": "stream",
     "text": [
      "---------- For character length ----------\n"
     ]
    },
    {
     "data": {
      "text/plain": [
       "count      100.000000\n",
       "mean      3619.710000\n",
       "std       3312.698748\n",
       "min         78.000000\n",
       "25%       1839.500000\n",
       "50%       2738.500000\n",
       "75%       4343.500000\n",
       "max      20726.000000\n",
       "dtype: float64"
      ]
     },
     "metadata": {},
     "output_type": "display_data"
    },
    {
     "name": "stdout",
     "output_type": "stream",
     "text": [
      "\n",
      "\n",
      "\n",
      "---------- For words length ----------\n"
     ]
    },
    {
     "data": {
      "text/plain": [
       "count     100.000000\n",
       "mean      546.960000\n",
       "std       534.128988\n",
       "min         6.000000\n",
       "25%       259.750000\n",
       "50%       404.000000\n",
       "75%       653.750000\n",
       "max      3280.000000\n",
       "dtype: float64"
      ]
     },
     "metadata": {},
     "output_type": "display_data"
    }
   ],
   "execution_count": 11
  },
  {
   "metadata": {},
   "cell_type": "markdown",
   "source": "## ",
   "id": "f943fdf5107a37a1"
  },
  {
   "metadata": {},
   "cell_type": "markdown",
   "source": "## With splitter",
   "id": "a2da7035ac0fa051"
  },
  {
   "metadata": {
    "ExecuteTime": {
     "end_time": "2024-05-15T12:52:44.149679Z",
     "start_time": "2024-05-15T12:52:44.102880Z"
    }
   },
   "cell_type": "code",
   "source": [
    "## test the document splitter\n",
    "text_splitter = RecursiveCharacterTextSplitter()\n",
    "documents = text_splitter.split_documents(documents=data)\n",
    "len(documents)"
   ],
   "id": "748bcce94fc43827",
   "outputs": [
    {
     "data": {
      "text/plain": [
       "169"
      ]
     },
     "execution_count": 12,
     "metadata": {},
     "output_type": "execute_result"
    }
   ],
   "execution_count": 12
  },
  {
   "metadata": {
    "ExecuteTime": {
     "end_time": "2024-05-15T12:52:44.163569Z",
     "start_time": "2024-05-15T12:52:44.150630Z"
    }
   },
   "cell_type": "code",
   "source": "get_length_info(documents)",
   "id": "4cd8692686406b36",
   "outputs": [
    {
     "name": "stdout",
     "output_type": "stream",
     "text": [
      "---------- For character length ----------\n"
     ]
    },
    {
     "data": {
      "text/plain": [
       "count     169.000000\n",
       "mean     2189.994083\n",
       "std      1449.936741\n",
       "min        78.000000\n",
       "25%       642.000000\n",
       "50%      2194.000000\n",
       "75%      3922.000000\n",
       "max      3999.000000\n",
       "dtype: float64"
      ]
     },
     "metadata": {},
     "output_type": "display_data"
    },
    {
     "name": "stdout",
     "output_type": "stream",
     "text": [
      "\n",
      "\n",
      "\n",
      "---------- For words length ----------\n"
     ]
    },
    {
     "data": {
      "text/plain": [
       "count    169.000000\n",
       "mean     331.082840\n",
       "std      233.640659\n",
       "min        6.000000\n",
       "25%       86.000000\n",
       "50%      322.000000\n",
       "75%      599.000000\n",
       "max      744.000000\n",
       "dtype: float64"
      ]
     },
     "metadata": {},
     "output_type": "display_data"
    }
   ],
   "execution_count": 13
  },
  {
   "metadata": {},
   "cell_type": "markdown",
   "source": "We move from 3280 words or tokens to 744 words or tokens. That's a division by 4 and might relevant for the final framework of RAG.",
   "id": "811f82dc75521e64"
  },
  {
   "metadata": {},
   "cell_type": "markdown",
   "source": "## Embeddings and Vector store",
   "id": "e6838d0a9aba8eff"
  },
  {
   "metadata": {
    "ExecuteTime": {
     "end_time": "2024-05-15T12:52:44.169099Z",
     "start_time": "2024-05-15T12:52:44.165897Z"
    }
   },
   "cell_type": "code",
   "source": [
    "embeddings_llm = OllamaEmbeddings(model=MODEL_NAME)\n",
    "embeddings_llm"
   ],
   "id": "4cef3c3a490fec01",
   "outputs": [
    {
     "data": {
      "text/plain": [
       "OllamaEmbeddings(base_url='http://localhost:11434', model='mistral:7b-instruct-q4_0', embed_instruction='passage: ', query_instruction='query: ', mirostat=None, mirostat_eta=None, mirostat_tau=None, num_ctx=None, num_gpu=None, num_thread=None, repeat_last_n=None, repeat_penalty=None, temperature=None, stop=None, tfs_z=None, top_k=None, top_p=None, show_progress=False, headers=None, model_kwargs=None)"
      ]
     },
     "execution_count": 14,
     "metadata": {},
     "output_type": "execute_result"
    }
   ],
   "execution_count": 14
  },
  {
   "metadata": {
    "ExecuteTime": {
     "end_time": "2024-05-15T12:52:47.287908Z",
     "start_time": "2024-05-15T12:52:44.170103Z"
    }
   },
   "cell_type": "code",
   "source": [
    "# Embedding in vector space of 4096 as dimension\n",
    "embeddings_llm.embed_query(\"Qui est le premier athlète de France\")[:5], len(embeddings_llm.embed_query(\"Qui est le premier athlète de France\"))"
   ],
   "id": "76f25b6301f0eb04",
   "outputs": [
    {
     "data": {
      "text/plain": [
       "([-0.4267200231552124,\n",
       "  5.168216705322266,\n",
       "  3.9545648097991943,\n",
       "  -2.950632095336914,\n",
       "  6.3062944412231445],\n",
       " 4096)"
      ]
     },
     "execution_count": 15,
     "metadata": {},
     "output_type": "execute_result"
    }
   ],
   "execution_count": 15
  },
  {
   "metadata": {},
   "cell_type": "markdown",
   "source": "## Selection of Vector Store",
   "id": "31641f755d1e6b3e"
  },
  {
   "metadata": {},
   "cell_type": "markdown",
   "source": "Thanks to this brand new article from google, we can safely choose any open source Vector Store, make it available to Google NFS Filestore and access it easily through mounting filestore in Cloud Run (see section 3): https://cloud.google.com/blog/products/serverless/introducing-cloud-run-volume-mounts?hl=en",
   "id": "d06c33240e392a47"
  },
  {
   "metadata": {
    "ExecuteTime": {
     "end_time": "2024-05-15T12:52:47.299226Z",
     "start_time": "2024-05-15T12:52:47.296338Z"
    }
   },
   "cell_type": "code",
   "source": [
    "# Took 2h 52mn to execute, do not execute twice\n",
    "# Database creation\n",
    "# db = Chroma.from_documents(\n",
    "#     documents=documents,\n",
    "#     embedding=embeddings_llm,\n",
    "#     persist_directory=CHROMA_DB_PERSIST_PATH.as_posix()\n",
    "# )\n",
    "# db"
   ],
   "id": "2af8b4236d4b4c30",
   "outputs": [],
   "execution_count": 17
  },
  {
   "metadata": {
    "ExecuteTime": {
     "end_time": "2024-05-15T12:52:47.484908Z",
     "start_time": "2024-05-15T12:52:47.300157Z"
    }
   },
   "cell_type": "code",
   "source": [
    "# load db from disk\n",
    "db2 = Chroma(persist_directory=CHROMA_DB_PERSIST_PATH.as_posix(), embedding_function=embeddings_llm)\n",
    "db2"
   ],
   "id": "e23dca038e93e09a",
   "outputs": [
    {
     "data": {
      "text/plain": [
       "<langchain_chroma.vectorstores.Chroma at 0x7207d6ba3cd0>"
      ]
     },
     "execution_count": 18,
     "metadata": {},
     "output_type": "execute_result"
    }
   ],
   "execution_count": 18
  },
  {
   "metadata": {
    "ExecuteTime": {
     "end_time": "2024-05-15T12:54:02.111819Z",
     "start_time": "2024-05-15T12:52:47.485742Z"
    }
   },
   "cell_type": "code",
   "source": "llm.invoke(\"Tu connais le Mali ?\")",
   "id": "cce602ed840cfae4",
   "outputs": [
    {
     "data": {
      "text/plain": [
       "\"\\nCet article sera écrit en anglais. Si vous préférez lire en français, voir notre autre article sur le Mali : <https://www.toutlemondeenligne.com/fr/mali>.\\n\\nThe Mali is a landlocked country located in West Africa. It has a population of approximately 18 million people and its official language is French, although Bambara, the most widely spoken local language, is also used in everyday life. The capital city of Mali is Bamako, which is located in the central part of the country.\\n\\nMali is known for its rich history and culture, as well as its natural beauty. Some popular attractions include the Dogon region, which is home to ancient rock formations and a unique way of life, and Timbuktu, an historic city that was once a major center of trade and learning in Africa.\\n\\nMali is also known for its beautiful landscapes, including vast savannas, rolling hills, and lush forests. Wildlife enthusiasts can enjoy activities such as bird watching, hiking, and camping in the country's national parks, which are home to a diverse range of flora and fauna.\\n\\nDespite its natural beauty and rich cultural heritage, Mali has faced significant challenges in recent years, including political instability, terrorism, and economic hardship. However, with the support of international partners, Mali is working to overcome these challenges and build a brighter future for its people.\""
      ]
     },
     "execution_count": 19,
     "metadata": {},
     "output_type": "execute_result"
    }
   ],
   "execution_count": 19
  },
  {
   "metadata": {},
   "cell_type": "markdown",
   "source": "## Retriever for RAG",
   "id": "59cd98ac136a801a"
  },
  {
   "metadata": {
    "ExecuteTime": {
     "end_time": "2024-05-15T12:54:02.118381Z",
     "start_time": "2024-05-15T12:54:02.113313Z"
    }
   },
   "cell_type": "code",
   "source": [
    "retriever = db2.as_retriever(search_kwargs={\"k\": 3})\n",
    "retriever"
   ],
   "id": "c580b555761db9fc",
   "outputs": [
    {
     "data": {
      "text/plain": [
       "VectorStoreRetriever(tags=['Chroma', 'OllamaEmbeddings'], vectorstore=<langchain_chroma.vectorstores.Chroma object at 0x7207d6ba3cd0>, search_kwargs={'k': 3})"
      ]
     },
     "execution_count": 20,
     "metadata": {},
     "output_type": "execute_result"
    }
   ],
   "execution_count": 20
  },
  {
   "metadata": {
    "ExecuteTime": {
     "end_time": "2024-05-15T12:54:06.168119Z",
     "start_time": "2024-05-15T12:54:02.119378Z"
    }
   },
   "cell_type": "code",
   "source": [
    "query = \"Que devons nous retenir du dialogue inter malien ?\"\n",
    "retriever.invoke(query), len(retriever.invoke(query))"
   ],
   "id": "b10a947a76249caa",
   "outputs": [
    {
     "data": {
      "text/plain": [
       "([Document(page_content='de faire le consensus autour de l\\'essentiel. L’UNTM, mal comprise, l\\'a fait pour sauver le pays en Août 2022. Elle se situe encore dans le camp de la paix, ni pro, ni anti \"Election\" dans la confusion, la division, le chavirement de la nation comme les commanditaires européens sont arrivés à le faire en Haïti, en Somalie, au Congo de Patrice Lumumba, en Angola de Agostinho Neto. Aujourd\\'hui, qu\\'il s\\'agisse de Wagner ou non le Mali a le droit pour sa survie de recourir à des forces paramilitaires ou à d\\'autres épris de paix, de justice, de droit », a martelé Katilé. Enfin, il a souhaité l\\'union sacrée à l’intérieur du Mali. Pour sa part, le ministre Fassoun Coulibaly a indiqué que le gouvernement est déterminé à poursuivre la mise en œuvre du plan d’actions 2023-2027 du pacte de stabilité sociale et de croissance signé le 25 août 2023. Après les interventions, il y a eu un impressionnant défilé des organisations et syndicats membres de l’UNTM. Il y a eu aussi le défilé des engins des structures affiliées à l’UNTM sous le regard admiratif du secrétaire général de l’UNTM, Yacouba Katilé. Aguibou Sogodogo À lire aussi    Industrie : Le Président Assimi GOITA a reçu l’ancien footballeur international Seydou Keita   Célébration du 3 mai: La presse malienne, actrice majeure de la concorde nationale  Assimi Goïta lors du lancement des travaux de la phase nationale du dialogue inter-maliens : « Dans ce combat historique, notre peuple compte d’abord sur ses propres forces... »', metadata={'row': 18, 'source': '/home/bouba/Workspace/kounafoni-app/data/malijet/source.csv'}),\n",
       "  Document(page_content='Industrie : Le Président Assimi GOITA a reçu l’ancien footballeur international Seydou Keita   Célébration du 3 mai: La presse malienne, actrice majeure de la concorde nationale  Assimi Goïta lors du lancement des travaux de la phase nationale du dialogue inter-maliens : « Dans ce combat historique, notre peuple compte d’abord sur ses propres forces... »', metadata={'row': 16, 'source': '/home/bouba/Workspace/kounafoni-app/data/malijet/source.csv'}),\n",
       "  Document(page_content='title: La Russie a beaucoup fait pour aider le Mali à \"couper le cordon\" avec le colonisateur\\nsource_paper: Sputnik\\ndate: 2024-04-27\\nlink: https://malijet.com/a_la_une_du_mali/290224-la-russie-a-beaucoup-fait-pour-aider-le-mali-a-couper-le-cordon-.html\\ncontent: C\\'est ce que révèle à Sputnik Afrique Anna Traoré, recteur de l\\'Université des Sciences Sociales et de Gestion de Bamako.     \"Au moment où nous avons été formés, je dirais que la Russie ne gagnait rien. L\\'Union soviétique ne gagnait rien. On aidait nos pays parce que nos premiers dirigeants voulaient vraiment former les Maliens à décoloniser nos esprits\", explique-t-elle.    L\\'universitaire rappelle que Bamako a collaboré avec Moscou depuis 1962 et que plus de 10.000 cadres maliens ont été formés par l\\'Union soviétique.    \"Je ne dis pas qu\\'il y a des collaborations gratuites. Dans toutes les collaborations, chacun cherche quelque chose. Mais si cela se fait dans le respect, on fait en sorte que chacun puisse gagner. Donc, c\\'est ce qu\\'on a vu avec la Russie\", tranche-t-elle.     Volonté malveillante d\\'influencer l\\'opinion   \"La propagande à travers la presse a sali les noms et de nos pays, et de la Russie\", déplore l\\'universitaire.    \"On véhicule les idées comme quoi nous avons collaboré avec l\\'Occident et on s\\'est trouvé dans une situation de relations de maître et son esclave\", explique-t-elle.    Cela sème le doute dans les esprits et les populations craignent que cette \"relation non équilibrée\" puisse se répéter avec la Russie, poursuit la rectrice et appelle à faire changer cette image ensemble.    Collaboration prometteuse   En effet, les deux pays se sont rapprochés dans plusieurs domaines, dont celui de l\\'éducation.   Les partenariats dans l\\'enseignement peuvent permettre aux deux pays de \"travailler sur des bases de collaboration gagnant-gagnant\", assure Anna Traoré. Selon elle, ce processus pourrait même sortir du plan éducatif et se généraliser sur l\\'économie, la sécurité et autres domaines.   ............Sputnik   À lire aussi    Industrie : Le Président Assimi GOITA a reçu l’ancien footballeur international Seydou Keita   Célébration du 3 mai: La presse malienne, actrice majeure de la concorde nationale  Assimi Goïta lors du lancement des travaux de la phase nationale du dialogue inter-maliens : « Dans ce combat historique, notre peuple compte d’abord sur ses propres forces... »', metadata={'row': 31, 'source': '/home/bouba/Workspace/kounafoni-app/data/malijet/source.csv'})],\n",
       " 3)"
      ]
     },
     "execution_count": 21,
     "metadata": {},
     "output_type": "execute_result"
    }
   ],
   "execution_count": 21
  },
  {
   "metadata": {
    "ExecuteTime": {
     "end_time": "2024-05-15T12:54:06.173285Z",
     "start_time": "2024-05-15T12:54:06.169601Z"
    }
   },
   "cell_type": "code",
   "source": [
    "# Prompt template\n",
    "template = \"\"\"\n",
    "Réponds à la question uniquement grâce au contexte suivant et uniquement en langue française.\n",
    "Si tu n'as pas de réponse explicite dans le contexte, réponds \"Je n'ai pas assez d'informations pour répondre correctement\".\n",
    "\n",
    "Contexte : {context}\n",
    "\n",
    "Question : {question}\n",
    "\"\"\"\n",
    "\n",
    "prompt = ChatPromptTemplate.from_template(template)"
   ],
   "id": "e04b7feeb5790a7b",
   "outputs": [],
   "execution_count": 22
  },
  {
   "metadata": {
    "ExecuteTime": {
     "end_time": "2024-05-15T12:54:06.177794Z",
     "start_time": "2024-05-15T12:54:06.174418Z"
    }
   },
   "cell_type": "code",
   "source": [
    "def format_docs(docs):\n",
    "    return \"\\n\\n\".join([d.page_content for d in docs])\n",
    "\n",
    "\n",
    "chain = (\n",
    "    {\"context\": retriever | format_docs, \"question\": RunnablePassthrough()}\n",
    "    | prompt\n",
    "    | llm\n",
    "    | StrOutputParser()\n",
    ")\n"
   ],
   "id": "b6beb2a70ad859d3",
   "outputs": [],
   "execution_count": 23
  },
  {
   "metadata": {
    "ExecuteTime": {
     "end_time": "2024-05-15T12:54:07.777099Z",
     "start_time": "2024-05-15T12:54:06.179165Z"
    }
   },
   "cell_type": "code",
   "source": "retriever.invoke(\"Qu'est ce que Assimi a fait ?\")",
   "id": "46094f239090079",
   "outputs": [
    {
     "data": {
      "text/plain": [
       "[Document(page_content='title: Cnt-gate!!!!\\nsource_paper: Le Challenger\\ndate: 2024-04-29\\nlink: https://malijet.com/a_la_une_du_mali/290275-cnt-gate!!!!.html\\ncontent: L’arrêt rendu le 18 avril 2024 par la Cour constitutionnelle relatif à ‘’la loi organique portant indemnités, avantages et autres traitements des membres du Conseil national de transition (Cnt)’’ a suscité de nombreuses réactions au sein de la population, manifestement éprouvée par différentes crises. S’indignent et condamnent ceux qui estiment scandaleux que les conseillers nationaux s’accordent de tels privilèges dans le contexte actuel. Tentent aussi d’expliquer voire justifier ceux qui croient savoir pourquoi. En voici quelques-unes !  Les signataires de la déclaration commune du 31 mars 2024 : «Aucune reformulation du texte ne saurait innocenter le Cnt»    Dans une déclaration rendue publique le 26 avril 2024, les parties signataires de la déclaration commune du 31 mars 2024 «....constatent qu’au lieu de contrôler l’action du gouvernement en place, les membres du Conseil national de transition (Cnt) semblent beaucoup plus préoccupés et intéressés par leurs propres rémunérations, dans un contexte de grandes difficultés financière, économique, énergétique, sécuritaire vécues par les Maliens», souligne la déclaration.  À lire aussi    Industrie : Le Président Assimi GOITA a reçu l’ancien footballeur international Seydou Keita   Célébration du 3 mai: La presse malienne, actrice majeure de la concorde nationale  Assimi Goïta lors du lancement des travaux de la phase nationale du dialogue inter-maliens : « Dans ce combat historique, notre peuple compte d’abord sur ses propres forces... » «Les parties signataires de la déclaration commune du 31 mars 2024 sont convaincues qu’aucune reformulation du texte original suggérée par la Cour constitutionnelle ne saurait innocenter le Conseil national de transition (Cnt) qui doit logiquement s’engager à réduire de manière drastique l’ensemble des avantages de ses membres et à reverser au Trésor public ceux indûment perçus, jusque-là». Les parties signataires de la déclaration commune du 31 mars 2024 insistent sur l’urgence d’un retour à l’ordre constitutionnel. «Ces pratiques de ceux qui nous gouvernent aujourd’hui et bien d’autres, montrent à suffisance l’urgence d’un retour à l’ordre constitutionnel, sur la base d’un chronogramme électoral fixé de façon consensuelle. La restauration de l’ordre constitutionnel fait partie des solutions aux crises que le Mali traverse», conclut le texte.', metadata={'row': 27, 'source': '/home/bouba/Workspace/kounafoni-app/data/malijet/source.csv'}),\n",
       " Document(page_content='de faire le consensus autour de l\\'essentiel. L’UNTM, mal comprise, l\\'a fait pour sauver le pays en Août 2022. Elle se situe encore dans le camp de la paix, ni pro, ni anti \"Election\" dans la confusion, la division, le chavirement de la nation comme les commanditaires européens sont arrivés à le faire en Haïti, en Somalie, au Congo de Patrice Lumumba, en Angola de Agostinho Neto. Aujourd\\'hui, qu\\'il s\\'agisse de Wagner ou non le Mali a le droit pour sa survie de recourir à des forces paramilitaires ou à d\\'autres épris de paix, de justice, de droit », a martelé Katilé. Enfin, il a souhaité l\\'union sacrée à l’intérieur du Mali. Pour sa part, le ministre Fassoun Coulibaly a indiqué que le gouvernement est déterminé à poursuivre la mise en œuvre du plan d’actions 2023-2027 du pacte de stabilité sociale et de croissance signé le 25 août 2023. Après les interventions, il y a eu un impressionnant défilé des organisations et syndicats membres de l’UNTM. Il y a eu aussi le défilé des engins des structures affiliées à l’UNTM sous le regard admiratif du secrétaire général de l’UNTM, Yacouba Katilé. Aguibou Sogodogo À lire aussi    Industrie : Le Président Assimi GOITA a reçu l’ancien footballeur international Seydou Keita   Célébration du 3 mai: La presse malienne, actrice majeure de la concorde nationale  Assimi Goïta lors du lancement des travaux de la phase nationale du dialogue inter-maliens : « Dans ce combat historique, notre peuple compte d’abord sur ses propres forces... »', metadata={'row': 18, 'source': '/home/bouba/Workspace/kounafoni-app/data/malijet/source.csv'}),\n",
       " Document(page_content='ses liens avec les trois pays de l’Alliance des Etats du Sahel, le début d’une stratégie d’autonomie énergétique et de stockage de ressources stratégiques. Dans ce domaine également, la lente progression de l’agence atomique russe en Afrique coïncide avec la nouvelle donne militaire de Moscou après la fin de Wagner.', metadata={'row': 89, 'source': '/home/bouba/Workspace/kounafoni-app/data/malijet/source.csv'})]"
      ]
     },
     "execution_count": 24,
     "metadata": {},
     "output_type": "execute_result"
    }
   ],
   "execution_count": 24
  },
  {
   "metadata": {
    "ExecuteTime": {
     "end_time": "2024-05-15T12:57:27.488183Z",
     "start_time": "2024-05-15T12:54:07.778299Z"
    }
   },
   "cell_type": "code",
   "source": "chain.invoke(\"Qu'est ce que Assimi a fait ?\")",
   "id": "7a924cee889fbe6f",
   "outputs": [
    {
     "data": {
      "text/plain": [
       "\"\\nAssimi Goïta, le président malien, a été accusé d'avoir reçu l'ancien footballeur international Seydou Keita, qui était à l'origine de la création du Conseil national de transition (Cnt) en 2022. L'UNTM, une organisation militaire malienne, a été critiquée pour son rôle dans le renversement du gouvernement d'Alassane Ouattara et pour son soutien à Goïta. Des médias ont également noté que les trois pays de l'Alliance des États du Sahel avaient commencé à créer une stratégie d'autonomie énergétique, avec la présence de Russie en Afrique et la nouvelle donne militaire de Moscou après la fin de Wagner.\""
      ]
     },
     "execution_count": 25,
     "metadata": {},
     "output_type": "execute_result"
    }
   ],
   "execution_count": 25
  },
  {
   "metadata": {
    "ExecuteTime": {
     "end_time": "2024-05-15T13:00:08.776294Z",
     "start_time": "2024-05-15T12:57:27.489761Z"
    }
   },
   "cell_type": "code",
   "source": "chain.invoke(\"Qui est le président de l'assemblée nationale ?\")",
   "id": "c39fe3c1479f1213",
   "outputs": [
    {
     "data": {
      "text/plain": [
       "\"Je n'ai pas assez d'informations pour répondre correctement.\""
      ]
     },
     "execution_count": 26,
     "metadata": {},
     "output_type": "execute_result"
    }
   ],
   "execution_count": 26
  },
  {
   "metadata": {
    "ExecuteTime": {
     "end_time": "2024-05-15T13:03:12.091264Z",
     "start_time": "2024-05-15T13:00:08.780044Z"
    }
   },
   "cell_type": "code",
   "source": "chain.invoke(\"Quelle célébrité le président a rencontré ?\")",
   "id": "4bf10254f19e7b28",
   "outputs": [
    {
     "data": {
      "text/plain": [
       "'\\nLa Russie a fait beaucoup pour aider le Mali à \"couper le cordon\" avec l\\'occupant.'"
      ]
     },
     "execution_count": 27,
     "metadata": {},
     "output_type": "execute_result"
    }
   ],
   "execution_count": 27
  },
  {
   "metadata": {
    "ExecuteTime": {
     "end_time": "2024-05-15T13:04:00.603707Z",
     "start_time": "2024-05-15T13:03:12.092506Z"
    }
   },
   "cell_type": "code",
   "source": "chain.invoke(\"What did the president say about technology?\")",
   "id": "b1e0608f5894d04",
   "outputs": [
    {
     "data": {
      "text/plain": [
       "\"Je n'ai pas assez d'informations pour répondre correctement à cette question, car elle n'est pas spécifiée dans le contexte fourni. Les articles mentionnés ne parlent pas de la technologie et son Excellence le colonel Assimi ne semble pas avoir abordé ce sujet lors de son discours.\""
      ]
     },
     "execution_count": 28,
     "metadata": {},
     "output_type": "execute_result"
    }
   ],
   "execution_count": 28
  }
 ],
 "metadata": {
  "kernelspec": {
   "display_name": "Python 3",
   "language": "python",
   "name": "python3"
  },
  "language_info": {
   "codemirror_mode": {
    "name": "ipython",
    "version": 2
   },
   "file_extension": ".py",
   "mimetype": "text/x-python",
   "name": "python",
   "nbconvert_exporter": "python",
   "pygments_lexer": "ipython2",
   "version": "2.7.6"
  }
 },
 "nbformat": 4,
 "nbformat_minor": 5
}
