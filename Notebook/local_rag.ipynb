{
 "cells": [
  {
   "metadata": {},
   "cell_type": "markdown",
   "source": [
    "    - Ollama -> See : https://ollama.com/download\n",
    "  - For linux users :\n",
    "    \n",
    "    For this tutorial, run these instructions\n",
    "    - Install Ollama : `curl -fsSL https://ollama.com/install.sh | sh`\n",
    "    - Pull required models : \n",
    "        - `ollama pull mayflowergmbh/occiglot-7b-fr-en-instruct` #french llm model\n",
    "        - `ollama pull sammcj/sfr-embedding-mistral:Q4_K_M` # decent embedding for this use case\n",
    "    \n",
    "    -------------------------------------------------------------------------------\n",
    "  \n",
    "    Additional informations about Ollama\n",
    "    - To remove Ollama : https://github.com/ollama/ollama/blob/main/docs/linux.md\n",
    "    - To stop ollama server : `systemctl stop ollama`\n",
    "    - To restart server : `systemctl start ollama`\n",
    "    \n",
    "    -------------------------------------------------------------------------------\n",
    "    Due to issues from Ollama's latest versions in weights update, we might want to install older versions of Ollama.\n",
    "    To install **v.0.1.31** on Linux:\n",
    "      - `curl -fsSL https://ollama.com/install.sh | sed 's#https://ollama.com/download/ollama-linux-${ARCH}${VER_PARAM}#https://github.com/ollama/ollama/releases/download/v0.1.31/ollama-linux-amd64#' | sh`\n",
    "            \n",
    "- Next steps\n",
    "    - Add source for response provided by the chatbot (e.g., source: from 'Le Challenger' via 'Malijet'. To know more, here are some useful links: links...)\n",
    "    - Improve model response (accuracy and precision)\n"
   ],
   "id": "1b3ffc25e5487cf2"
  },
  {
   "cell_type": "code",
   "id": "initial_id",
   "metadata": {
    "collapsed": true,
    "ExecuteTime": {
     "end_time": "2024-09-23T06:57:10.466741Z",
     "start_time": "2024-09-23T06:57:09.785018Z"
    }
   },
   "source": [
    "from pathlib import Path\n",
    "import os\n",
    "import uuid\n",
    "import pandas as pd\n",
    "from langchain_community.llms import Ollama\n",
    "from langchain_core.output_parsers import StrOutputParser\n",
    "from langchain.document_loaders.csv_loader import CSVLoader\n",
    "from langchain_community.document_loaders import DirectoryLoader\n",
    "from langchain_text_splitters import RecursiveCharacterTextSplitter\n",
    "from langchain.embeddings import OllamaEmbeddings\n",
    "from langchain_core.prompts import ChatPromptTemplate\n",
    "from langchain_core.runnables import RunnablePassthrough\n",
    "from langchain.vectorstores.chroma import Chroma\n",
    "from langchain_groq import ChatGroq\n",
    "# from langchain_community.vectorstores import DocArrayInMemorySearch\n",
    "# from langchain_openai.embeddings import OpenAIEmbeddings"
   ],
   "outputs": [],
   "execution_count": 3
  },
  {
   "metadata": {
    "ExecuteTime": {
     "end_time": "2024-09-23T08:13:58.010777Z",
     "start_time": "2024-09-23T08:13:58.007662Z"
    }
   },
   "cell_type": "code",
   "source": [
    "%env OPENAI_API_KEY=sk-xxx\n",
    "%env GROQ_API_KEY=gsk_xxx"
   ],
   "id": "fa0970cb82d4cc0e",
   "outputs": [
    {
     "name": "stdout",
     "output_type": "stream",
     "text": [
      "env: OPENAI_API_KEY=sk-xxx\n",
      "env: GROQ_API_KEY=gsk_xxx\n"
     ]
    }
   ],
   "execution_count": 79
  },
  {
   "metadata": {
    "ExecuteTime": {
     "end_time": "2024-07-21T20:05:32.758787Z",
     "start_time": "2024-07-21T20:05:30.106741Z"
    }
   },
   "cell_type": "code",
   "source": [
    "chat = ChatGroq(\n",
    "    temperature=0,\n",
    "    model=\"llama3-70b-8192\",\n",
    "    # api_key=\"\" # Optional if not set as an environment variable\n",
    ")\n",
    "\n",
    "system = \"You are a helpful assistant.\"\n",
    "human = \"{text}\"\n",
    "prompt = ChatPromptTemplate.from_messages([(\"system\", system), (\"human\", human)])\n",
    "\n",
    "chain = prompt | chat\n",
    "chain.invoke({\"text\": \"Explain the importance of low latency for LLMs.\"})"
   ],
   "id": "8d986d45a4e36c0a",
   "outputs": [
    {
     "data": {
      "text/plain": [
       "AIMessage(content=\"Low latency is crucial for Large Language Models (LLMs) because it directly impacts the user experience, model performance, and overall efficiency of language-based applications. Here are some reasons why low latency is essential for LLMs:\\n\\n1. **Real-time Interaction**: LLMs are often used in applications that require real-time interaction, such as chatbots, virtual assistants, and language translation systems. Low latency ensures that the model responds quickly to user input, providing a seamless and engaging experience.\\n2. **Conversational Flow**: In conversational AI, latency can disrupt the natural flow of conversation. High latency can lead to awkward pauses, making the interaction feel unnatural and frustrating. Low latency helps maintain a smooth conversation, allowing users to engage more naturally with the model.\\n3. **Model Performance**: LLMs rely on complex algorithms and massive datasets to generate responses. High latency can lead to increased computational overhead, which can negatively impact model performance, accuracy, and reliability. Low latency enables the model to process requests efficiently, reducing the risk of errors and inaccuracies.\\n4. **Scalability**: As the number of users and requests increases, high latency can become a bottleneck, limiting the scalability of LLM-based applications. Low latency enables the model to handle a higher volume of requests, making it more suitable for large-scale deployments.\\n5. **User Experience**: High latency can lead to user frustration, abandonment, and a negative overall experience. Low latency ensures that users receive prompt responses, which is essential for building trust, satisfaction, and loyalty.\\n6. **Competitive Advantage**: In today's fast-paced digital landscape, low latency can be a key differentiator for LLM-based applications. By providing rapid responses, developers can gain a competitive edge, attract more users, and establish a strong market presence.\\n7. **Edge Computing**: With the increasing adoption of edge computing, low latency becomes even more critical. Edge computing involves processing data closer to the user, reducing latency and improving real-time performance. LLMs optimized for low latency can take full advantage of edge computing benefits.\\n8. **Safety-Critical Applications**: In safety-critical applications, such as autonomous vehicles or medical diagnosis, high latency can have severe consequences. Low latency ensures that critical information is processed and responded to quickly, reducing the risk of accidents or misdiagnosis.\\n9. **Cost Savings**: High latency can result in increased infrastructure costs, as more resources are required to handle the additional computational overhead. Low latency enables developers to optimize their infrastructure, reducing costs and improving overall efficiency.\\n10. **Future-Proofing**: As LLMs continue to evolve and become more sophisticated, low latency will become even more essential. By optimizing for low latency today, developers can future-proof their applications, ensuring they remain competitive and effective in the years to come.\\n\\nIn summary, low latency is vital for LLMs because it enables real-time interaction, conversational flow, model performance, scalability, user experience, competitive advantage, edge computing, safety-critical applications, cost savings, and future-proofing. By prioritizing low latency, developers can create more efficient, effective, and user-friendly language-based applications.\", response_metadata={'token_usage': {'completion_tokens': 638, 'prompt_tokens': 33, 'total_tokens': 671, 'completion_time': 1.941439839, 'prompt_time': 0.007633545, 'queue_time': None, 'total_time': 1.949073384}, 'model_name': 'llama3-70b-8192', 'system_fingerprint': 'fp_87cbfbbc4d', 'finish_reason': 'stop', 'logprobs': None}, id='run-bb11cd61-7b9c-40ea-9d6a-cca0b0c3ddbc-0', usage_metadata={'input_tokens': 33, 'output_tokens': 638, 'total_tokens': 671})"
      ]
     },
     "execution_count": 4,
     "metadata": {},
     "output_type": "execute_result"
    }
   ],
   "execution_count": 4
  },
  {
   "metadata": {
    "ExecuteTime": {
     "end_time": "2024-09-23T07:36:26.786855Z",
     "start_time": "2024-09-23T07:36:26.783954Z"
    }
   },
   "cell_type": "code",
   "source": [
    "# ARTICLE_SOURCE_FILE_PATH = Path().resolve().parent /\"data\" / \"malijet\" / \"source.csv\"\n",
    "CHROMA_DB_PERSIST_PATH = Path().resolve().parent / \"data\" / \"new_chroma_db_1024\"\n",
    "MODEL_NAME = \"mayflowergmbh/occiglot-7b-fr-en-instruct\"\n",
    "# MODEL_NAME = \"falcon2:11b-q4_0\""
   ],
   "id": "1e5d62f9058c6a59",
   "outputs": [],
   "execution_count": 34
  },
  {
   "metadata": {
    "ExecuteTime": {
     "end_time": "2024-08-10T09:09:48.210277Z",
     "start_time": "2024-08-10T09:09:48.206578Z"
    }
   },
   "cell_type": "code",
   "source": [
    "# get nb cpu\n",
    "os.cpu_count()"
   ],
   "id": "5fc57ddc9742470d",
   "outputs": [
    {
     "data": {
      "text/plain": [
       "16"
      ]
     },
     "execution_count": 4,
     "metadata": {},
     "output_type": "execute_result"
    }
   ],
   "execution_count": 4
  },
  {
   "metadata": {
    "ExecuteTime": {
     "end_time": "2024-08-10T09:09:48.804771Z",
     "start_time": "2024-08-10T09:09:48.798810Z"
    }
   },
   "cell_type": "code",
   "source": [
    "system_role = \"Tu es un expert sur les actualités du Mali et tu parles uniquement français (spécialisé en langue française).\"\n",
    "llm = Ollama(\n",
    "    model=MODEL_NAME, \n",
    "    system=system_role, \n",
    "    # num_thread=os.cpu_count()-6\n",
    ")\n",
    "llm"
   ],
   "id": "609b90e8d6c8fa64",
   "outputs": [
    {
     "data": {
      "text/plain": [
       "Ollama(model='mayflowergmbh/occiglot-7b-fr-en-instruct', system='Tu es un expert sur les actualités du Mali et tu parles uniquement français (spécialisé en langue française).')"
      ]
     },
     "execution_count": 5,
     "metadata": {},
     "output_type": "execute_result"
    }
   ],
   "execution_count": 5
  },
  {
   "metadata": {},
   "cell_type": "markdown",
   "source": "## Testing Simple LLM discussion",
   "id": "79883c6433748c08"
  },
  {
   "metadata": {
    "ExecuteTime": {
     "end_time": "2024-06-03T02:25:24.385615Z",
     "start_time": "2024-06-03T02:24:55.260408Z"
    }
   },
   "cell_type": "code",
   "source": "llm.invoke(\"Cite moi les noms des présidents du Mali.\")",
   "id": "3c93a18536ce0ae5",
   "outputs": [
    {
     "data": {
      "text/plain": [
       "'Les noms des présidents du Mali sont Amadou Toumani Touré, Dioncounda Traoré, Ibrahim Boubacar Keïta et Assimi Goita.\\n'"
      ]
     },
     "execution_count": 12,
     "metadata": {},
     "output_type": "execute_result"
    }
   ],
   "execution_count": 12
  },
  {
   "metadata": {
    "ExecuteTime": {
     "end_time": "2024-06-03T02:26:05.197461Z",
     "start_time": "2024-06-03T02:25:24.387291Z"
    }
   },
   "cell_type": "code",
   "source": "llm.invoke(\"Quelle est la plus grande crise que la Mali a connue ?\")",
   "id": "7a2a5487f0d95608",
   "outputs": [
    {
     "data": {
      "text/plain": [
       "\"La crise la plus grave que le Mali ait connue est sans doute la guerre civile de 2012. Cette conflit a opposé les forces gouvernementales aux rebelles touaregs et à l'Armée malienne pour la libération de l'Azawad (AMAL). La guerre civile a fait des milliers de morts et a provoqué une crise humanitaire majeure dans le pays.\\n\""
      ]
     },
     "execution_count": 13,
     "metadata": {},
     "output_type": "execute_result"
    }
   ],
   "execution_count": 13
  },
  {
   "metadata": {
    "ExecuteTime": {
     "end_time": "2024-06-03T02:26:26.016528Z",
     "start_time": "2024-06-03T02:26:05.198524Z"
    }
   },
   "cell_type": "code",
   "source": "llm.invoke(\"Who is the most popular scientist in the world?\")",
   "id": "abbaf94d1945f818",
   "outputs": [
    {
     "data": {
      "text/plain": [
       "'Je ne suis pas capable de répondre à cette question. Je peux vous donner des informations sur les scientifiques célèbres, mais je ne peux pas dire qui est le plus populaire dans le monde entier.'"
      ]
     },
     "execution_count": 14,
     "metadata": {},
     "output_type": "execute_result"
    }
   ],
   "execution_count": 14
  },
  {
   "metadata": {},
   "cell_type": "markdown",
   "source": "## 2. Build RAG with CSV file",
   "id": "72e4efb57cc1c09b"
  },
  {
   "metadata": {
    "ExecuteTime": {
     "end_time": "2024-09-23T01:38:33.150488Z",
     "start_time": "2024-09-23T01:38:32.695341Z"
    }
   },
   "cell_type": "code",
   "source": "from langchain_core.documents import Document",
   "id": "528b2a3e4694d010",
   "outputs": [],
   "execution_count": 1
  },
  {
   "metadata": {
    "ExecuteTime": {
     "end_time": "2024-09-23T07:18:32.253587Z",
     "start_time": "2024-09-23T07:18:32.244583Z"
    }
   },
   "cell_type": "code",
   "source": [
    "# loader = CSVLoader(\n",
    "#     file_path=ARTICLE_SOURCE_FILE_PATH,\n",
    "#     csv_args={\n",
    "#         \"delimiter\": \"\\t\"\n",
    "#     }\n",
    "# )\n",
    "\n",
    "loader = DirectoryLoader(\"../data/articles\", glob=\"**/*.csv\", loader_cls=CSVLoader, \n",
    "                         loader_kwargs={\n",
    "                             \"csv_args\" : {\"delimiter\": \"\\t\",\n",
    "                                           },\n",
    "                             \"metadata_columns\": [\"title\", \"source_paper\", \"date\", \"link\"]\n",
    "                         })\n",
    "# load documents\n",
    "data = loader.load()\n",
    "data[:3] # three first documents"
   ],
   "id": "e79a45440193a7cb",
   "outputs": [
    {
     "data": {
      "text/plain": [
       "[Document(metadata={'source': '../data/articles/malijet/2024/08/21.csv', 'row': 0, 'title': 'Coopération Mali-Niger : Une délégation ministérielle séjourne à Niamey', 'source_paper': 'Malijet ', 'date': '2024-08-21', 'link': 'https://malijet.com/a_la_une_du_mali/294034-cooperation-mali-niger--une-delegation-ministerielle-sejourne-a-.html'}, page_content=\"content: Une délégation importante du gouvernement malien, dirigée par le ministre de la Justice et des Droits de l’Homme, garde des Sceaux, Mamadou Kassogué, s'est rendue à Niamey, au Niger, pour étudier les méthodes nigériennes dans la lutte contre l'extrémisme violent, notamment la réinsertion des ex-combattants. Cette initiative vise à trouver une solution durable et efficace pour résoudre un problème capital auquel le Mali est confronté. La délégation malienne a eu des entretiens avec le ministre d'État, ministre de l'Intérieur, de la Sécurité publique et de l'Administration territoriale du Niger, le général de brigade Mohamed Toumba. Les discussions ont porté sur divers sujets, incluant les mécanismes de désarmement, de démobilisation et de réintégration (DDR), ainsi que le rôle crucial des autorités traditionnelles dans ce processus. Le voyage d'études de la délégation malienne s'inscrit également dans le cadre de la réunion préparatoire des experts, présidée par le Conseiller spécial du président de la transition malienne, M. Boya Dembélé. Cette réunion vise à approfondir les échanges sur les stratégies et les meilleures pratiques pour renforcer la paix et la sécurité dans la région.   Kandana/Malijet.com\"),\n",
       " Document(metadata={'source': '../data/articles/malijet/2024/08/21.csv', 'row': 1, 'title': 'Digitalisation de l’Administration: La DGCCC en première ligne pour concrétiser la vision du Président de la transition', 'source_paper': 'Le Nouveau Réveil', 'date': '2024-08-21', 'link': 'https://malijet.com/a_la_une_du_mali/294008-digitalisation-de-l’administration-la-dgccc-en-premiere-ligne-po.html'}, page_content='content: Le lundi 12 août 2024, la Direction Générale du Commerce, de la Consommation et de la Concurrence (DGCCC) a accueilli le Ministre de l’Industrie et du Commerce, M. Moussa Alassane Diallo, pour une visite riche en enseignements. À cette occasion, le Ministre a salué les progrès remarquables réalisés par cette entité dans le processus de digitalisation, un pilier essentiel pour la modernisation de l\\'administration malienne.  Conformément aux directives des plus hautes autorités de la transition, avec à leur tête, le Colonel Assimi Goïta, Président de la Transition, le Mali avance résolument vers la digitalisation de ses services publics. La DGCCC, sous la houlette de son Directeur Général, M. Zedion Dembélé, incarne cette volonté de transformation en s\\'engageant pleinement dans cette révolution numérique. L’objectif est clair : rendre l\\'administration plus transparente, plus efficace, tout en assurant une régulation optimale du commerce, une protection accrue des consommateurs, et une concurrence équitable sur le marché national. Le Ministre Diallo, impressionné par les avancées réalisées, n’a pas manqué de souligner l\\'importance de cette digitalisation pour l\\'avenir du Mali. \"Ces progrès illustrent la détermination du gouvernement à instaurer une administration moderne, dynamique et adaptée aux exigences du développement\", a-t-il déclaré avec enthousiasme.   Cette visite a également permis d\\'échanger de manière constructive avec les cadres de la DGCCC. Ainsi, M. Diallo a chaleureusement félicité l’ensemble du personnel pour son engagement indéfectible, tout en les encourageant à continuer sur cette lancée pour faire de la DGCCC un modèle d\\'innovation administrative. En ligne avec la vision des autorités de la transition, la digitalisation de l’administration constitue un défi majeur pour le Mali. La DGCCC, par ses actions audacieuses, montre qu\\'elle est à la hauteur de ce défi et qu’elle est prête à jouer un rôle de premier plan dans la modernisation de l’État, suivant ainsi les aspirations du Colonel Goïta et de son gouvernement. Adama Coulibaly'),\n",
       " Document(metadata={'source': '../data/articles/malijet/2024/08/21.csv', 'row': 2, 'title': \"Classement 2024 des puissances militaires africaines: Le Mali supplante ses alliés de l'AES et se positionne derrière la Côte d'Ivoire\", 'source_paper': 'Le Nouveau Réveil', 'date': '2024-08-21', 'link': 'https://malijet.com/a_la_une_du_mali/294006-classement-2024-des-puissances-militaires-africaines-le-mali-sup.html'}, page_content='content: Si dans la zone CFA, en termes de classement économique, le rang de 4è qu\\'occupait le Mali a été chipé par son voisin Burkinabè, qui en plus lui a dépassé en termes d\\'investissements dans l\\'armement pendant la période 2022-2023, tel n\\'est pas le cas dans le classement africain 2024 des puissances de feu. Le Mali laisse loin derrière lui le Burkina. C\\'est ce qui ressort du rapport 2024 de \"Global Fire Power\". Le cabinet américain, spécialiste des questions de défense, a établi un classement sur un total de 145 pays à travers le monde dont 38 États africains. Il a fondé son classement sur une nomenclature de 60 critères pour déterminer le score ‘\\'Power Index\\'\\' (indice de pouvoir) d\\'une nation donnée allant des ressources en hommes, aux moyens financiers en passant notamment par les capacités logistiques. Il s\\'agit, en effet du nombre de militaires actifs, des capacités navales et aériennes, de la dotation en ressources naturelles (pétrole, gaz) du pays, du budget alloué à la défense, etc. La conception du \"Power Index\" permet aux nations plus petites et plus avancées sur le plan technologique de rivaliser avec des puissances plus grandes et moins développées. Le Mali boucle le top 20 africain   Les 20 premières armées africaines, selon le rapport de Global Fire Power de 2024, sont : l\\'Égypte, l\\'Algérie, l\\'Afrique du Sud, le Nigéria, l\\'Éthiopie, l\\'Angola, le Maroc, la République Démocratique du Congo, la Tunisie, le Soudan, la Lybie, le Kenya, le  Mozambique, le Tchad, la Zambie, la Côte d\\'Ivoire, le Zimbabwe, la Tanzanie, le Cameroun et le Mali. Et puis arrivent respectivement le Ghana (113e), l\\'Ouganda (114e), l\\'Erythrée (117e), le Soudan du Sud (119e), le Niger (121e), la République du Congo (122e), la Namibie (124e), le Botswana (126e), le Burkina Faso (127e), le Sénégal (130e), la Mauritanie (131e), le Gabon (132e), Madagascar (133e), la Centrafrique (137e), la Sierra Leone (138e), le Liberia (140e), le Bénin (141e), la Somalie (142e). A souligner que, dans le classement mondial, l\\'Afrique entre à partir de la 15è place avec l\\'Égypte. Ce qui fait d\\'elle la 1ère puissance militaire du continent, tout comme en 2023 où elle occupait la 14è place. Tout comme l\\'année dernière, il est directement suivi de l\\'Algérie, de l\\'Afrique du Sud et du Nigéria. Par rapport aux pays de l\\'Afrique de l\\'ouest francophone, c\\'est la Côte d\\'Ivoire qui se hisse au 16è rang au niveau continental et 98è à l\\'échelle mondiale contre respectivement la 19è et la 105è places en 2023. Elle est suivie du Mali et du Niger qui occupent respectivement au niveau africain les 20è et 25è places et au niveau mondial les 106è et 121è rangs. Le Mali, 3è de la CEDEAO et 2è de l\\'UMEOA  A l\\'analyse du classement, l\\'on remarque qu\\'au sein de la CEDEAO (Communauté économique des États de l\\'Afrique de l\\'ouest), le Nigéria et la Côte d\\'Ivoire conservent leur place des deux plus grandes puissances militaires de la zone. En effet, comparativement à l\\'année dernière, le Nigéria a maintenu à la fois sa première place dans la CEDEAO, et la 4ème au niveau africain. Cependant, il a été décalé à l\\'échelle mondiale au 39ème rang contre 36ème en 2023 sur les 145 Etats évalués. Quant à la Côte d\\'Ivoire, au regard de son 16è rang africain, elle se classe en 2è position dans la CEDEAO et, du coup première dans la zone UEMOA (Union économique et monétaire ouest-africaine). Le Mali, occupant au niveau africain la 20è place, se classe 3è de la CEDEAO et 2è dans la zone UEMOA. Ainsi, il se classe derrière la Côte d\\'Ivoire qui demeure leader en Afrique occidentale francophone. A noter que tout comme l\\'année précédente, ces deux pays maintiennent leur position d\\'armée leader en cette année 2024. Il en de même pour le Niger (25è rang africain et 121è rang mondial) est 5è de la CEDEAO et 3è de la zone UEMOA. Par ailleurs, on constate que le Burkina, pays membre de la confédération de l\\'Alliance des États du sahel (AES) tout  comme le Mali et le Niger, occupe le 29è rang africain et 127è mondial. Autrement dit, le Mali (20è africain et 106è mondial) le dépasse de très loin. Les États Unis, première puissance de feu du monde D\\'après le rapport de \"Global Fire Power\", les Etats-Unis conservent toujours le titre de première puissance de feu du monde. La Russie, la Chine, l\\'Inde et la Corée du Sud complètent respectivement ce top 5 mondial des puissances militaires. La France détient le 11è rang mondial, tandis que l\\'Ukraine se loge à la 18è place. A l\\'instar de 2023, le Bhoutan, pays d\\'Asie du Sud, est resté au bas de l\\'échelle dans ce classement mondial des puissances militaires, soit 145è. Il faut noter que le classement de \"Fire Global Fire\" (GFP), basé sur un « Power index » ( indice de pouvoir) dont le score parfait serait de 0,0000 , est impossible dans les faits. Ainsi, plus on s\\'éloigne de ce score, plus on recule au classement. GFP ne prend pas en considération les stocks nucléaires et pénalise les pays qui ne disposent pas de littoral sur la mer, c\\'est à dire les pays qui n\\'ont pas de forces navales. A.Diallo')]"
      ]
     },
     "execution_count": 21,
     "metadata": {},
     "output_type": "execute_result"
    }
   ],
   "execution_count": 21
  },
  {
   "metadata": {
    "ExecuteTime": {
     "end_time": "2024-09-23T07:17:20.264293Z",
     "start_time": "2024-09-23T07:17:20.260053Z"
    }
   },
   "cell_type": "code",
   "source": "data[0]",
   "id": "b8fb4ca4162397bd",
   "outputs": [
    {
     "data": {
      "text/plain": [
       "Document(metadata={'source': '../data/articles/malijet/2024/08/21.csv', 'row': 0, 'title': 'title', 'source_paper': 'source_paper', 'date': 'date', 'link': 'link'}, page_content='content: content')"
      ]
     },
     "execution_count": 18,
     "metadata": {},
     "output_type": "execute_result"
    }
   ],
   "execution_count": 18
  },
  {
   "metadata": {},
   "cell_type": "code",
   "outputs": [],
   "execution_count": null,
   "source": "",
   "id": "a95593b48968d6e4"
  },
  {
   "metadata": {
    "ExecuteTime": {
     "end_time": "2024-09-23T07:23:02.536740Z",
     "start_time": "2024-09-23T07:23:02.529472Z"
    }
   },
   "cell_type": "code",
   "source": [
    "pd.Series([i.metadata['source'] for i in data]).value_counts()\n",
    "# 53 articles extracted\n",
    "len(data), #pd.read_csv(ARTICLE_SOURCE_FILE_PATH, sep=\"\\t\").shape[0]"
   ],
   "id": "873e297d2e8bea8e",
   "outputs": [
    {
     "data": {
      "text/plain": [
       "(56,)"
      ]
     },
     "execution_count": 23,
     "metadata": {},
     "output_type": "execute_result"
    }
   ],
   "execution_count": 23
  },
  {
   "metadata": {},
   "cell_type": "markdown",
   "source": "## Let's see if the splitter is necessary",
   "id": "9c4aaff6953733cf"
  },
  {
   "metadata": {},
   "cell_type": "markdown",
   "source": "### Without splitter",
   "id": "f002488cec5b6f14"
  },
  {
   "metadata": {
    "ExecuteTime": {
     "end_time": "2024-09-23T07:23:03.642600Z",
     "start_time": "2024-09-23T07:23:03.638350Z"
    }
   },
   "cell_type": "code",
   "source": [
    "def get_length_info(list_of_documents, splitters=None):\n",
    "    \n",
    "    if splitters is None:\n",
    "        splitters = [' ', '.']\n",
    "    \n",
    "    ## search the content length statistics (nb characters)\n",
    "    print('-'*10, \"For character length\", '-'*10)\n",
    "    display(pd.Series([len(document.page_content) for document in list_of_documents]).describe())\n",
    "    \n",
    "    ## search the words length statistics (nb words)\n",
    "    print('-'*10, \"Length of words (nb characters) in the corpus\", '-'*10)\n",
    "    _res = list()\n",
    "    for document in list_of_documents:\n",
    "        _res += pd.Series(document.page_content.split(splitters[0])).apply(len).tolist()\n",
    "    display(pd.Series(_res).describe())\n",
    "    \n",
    "    ## search the sentence length statistics (nb words)\n",
    "    print('-'*10, \"How many words in each doc\", '-'*10)\n",
    "    display(pd.Series([len(doc.page_content.split(splitters[0])) for doc in list_of_documents]).describe())\n",
    "    \n",
    "    ## search the sentence length statistics (nb words)\n",
    "    print('-'*10, \"For how many sentences in in each doc\", '-'*10)\n",
    "    display(pd.Series([len(doc.page_content.split(splitters[1])) for doc in list_of_documents]).describe())\n",
    "    \n",
    "    ## search the sentence length statistics (nb words)\n",
    "    print('-'*10, \"For sentences length in each doc\", '-'*10)\n",
    "    display(pd.Series([len(sentence) for document in list_of_documents for sentence in document.page_content.split('.')]).describe())\n",
    "    \n",
    "    return _res"
   ],
   "id": "d7ab01346dd7721b",
   "outputs": [],
   "execution_count": 24
  },
  {
   "metadata": {
    "ExecuteTime": {
     "end_time": "2024-09-23T07:23:04.127321Z",
     "start_time": "2024-09-23T07:23:04.093656Z"
    }
   },
   "cell_type": "code",
   "source": "res = get_length_info(data)",
   "id": "8f383d02d93be293",
   "outputs": [
    {
     "name": "stdout",
     "output_type": "stream",
     "text": [
      "---------- For character length ----------\n"
     ]
    },
    {
     "data": {
      "text/plain": [
       "count       56.000000\n",
       "mean      2721.000000\n",
       "std       2558.947049\n",
       "min        278.000000\n",
       "25%       1347.000000\n",
       "50%       1992.000000\n",
       "75%       3256.000000\n",
       "max      16557.000000\n",
       "dtype: float64"
      ]
     },
     "metadata": {},
     "output_type": "display_data"
    },
    {
     "name": "stdout",
     "output_type": "stream",
     "text": [
      "---------- Length of words (nb characters) in the corpus ----------\n"
     ]
    },
    {
     "data": {
      "text/plain": [
       "count    23505.000000\n",
       "mean         5.485088\n",
       "std          3.574031\n",
       "min          0.000000\n",
       "25%          2.000000\n",
       "50%          5.000000\n",
       "75%          8.000000\n",
       "max         26.000000\n",
       "dtype: float64"
      ]
     },
     "metadata": {},
     "output_type": "display_data"
    },
    {
     "name": "stdout",
     "output_type": "stream",
     "text": [
      "---------- How many words in each doc ----------\n"
     ]
    },
    {
     "data": {
      "text/plain": [
       "count      56.000000\n",
       "mean      419.732143\n",
       "std       399.585398\n",
       "min        41.000000\n",
       "25%       200.000000\n",
       "50%       300.000000\n",
       "75%       491.250000\n",
       "max      2519.000000\n",
       "dtype: float64"
      ]
     },
     "metadata": {},
     "output_type": "display_data"
    },
    {
     "name": "stdout",
     "output_type": "stream",
     "text": [
      "---------- For how many sentences in in each doc ----------\n"
     ]
    },
    {
     "data": {
      "text/plain": [
       "count    56.000000\n",
       "mean     16.267857\n",
       "std      13.421138\n",
       "min       3.000000\n",
       "25%       8.000000\n",
       "50%      13.000000\n",
       "75%      18.250000\n",
       "max      80.000000\n",
       "dtype: float64"
      ]
     },
     "metadata": {},
     "output_type": "display_data"
    },
    {
     "name": "stdout",
     "output_type": "stream",
     "text": [
      "---------- For sentences length in each doc ----------\n"
     ]
    },
    {
     "data": {
      "text/plain": [
       "count     911.000000\n",
       "mean      166.323820\n",
       "std       122.778007\n",
       "min         0.000000\n",
       "25%        92.000000\n",
       "50%       154.000000\n",
       "75%       227.000000\n",
       "max      1418.000000\n",
       "dtype: float64"
      ]
     },
     "metadata": {},
     "output_type": "display_data"
    }
   ],
   "execution_count": 25
  },
  {
   "metadata": {},
   "cell_type": "markdown",
   "source": "## With splitter",
   "id": "a2da7035ac0fa051"
  },
  {
   "metadata": {
    "ExecuteTime": {
     "end_time": "2024-09-23T07:23:05.610536Z",
     "start_time": "2024-09-23T07:23:05.599966Z"
    }
   },
   "cell_type": "code",
   "source": "pd.Series(res).max(), pd.Series(res).quantile(.99)",
   "id": "e894f4831744b1b6",
   "outputs": [
    {
     "data": {
      "text/plain": [
       "(26, 15.0)"
      ]
     },
     "execution_count": 26,
     "metadata": {},
     "output_type": "execute_result"
    }
   ],
   "execution_count": 26
  },
  {
   "metadata": {
    "ExecuteTime": {
     "end_time": "2024-09-23T07:23:06.156312Z",
     "start_time": "2024-09-23T07:23:06.144895Z"
    }
   },
   "cell_type": "code",
   "source": [
    "quantile = 387 # first version\n",
    "maxi_character_per_sentence = pd.Series([len(sentence) for document in data for sentence in document.page_content.split('.')]).max().astype(int)\n",
    "maxi_character_per_words = 20 # over 16 to make sure to get all-content overlap\n",
    "quantile, maxi_character_per_sentence, maxi_character_per_words"
   ],
   "id": "cc766a25eedffec",
   "outputs": [
    {
     "data": {
      "text/plain": [
       "(387, 1418, 20)"
      ]
     },
     "execution_count": 27,
     "metadata": {},
     "output_type": "execute_result"
    }
   ],
   "execution_count": 27
  },
  {
   "metadata": {},
   "cell_type": "markdown",
   "source": [
    "How do I determine how many characters form a meaningful chunk (i.e., understandable and self-sufficient information)?\n",
    "We will assume that each sentence could be a meaningful chunk. The idea is to have a count distribution of sentences length in our corpus to make a quick decision.\n",
    "- We might choose 400 (similar to the quantile q95) as chunk size to be more flexible. In this case, we stay with 387 as a chunk size\n",
    "- Also, in this case, we'll set 20 as the maximum length of character possible in a sentence"
   ],
   "id": "a7660197a0a2f201"
  },
  {
   "metadata": {
    "ExecuteTime": {
     "end_time": "2024-09-23T07:23:08.025787Z",
     "start_time": "2024-09-23T07:23:08.012828Z"
    }
   },
   "cell_type": "code",
   "source": [
    "## test the document splitter\n",
    "text_splitter = RecursiveCharacterTextSplitter(\n",
    "    chunk_size=quantile, # selected quantile\n",
    "    chunk_overlap=maxi_character_per_words,\n",
    "    separators=[\"\\n\\n\", \"\\n\", \". \", \" \", \"\"], # specify that sentence split (by dot) is more important than space & other\n",
    "    keep_separator=False # drop the separators from the document after split\n",
    ")\n",
    "documents = text_splitter.split_documents(documents=data)\n",
    "len(documents)"
   ],
   "id": "748bcce94fc43827",
   "outputs": [
    {
     "data": {
      "text/plain": [
       "554"
      ]
     },
     "execution_count": 28,
     "metadata": {},
     "output_type": "execute_result"
    }
   ],
   "execution_count": 28
  },
  {
   "metadata": {
    "ExecuteTime": {
     "end_time": "2024-09-23T07:23:10.254150Z",
     "start_time": "2024-09-23T07:23:10.250282Z"
    }
   },
   "cell_type": "code",
   "source": "documents[8:20]",
   "id": "a9f794b440aab2fd",
   "outputs": [
    {
     "data": {
      "text/plain": [
       "[Document(metadata={'source': '../data/articles/malijet/2024/08/21.csv', 'row': 1, 'title': 'Digitalisation de l’Administration: La DGCCC en première ligne pour concrétiser la vision du Président de la transition', 'source_paper': 'Le Nouveau Réveil', 'date': '2024-08-21', 'link': 'https://malijet.com/a_la_une_du_mali/294008-digitalisation-de-l’administration-la-dgccc-en-premiere-ligne-po.html'}, page_content=\"Zedion Dembélé, incarne cette volonté de transformation en s'engageant pleinement dans cette révolution numérique. L’objectif est clair : rendre l'administration plus transparente, plus efficace, tout en assurant une régulation optimale du commerce, une protection accrue des consommateurs, et une concurrence équitable sur le marché national\"),\n",
       " Document(metadata={'source': '../data/articles/malijet/2024/08/21.csv', 'row': 1, 'title': 'Digitalisation de l’Administration: La DGCCC en première ligne pour concrétiser la vision du Président de la transition', 'source_paper': 'Le Nouveau Réveil', 'date': '2024-08-21', 'link': 'https://malijet.com/a_la_une_du_mali/294008-digitalisation-de-l’administration-la-dgccc-en-premiere-ligne-po.html'}, page_content='Le Ministre Diallo, impressionné par les avancées réalisées, n’a pas manqué de souligner l\\'importance de cette digitalisation pour l\\'avenir du Mali. \"Ces progrès illustrent la détermination du gouvernement à instaurer une administration moderne, dynamique et adaptée aux exigences du développement\", a-t-il déclaré avec enthousiasme'),\n",
       " Document(metadata={'source': '../data/articles/malijet/2024/08/21.csv', 'row': 1, 'title': 'Digitalisation de l’Administration: La DGCCC en première ligne pour concrétiser la vision du Président de la transition', 'source_paper': 'Le Nouveau Réveil', 'date': '2024-08-21', 'link': 'https://malijet.com/a_la_une_du_mali/294008-digitalisation-de-l’administration-la-dgccc-en-premiere-ligne-po.html'}, page_content=\"Cette visite a également permis d'échanger de manière constructive avec les cadres de la DGCCC. Ainsi, M. Diallo a chaleureusement félicité l’ensemble du personnel pour son engagement indéfectible, tout en les encourageant à continuer sur cette lancée pour faire de la DGCCC un modèle d'innovation administrative\"),\n",
       " Document(metadata={'source': '../data/articles/malijet/2024/08/21.csv', 'row': 1, 'title': 'Digitalisation de l’Administration: La DGCCC en première ligne pour concrétiser la vision du Président de la transition', 'source_paper': 'Le Nouveau Réveil', 'date': '2024-08-21', 'link': 'https://malijet.com/a_la_une_du_mali/294008-digitalisation-de-l’administration-la-dgccc-en-premiere-ligne-po.html'}, page_content=\"En ligne avec la vision des autorités de la transition, la digitalisation de l’administration constitue un défi majeur pour le Mali. La DGCCC, par ses actions audacieuses, montre qu'elle est à la hauteur de ce défi et qu’elle est prête à jouer un rôle de premier plan dans la modernisation de l’État, suivant ainsi les aspirations du Colonel Goïta et de son gouvernement\"),\n",
       " Document(metadata={'source': '../data/articles/malijet/2024/08/21.csv', 'row': 1, 'title': 'Digitalisation de l’Administration: La DGCCC en première ligne pour concrétiser la vision du Président de la transition', 'source_paper': 'Le Nouveau Réveil', 'date': '2024-08-21', 'link': 'https://malijet.com/a_la_une_du_mali/294008-digitalisation-de-l’administration-la-dgccc-en-premiere-ligne-po.html'}, page_content='Adama Coulibaly'),\n",
       " Document(metadata={'source': '../data/articles/malijet/2024/08/21.csv', 'row': 2, 'title': \"Classement 2024 des puissances militaires africaines: Le Mali supplante ses alliés de l'AES et se positionne derrière la Côte d'Ivoire\", 'source_paper': 'Le Nouveau Réveil', 'date': '2024-08-21', 'link': 'https://malijet.com/a_la_une_du_mali/294006-classement-2024-des-puissances-militaires-africaines-le-mali-sup.html'}, page_content=\"content: Si dans la zone CFA, en termes de classement économique, le rang de 4è qu'occupait le Mali a été chipé par son voisin Burkinabè, qui en plus lui a dépassé en termes d'investissements dans l'armement pendant la période 2022-2023, tel n'est pas le cas dans le classement africain 2024 des puissances de feu. Le Mali laisse loin derrière lui le Burkina\"),\n",
       " Document(metadata={'source': '../data/articles/malijet/2024/08/21.csv', 'row': 2, 'title': \"Classement 2024 des puissances militaires africaines: Le Mali supplante ses alliés de l'AES et se positionne derrière la Côte d'Ivoire\", 'source_paper': 'Le Nouveau Réveil', 'date': '2024-08-21', 'link': 'https://malijet.com/a_la_une_du_mali/294006-classement-2024-des-puissances-militaires-africaines-le-mali-sup.html'}, page_content='C\\'est ce qui ressort du rapport 2024 de \"Global Fire Power\". Le cabinet américain, spécialiste des questions de défense, a établi un classement sur un total de 145 pays à travers le monde dont 38 États africains'),\n",
       " Document(metadata={'source': '../data/articles/malijet/2024/08/21.csv', 'row': 2, 'title': \"Classement 2024 des puissances militaires africaines: Le Mali supplante ses alliés de l'AES et se positionne derrière la Côte d'Ivoire\", 'source_paper': 'Le Nouveau Réveil', 'date': '2024-08-21', 'link': 'https://malijet.com/a_la_une_du_mali/294006-classement-2024-des-puissances-militaires-africaines-le-mali-sup.html'}, page_content=\"Il a fondé son classement sur une nomenclature de 60 critères pour déterminer le score ‘'Power Index'' (indice de pouvoir) d'une nation donnée allant des ressources en hommes, aux moyens financiers en passant notamment par les capacités logistiques\"),\n",
       " Document(metadata={'source': '../data/articles/malijet/2024/08/21.csv', 'row': 2, 'title': \"Classement 2024 des puissances militaires africaines: Le Mali supplante ses alliés de l'AES et se positionne derrière la Côte d'Ivoire\", 'source_paper': 'Le Nouveau Réveil', 'date': '2024-08-21', 'link': 'https://malijet.com/a_la_une_du_mali/294006-classement-2024-des-puissances-militaires-africaines-le-mali-sup.html'}, page_content='Il s\\'agit, en effet du nombre de militaires actifs, des capacités navales et aériennes, de la dotation en ressources naturelles (pétrole, gaz) du pays, du budget alloué à la défense, etc. La conception du \"Power Index\" permet aux nations plus petites et plus avancées sur le plan technologique de rivaliser avec des puissances plus grandes et moins développées'),\n",
       " Document(metadata={'source': '../data/articles/malijet/2024/08/21.csv', 'row': 2, 'title': \"Classement 2024 des puissances militaires africaines: Le Mali supplante ses alliés de l'AES et se positionne derrière la Côte d'Ivoire\", 'source_paper': 'Le Nouveau Réveil', 'date': '2024-08-21', 'link': 'https://malijet.com/a_la_une_du_mali/294006-classement-2024-des-puissances-militaires-africaines-le-mali-sup.html'}, page_content=\"Le Mali boucle le top 20 africain Les 20 premières armées africaines, selon le rapport de Global Fire Power de 2024, sont : l'Égypte, l'Algérie, l'Afrique du Sud, le Nigéria, l'Éthiopie, l'Angola, le Maroc, la République Démocratique du Congo, la Tunisie, le Soudan, la Lybie, le Kenya, le Mozambique, le Tchad, la Zambie, la Côte d'Ivoire, le Zimbabwe, la Tanzanie, le Cameroun\"),\n",
       " Document(metadata={'source': '../data/articles/malijet/2024/08/21.csv', 'row': 2, 'title': \"Classement 2024 des puissances militaires africaines: Le Mali supplante ses alliés de l'AES et se positionne derrière la Côte d'Ivoire\", 'source_paper': 'Le Nouveau Réveil', 'date': '2024-08-21', 'link': 'https://malijet.com/a_la_une_du_mali/294006-classement-2024-des-puissances-militaires-africaines-le-mali-sup.html'}, page_content='le Cameroun et le Mali'),\n",
       " Document(metadata={'source': '../data/articles/malijet/2024/08/21.csv', 'row': 2, 'title': \"Classement 2024 des puissances militaires africaines: Le Mali supplante ses alliés de l'AES et se positionne derrière la Côte d'Ivoire\", 'source_paper': 'Le Nouveau Réveil', 'date': '2024-08-21', 'link': 'https://malijet.com/a_la_une_du_mali/294006-classement-2024-des-puissances-militaires-africaines-le-mali-sup.html'}, page_content=\"Et puis arrivent respectivement le Ghana (113e), l'Ouganda (114e), l'Erythrée (117e), le Soudan du Sud (119e), le Niger (121e), la République du Congo (122e), la Namibie (124e), le Botswana (126e), le Burkina Faso (127e), le Sénégal (130e), la Mauritanie (131e), le Gabon (132e), Madagascar (133e), la Centrafrique (137e), la Sierra Leone (138e), le Liberia (140e), le Bénin (141e),\")]"
      ]
     },
     "execution_count": 29,
     "metadata": {},
     "output_type": "execute_result"
    }
   ],
   "execution_count": 29
  },
  {
   "metadata": {
    "ExecuteTime": {
     "end_time": "2024-09-23T07:32:43.771940Z",
     "start_time": "2024-09-23T07:32:43.713042Z"
    }
   },
   "cell_type": "code",
   "source": [
    "\n",
    "res = get_length_info(documents)"
   ],
   "id": "4cd8692686406b36",
   "outputs": [
    {
     "name": "stdout",
     "output_type": "stream",
     "text": [
      "---------- For character length ----------\n"
     ]
    },
    {
     "data": {
      "text/plain": [
       "count    554.000000\n",
       "mean     274.631769\n",
       "std       95.651822\n",
       "min        7.000000\n",
       "25%      218.000000\n",
       "50%      294.500000\n",
       "75%      354.000000\n",
       "max      387.000000\n",
       "dtype: float64"
      ]
     },
     "metadata": {},
     "output_type": "display_data"
    },
    {
     "name": "stdout",
     "output_type": "stream",
     "text": [
      "---------- Length of words (nb characters) in the corpus ----------\n"
     ]
    },
    {
     "data": {
      "text/plain": [
       "count    23530.000000\n",
       "mean         5.489588\n",
       "std          3.545854\n",
       "min          0.000000\n",
       "25%          2.000000\n",
       "50%          5.000000\n",
       "75%          8.000000\n",
       "max         26.000000\n",
       "dtype: float64"
      ]
     },
     "metadata": {},
     "output_type": "display_data"
    },
    {
     "name": "stdout",
     "output_type": "stream",
     "text": [
      "---------- How many words in each doc ----------\n"
     ]
    },
    {
     "data": {
      "text/plain": [
       "count    554.000000\n",
       "mean      42.472924\n",
       "std       15.320452\n",
       "min        1.000000\n",
       "25%       33.000000\n",
       "50%       46.000000\n",
       "75%       54.000000\n",
       "max       74.000000\n",
       "dtype: float64"
      ]
     },
     "metadata": {},
     "output_type": "display_data"
    },
    {
     "name": "stdout",
     "output_type": "stream",
     "text": [
      "---------- For how many sentences in in each doc ----------\n"
     ]
    },
    {
     "data": {
      "text/plain": [
       "count    554.000000\n",
       "mean       1.738267\n",
       "std        1.014407\n",
       "min        1.000000\n",
       "25%        1.000000\n",
       "50%        1.000000\n",
       "75%        2.000000\n",
       "max        8.000000\n",
       "dtype: float64"
      ]
     },
     "metadata": {},
     "output_type": "display_data"
    },
    {
     "name": "stdout",
     "output_type": "stream",
     "text": [
      "---------- For sentences length in each doc ----------\n"
     ]
    },
    {
     "data": {
      "text/plain": [
       "count    963.000000\n",
       "mean     157.566978\n",
       "std      102.649447\n",
       "min        0.000000\n",
       "25%       86.000000\n",
       "50%      151.000000\n",
       "75%      224.000000\n",
       "max      387.000000\n",
       "dtype: float64"
      ]
     },
     "metadata": {},
     "output_type": "display_data"
    }
   ],
   "execution_count": 30
  },
  {
   "metadata": {},
   "cell_type": "markdown",
   "source": " We move from 4616 words maxi per doc to 79 words per doc. That might be relevant for the final framework of RAG.",
   "id": "811f82dc75521e64"
  },
  {
   "metadata": {
    "ExecuteTime": {
     "end_time": "2024-09-23T07:33:08.145107Z",
     "start_time": "2024-09-23T07:33:08.141682Z"
    }
   },
   "cell_type": "code",
   "source": "[doc for doc in documents[:5]]",
   "id": "8c20dcaa549487bc",
   "outputs": [
    {
     "data": {
      "text/plain": [
       "[Document(metadata={'source': '../data/articles/malijet/2024/08/21.csv', 'row': 0, 'title': 'Coopération Mali-Niger : Une délégation ministérielle séjourne à Niamey', 'source_paper': 'Malijet ', 'date': '2024-08-21', 'link': 'https://malijet.com/a_la_une_du_mali/294034-cooperation-mali-niger--une-delegation-ministerielle-sejourne-a-.html'}, page_content=\"content: Une délégation importante du gouvernement malien, dirigée par le ministre de la Justice et des Droits de l’Homme, garde des Sceaux, Mamadou Kassogué, s'est rendue à Niamey, au Niger, pour étudier les méthodes nigériennes dans la lutte contre l'extrémisme violent, notamment la réinsertion des ex-combattants\"),\n",
       " Document(metadata={'source': '../data/articles/malijet/2024/08/21.csv', 'row': 0, 'title': 'Coopération Mali-Niger : Une délégation ministérielle séjourne à Niamey', 'source_paper': 'Malijet ', 'date': '2024-08-21', 'link': 'https://malijet.com/a_la_une_du_mali/294034-cooperation-mali-niger--une-delegation-ministerielle-sejourne-a-.html'}, page_content=\"Cette initiative vise à trouver une solution durable et efficace pour résoudre un problème capital auquel le Mali est confronté. La délégation malienne a eu des entretiens avec le ministre d'État, ministre de l'Intérieur, de la Sécurité publique et de l'Administration territoriale du Niger, le général de brigade Mohamed Toumba\"),\n",
       " Document(metadata={'source': '../data/articles/malijet/2024/08/21.csv', 'row': 0, 'title': 'Coopération Mali-Niger : Une délégation ministérielle séjourne à Niamey', 'source_paper': 'Malijet ', 'date': '2024-08-21', 'link': 'https://malijet.com/a_la_une_du_mali/294034-cooperation-mali-niger--une-delegation-ministerielle-sejourne-a-.html'}, page_content='Les discussions ont porté sur divers sujets, incluant les mécanismes de désarmement, de démobilisation et de réintégration (DDR), ainsi que le rôle crucial des autorités traditionnelles dans ce processus'),\n",
       " Document(metadata={'source': '../data/articles/malijet/2024/08/21.csv', 'row': 0, 'title': 'Coopération Mali-Niger : Une délégation ministérielle séjourne à Niamey', 'source_paper': 'Malijet ', 'date': '2024-08-21', 'link': 'https://malijet.com/a_la_une_du_mali/294034-cooperation-mali-niger--une-delegation-ministerielle-sejourne-a-.html'}, page_content=\"Le voyage d'études de la délégation malienne s'inscrit également dans le cadre de la réunion préparatoire des experts, présidée par le Conseiller spécial du président de la transition malienne, M. Boya Dembélé. Cette réunion vise à approfondir les échanges sur les stratégies et les meilleures pratiques pour renforcer la paix et la sécurité dans la région\"),\n",
       " Document(metadata={'source': '../data/articles/malijet/2024/08/21.csv', 'row': 0, 'title': 'Coopération Mali-Niger : Une délégation ministérielle séjourne à Niamey', 'source_paper': 'Malijet ', 'date': '2024-08-21', 'link': 'https://malijet.com/a_la_une_du_mali/294034-cooperation-mali-niger--une-delegation-ministerielle-sejourne-a-.html'}, page_content='Kandana/Malijet.com')]"
      ]
     },
     "execution_count": 31,
     "metadata": {},
     "output_type": "execute_result"
    }
   ],
   "execution_count": 31
  },
  {
   "metadata": {
    "ExecuteTime": {
     "end_time": "2024-05-23T20:04:47.502213Z",
     "start_time": "2024-05-23T20:04:47.499424Z"
    }
   },
   "cell_type": "code",
   "source": "[doc.page_content for doc in documents[37:40]]",
   "id": "12684ae1fc5de49a",
   "execution_count": 19,
   "outputs": []
  },
  {
   "metadata": {},
   "cell_type": "markdown",
   "source": "## Embedding and Vector store",
   "id": "e6838d0a9aba8eff"
  },
  {
   "metadata": {
    "ExecuteTime": {
     "end_time": "2024-09-23T07:33:20.116781Z",
     "start_time": "2024-09-23T07:33:20.111709Z"
    }
   },
   "cell_type": "code",
   "source": [
    "# embeddings_llm = OllamaEmbeddings(model=MODEL_NAME) #mistral or Occiglot\n",
    "# embeddings_llm = OllamaEmbeddings(model=\"mayflowergmbh/occiglot-7b-fr-en-instruct\")\n",
    "# embeddings_llm = OllamaEmbeddings(model=\"snowflake-arctic-embed\")\n",
    "# embeddings_llm = OpenAIEmbeddings()\n",
    "\n",
    "# embeddings_llm = OllamaEmbeddings(model=\"bge-large:335m-en-v1.5-fp16\")\n",
    "\n",
    "embeddings_llm = OllamaEmbeddings(model=\"bge-m3:567m-fp16\")\n",
    "# Set few params if needed\n",
    "embeddings_llm.show_progress = True\n",
    "embeddings_llm.num_thread = os.cpu_count() - 8 # 8 in my case\n",
    "# embeddings_llm.top_k = 10\n",
    "# embeddings_llm.top_p = .5\n",
    "\n",
    "embeddings_llm"
   ],
   "id": "4cef3c3a490fec01",
   "outputs": [
    {
     "data": {
      "text/plain": [
       "OllamaEmbeddings(base_url='http://localhost:11434', model='bge-m3:567m-fp16', embed_instruction='passage: ', query_instruction='query: ', mirostat=None, mirostat_eta=None, mirostat_tau=None, num_ctx=None, num_gpu=None, num_thread=8, repeat_last_n=None, repeat_penalty=None, temperature=None, stop=None, tfs_z=None, top_k=None, top_p=None, show_progress=True, headers=None, model_kwargs=None)"
      ]
     },
     "execution_count": 32,
     "metadata": {},
     "output_type": "execute_result"
    }
   ],
   "execution_count": 32
  },
  {
   "metadata": {
    "ExecuteTime": {
     "end_time": "2024-08-10T09:23:59.306236Z",
     "start_time": "2024-08-10T09:23:59.303060Z"
    }
   },
   "cell_type": "code",
   "source": [
    "# Exemple\n",
    "documents[3], len(documents[3].page_content)"
   ],
   "id": "70f7aa1256ac622f",
   "outputs": [
    {
     "data": {
      "text/plain": [
       "(Document(metadata={'source': '/home/bouba/Workspace/kounafoni-app/data/malijet/source.csv', 'row': 0}, page_content='Dans son document, le fameux ‘’Panel des démocrates’’ expose des propositions farfelues en demandant que le pays soit dirigé par un chef d’État honorifique désigné chaque année par exercice tournant parmi les sénateurs...Autre hic, alors que certains démocrates exigent le retour immédiat à l’ordre constitutionnel, eux ils proposent encore une autre transition dite civile de'),\n",
       " 386)"
      ]
     },
     "execution_count": 23,
     "metadata": {},
     "output_type": "execute_result"
    }
   ],
   "execution_count": 23
  },
  {
   "metadata": {
    "ExecuteTime": {
     "end_time": "2024-08-10T09:24:02.718049Z",
     "start_time": "2024-08-10T09:23:59.994242Z"
    }
   },
   "cell_type": "code",
   "source": "len(embeddings_llm.embed_query(documents[3].page_content))",
   "id": "f369205c39e2657e",
   "outputs": [
    {
     "name": "stderr",
     "output_type": "stream",
     "text": [
      "\n",
      "OllamaEmbeddings:   0%|          | 0/1 [00:00<?, ?it/s]\u001B[A\n",
      "OllamaEmbeddings: 100%|██████████| 1/1 [00:02<00:00,  2.72s/it]\u001B[A\n"
     ]
    },
    {
     "data": {
      "text/plain": [
       "1024"
      ]
     },
     "execution_count": 24,
     "metadata": {},
     "output_type": "execute_result"
    }
   ],
   "execution_count": 24
  },
  {
   "metadata": {
    "ExecuteTime": {
     "end_time": "2024-08-10T09:24:09.781771Z",
     "start_time": "2024-08-10T09:24:08.260939Z"
    }
   },
   "cell_type": "code",
   "source": [
    "# test to embed a query\n",
    "embeddings_llm.embed_query(documents[3].page_content)[:7], len(embeddings_llm.embed_query(documents[3].page_content))"
   ],
   "id": "bb2949b778aa79cf",
   "outputs": [
    {
     "name": "stderr",
     "output_type": "stream",
     "text": [
      "\n",
      "OllamaEmbeddings:   0%|          | 0/1 [00:00<?, ?it/s]\u001B[A\n",
      "OllamaEmbeddings: 100%|██████████| 1/1 [00:00<00:00,  1.20it/s]\u001B[A\n",
      "\n",
      "OllamaEmbeddings:   0%|          | 0/1 [00:00<?, ?it/s]\u001B[A\n",
      "OllamaEmbeddings: 100%|██████████| 1/1 [00:00<00:00,  1.47it/s]\u001B[A\n"
     ]
    },
    {
     "data": {
      "text/plain": [
       "([-0.6823922991752625,\n",
       "  0.23682698607444763,\n",
       "  -0.46551015973091125,\n",
       "  -0.07770388573408127,\n",
       "  -0.7255619764328003,\n",
       "  -1.188683032989502,\n",
       "  1.1188299655914307],\n",
       " 1024)"
      ]
     },
     "execution_count": 25,
     "metadata": {},
     "output_type": "execute_result"
    }
   ],
   "execution_count": 25
  },
  {
   "metadata": {},
   "cell_type": "markdown",
   "source": "## Selection of Vector Store",
   "id": "31641f755d1e6b3e"
  },
  {
   "metadata": {},
   "cell_type": "markdown",
   "source": "Thanks to this brand-new article from Google, we can safely choose any open source Vector Store, make it available to Google NFS Filestore and access it easily through mounting filestore in Cloud Run (see section 3): https://cloud.google.com/blog/products/serverless/introducing-cloud-run-volume-mounts?hl=en",
   "id": "d06c33240e392a47"
  },
  {
   "metadata": {
    "ExecuteTime": {
     "end_time": "2024-09-23T07:38:13.820547Z",
     "start_time": "2024-09-23T07:38:10.004466Z"
    }
   },
   "cell_type": "code",
   "source": [
    "# The embedding is a very large dimension of 4096, so this will take a real long time\n",
    "# Database creation\n",
    "# now 1024 embedding to test Cloud Run\n",
    "db = Chroma.from_documents(\n",
    "    documents=documents[:2],\n",
    "    embedding=embeddings_llm,\n",
    "    persist_directory=CHROMA_DB_PERSIST_PATH.as_posix(),\n",
    ")\n",
    "# db"
   ],
   "id": "2af8b4236d4b4c30",
   "outputs": [
    {
     "name": "stderr",
     "output_type": "stream",
     "text": [
      "OllamaEmbeddings: 100%|██████████| 2/2 [00:03<00:00,  1.90s/it]\n"
     ]
    }
   ],
   "execution_count": 36
  },
  {
   "metadata": {
    "ExecuteTime": {
     "end_time": "2024-09-23T07:39:04.887799Z",
     "start_time": "2024-09-23T07:38:45.510011Z"
    }
   },
   "cell_type": "code",
   "source": [
    "db = Chroma(\n",
    "    persist_directory=CHROMA_DB_PERSIST_PATH.as_posix(),\n",
    "    embedding_function=embeddings_llm,\n",
    ")\n",
    "\n",
    "persisted_ids = db.get()[\"ids\"]\n",
    "\n",
    "new_documents_to_embed_df = pd.DataFrame({\n",
    "    \"single_id\": [str(uuid.uuid5(uuid.NAMESPACE_DNS, doc.page_content)) for doc in documents[:30]],\n",
    "    \"document\": documents[:30]\n",
    "})\n",
    "\n",
    "# to keep only different documents (i.e. chunks)\n",
    "new_documents_to_embed_df.drop_duplicates(subset=\"single_id\", inplace=True)\n",
    "\n",
    "# Keep only documents not already embedded\n",
    "new_documents_to_embed_df = new_documents_to_embed_df.query(f\"single_id not in {persisted_ids}\")\n",
    "\n",
    "if new_documents_to_embed_df.empty:\n",
    "    print(\"No documents to embed\")\n",
    "else:\n",
    "    print(\"Embedding documents...\")\n",
    "    display(new_documents_to_embed_df.head()), \n",
    "    db.add_documents(\n",
    "        documents=new_documents_to_embed_df.document.tolist(), \n",
    "        embedding=embeddings_llm, \n",
    "        ids=new_documents_to_embed_df.single_id.tolist(), \n",
    "        persist_directory=CHROMA_DB_PERSIST_PATH.as_posix(),\n",
    "    )\n"
   ],
   "id": "7dc1ed2f4249ffc9",
   "outputs": [
    {
     "name": "stdout",
     "output_type": "stream",
     "text": [
      "Embedding documents...\n"
     ]
    },
    {
     "data": {
      "text/plain": [
       "                              single_id  \\\n",
       "0  f8871cf3-1f21-5d67-98a4-f01b87484621   \n",
       "1  c61aaa1c-3432-5f90-8ed2-97775a5d4c95   \n",
       "2  5261cd46-bb81-5322-a6a4-9e9327995441   \n",
       "3  61cccc77-0a85-51ff-bcc9-370d9946eb2e   \n",
       "4  4373ecaa-3dde-5cd9-a08b-e5985c5d70b8   \n",
       "\n",
       "                                            document  \n",
       "0  page_content='content: Une délégation import...  \n",
       "1  page_content='Cette initiative vise à trouver...  \n",
       "2  page_content='Les discussions ont porté sur d...  \n",
       "3  page_content='Le voyage d'études de la délé...  \n",
       "4  page_content='Kandana/Malijet.com' metadata={'...  "
      ],
      "text/html": [
       "<div>\n",
       "<style scoped>\n",
       "    .dataframe tbody tr th:only-of-type {\n",
       "        vertical-align: middle;\n",
       "    }\n",
       "\n",
       "    .dataframe tbody tr th {\n",
       "        vertical-align: top;\n",
       "    }\n",
       "\n",
       "    .dataframe thead th {\n",
       "        text-align: right;\n",
       "    }\n",
       "</style>\n",
       "<table border=\"1\" class=\"dataframe\">\n",
       "  <thead>\n",
       "    <tr style=\"text-align: right;\">\n",
       "      <th></th>\n",
       "      <th>single_id</th>\n",
       "      <th>document</th>\n",
       "    </tr>\n",
       "  </thead>\n",
       "  <tbody>\n",
       "    <tr>\n",
       "      <th>0</th>\n",
       "      <td>f8871cf3-1f21-5d67-98a4-f01b87484621</td>\n",
       "      <td>page_content='content: Une délégation import...</td>\n",
       "    </tr>\n",
       "    <tr>\n",
       "      <th>1</th>\n",
       "      <td>c61aaa1c-3432-5f90-8ed2-97775a5d4c95</td>\n",
       "      <td>page_content='Cette initiative vise à trouver...</td>\n",
       "    </tr>\n",
       "    <tr>\n",
       "      <th>2</th>\n",
       "      <td>5261cd46-bb81-5322-a6a4-9e9327995441</td>\n",
       "      <td>page_content='Les discussions ont porté sur d...</td>\n",
       "    </tr>\n",
       "    <tr>\n",
       "      <th>3</th>\n",
       "      <td>61cccc77-0a85-51ff-bcc9-370d9946eb2e</td>\n",
       "      <td>page_content='Le voyage d'études de la délé...</td>\n",
       "    </tr>\n",
       "    <tr>\n",
       "      <th>4</th>\n",
       "      <td>4373ecaa-3dde-5cd9-a08b-e5985c5d70b8</td>\n",
       "      <td>page_content='Kandana/Malijet.com' metadata={'...</td>\n",
       "    </tr>\n",
       "  </tbody>\n",
       "</table>\n",
       "</div>"
      ]
     },
     "metadata": {},
     "output_type": "display_data"
    },
    {
     "name": "stderr",
     "output_type": "stream",
     "text": [
      "OllamaEmbeddings: 100%|██████████| 30/30 [00:19<00:00,  1.55it/s]\n"
     ]
    }
   ],
   "execution_count": 38
  },
  {
   "metadata": {
    "ExecuteTime": {
     "end_time": "2024-09-23T07:39:06.312925Z",
     "start_time": "2024-09-23T07:39:06.298907Z"
    }
   },
   "cell_type": "code",
   "source": [
    "db_check = Chroma(\n",
    "    persist_directory=CHROMA_DB_PERSIST_PATH.as_posix(),\n",
    "    embedding_function=embeddings_llm,\n",
    ")\n",
    "db_check.get()"
   ],
   "id": "f475746c4170928",
   "outputs": [
    {
     "data": {
      "text/plain": [
       "{'ids': ['08214fe1-38c6-56d6-8c4f-245ba844bee1',\n",
       "  '11f1d385-f429-59a2-afd5-71223f4b74df',\n",
       "  '2490711e-e345-5e92-a883-bc2dec9a8d4d',\n",
       "  '2b36dcc4-e01f-53a9-89af-816bb8b058ab',\n",
       "  '3fd9514c-a0b9-5ff0-83a9-6cd058a965bb',\n",
       "  '431801fc-54ae-54c7-8b89-5629ed02202d',\n",
       "  '4373ecaa-3dde-5cd9-a08b-e5985c5d70b8',\n",
       "  '4c51426c-5f39-542e-9b7d-e8eb1b14a4f5',\n",
       "  '5261cd46-bb81-5322-a6a4-9e9327995441',\n",
       "  '6064e09e-f508-5762-b2ff-8c0dfcb25586',\n",
       "  '61cccc77-0a85-51ff-bcc9-370d9946eb2e',\n",
       "  '657515c2-5c93-5538-b8d4-afbeddebf110',\n",
       "  '6ccd4345-af7b-5a6f-9cd1-920084aa5048',\n",
       "  '8544498f-95b7-5a99-b4e7-da20bea4ba16',\n",
       "  '886f93e9-21a4-5d31-93d9-922478057c6f',\n",
       "  '8bd5dee4-85db-5188-8aec-a0289b9fa9ce',\n",
       "  '8f92abb1-124d-5b64-9d88-adfb4c0df86a',\n",
       "  '908b29d1-15fb-4381-a1c9-1e8621833630',\n",
       "  '93b0b662-0c54-516a-8b0d-d6eac3ec97b9',\n",
       "  '9b2dbda5-fb4c-59c4-a881-0118bfbaf2b4',\n",
       "  'a7af70d3-fbbe-5e3b-83e3-a9d3efe766ee',\n",
       "  'acdf1f22-60fa-54de-8d1b-b0b56dcc89f3',\n",
       "  'ad36a773-8e9e-5825-b1ba-f74bc2a53016',\n",
       "  'af0d3583-d70a-54f2-8d56-a70817f4cdbc',\n",
       "  'b0f564fc-8ae9-56fa-99a1-ab749c261da1',\n",
       "  'c61aaa1c-3432-5f90-8ed2-97775a5d4c95',\n",
       "  'c7193dea-4ad2-5e4e-a2f4-61cfed1b0c6e',\n",
       "  'c8cb526f-8ad9-4aa9-93c7-15cf9b3f21b8',\n",
       "  'e47e04de-a44e-561d-96bf-766f1b5188b2',\n",
       "  'ef11bbc6-32d0-5432-b270-5262c2898468',\n",
       "  'f6a1244c-79a4-5e29-8148-30495c514f0b',\n",
       "  'f8871cf3-1f21-5d67-98a4-f01b87484621'],\n",
       " 'embeddings': None,\n",
       " 'metadatas': [{'date': '2024-08-21',\n",
       "   'link': 'https://malijet.com/a_la_une_du_mali/294006-classement-2024-des-puissances-militaires-africaines-le-mali-sup.html',\n",
       "   'row': 2,\n",
       "   'source': '../data/articles/malijet/2024/08/21.csv',\n",
       "   'source_paper': 'Le Nouveau Réveil',\n",
       "   'title': \"Classement 2024 des puissances militaires africaines: Le Mali supplante ses alliés de l'AES et se positionne derrière la Côte d'Ivoire\"},\n",
       "  {'date': '2024-08-21',\n",
       "   'link': 'https://malijet.com/a_la_une_du_mali/294008-digitalisation-de-l’administration-la-dgccc-en-premiere-ligne-po.html',\n",
       "   'row': 1,\n",
       "   'source': '../data/articles/malijet/2024/08/21.csv',\n",
       "   'source_paper': 'Le Nouveau Réveil',\n",
       "   'title': 'Digitalisation de l’Administration: La DGCCC en première ligne pour concrétiser la vision du Président de la transition'},\n",
       "  {'date': '2024-08-21',\n",
       "   'link': 'https://malijet.com/a_la_une_du_mali/294008-digitalisation-de-l’administration-la-dgccc-en-premiere-ligne-po.html',\n",
       "   'row': 1,\n",
       "   'source': '../data/articles/malijet/2024/08/21.csv',\n",
       "   'source_paper': 'Le Nouveau Réveil',\n",
       "   'title': 'Digitalisation de l’Administration: La DGCCC en première ligne pour concrétiser la vision du Président de la transition'},\n",
       "  {'date': '2024-08-21',\n",
       "   'link': 'https://malijet.com/a_la_une_du_mali/294006-classement-2024-des-puissances-militaires-africaines-le-mali-sup.html',\n",
       "   'row': 2,\n",
       "   'source': '../data/articles/malijet/2024/08/21.csv',\n",
       "   'source_paper': 'Le Nouveau Réveil',\n",
       "   'title': \"Classement 2024 des puissances militaires africaines: Le Mali supplante ses alliés de l'AES et se positionne derrière la Côte d'Ivoire\"},\n",
       "  {'date': '2024-08-21',\n",
       "   'link': 'https://malijet.com/a_la_une_du_mali/294006-classement-2024-des-puissances-militaires-africaines-le-mali-sup.html',\n",
       "   'row': 2,\n",
       "   'source': '../data/articles/malijet/2024/08/21.csv',\n",
       "   'source_paper': 'Le Nouveau Réveil',\n",
       "   'title': \"Classement 2024 des puissances militaires africaines: Le Mali supplante ses alliés de l'AES et se positionne derrière la Côte d'Ivoire\"},\n",
       "  {'date': '2024-08-21',\n",
       "   'link': 'https://malijet.com/a_la_une_du_mali/294006-classement-2024-des-puissances-militaires-africaines-le-mali-sup.html',\n",
       "   'row': 2,\n",
       "   'source': '../data/articles/malijet/2024/08/21.csv',\n",
       "   'source_paper': 'Le Nouveau Réveil',\n",
       "   'title': \"Classement 2024 des puissances militaires africaines: Le Mali supplante ses alliés de l'AES et se positionne derrière la Côte d'Ivoire\"},\n",
       "  {'date': '2024-08-21',\n",
       "   'link': 'https://malijet.com/a_la_une_du_mali/294034-cooperation-mali-niger--une-delegation-ministerielle-sejourne-a-.html',\n",
       "   'row': 0,\n",
       "   'source': '../data/articles/malijet/2024/08/21.csv',\n",
       "   'source_paper': 'Malijet ',\n",
       "   'title': 'Coopération Mali-Niger : Une délégation ministérielle séjourne à Niamey'},\n",
       "  {'date': '2024-08-21',\n",
       "   'link': 'https://malijet.com/a_la_une_du_mali/294006-classement-2024-des-puissances-militaires-africaines-le-mali-sup.html',\n",
       "   'row': 2,\n",
       "   'source': '../data/articles/malijet/2024/08/21.csv',\n",
       "   'source_paper': 'Le Nouveau Réveil',\n",
       "   'title': \"Classement 2024 des puissances militaires africaines: Le Mali supplante ses alliés de l'AES et se positionne derrière la Côte d'Ivoire\"},\n",
       "  {'date': '2024-08-21',\n",
       "   'link': 'https://malijet.com/a_la_une_du_mali/294034-cooperation-mali-niger--une-delegation-ministerielle-sejourne-a-.html',\n",
       "   'row': 0,\n",
       "   'source': '../data/articles/malijet/2024/08/21.csv',\n",
       "   'source_paper': 'Malijet ',\n",
       "   'title': 'Coopération Mali-Niger : Une délégation ministérielle séjourne à Niamey'},\n",
       "  {'date': '2024-08-21',\n",
       "   'link': 'https://malijet.com/a_la_une_du_mali/294006-classement-2024-des-puissances-militaires-africaines-le-mali-sup.html',\n",
       "   'row': 2,\n",
       "   'source': '../data/articles/malijet/2024/08/21.csv',\n",
       "   'source_paper': 'Le Nouveau Réveil',\n",
       "   'title': \"Classement 2024 des puissances militaires africaines: Le Mali supplante ses alliés de l'AES et se positionne derrière la Côte d'Ivoire\"},\n",
       "  {'date': '2024-08-21',\n",
       "   'link': 'https://malijet.com/a_la_une_du_mali/294034-cooperation-mali-niger--une-delegation-ministerielle-sejourne-a-.html',\n",
       "   'row': 0,\n",
       "   'source': '../data/articles/malijet/2024/08/21.csv',\n",
       "   'source_paper': 'Malijet ',\n",
       "   'title': 'Coopération Mali-Niger : Une délégation ministérielle séjourne à Niamey'},\n",
       "  {'date': '2024-08-21',\n",
       "   'link': 'https://malijet.com/a_la_une_du_mali/294008-digitalisation-de-l’administration-la-dgccc-en-premiere-ligne-po.html',\n",
       "   'row': 1,\n",
       "   'source': '../data/articles/malijet/2024/08/21.csv',\n",
       "   'source_paper': 'Le Nouveau Réveil',\n",
       "   'title': 'Digitalisation de l’Administration: La DGCCC en première ligne pour concrétiser la vision du Président de la transition'},\n",
       "  {'date': '2024-08-21',\n",
       "   'link': 'https://malijet.com/a_la_une_du_mali/294006-classement-2024-des-puissances-militaires-africaines-le-mali-sup.html',\n",
       "   'row': 2,\n",
       "   'source': '../data/articles/malijet/2024/08/21.csv',\n",
       "   'source_paper': 'Le Nouveau Réveil',\n",
       "   'title': \"Classement 2024 des puissances militaires africaines: Le Mali supplante ses alliés de l'AES et se positionne derrière la Côte d'Ivoire\"},\n",
       "  {'date': '2024-08-21',\n",
       "   'link': 'https://malijet.com/a_la_une_du_mali/294006-classement-2024-des-puissances-militaires-africaines-le-mali-sup.html',\n",
       "   'row': 2,\n",
       "   'source': '../data/articles/malijet/2024/08/21.csv',\n",
       "   'source_paper': 'Le Nouveau Réveil',\n",
       "   'title': \"Classement 2024 des puissances militaires africaines: Le Mali supplante ses alliés de l'AES et se positionne derrière la Côte d'Ivoire\"},\n",
       "  {'date': '2024-08-21',\n",
       "   'link': 'https://malijet.com/a_la_une_du_mali/294006-classement-2024-des-puissances-militaires-africaines-le-mali-sup.html',\n",
       "   'row': 2,\n",
       "   'source': '../data/articles/malijet/2024/08/21.csv',\n",
       "   'source_paper': 'Le Nouveau Réveil',\n",
       "   'title': \"Classement 2024 des puissances militaires africaines: Le Mali supplante ses alliés de l'AES et se positionne derrière la Côte d'Ivoire\"},\n",
       "  {'date': '2024-08-21',\n",
       "   'link': 'https://malijet.com/a_la_une_du_mali/294006-classement-2024-des-puissances-militaires-africaines-le-mali-sup.html',\n",
       "   'row': 2,\n",
       "   'source': '../data/articles/malijet/2024/08/21.csv',\n",
       "   'source_paper': 'Le Nouveau Réveil',\n",
       "   'title': \"Classement 2024 des puissances militaires africaines: Le Mali supplante ses alliés de l'AES et se positionne derrière la Côte d'Ivoire\"},\n",
       "  {'date': '2024-08-21',\n",
       "   'link': 'https://malijet.com/a_la_une_du_mali/294008-digitalisation-de-l’administration-la-dgccc-en-premiere-ligne-po.html',\n",
       "   'row': 1,\n",
       "   'source': '../data/articles/malijet/2024/08/21.csv',\n",
       "   'source_paper': 'Le Nouveau Réveil',\n",
       "   'title': 'Digitalisation de l’Administration: La DGCCC en première ligne pour concrétiser la vision du Président de la transition'},\n",
       "  {'date': '2024-08-21',\n",
       "   'link': 'https://malijet.com/a_la_une_du_mali/294034-cooperation-mali-niger--une-delegation-ministerielle-sejourne-a-.html',\n",
       "   'row': 0,\n",
       "   'source': '../data/articles/malijet/2024/08/21.csv',\n",
       "   'source_paper': 'Malijet ',\n",
       "   'title': 'Coopération Mali-Niger : Une délégation ministérielle séjourne à Niamey'},\n",
       "  {'date': '2024-08-21',\n",
       "   'link': 'https://malijet.com/a_la_une_du_mali/294008-digitalisation-de-l’administration-la-dgccc-en-premiere-ligne-po.html',\n",
       "   'row': 1,\n",
       "   'source': '../data/articles/malijet/2024/08/21.csv',\n",
       "   'source_paper': 'Le Nouveau Réveil',\n",
       "   'title': 'Digitalisation de l’Administration: La DGCCC en première ligne pour concrétiser la vision du Président de la transition'},\n",
       "  {'date': '2024-08-21',\n",
       "   'link': 'https://malijet.com/a_la_une_du_mali/294008-digitalisation-de-l’administration-la-dgccc-en-premiere-ligne-po.html',\n",
       "   'row': 1,\n",
       "   'source': '../data/articles/malijet/2024/08/21.csv',\n",
       "   'source_paper': 'Le Nouveau Réveil',\n",
       "   'title': 'Digitalisation de l’Administration: La DGCCC en première ligne pour concrétiser la vision du Président de la transition'},\n",
       "  {'date': '2024-08-21',\n",
       "   'link': 'https://malijet.com/a_la_une_du_mali/294006-classement-2024-des-puissances-militaires-africaines-le-mali-sup.html',\n",
       "   'row': 2,\n",
       "   'source': '../data/articles/malijet/2024/08/21.csv',\n",
       "   'source_paper': 'Le Nouveau Réveil',\n",
       "   'title': \"Classement 2024 des puissances militaires africaines: Le Mali supplante ses alliés de l'AES et se positionne derrière la Côte d'Ivoire\"},\n",
       "  {'date': '2024-08-21',\n",
       "   'link': 'https://malijet.com/a_la_une_du_mali/294006-classement-2024-des-puissances-militaires-africaines-le-mali-sup.html',\n",
       "   'row': 2,\n",
       "   'source': '../data/articles/malijet/2024/08/21.csv',\n",
       "   'source_paper': 'Le Nouveau Réveil',\n",
       "   'title': \"Classement 2024 des puissances militaires africaines: Le Mali supplante ses alliés de l'AES et se positionne derrière la Côte d'Ivoire\"},\n",
       "  {'date': '2024-08-21',\n",
       "   'link': 'https://malijet.com/a_la_une_du_mali/294006-classement-2024-des-puissances-militaires-africaines-le-mali-sup.html',\n",
       "   'row': 2,\n",
       "   'source': '../data/articles/malijet/2024/08/21.csv',\n",
       "   'source_paper': 'Le Nouveau Réveil',\n",
       "   'title': \"Classement 2024 des puissances militaires africaines: Le Mali supplante ses alliés de l'AES et se positionne derrière la Côte d'Ivoire\"},\n",
       "  {'date': '2024-08-21',\n",
       "   'link': 'https://malijet.com/a_la_une_du_mali/294008-digitalisation-de-l’administration-la-dgccc-en-premiere-ligne-po.html',\n",
       "   'row': 1,\n",
       "   'source': '../data/articles/malijet/2024/08/21.csv',\n",
       "   'source_paper': 'Le Nouveau Réveil',\n",
       "   'title': 'Digitalisation de l’Administration: La DGCCC en première ligne pour concrétiser la vision du Président de la transition'},\n",
       "  {'date': '2024-08-21',\n",
       "   'link': 'https://malijet.com/a_la_une_du_mali/294006-classement-2024-des-puissances-militaires-africaines-le-mali-sup.html',\n",
       "   'row': 2,\n",
       "   'source': '../data/articles/malijet/2024/08/21.csv',\n",
       "   'source_paper': 'Le Nouveau Réveil',\n",
       "   'title': \"Classement 2024 des puissances militaires africaines: Le Mali supplante ses alliés de l'AES et se positionne derrière la Côte d'Ivoire\"},\n",
       "  {'date': '2024-08-21',\n",
       "   'link': 'https://malijet.com/a_la_une_du_mali/294034-cooperation-mali-niger--une-delegation-ministerielle-sejourne-a-.html',\n",
       "   'row': 0,\n",
       "   'source': '../data/articles/malijet/2024/08/21.csv',\n",
       "   'source_paper': 'Malijet ',\n",
       "   'title': 'Coopération Mali-Niger : Une délégation ministérielle séjourne à Niamey'},\n",
       "  {'date': '2024-08-21',\n",
       "   'link': 'https://malijet.com/a_la_une_du_mali/294006-classement-2024-des-puissances-militaires-africaines-le-mali-sup.html',\n",
       "   'row': 2,\n",
       "   'source': '../data/articles/malijet/2024/08/21.csv',\n",
       "   'source_paper': 'Le Nouveau Réveil',\n",
       "   'title': \"Classement 2024 des puissances militaires africaines: Le Mali supplante ses alliés de l'AES et se positionne derrière la Côte d'Ivoire\"},\n",
       "  {'date': '2024-08-21',\n",
       "   'link': 'https://malijet.com/a_la_une_du_mali/294034-cooperation-mali-niger--une-delegation-ministerielle-sejourne-a-.html',\n",
       "   'row': 0,\n",
       "   'source': '../data/articles/malijet/2024/08/21.csv',\n",
       "   'source_paper': 'Malijet ',\n",
       "   'title': 'Coopération Mali-Niger : Une délégation ministérielle séjourne à Niamey'},\n",
       "  {'date': '2024-08-21',\n",
       "   'link': 'https://malijet.com/a_la_une_du_mali/294006-classement-2024-des-puissances-militaires-africaines-le-mali-sup.html',\n",
       "   'row': 2,\n",
       "   'source': '../data/articles/malijet/2024/08/21.csv',\n",
       "   'source_paper': 'Le Nouveau Réveil',\n",
       "   'title': \"Classement 2024 des puissances militaires africaines: Le Mali supplante ses alliés de l'AES et se positionne derrière la Côte d'Ivoire\"},\n",
       "  {'date': '2024-08-21',\n",
       "   'link': 'https://malijet.com/a_la_une_du_mali/294008-digitalisation-de-l’administration-la-dgccc-en-premiere-ligne-po.html',\n",
       "   'row': 1,\n",
       "   'source': '../data/articles/malijet/2024/08/21.csv',\n",
       "   'source_paper': 'Le Nouveau Réveil',\n",
       "   'title': 'Digitalisation de l’Administration: La DGCCC en première ligne pour concrétiser la vision du Président de la transition'},\n",
       "  {'date': '2024-08-21',\n",
       "   'link': 'https://malijet.com/a_la_une_du_mali/294006-classement-2024-des-puissances-militaires-africaines-le-mali-sup.html',\n",
       "   'row': 2,\n",
       "   'source': '../data/articles/malijet/2024/08/21.csv',\n",
       "   'source_paper': 'Le Nouveau Réveil',\n",
       "   'title': \"Classement 2024 des puissances militaires africaines: Le Mali supplante ses alliés de l'AES et se positionne derrière la Côte d'Ivoire\"},\n",
       "  {'date': '2024-08-21',\n",
       "   'link': 'https://malijet.com/a_la_une_du_mali/294034-cooperation-mali-niger--une-delegation-ministerielle-sejourne-a-.html',\n",
       "   'row': 0,\n",
       "   'source': '../data/articles/malijet/2024/08/21.csv',\n",
       "   'source_paper': 'Malijet ',\n",
       "   'title': 'Coopération Mali-Niger : Une délégation ministérielle séjourne à Niamey'}],\n",
       " 'documents': ['le Cameroun et le Mali',\n",
       "  'Conformément aux directives des plus hautes autorités de la transition, avec à leur tête, le Colonel Assimi Goïta, Président de la Transition, le Mali avance résolument vers la digitalisation de ses services publics. La DGCCC, sous la houlette de son Directeur Général, M',\n",
       "  'content: Le lundi 12 août 2024, la Direction Générale du Commerce, de la Consommation et de la Concurrence (DGCCC) a accueilli le Ministre de l’Industrie et du Commerce, M. Moussa Alassane Diallo, pour une visite riche en enseignements',\n",
       "  'Les États Unis, première puissance de feu du monde D\\'après le rapport de \"Global Fire Power\", les Etats-Unis conservent toujours le titre de première puissance de feu du monde. La Russie, la Chine, l\\'Inde et la Corée du Sud complètent respectivement ce top 5 mondial des puissances militaires. La France détient le 11è rang mondial, tandis que l\\'Ukraine se loge à la 18è place',\n",
       "  'le Bénin (141e), la Somalie (142e)',\n",
       "  \"Le Mali, 3è de la CEDEAO et 2è de l'UMEOA  A l'analyse du classement, l'on remarque qu'au sein de la CEDEAO (Communauté économique des États de l'Afrique de l'ouest), le Nigéria et la Côte d'Ivoire conservent leur place des deux plus grandes puissances militaires de la zone\",\n",
       "  'Kandana/Malijet.com',\n",
       "  'Il s\\'agit, en effet du nombre de militaires actifs, des capacités navales et aériennes, de la dotation en ressources naturelles (pétrole, gaz) du pays, du budget alloué à la défense, etc. La conception du \"Power Index\" permet aux nations plus petites et plus avancées sur le plan technologique de rivaliser avec des puissances plus grandes et moins développées',\n",
       "  'Les discussions ont porté sur divers sujets, incluant les mécanismes de désarmement, de démobilisation et de réintégration (DDR), ainsi que le rôle crucial des autorités traditionnelles dans ce processus',\n",
       "  \"Par rapport aux pays de l'Afrique de l'ouest francophone, c'est la Côte d'Ivoire qui se hisse au 16è rang au niveau continental et 98è à l'échelle mondiale contre respectivement la 19è et la 105è places en 2023. Elle est suivie du Mali et du Niger qui occupent respectivement au niveau africain les 20è et 25è places et au niveau mondial les 106è et 121è rangs\",\n",
       "  \"Le voyage d'études de la délégation malienne s'inscrit également dans le cadre de la réunion préparatoire des experts, présidée par le Conseiller spécial du président de la transition malienne, M. Boya Dembélé. Cette réunion vise à approfondir les échanges sur les stratégies et les meilleures pratiques pour renforcer la paix et la sécurité dans la région\",\n",
       "  'Le Ministre Diallo, impressionné par les avancées réalisées, n’a pas manqué de souligner l\\'importance de cette digitalisation pour l\\'avenir du Mali. \"Ces progrès illustrent la détermination du gouvernement à instaurer une administration moderne, dynamique et adaptée aux exigences du développement\", a-t-il déclaré avec enthousiasme',\n",
       "  \"Le Mali boucle le top 20 africain Les 20 premières armées africaines, selon le rapport de Global Fire Power de 2024, sont : l'Égypte, l'Algérie, l'Afrique du Sud, le Nigéria, l'Éthiopie, l'Angola, le Maroc, la République Démocratique du Congo, la Tunisie, le Soudan, la Lybie, le Kenya, le Mozambique, le Tchad, la Zambie, la Côte d'Ivoire, le Zimbabwe, la Tanzanie, le Cameroun\",\n",
       "  \"Et puis arrivent respectivement le Ghana (113e), l'Ouganda (114e), l'Erythrée (117e), le Soudan du Sud (119e), le Niger (121e), la République du Congo (122e), la Namibie (124e), le Botswana (126e), le Burkina Faso (127e), le Sénégal (130e), la Mauritanie (131e), le Gabon (132e), Madagascar (133e), la Centrafrique (137e), la Sierra Leone (138e), le Liberia (140e), le Bénin (141e),\",\n",
       "  \"Par ailleurs, on constate que le Burkina, pays membre de la confédération de l'Alliance des États du sahel (AES) tout  comme le Mali et le Niger, occupe le 29è rang africain et 127è mondial. Autrement dit, le Mali (20è africain et 106è mondial) le dépasse de très loin\",\n",
       "  \"En effet, comparativement à l'année dernière, le Nigéria a maintenu à la fois sa première place dans la CEDEAO, et la 4ème au niveau africain. Cependant, il a été décalé à l'échelle mondiale au 39ème rang contre 36ème en 2023 sur les 145 Etats évalués\",\n",
       "  \"Zedion Dembélé, incarne cette volonté de transformation en s'engageant pleinement dans cette révolution numérique. L’objectif est clair : rendre l'administration plus transparente, plus efficace, tout en assurant une régulation optimale du commerce, une protection accrue des consommateurs, et une concurrence équitable sur le marché national\",\n",
       "  \"Cette initiative vise à trouver une solution durable et efficace pour résoudre un problème capital auquel le Mali est confronté. La délégation malienne a eu des entretiens avec le ministre d'État, ministre de l'Intérieur, de la Sécurité publique et de l'Administration territoriale du Niger, le général de brigade Mohamed Toumba\",\n",
       "  \"À cette occasion, le Ministre a salué les progrès remarquables réalisés par cette entité dans le processus de digitalisation, un pilier essentiel pour la modernisation de l'administration malienne\",\n",
       "  'Adama Coulibaly',\n",
       "  \"content: Si dans la zone CFA, en termes de classement économique, le rang de 4è qu'occupait le Mali a été chipé par son voisin Burkinabè, qui en plus lui a dépassé en termes d'investissements dans l'armement pendant la période 2022-2023, tel n'est pas le cas dans le classement africain 2024 des puissances de feu. Le Mali laisse loin derrière lui le Burkina\",\n",
       "  \"A souligner que, dans le classement mondial, l'Afrique entre à partir de la 15è place avec l'Égypte. Ce qui fait d'elle la 1ère puissance militaire du continent, tout comme en 2023 où elle occupait la 14è place. Tout comme l'année dernière, il est directement suivi de l'Algérie, de l'Afrique du Sud et du Nigéria\",\n",
       "  \"Ainsi, il se classe derrière la Côte d'Ivoire qui demeure leader en Afrique occidentale francophone. A noter que tout comme l'année précédente, ces deux pays maintiennent leur position d'armée leader en cette année 2024. Il en de même pour le Niger (25è rang africain et 121è rang mondial) est 5è de la CEDEAO et 3è de la zone UEMOA\",\n",
       "  \"En ligne avec la vision des autorités de la transition, la digitalisation de l’administration constitue un défi majeur pour le Mali. La DGCCC, par ses actions audacieuses, montre qu'elle est à la hauteur de ce défi et qu’elle est prête à jouer un rôle de premier plan dans la modernisation de l’État, suivant ainsi les aspirations du Colonel Goïta et de son gouvernement\",\n",
       "  'C\\'est ce qui ressort du rapport 2024 de \"Global Fire Power\". Le cabinet américain, spécialiste des questions de défense, a établi un classement sur un total de 145 pays à travers le monde dont 38 États africains',\n",
       "  \"Cette initiative vise à trouver une solution durable et efficace pour résoudre un problème capital auquel le Mali est confronté. La délégation malienne a eu des entretiens avec le ministre d'État, ministre de l'Intérieur, de la Sécurité publique et de l'Administration territoriale du Niger, le général de brigade Mohamed Toumba\",\n",
       "  \"Il a fondé son classement sur une nomenclature de 60 critères pour déterminer le score ‘'Power Index'' (indice de pouvoir) d'une nation donnée allant des ressources en hommes, aux moyens financiers en passant notamment par les capacités logistiques\",\n",
       "  \"content: Une délégation importante du gouvernement malien, dirigée par le ministre de la Justice et des Droits de l’Homme, garde des Sceaux, Mamadou Kassogué, s'est rendue à Niamey, au Niger, pour étudier les méthodes nigériennes dans la lutte contre l'extrémisme violent, notamment la réinsertion des ex-combattants\",\n",
       "  'A l\\'instar de 2023, le Bhoutan, pays d\\'Asie du Sud, est resté au bas de l\\'échelle dans ce classement mondial des puissances militaires, soit 145è. Il faut noter que le classement de \"Fire Global Fire\" (GFP), basé sur un « Power index » ( indice de pouvoir) dont le score parfait serait de 0,0000 , est impossible dans les faits',\n",
       "  \"Cette visite a également permis d'échanger de manière constructive avec les cadres de la DGCCC. Ainsi, M. Diallo a chaleureusement félicité l’ensemble du personnel pour son engagement indéfectible, tout en les encourageant à continuer sur cette lancée pour faire de la DGCCC un modèle d'innovation administrative\",\n",
       "  \"Quant à la Côte d'Ivoire, au regard de son 16è rang africain, elle se classe en 2è position dans la CEDEAO et, du coup première dans la zone UEMOA (Union économique et monétaire ouest-africaine). Le Mali, occupant au niveau africain la 20è place, se classe 3è de la CEDEAO et 2è dans la zone UEMOA\",\n",
       "  \"content: Une délégation importante du gouvernement malien, dirigée par le ministre de la Justice et des Droits de l’Homme, garde des Sceaux, Mamadou Kassogué, s'est rendue à Niamey, au Niger, pour étudier les méthodes nigériennes dans la lutte contre l'extrémisme violent, notamment la réinsertion des ex-combattants\"],\n",
       " 'uris': None,\n",
       " 'data': None,\n",
       " 'included': ['metadatas', 'documents']}"
      ]
     },
     "execution_count": 39,
     "metadata": {},
     "output_type": "execute_result"
    }
   ],
   "execution_count": 39
  },
  {
   "metadata": {
    "ExecuteTime": {
     "end_time": "2024-05-22T14:37:03.119010Z",
     "start_time": "2024-05-22T14:37:03.115110Z"
    }
   },
   "cell_type": "code",
   "source": "# db_check.get(include=['embeddings'])",
   "id": "5d2d60cf0ec55c70",
   "execution_count": 42,
   "outputs": []
  },
  {
   "metadata": {
    "ExecuteTime": {
     "end_time": "2024-05-22T15:08:07.564700Z",
     "start_time": "2024-05-22T15:08:07.519977Z"
    }
   },
   "cell_type": "code",
   "source": "# db_check.delete_collection()",
   "id": "232d0e1ee52fb5ff",
   "execution_count": 62,
   "outputs": []
  },
  {
   "metadata": {
    "ExecuteTime": {
     "end_time": "2024-05-21T12:21:05.502834Z",
     "start_time": "2024-05-21T09:52:55.322263Z"
    }
   },
   "cell_type": "code",
   "source": [
    "# In memory vector store test!\n",
    "\n",
    "# Took more than 36min for 46 documents only; wow, I interrupted with the keyboard!\n",
    "# For model name as occiglot or mistral or sfr-embedding first on retrieval\n",
    "# db = DocArrayInMemorySearch.from_documents(documents, embedding=embeddings_llm)"
   ],
   "id": "bd7d4249e102ea32",
   "execution_count": 23,
   "outputs": []
  },
  {
   "metadata": {},
   "cell_type": "code",
   "source": [
    "# for snowflake\n",
    "# db2 = DocArrayInMemorySearch.from_documents(documents, embedding=embeddings_llm) "
   ],
   "id": "9d2975291432835c",
   "execution_count": 26,
   "outputs": []
  },
  {
   "metadata": {
    "ExecuteTime": {
     "end_time": "2024-05-23T20:05:43.676683Z",
     "start_time": "2024-05-23T20:05:43.649407Z"
    }
   },
   "cell_type": "code",
   "source": [
    "# for openai\n",
    "# db4 = DocArrayInMemorySearch.from_documents(documents, embedding=embeddings_llm)"
   ],
   "id": "4275c9eae893b756",
   "execution_count": 27,
   "outputs": []
  },
  {
   "metadata": {
    "ExecuteTime": {
     "end_time": "2024-05-23T20:05:43.680902Z",
     "start_time": "2024-05-23T20:05:43.678388Z"
    }
   },
   "cell_type": "code",
   "source": [
    "# load db from disk\n",
    "# db3 = Chroma(persist_directory=CHROMA_DB_PERSIST_PATH.as_posix(), embedding_function=embeddings_llm)\n",
    "# db3"
   ],
   "id": "e23dca038e93e09a",
   "execution_count": 28,
   "outputs": []
  },
  {
   "metadata": {},
   "cell_type": "markdown",
   "source": "## Retriever for RAG",
   "id": "59cd98ac136a801a"
  },
  {
   "metadata": {
    "ExecuteTime": {
     "end_time": "2024-09-23T07:40:45.704609Z",
     "start_time": "2024-09-23T07:40:45.700777Z"
    }
   },
   "cell_type": "code",
   "source": [
    "retriever = db.as_retriever(search_kwargs={\"k\": 7}) # Occiglot or sfr-embed\n",
    "# retriever = db2.as_retriever(search_kwargs={\"k\": 10}) # snowflake\n",
    "# retriever = db4.as_retriever(search_kwargs={\"k\": 10}) #openAI\n",
    "# retriever = db3.as_retriever(search_kwargs={\"k\": 5})\n",
    "retriever"
   ],
   "id": "c580b555761db9fc",
   "outputs": [
    {
     "data": {
      "text/plain": [
       "VectorStoreRetriever(tags=['Chroma', 'OllamaEmbeddings'], vectorstore=<langchain_community.vectorstores.chroma.Chroma object at 0x71887f2e9fc0>, search_kwargs={'k': 7})"
      ]
     },
     "execution_count": 40,
     "metadata": {},
     "output_type": "execute_result"
    }
   ],
   "execution_count": 40
  },
  {
   "metadata": {
    "ExecuteTime": {
     "end_time": "2024-09-23T07:41:03.775949Z",
     "start_time": "2024-09-23T07:41:02.990961Z"
    }
   },
   "cell_type": "code",
   "source": [
    "# Test retriever\n",
    "query = \"AES\" \n",
    "retriever.invoke(query), len(retriever.invoke(query))"
   ],
   "id": "edc395197ac7abaa",
   "outputs": [
    {
     "name": "stderr",
     "output_type": "stream",
     "text": [
      "OllamaEmbeddings: 100%|██████████| 1/1 [00:00<00:00,  2.57it/s]\n",
      "OllamaEmbeddings: 100%|██████████| 1/1 [00:00<00:00,  2.75it/s]\n"
     ]
    },
    {
     "data": {
      "text/plain": [
       "([Document(metadata={'date': '2024-08-21', 'link': 'https://malijet.com/a_la_une_du_mali/294008-digitalisation-de-l’administration-la-dgccc-en-premiere-ligne-po.html', 'row': 1, 'source': '../data/articles/malijet/2024/08/21.csv', 'source_paper': 'Le Nouveau Réveil', 'title': 'Digitalisation de l’Administration: La DGCCC en première ligne pour concrétiser la vision du Président de la transition'}, page_content='Adama Coulibaly'),\n",
       "  Document(metadata={'date': '2024-08-21', 'link': 'https://malijet.com/a_la_une_du_mali/294034-cooperation-mali-niger--une-delegation-ministerielle-sejourne-a-.html', 'row': 0, 'source': '../data/articles/malijet/2024/08/21.csv', 'source_paper': 'Malijet ', 'title': 'Coopération Mali-Niger : Une délégation ministérielle séjourne à Niamey'}, page_content='Kandana/Malijet.com'),\n",
       "  Document(metadata={'date': '2024-08-21', 'link': 'https://malijet.com/a_la_une_du_mali/294006-classement-2024-des-puissances-militaires-africaines-le-mali-sup.html', 'row': 2, 'source': '../data/articles/malijet/2024/08/21.csv', 'source_paper': 'Le Nouveau Réveil', 'title': \"Classement 2024 des puissances militaires africaines: Le Mali supplante ses alliés de l'AES et se positionne derrière la Côte d'Ivoire\"}, page_content='le Cameroun et le Mali'),\n",
       "  Document(metadata={'date': '2024-08-21', 'link': 'https://malijet.com/a_la_une_du_mali/294006-classement-2024-des-puissances-militaires-africaines-le-mali-sup.html', 'row': 2, 'source': '../data/articles/malijet/2024/08/21.csv', 'source_paper': 'Le Nouveau Réveil', 'title': \"Classement 2024 des puissances militaires africaines: Le Mali supplante ses alliés de l'AES et se positionne derrière la Côte d'Ivoire\"}, page_content='le Bénin (141e), la Somalie (142e)'),\n",
       "  Document(metadata={'date': '2024-08-21', 'link': 'https://malijet.com/a_la_une_du_mali/294006-classement-2024-des-puissances-militaires-africaines-le-mali-sup.html', 'row': 2, 'source': '../data/articles/malijet/2024/08/21.csv', 'source_paper': 'Le Nouveau Réveil', 'title': \"Classement 2024 des puissances militaires africaines: Le Mali supplante ses alliés de l'AES et se positionne derrière la Côte d'Ivoire\"}, page_content=\"Il a fondé son classement sur une nomenclature de 60 critères pour déterminer le score ‘'Power Index'' (indice de pouvoir) d'une nation donnée allant des ressources en hommes, aux moyens financiers en passant notamment par les capacités logistiques\"),\n",
       "  Document(metadata={'date': '2024-08-21', 'link': 'https://malijet.com/a_la_une_du_mali/294008-digitalisation-de-l’administration-la-dgccc-en-premiere-ligne-po.html', 'row': 1, 'source': '../data/articles/malijet/2024/08/21.csv', 'source_paper': 'Le Nouveau Réveil', 'title': 'Digitalisation de l’Administration: La DGCCC en première ligne pour concrétiser la vision du Président de la transition'}, page_content=\"Zedion Dembélé, incarne cette volonté de transformation en s'engageant pleinement dans cette révolution numérique. L’objectif est clair : rendre l'administration plus transparente, plus efficace, tout en assurant une régulation optimale du commerce, une protection accrue des consommateurs, et une concurrence équitable sur le marché national\"),\n",
       "  Document(metadata={'date': '2024-08-21', 'link': 'https://malijet.com/a_la_une_du_mali/294006-classement-2024-des-puissances-militaires-africaines-le-mali-sup.html', 'row': 2, 'source': '../data/articles/malijet/2024/08/21.csv', 'source_paper': 'Le Nouveau Réveil', 'title': \"Classement 2024 des puissances militaires africaines: Le Mali supplante ses alliés de l'AES et se positionne derrière la Côte d'Ivoire\"}, page_content=\"Par ailleurs, on constate que le Burkina, pays membre de la confédération de l'Alliance des États du sahel (AES) tout  comme le Mali et le Niger, occupe le 29è rang africain et 127è mondial. Autrement dit, le Mali (20è africain et 106è mondial) le dépasse de très loin\")],\n",
       " 7)"
      ]
     },
     "execution_count": 41,
     "metadata": {},
     "output_type": "execute_result"
    }
   ],
   "execution_count": 41
  },
  {
   "metadata": {
    "ExecuteTime": {
     "end_time": "2024-09-23T08:09:45.288668Z",
     "start_time": "2024-09-23T08:09:45.284754Z"
    }
   },
   "cell_type": "code",
   "source": [
    "# Prompt template\n",
    "template = \"\"\"\n",
    "Réponds à la question uniquement grâce au contexte suivant et uniquement en langue française. Il faudra clairement détailler ta réponse. A la fin de ta réponse, mets en bas la source de média 'source_paper' qui t'as permis d'avoir ces réponses ainsi que le lien associé (en lien hyperlink markdown sous le format [Doc title](Doc link)) pour permettre à l'utilisateur de cliquer sur le lien et aller vérifier l'information. S'il y a plusieurs link et plusieurs source_paper, cite les deux majoritaires !\n",
    "Ne commence pas ta réponse par : \"selon les informations ou contexte fournis\" ou quelque chose de similaire, réponds directement à la question.\n",
    "Si tu n'as pas de réponse explicite dans le contexte, réponds \"Je n'ai pas assez d'informations pour répondre correctement à votre question.\".\n",
    "\n",
    "Contexte : {context}\n",
    "\n",
    "Question : {question}\n",
    "\"\"\"\n",
    "\n",
    "prompt = ChatPromptTemplate.from_template(template)"
   ],
   "id": "e04b7feeb5790a7b",
   "outputs": [],
   "execution_count": 75
  },
  {
   "metadata": {
    "ExecuteTime": {
     "end_time": "2024-09-23T08:09:46.946618Z",
     "start_time": "2024-09-23T08:09:46.859279Z"
    }
   },
   "cell_type": "code",
   "source": [
    "def format_docs(docs):\n",
    "    docs_formatted = list()\n",
    "    for d in docs:\n",
    "        doc_presentation = f\"Doc title : <<{d.metadata['title']}>>\\n\"\n",
    "        doc_presentation +=  f\"Doc date : <<{d.metadata['date']}>>\\n\"\n",
    "        doc_presentation +=  f\"Doc source_paper : <<{d.metadata['source_paper']}>>\\n\"\n",
    "        doc_presentation +=  f\"Doc link : <<{d.metadata['link']}>>\\n\"\n",
    "        doc_presentation +=  f\"Doc page_content : <<{d.page_content}>>\\n\"\n",
    "        docs_formatted.append(doc_presentation)\n",
    "    print(docs_formatted)\n",
    "    return f\"\\n\\n{'-'*50}\\n\".join(docs_formatted)\n",
    "\n",
    "chain = (\n",
    "    {\"context\": retriever | format_docs, \"question\": RunnablePassthrough()}\n",
    "    | prompt\n",
    "    # | llm\n",
    "    | ChatGroq(temperature=0, model=\"llama3-70b-8192\")\n",
    "    | StrOutputParser()\n",
    ")\n"
   ],
   "id": "b6beb2a70ad859d3",
   "outputs": [],
   "execution_count": 76
  },
  {
   "metadata": {
    "ExecuteTime": {
     "end_time": "2024-09-23T08:09:47.956469Z",
     "start_time": "2024-09-23T08:09:47.951207Z"
    }
   },
   "cell_type": "code",
   "source": [
    "questions = [\n",
    "    # \"Qui est Oumar Diarra ?\",\n",
    "    # \"Quels sont les actions de l'EUTM ?\",\n",
    "    # \"Cite-moi les recommandations retenues lors du dialogue inter malien\",\n",
    "    # \"Quand finit la mission de l'union européenne ?\",\n",
    "    # \"Actualités sur la DIRPA\",\n",
    "    # \"Parle-moi de l'agriculture au Mali\",\n",
    "    # \"Que font les FAMA actuellement ?\"\n",
    "    \n",
    "    # \"Parle moi du nouveau vérificateur général\",\n",
    "    # \"Résume moi en quelques points les dernières actualités maintenant\",\n",
    "    # \"Où en est la relation Mali et Russie ?\",\n",
    "    # \"Qui est Bassaro Haïdara ?\",\n",
    "    # \"Qu'est ce que Assimi a fait récemment ?\",\n",
    "    # \"Le dialogue inter malien est il terminé ?\",\n",
    "    # \"Qui sont les membres de l'AES ?\",\n",
    "    # \"Comment a été la journée du 1er Mai au Mali ?\",\n",
    "    # \"Donne moi la date la plus récente des informations dont tu disposes\",\n",
    "    # \"Qu'en est il de la crise sécuritaire au Mali ?\",\n",
    "    # \"La Belgique a t elle récemment collaborée avec le Mali ?\" # question bonus (must return I dont know),\n",
    "    \"parle moi des puissances militaires\",\n",
    "    # \"Y a t il des tensions entre le Mali et le Danemark ?\",\n",
    "    # \"Quelles les implications de l'Algérie à la guerre au nord du Mali ?\",\n",
    "    # \"Qu'a fait le président Assimi le 15 Aout ?\",\n",
    "    # \"Fais moi un bilan des inondations du Mali.\"\n",
    "]\n",
    "len(questions)"
   ],
   "id": "e2c25a9197388c95",
   "outputs": [
    {
     "data": {
      "text/plain": [
       "1"
      ]
     },
     "execution_count": 77,
     "metadata": {},
     "output_type": "execute_result"
    }
   ],
   "execution_count": 77
  },
  {
   "metadata": {
    "ExecuteTime": {
     "end_time": "2024-09-23T08:09:53.410624Z",
     "start_time": "2024-09-23T08:09:49.368906Z"
    }
   },
   "cell_type": "code",
   "source": [
    "for q in questions:\n",
    "    print(q)\n",
    "    print(chain.invoke(q))\n",
    "    print('-'*50, \"\\n\")\n",
    "# for open source models\n",
    "for q in questions:\n",
    "    print(q)\n",
    "    print(chain.invoke(q))\n",
    "    print('-'*50, \"\\n\")"
   ],
   "id": "89bb453fad174648",
   "outputs": [
    {
     "name": "stdout",
     "output_type": "stream",
     "text": [
      "parle moi des puissances militaires\n"
     ]
    },
    {
     "name": "stderr",
     "output_type": "stream",
     "text": [
      "OllamaEmbeddings: 100%|██████████| 1/1 [00:00<00:00,  2.53it/s]\n"
     ]
    },
    {
     "name": "stdout",
     "output_type": "stream",
     "text": [
      "['Doc title : <<Coopération Mali-Niger : Une délégation ministérielle séjourne à Niamey>>\\nDoc date : <<2024-08-21>>\\nDoc source_paper : <<Malijet >>\\nDoc link : <<https://malijet.com/a_la_une_du_mali/294034-cooperation-mali-niger--une-delegation-ministerielle-sejourne-a-.html>>\\nDoc page_content : <<Les discussions ont porté sur divers sujets, incluant les mécanismes de désarmement, de démobilisation et de réintégration (DDR), ainsi que le rôle crucial des autorités traditionnelles dans ce processus>>\\n', \"Doc title : <<Classement 2024 des puissances militaires africaines: Le Mali supplante ses alliés de l'AES et se positionne derrière la Côte d'Ivoire>>\\nDoc date : <<2024-08-21>>\\nDoc source_paper : <<Le Nouveau Réveil>>\\nDoc link : <<https://malijet.com/a_la_une_du_mali/294006-classement-2024-des-puissances-militaires-africaines-le-mali-sup.html>>\\nDoc page_content : <<Il a fondé son classement sur une nomenclature de 60 critères pour déterminer le score ‘'Power Index'' (indice de pouvoir) d'une nation donnée allant des ressources en hommes, aux moyens financiers en passant notamment par les capacités logistiques>>\\n\", 'Doc title : <<Classement 2024 des puissances militaires africaines: Le Mali supplante ses alliés de l\\'AES et se positionne derrière la Côte d\\'Ivoire>>\\nDoc date : <<2024-08-21>>\\nDoc source_paper : <<Le Nouveau Réveil>>\\nDoc link : <<https://malijet.com/a_la_une_du_mali/294006-classement-2024-des-puissances-militaires-africaines-le-mali-sup.html>>\\nDoc page_content : <<Il s\\'agit, en effet du nombre de militaires actifs, des capacités navales et aériennes, de la dotation en ressources naturelles (pétrole, gaz) du pays, du budget alloué à la défense, etc. La conception du \"Power Index\" permet aux nations plus petites et plus avancées sur le plan technologique de rivaliser avec des puissances plus grandes et moins développées>>\\n', \"Doc title : <<Classement 2024 des puissances militaires africaines: Le Mali supplante ses alliés de l'AES et se positionne derrière la Côte d'Ivoire>>\\nDoc date : <<2024-08-21>>\\nDoc source_paper : <<Le Nouveau Réveil>>\\nDoc link : <<https://malijet.com/a_la_une_du_mali/294006-classement-2024-des-puissances-militaires-africaines-le-mali-sup.html>>\\nDoc page_content : <<A souligner que, dans le classement mondial, l'Afrique entre à partir de la 15è place avec l'Égypte. Ce qui fait d'elle la 1ère puissance militaire du continent, tout comme en 2023 où elle occupait la 14è place. Tout comme l'année dernière, il est directement suivi de l'Algérie, de l'Afrique du Sud et du Nigéria>>\\n\", 'Doc title : <<Classement 2024 des puissances militaires africaines: Le Mali supplante ses alliés de l\\'AES et se positionne derrière la Côte d\\'Ivoire>>\\nDoc date : <<2024-08-21>>\\nDoc source_paper : <<Le Nouveau Réveil>>\\nDoc link : <<https://malijet.com/a_la_une_du_mali/294006-classement-2024-des-puissances-militaires-africaines-le-mali-sup.html>>\\nDoc page_content : <<A l\\'instar de 2023, le Bhoutan, pays d\\'Asie du Sud, est resté au bas de l\\'échelle dans ce classement mondial des puissances militaires, soit 145è. Il faut noter que le classement de \"Fire Global Fire\" (GFP), basé sur un « Power index » ( indice de pouvoir) dont le score parfait serait de 0,0000 , est impossible dans les faits>>\\n', 'Doc title : <<Classement 2024 des puissances militaires africaines: Le Mali supplante ses alliés de l\\'AES et se positionne derrière la Côte d\\'Ivoire>>\\nDoc date : <<2024-08-21>>\\nDoc source_paper : <<Le Nouveau Réveil>>\\nDoc link : <<https://malijet.com/a_la_une_du_mali/294006-classement-2024-des-puissances-militaires-africaines-le-mali-sup.html>>\\nDoc page_content : <<C\\'est ce qui ressort du rapport 2024 de \"Global Fire Power\". Le cabinet américain, spécialiste des questions de défense, a établi un classement sur un total de 145 pays à travers le monde dont 38 États africains>>\\n', 'Doc title : <<Classement 2024 des puissances militaires africaines: Le Mali supplante ses alliés de l\\'AES et se positionne derrière la Côte d\\'Ivoire>>\\nDoc date : <<2024-08-21>>\\nDoc source_paper : <<Le Nouveau Réveil>>\\nDoc link : <<https://malijet.com/a_la_une_du_mali/294006-classement-2024-des-puissances-militaires-africaines-le-mali-sup.html>>\\nDoc page_content : <<Les États Unis, première puissance de feu du monde D\\'après le rapport de \"Global Fire Power\", les Etats-Unis conservent toujours le titre de première puissance de feu du monde. La Russie, la Chine, l\\'Inde et la Corée du Sud complètent respectivement ce top 5 mondial des puissances militaires. La France détient le 11è rang mondial, tandis que l\\'Ukraine se loge à la 18è place>>\\n']\n",
      "Les puissances militaires sont évaluées en fonction de plusieurs critères, notamment le nombre de militaires actifs, les capacités navales et aériennes, la dotation en ressources naturelles, le budget alloué à la défense, etc. Selon le classement 2024 des puissances militaires africaines, le Mali a surpassé ses alliés de l'AES et se positionne derrière la Côte d'Ivoire. Au niveau mondial, l'Égypte est la 15e puissance militaire, suivie de l'Algérie, de l'Afrique du Sud et du Nigéria. Les États-Unis sont la première puissance de feu du monde, suivis de la Russie, de la Chine, de l'Inde et de la Corée du Sud.\n",
      "\n",
      "[Classement 2024 des puissances militaires africaines: Le Mali supplante ses alliés de l'AES et se positionne derrière la Côte d'Ivoire](https://malijet.com/a_la_une_du_mali/294006-classement-2024-des-puissances-militaires-africaines-le-mali-sup.html)\n",
      "[Le Nouveau Réveil](https://malijet.com/a_la_une_du_mali/294006-classement-2024-des-puissances-militaires-africaines-le-mali-sup.html)\n",
      "-------------------------------------------------- \n",
      "\n",
      "parle moi des puissances militaires\n"
     ]
    },
    {
     "name": "stderr",
     "output_type": "stream",
     "text": [
      "OllamaEmbeddings: 100%|██████████| 1/1 [00:00<00:00,  2.97it/s]\n"
     ]
    },
    {
     "name": "stdout",
     "output_type": "stream",
     "text": [
      "['Doc title : <<Coopération Mali-Niger : Une délégation ministérielle séjourne à Niamey>>\\nDoc date : <<2024-08-21>>\\nDoc source_paper : <<Malijet >>\\nDoc link : <<https://malijet.com/a_la_une_du_mali/294034-cooperation-mali-niger--une-delegation-ministerielle-sejourne-a-.html>>\\nDoc page_content : <<Les discussions ont porté sur divers sujets, incluant les mécanismes de désarmement, de démobilisation et de réintégration (DDR), ainsi que le rôle crucial des autorités traditionnelles dans ce processus>>\\n', \"Doc title : <<Classement 2024 des puissances militaires africaines: Le Mali supplante ses alliés de l'AES et se positionne derrière la Côte d'Ivoire>>\\nDoc date : <<2024-08-21>>\\nDoc source_paper : <<Le Nouveau Réveil>>\\nDoc link : <<https://malijet.com/a_la_une_du_mali/294006-classement-2024-des-puissances-militaires-africaines-le-mali-sup.html>>\\nDoc page_content : <<Il a fondé son classement sur une nomenclature de 60 critères pour déterminer le score ‘'Power Index'' (indice de pouvoir) d'une nation donnée allant des ressources en hommes, aux moyens financiers en passant notamment par les capacités logistiques>>\\n\", 'Doc title : <<Classement 2024 des puissances militaires africaines: Le Mali supplante ses alliés de l\\'AES et se positionne derrière la Côte d\\'Ivoire>>\\nDoc date : <<2024-08-21>>\\nDoc source_paper : <<Le Nouveau Réveil>>\\nDoc link : <<https://malijet.com/a_la_une_du_mali/294006-classement-2024-des-puissances-militaires-africaines-le-mali-sup.html>>\\nDoc page_content : <<Il s\\'agit, en effet du nombre de militaires actifs, des capacités navales et aériennes, de la dotation en ressources naturelles (pétrole, gaz) du pays, du budget alloué à la défense, etc. La conception du \"Power Index\" permet aux nations plus petites et plus avancées sur le plan technologique de rivaliser avec des puissances plus grandes et moins développées>>\\n', \"Doc title : <<Classement 2024 des puissances militaires africaines: Le Mali supplante ses alliés de l'AES et se positionne derrière la Côte d'Ivoire>>\\nDoc date : <<2024-08-21>>\\nDoc source_paper : <<Le Nouveau Réveil>>\\nDoc link : <<https://malijet.com/a_la_une_du_mali/294006-classement-2024-des-puissances-militaires-africaines-le-mali-sup.html>>\\nDoc page_content : <<A souligner que, dans le classement mondial, l'Afrique entre à partir de la 15è place avec l'Égypte. Ce qui fait d'elle la 1ère puissance militaire du continent, tout comme en 2023 où elle occupait la 14è place. Tout comme l'année dernière, il est directement suivi de l'Algérie, de l'Afrique du Sud et du Nigéria>>\\n\", 'Doc title : <<Classement 2024 des puissances militaires africaines: Le Mali supplante ses alliés de l\\'AES et se positionne derrière la Côte d\\'Ivoire>>\\nDoc date : <<2024-08-21>>\\nDoc source_paper : <<Le Nouveau Réveil>>\\nDoc link : <<https://malijet.com/a_la_une_du_mali/294006-classement-2024-des-puissances-militaires-africaines-le-mali-sup.html>>\\nDoc page_content : <<A l\\'instar de 2023, le Bhoutan, pays d\\'Asie du Sud, est resté au bas de l\\'échelle dans ce classement mondial des puissances militaires, soit 145è. Il faut noter que le classement de \"Fire Global Fire\" (GFP), basé sur un « Power index » ( indice de pouvoir) dont le score parfait serait de 0,0000 , est impossible dans les faits>>\\n', 'Doc title : <<Classement 2024 des puissances militaires africaines: Le Mali supplante ses alliés de l\\'AES et se positionne derrière la Côte d\\'Ivoire>>\\nDoc date : <<2024-08-21>>\\nDoc source_paper : <<Le Nouveau Réveil>>\\nDoc link : <<https://malijet.com/a_la_une_du_mali/294006-classement-2024-des-puissances-militaires-africaines-le-mali-sup.html>>\\nDoc page_content : <<C\\'est ce qui ressort du rapport 2024 de \"Global Fire Power\". Le cabinet américain, spécialiste des questions de défense, a établi un classement sur un total de 145 pays à travers le monde dont 38 États africains>>\\n', 'Doc title : <<Classement 2024 des puissances militaires africaines: Le Mali supplante ses alliés de l\\'AES et se positionne derrière la Côte d\\'Ivoire>>\\nDoc date : <<2024-08-21>>\\nDoc source_paper : <<Le Nouveau Réveil>>\\nDoc link : <<https://malijet.com/a_la_une_du_mali/294006-classement-2024-des-puissances-militaires-africaines-le-mali-sup.html>>\\nDoc page_content : <<Les États Unis, première puissance de feu du monde D\\'après le rapport de \"Global Fire Power\", les Etats-Unis conservent toujours le titre de première puissance de feu du monde. La Russie, la Chine, l\\'Inde et la Corée du Sud complètent respectivement ce top 5 mondial des puissances militaires. La France détient le 11è rang mondial, tandis que l\\'Ukraine se loge à la 18è place>>\\n']\n",
      "Les puissances militaires sont évaluées en fonction de plusieurs critères, notamment le nombre de militaires actifs, les capacités navales et aériennes, la dotation en ressources naturelles (pétrole, gaz), le budget alloué à la défense, etc. Selon le classement 2024 des puissances militaires africaines, le Mali a surpassé ses alliés de l'AES et se positionne derrière la Côte d'Ivoire.\n",
      "\n",
      "Au niveau mondial, les États-Unis conservent le titre de première puissance de feu du monde, suivis de la Russie, de la Chine, de l'Inde et de la Corée du Sud. La France détient le 11e rang mondial, tandis que l'Ukraine se loge à la 18e place. L'Égypte est la 1ère puissance militaire du continent africain, suivie de l'Algérie, de l'Afrique du Sud et du Nigéria.\n",
      "\n",
      "[source_paper](https://malijet.com/a_la_une_du_mali/294006-classement-2024-des-puissances-militaires-africaines-le-mali-sup.html) [Le Nouveau Réveil](https://malijet.com/a_la_une_du_mali/294006-classement-2024-des-puissances-militaires-africaines-le-mali-sup.html)\n",
      "-------------------------------------------------- \n",
      "\n"
     ]
    }
   ],
   "execution_count": 78
  },
  {
   "metadata": {},
   "cell_type": "markdown",
   "source": "## Récapitulatif",
   "id": "75dc12a11b946a69"
  },
  {
   "metadata": {},
   "cell_type": "markdown",
   "source": [
    "- 8 bons retrieval sur 11 questions [V, V, V, X, V, V, X, V, X, V, V] : V → True response and X → Wrong response\n",
    "- 4 bonnes réponses sur 11 questions [X, V, V, X, V, X, X, X, X, X, V] :  V → True response and X → Wrong response\n",
    "- Bonne réponse à la question Bonus !\n",
    "- Questions potentielles à rajouter :\n",
    "    - Quand est ce que Abdoulaye Diop rencontrera ses homologues ?\n",
    "    -  Quoi de prévu le 28 juin à Bamako ?\n",
    "    - Quelle célébrité le président a rencontré ?\n",
    "    - À quand la transition civile au Mali ?"
   ],
   "id": "b4fdfa56c58bde45"
  },
  {
   "metadata": {},
   "cell_type": "markdown",
   "source": "# Some results from OpenAIEmbeddings, far better result",
   "id": "ddd5fd27633320b0"
  },
  {
   "metadata": {
    "ExecuteTime": {
     "end_time": "2024-05-21T15:48:44.407782Z",
     "start_time": "2024-05-21T15:17:35.183244Z"
    }
   },
   "cell_type": "code",
   "source": [
    "# Result from OpenAI Embeddings\n",
    "for q in questions:\n",
    "    print(q)\n",
    "    print(chain.invoke(q))\n",
    "    print('-'*50, \"\\n\")"
   ],
   "id": "7b0a8ea0e30d79e7",
   "execution_count": 40,
   "outputs": []
  }
 ],
 "metadata": {
  "kernelspec": {
   "display_name": "Python 3",
   "language": "python",
   "name": "python3"
  },
  "language_info": {
   "codemirror_mode": {
    "name": "ipython",
    "version": 2
   },
   "file_extension": ".py",
   "mimetype": "text/x-python",
   "name": "python",
   "nbconvert_exporter": "python",
   "pygments_lexer": "ipython2",
   "version": "2.7.6"
  }
 },
 "nbformat": 4,
 "nbformat_minor": 5
}
