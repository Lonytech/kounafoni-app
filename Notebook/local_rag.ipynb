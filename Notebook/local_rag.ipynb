{
 "cells": [
  {
   "metadata": {},
   "cell_type": "markdown",
   "source": [
    "    - Ollama -> See : https://ollama.com/download\n",
    "  - For linux users :\n",
    "    \n",
    "    For this tutorial, run these instructions\n",
    "    - Install Ollama : `curl -fsSL https://ollama.com/install.sh | sh`\n",
    "    - Pull required models : \n",
    "        - `ollama pull mayflowergmbh/occiglot-7b-fr-en-instruct` #french llm model\n",
    "        - `ollama pull sammcj/sfr-embedding-mistral:Q4_K_M` # decent embedding for this use case\n",
    "    \n",
    "    -------------------------------------------------------------------------------\n",
    "  \n",
    "    Additional informations about Ollama\n",
    "    - To remove Ollama : https://github.com/ollama/ollama/blob/main/docs/linux.md\n",
    "    - To stop ollama server : `systemctl stop ollama`\n",
    "    - To restart server : `systemctl start ollama`\n",
    "    \n",
    "    -------------------------------------------------------------------------------\n",
    "    Due to issues from Ollama's latest versions in weights update, we might want to install older versions of Ollama.\n",
    "    To install **v.0.1.31** on Linux:\n",
    "      - `curl -fsSL https://ollama.com/install.sh | sed 's#https://ollama.com/download/ollama-linux-${ARCH}${VER_PARAM}#https://github.com/ollama/ollama/releases/download/v0.1.31/ollama-linux-amd64#' | sh`\n",
    "            \n",
    "- Next steps\n",
    "    - Add source for response provided by the chatbot (e.g., source: from 'Le Challenger' via 'Malijet'. To know more, here are some useful links: links...)\n",
    "    - Improve model response (accuracy and precision)\n"
   ],
   "id": "1b3ffc25e5487cf2"
  },
  {
   "cell_type": "code",
   "id": "initial_id",
   "metadata": {
    "collapsed": true,
    "ExecuteTime": {
     "end_time": "2024-09-30T07:26:53.651195Z",
     "start_time": "2024-09-30T07:26:52.870171Z"
    }
   },
   "source": [
    "from pathlib import Path\n",
    "import os\n",
    "import uuid\n",
    "import pandas as pd\n",
    "from datetime import datetime\n",
    "from langchain_community.llms import Ollama\n",
    "from langchain_core.output_parsers import StrOutputParser\n",
    "from langchain.document_loaders.csv_loader import CSVLoader\n",
    "from langchain_community.document_loaders import DirectoryLoader\n",
    "from langchain_text_splitters import RecursiveCharacterTextSplitter\n",
    "from langchain.embeddings import OllamaEmbeddings\n",
    "from langchain_core.prompts import ChatPromptTemplate, MessagesPlaceholder\n",
    "from langchain_core.runnables import RunnablePassthrough\n",
    "from langchain.vectorstores.chroma import Chroma\n",
    "from langchain_groq import ChatGroq\n",
    "\n",
    "from langchain.chains import create_history_aware_retriever, create_retrieval_chain\n",
    "from langchain.chains.combine_documents import create_stuff_documents_chain\n",
    "from langchain_community.chat_message_histories import ChatMessageHistory\n",
    "from langchain_core.chat_history import BaseChatMessageHistory\n",
    "from langchain_core.runnables.history import RunnableWithMessageHistory\n",
    "# from langchain_community.vectorstores import DocArrayInMemorySearch\n",
    "# from langchain_openai.embeddings import OpenAIEmbeddings"
   ],
   "outputs": [],
   "execution_count": 1
  },
  {
   "metadata": {
    "ExecuteTime": {
     "end_time": "2024-09-30T07:28:52.571868Z",
     "start_time": "2024-09-30T07:28:52.567769Z"
    }
   },
   "cell_type": "code",
   "source": [
    "%env OPENAI_API_KEY=sk-xxx\n",
    "%env GROQ_API_KEY=gsk_xxx"
   ],
   "id": "fa0970cb82d4cc0e",
   "outputs": [
    {
     "name": "stdout",
     "output_type": "stream",
     "text": [
      "env: OPENAI_API_KEY=sk-xxx\n",
      "env: GROQ_API_KEY=gsk_xxx\n"
     ]
    }
   ],
   "execution_count": 3
  },
  {
   "metadata": {
    "ExecuteTime": {
     "end_time": "2024-09-30T07:37:22.449553Z",
     "start_time": "2024-09-30T07:37:20.179231Z"
    }
   },
   "cell_type": "code",
   "source": [
    "chat = ChatGroq(\n",
    "    temperature=0,\n",
    "    model=\"llama3-70b-8192\",\n",
    "    # api_key=\"\" # Optional if not set as an environment variable\n",
    ")\n",
    "\n",
    "system = \"You are a helpful assistant.\"\n",
    "human = \"{text}\"\n",
    "prompt = ChatPromptTemplate.from_messages([(\"system\", system), (\"human\", human)])\n",
    "\n",
    "chain = prompt | chat\n",
    "chain.invoke({\"text\": \"Explain the importance of low latency for LLMs.\"})"
   ],
   "id": "8d986d45a4e36c0a",
   "outputs": [
    {
     "data": {
      "text/plain": [
       "AIMessage(content=\"Low latency is crucial for Large Language Models (LLMs) because it directly impacts the user experience, model performance, and overall efficiency of language-based applications. Here are some reasons why low latency is essential for LLMs:\\n\\n1. **Real-time Interaction**: LLMs are often used in applications that require real-time interaction, such as chatbots, virtual assistants, and language translation systems. Low latency ensures that the model responds quickly to user input, providing a seamless and engaging experience.\\n2. **Conversational Flow**: In conversational AI, latency can disrupt the natural flow of conversation. High latency can lead to awkward pauses, making the interaction feel unnatural and frustrating. Low latency helps maintain a smooth conversation, allowing users to engage more naturally with the model.\\n3. **Model Performance**: Latency can affect the performance of LLMs, particularly those that rely on sequential processing or recursive neural networks. High latency can lead to increased error rates, decreased accuracy, and reduced model confidence. Low latency helps maintain model performance, ensuring accurate and reliable results.\\n4. **Scalability**: As LLMs are deployed in large-scale applications, low latency becomes critical for handling a high volume of requests. Low latency enables models to process requests efficiently, reducing the load on infrastructure and ensuring that the system can scale to meet demand.\\n5. **User Experience**: High latency can lead to user frustration, abandonment, and a negative experience. Low latency, on the other hand, contributes to a positive user experience, increasing user engagement, and ultimately, driving business success.\\n6. **Competitive Advantage**: In today's fast-paced digital landscape, low latency can be a key differentiator for businesses and applications. By providing a responsive and efficient experience, organizations can gain a competitive edge over their rivals.\\n7. **Edge Computing**: With the increasing adoption of edge computing, low latency becomes even more critical. Edge computing involves processing data closer to the source, reducing latency and improving real-time processing capabilities. LLMs optimized for edge computing can provide even faster response times and more efficient processing.\\n8. **Safety-Critical Applications**: In safety-critical applications, such as autonomous vehicles or medical diagnosis systems, low latency is essential for ensuring timely and accurate decision-making. High latency can have severe consequences, making low latency a critical requirement for these applications.\\n\\nTo achieve low latency in LLMs, developers and researchers employ various techniques, including:\\n\\n* Model pruning and knowledge distillation to reduce model size and complexity\\n* Quantization and precision reduction to decrease computational requirements\\n* Parallel processing and distributed computing to accelerate processing\\n* Caching and content delivery networks to reduce latency in data retrieval\\n* Optimized hardware and software configurations to minimize processing time\\n\\nBy prioritizing low latency, developers can create more efficient, effective, and user-friendly LLMs that drive business success and improve overall user experience.\", response_metadata={'token_usage': {'completion_tokens': 581, 'prompt_tokens': 33, 'total_tokens': 614, 'completion_time': 1.830303164, 'prompt_time': 0.001177789, 'queue_time': 0.013295921, 'total_time': 1.831480953}, 'model_name': 'llama3-70b-8192', 'system_fingerprint': 'fp_c1a4bcec29', 'finish_reason': 'stop', 'logprobs': None}, id='run-03ed0c44-8a01-464a-ad66-e754a646f97b-0', usage_metadata={'input_tokens': 33, 'output_tokens': 581, 'total_tokens': 614})"
      ]
     },
     "execution_count": 27,
     "metadata": {},
     "output_type": "execute_result"
    }
   ],
   "execution_count": 27
  },
  {
   "metadata": {
    "ExecuteTime": {
     "end_time": "2024-09-30T07:31:19.907360Z",
     "start_time": "2024-09-30T07:31:19.903572Z"
    }
   },
   "cell_type": "code",
   "source": [
    "# ARTICLE_SOURCE_FILE_PATH = Path().resolve().parent /\"data\" / \"malijet\" / \"source.csv\"\n",
    "CHROMA_DB_PERSIST_PATH = Path().resolve().parent / \"data\" / \"new_chroma_db_1024\"\n",
    "MODEL_NAME = \"mayflowergmbh/occiglot-7b-fr-en-instruct\"\n",
    "# MODEL_NAME = \"falcon2:11b-q4_0\""
   ],
   "id": "1e5d62f9058c6a59",
   "outputs": [],
   "execution_count": 21
  },
  {
   "metadata": {
    "ExecuteTime": {
     "end_time": "2024-08-10T09:09:48.210277Z",
     "start_time": "2024-08-10T09:09:48.206578Z"
    }
   },
   "cell_type": "code",
   "source": [
    "# get nb cpu\n",
    "os.cpu_count()"
   ],
   "id": "5fc57ddc9742470d",
   "outputs": [
    {
     "data": {
      "text/plain": [
       "16"
      ]
     },
     "execution_count": 4,
     "metadata": {},
     "output_type": "execute_result"
    }
   ],
   "execution_count": 4
  },
  {
   "metadata": {
    "ExecuteTime": {
     "end_time": "2024-08-10T09:09:48.804771Z",
     "start_time": "2024-08-10T09:09:48.798810Z"
    }
   },
   "cell_type": "code",
   "source": [
    "system_role = \"Tu es un expert sur les actualités du Mali et tu parles uniquement français (spécialisé en langue française).\"\n",
    "llm = Ollama(\n",
    "    model=MODEL_NAME, \n",
    "    system=system_role, \n",
    "    # num_thread=os.cpu_count()-6\n",
    ")\n",
    "llm"
   ],
   "id": "609b90e8d6c8fa64",
   "outputs": [
    {
     "data": {
      "text/plain": [
       "Ollama(model='mayflowergmbh/occiglot-7b-fr-en-instruct', system='Tu es un expert sur les actualités du Mali et tu parles uniquement français (spécialisé en langue française).')"
      ]
     },
     "execution_count": 5,
     "metadata": {},
     "output_type": "execute_result"
    }
   ],
   "execution_count": 5
  },
  {
   "metadata": {},
   "cell_type": "markdown",
   "source": "## Testing Simple LLM discussion",
   "id": "79883c6433748c08"
  },
  {
   "metadata": {
    "ExecuteTime": {
     "end_time": "2024-06-03T02:25:24.385615Z",
     "start_time": "2024-06-03T02:24:55.260408Z"
    }
   },
   "cell_type": "code",
   "source": "llm.invoke(\"Cite moi les noms des présidents du Mali.\")",
   "id": "3c93a18536ce0ae5",
   "outputs": [
    {
     "data": {
      "text/plain": [
       "'Les noms des présidents du Mali sont Amadou Toumani Touré, Dioncounda Traoré, Ibrahim Boubacar Keïta et Assimi Goita.\\n'"
      ]
     },
     "execution_count": 12,
     "metadata": {},
     "output_type": "execute_result"
    }
   ],
   "execution_count": 12
  },
  {
   "metadata": {
    "ExecuteTime": {
     "end_time": "2024-06-03T02:26:05.197461Z",
     "start_time": "2024-06-03T02:25:24.387291Z"
    }
   },
   "cell_type": "code",
   "source": "llm.invoke(\"Quelle est la plus grande crise que la Mali a connue ?\")",
   "id": "7a2a5487f0d95608",
   "outputs": [
    {
     "data": {
      "text/plain": [
       "\"La crise la plus grave que le Mali ait connue est sans doute la guerre civile de 2012. Cette conflit a opposé les forces gouvernementales aux rebelles touaregs et à l'Armée malienne pour la libération de l'Azawad (AMAL). La guerre civile a fait des milliers de morts et a provoqué une crise humanitaire majeure dans le pays.\\n\""
      ]
     },
     "execution_count": 13,
     "metadata": {},
     "output_type": "execute_result"
    }
   ],
   "execution_count": 13
  },
  {
   "metadata": {
    "ExecuteTime": {
     "end_time": "2024-06-03T02:26:26.016528Z",
     "start_time": "2024-06-03T02:26:05.198524Z"
    }
   },
   "cell_type": "code",
   "source": "llm.invoke(\"Who is the most popular scientist in the world?\")",
   "id": "abbaf94d1945f818",
   "outputs": [
    {
     "data": {
      "text/plain": [
       "'Je ne suis pas capable de répondre à cette question. Je peux vous donner des informations sur les scientifiques célèbres, mais je ne peux pas dire qui est le plus populaire dans le monde entier.'"
      ]
     },
     "execution_count": 14,
     "metadata": {},
     "output_type": "execute_result"
    }
   ],
   "execution_count": 14
  },
  {
   "metadata": {},
   "cell_type": "markdown",
   "source": "## 2. Build RAG with CSV file",
   "id": "72e4efb57cc1c09b"
  },
  {
   "metadata": {
    "ExecuteTime": {
     "end_time": "2024-09-30T07:30:18.260831Z",
     "start_time": "2024-09-30T07:30:18.247464Z"
    }
   },
   "cell_type": "code",
   "source": [
    "# loader = CSVLoader(\n",
    "#     file_path=ARTICLE_SOURCE_FILE_PATH,\n",
    "#     csv_args={\n",
    "#         \"delimiter\": \"\\t\"\n",
    "#     }\n",
    "# )\n",
    "\n",
    "loader = DirectoryLoader(\"../data/articles\", glob=\"**/*.csv\", loader_cls=CSVLoader, \n",
    "                         loader_kwargs={\n",
    "                             \"csv_args\" : {\"delimiter\": \"\\t\",\n",
    "                                           },\n",
    "                             \"metadata_columns\": [\"title\", \"source_paper\", \"date\", \"link\"]\n",
    "                         })\n",
    "# load documents\n",
    "data = loader.load()\n",
    "data[:3] # three first documents"
   ],
   "id": "e79a45440193a7cb",
   "outputs": [
    {
     "data": {
      "text/plain": [
       "[Document(metadata={'source': '../data/articles/malijet/2024/08/21.csv', 'row': 0, 'title': 'Coopération Mali-Niger : Une délégation ministérielle séjourne à Niamey', 'source_paper': 'Malijet ', 'date': '2024-08-21', 'link': 'https://malijet.com/a_la_une_du_mali/294034-cooperation-mali-niger--une-delegation-ministerielle-sejourne-a-.html'}, page_content=\"content: Une délégation importante du gouvernement malien, dirigée par le ministre de la Justice et des Droits de l’Homme, garde des Sceaux, Mamadou Kassogué, s'est rendue à Niamey, au Niger, pour étudier les méthodes nigériennes dans la lutte contre l'extrémisme violent, notamment la réinsertion des ex-combattants. Cette initiative vise à trouver une solution durable et efficace pour résoudre un problème capital auquel le Mali est confronté. La délégation malienne a eu des entretiens avec le ministre d'État, ministre de l'Intérieur, de la Sécurité publique et de l'Administration territoriale du Niger, le général de brigade Mohamed Toumba. Les discussions ont porté sur divers sujets, incluant les mécanismes de désarmement, de démobilisation et de réintégration (DDR), ainsi que le rôle crucial des autorités traditionnelles dans ce processus. Le voyage d'études de la délégation malienne s'inscrit également dans le cadre de la réunion préparatoire des experts, présidée par le Conseiller spécial du président de la transition malienne, M. Boya Dembélé. Cette réunion vise à approfondir les échanges sur les stratégies et les meilleures pratiques pour renforcer la paix et la sécurité dans la région.   Kandana/Malijet.com\"),\n",
       " Document(metadata={'source': '../data/articles/malijet/2024/08/21.csv', 'row': 1, 'title': 'Digitalisation de l’Administration: La DGCCC en première ligne pour concrétiser la vision du Président de la transition', 'source_paper': 'Le Nouveau Réveil', 'date': '2024-08-21', 'link': 'https://malijet.com/a_la_une_du_mali/294008-digitalisation-de-l’administration-la-dgccc-en-premiere-ligne-po.html'}, page_content='content: Le lundi 12 août 2024, la Direction Générale du Commerce, de la Consommation et de la Concurrence (DGCCC) a accueilli le Ministre de l’Industrie et du Commerce, M. Moussa Alassane Diallo, pour une visite riche en enseignements. À cette occasion, le Ministre a salué les progrès remarquables réalisés par cette entité dans le processus de digitalisation, un pilier essentiel pour la modernisation de l\\'administration malienne.  Conformément aux directives des plus hautes autorités de la transition, avec à leur tête, le Colonel Assimi Goïta, Président de la Transition, le Mali avance résolument vers la digitalisation de ses services publics. La DGCCC, sous la houlette de son Directeur Général, M. Zedion Dembélé, incarne cette volonté de transformation en s\\'engageant pleinement dans cette révolution numérique. L’objectif est clair : rendre l\\'administration plus transparente, plus efficace, tout en assurant une régulation optimale du commerce, une protection accrue des consommateurs, et une concurrence équitable sur le marché national. Le Ministre Diallo, impressionné par les avancées réalisées, n’a pas manqué de souligner l\\'importance de cette digitalisation pour l\\'avenir du Mali. \"Ces progrès illustrent la détermination du gouvernement à instaurer une administration moderne, dynamique et adaptée aux exigences du développement\", a-t-il déclaré avec enthousiasme.   Cette visite a également permis d\\'échanger de manière constructive avec les cadres de la DGCCC. Ainsi, M. Diallo a chaleureusement félicité l’ensemble du personnel pour son engagement indéfectible, tout en les encourageant à continuer sur cette lancée pour faire de la DGCCC un modèle d\\'innovation administrative. En ligne avec la vision des autorités de la transition, la digitalisation de l’administration constitue un défi majeur pour le Mali. La DGCCC, par ses actions audacieuses, montre qu\\'elle est à la hauteur de ce défi et qu’elle est prête à jouer un rôle de premier plan dans la modernisation de l’État, suivant ainsi les aspirations du Colonel Goïta et de son gouvernement. Adama Coulibaly'),\n",
       " Document(metadata={'source': '../data/articles/malijet/2024/08/21.csv', 'row': 2, 'title': \"Classement 2024 des puissances militaires africaines: Le Mali supplante ses alliés de l'AES et se positionne derrière la Côte d'Ivoire\", 'source_paper': 'Le Nouveau Réveil', 'date': '2024-08-21', 'link': 'https://malijet.com/a_la_une_du_mali/294006-classement-2024-des-puissances-militaires-africaines-le-mali-sup.html'}, page_content='content: Si dans la zone CFA, en termes de classement économique, le rang de 4è qu\\'occupait le Mali a été chipé par son voisin Burkinabè, qui en plus lui a dépassé en termes d\\'investissements dans l\\'armement pendant la période 2022-2023, tel n\\'est pas le cas dans le classement africain 2024 des puissances de feu. Le Mali laisse loin derrière lui le Burkina. C\\'est ce qui ressort du rapport 2024 de \"Global Fire Power\". Le cabinet américain, spécialiste des questions de défense, a établi un classement sur un total de 145 pays à travers le monde dont 38 États africains. Il a fondé son classement sur une nomenclature de 60 critères pour déterminer le score ‘\\'Power Index\\'\\' (indice de pouvoir) d\\'une nation donnée allant des ressources en hommes, aux moyens financiers en passant notamment par les capacités logistiques. Il s\\'agit, en effet du nombre de militaires actifs, des capacités navales et aériennes, de la dotation en ressources naturelles (pétrole, gaz) du pays, du budget alloué à la défense, etc. La conception du \"Power Index\" permet aux nations plus petites et plus avancées sur le plan technologique de rivaliser avec des puissances plus grandes et moins développées. Le Mali boucle le top 20 africain   Les 20 premières armées africaines, selon le rapport de Global Fire Power de 2024, sont : l\\'Égypte, l\\'Algérie, l\\'Afrique du Sud, le Nigéria, l\\'Éthiopie, l\\'Angola, le Maroc, la République Démocratique du Congo, la Tunisie, le Soudan, la Lybie, le Kenya, le  Mozambique, le Tchad, la Zambie, la Côte d\\'Ivoire, le Zimbabwe, la Tanzanie, le Cameroun et le Mali. Et puis arrivent respectivement le Ghana (113e), l\\'Ouganda (114e), l\\'Erythrée (117e), le Soudan du Sud (119e), le Niger (121e), la République du Congo (122e), la Namibie (124e), le Botswana (126e), le Burkina Faso (127e), le Sénégal (130e), la Mauritanie (131e), le Gabon (132e), Madagascar (133e), la Centrafrique (137e), la Sierra Leone (138e), le Liberia (140e), le Bénin (141e), la Somalie (142e). A souligner que, dans le classement mondial, l\\'Afrique entre à partir de la 15è place avec l\\'Égypte. Ce qui fait d\\'elle la 1ère puissance militaire du continent, tout comme en 2023 où elle occupait la 14è place. Tout comme l\\'année dernière, il est directement suivi de l\\'Algérie, de l\\'Afrique du Sud et du Nigéria. Par rapport aux pays de l\\'Afrique de l\\'ouest francophone, c\\'est la Côte d\\'Ivoire qui se hisse au 16è rang au niveau continental et 98è à l\\'échelle mondiale contre respectivement la 19è et la 105è places en 2023. Elle est suivie du Mali et du Niger qui occupent respectivement au niveau africain les 20è et 25è places et au niveau mondial les 106è et 121è rangs. Le Mali, 3è de la CEDEAO et 2è de l\\'UMEOA  A l\\'analyse du classement, l\\'on remarque qu\\'au sein de la CEDEAO (Communauté économique des États de l\\'Afrique de l\\'ouest), le Nigéria et la Côte d\\'Ivoire conservent leur place des deux plus grandes puissances militaires de la zone. En effet, comparativement à l\\'année dernière, le Nigéria a maintenu à la fois sa première place dans la CEDEAO, et la 4ème au niveau africain. Cependant, il a été décalé à l\\'échelle mondiale au 39ème rang contre 36ème en 2023 sur les 145 Etats évalués. Quant à la Côte d\\'Ivoire, au regard de son 16è rang africain, elle se classe en 2è position dans la CEDEAO et, du coup première dans la zone UEMOA (Union économique et monétaire ouest-africaine). Le Mali, occupant au niveau africain la 20è place, se classe 3è de la CEDEAO et 2è dans la zone UEMOA. Ainsi, il se classe derrière la Côte d\\'Ivoire qui demeure leader en Afrique occidentale francophone. A noter que tout comme l\\'année précédente, ces deux pays maintiennent leur position d\\'armée leader en cette année 2024. Il en de même pour le Niger (25è rang africain et 121è rang mondial) est 5è de la CEDEAO et 3è de la zone UEMOA. Par ailleurs, on constate que le Burkina, pays membre de la confédération de l\\'Alliance des États du sahel (AES) tout  comme le Mali et le Niger, occupe le 29è rang africain et 127è mondial. Autrement dit, le Mali (20è africain et 106è mondial) le dépasse de très loin. Les États Unis, première puissance de feu du monde D\\'après le rapport de \"Global Fire Power\", les Etats-Unis conservent toujours le titre de première puissance de feu du monde. La Russie, la Chine, l\\'Inde et la Corée du Sud complètent respectivement ce top 5 mondial des puissances militaires. La France détient le 11è rang mondial, tandis que l\\'Ukraine se loge à la 18è place. A l\\'instar de 2023, le Bhoutan, pays d\\'Asie du Sud, est resté au bas de l\\'échelle dans ce classement mondial des puissances militaires, soit 145è. Il faut noter que le classement de \"Fire Global Fire\" (GFP), basé sur un « Power index » ( indice de pouvoir) dont le score parfait serait de 0,0000 , est impossible dans les faits. Ainsi, plus on s\\'éloigne de ce score, plus on recule au classement. GFP ne prend pas en considération les stocks nucléaires et pénalise les pays qui ne disposent pas de littoral sur la mer, c\\'est à dire les pays qui n\\'ont pas de forces navales. A.Diallo')]"
      ]
     },
     "execution_count": 5,
     "metadata": {},
     "output_type": "execute_result"
    }
   ],
   "execution_count": 5
  },
  {
   "metadata": {
    "ExecuteTime": {
     "end_time": "2024-09-30T07:30:20.220420Z",
     "start_time": "2024-09-30T07:30:20.215735Z"
    }
   },
   "cell_type": "code",
   "source": "data[0]",
   "id": "b8fb4ca4162397bd",
   "outputs": [
    {
     "data": {
      "text/plain": [
       "Document(metadata={'source': '../data/articles/malijet/2024/08/21.csv', 'row': 0, 'title': 'Coopération Mali-Niger : Une délégation ministérielle séjourne à Niamey', 'source_paper': 'Malijet ', 'date': '2024-08-21', 'link': 'https://malijet.com/a_la_une_du_mali/294034-cooperation-mali-niger--une-delegation-ministerielle-sejourne-a-.html'}, page_content=\"content: Une délégation importante du gouvernement malien, dirigée par le ministre de la Justice et des Droits de l’Homme, garde des Sceaux, Mamadou Kassogué, s'est rendue à Niamey, au Niger, pour étudier les méthodes nigériennes dans la lutte contre l'extrémisme violent, notamment la réinsertion des ex-combattants. Cette initiative vise à trouver une solution durable et efficace pour résoudre un problème capital auquel le Mali est confronté. La délégation malienne a eu des entretiens avec le ministre d'État, ministre de l'Intérieur, de la Sécurité publique et de l'Administration territoriale du Niger, le général de brigade Mohamed Toumba. Les discussions ont porté sur divers sujets, incluant les mécanismes de désarmement, de démobilisation et de réintégration (DDR), ainsi que le rôle crucial des autorités traditionnelles dans ce processus. Le voyage d'études de la délégation malienne s'inscrit également dans le cadre de la réunion préparatoire des experts, présidée par le Conseiller spécial du président de la transition malienne, M. Boya Dembélé. Cette réunion vise à approfondir les échanges sur les stratégies et les meilleures pratiques pour renforcer la paix et la sécurité dans la région.   Kandana/Malijet.com\")"
      ]
     },
     "execution_count": 6,
     "metadata": {},
     "output_type": "execute_result"
    }
   ],
   "execution_count": 6
  },
  {
   "metadata": {
    "ExecuteTime": {
     "end_time": "2024-09-30T07:30:26.783337Z",
     "start_time": "2024-09-30T07:30:26.775276Z"
    }
   },
   "cell_type": "code",
   "source": [
    "pd.Series([i.metadata['source'] for i in data]).value_counts()\n",
    "# 53 articles extracted\n",
    "len(data), #pd.read_csv(ARTICLE_SOURCE_FILE_PATH, sep=\"\\t\").shape[0]"
   ],
   "id": "873e297d2e8bea8e",
   "outputs": [
    {
     "data": {
      "text/plain": [
       "(56,)"
      ]
     },
     "execution_count": 7,
     "metadata": {},
     "output_type": "execute_result"
    }
   ],
   "execution_count": 7
  },
  {
   "metadata": {},
   "cell_type": "markdown",
   "source": "## Let's see if the splitter is necessary",
   "id": "9c4aaff6953733cf"
  },
  {
   "metadata": {},
   "cell_type": "markdown",
   "source": "### Without splitter",
   "id": "f002488cec5b6f14"
  },
  {
   "metadata": {
    "ExecuteTime": {
     "end_time": "2024-09-30T07:30:28.283363Z",
     "start_time": "2024-09-30T07:30:28.277015Z"
    }
   },
   "cell_type": "code",
   "source": [
    "def get_length_info(list_of_documents, splitters=None):\n",
    "    \n",
    "    if splitters is None:\n",
    "        splitters = [' ', '.']\n",
    "    \n",
    "    ## search the content length statistics (nb characters)\n",
    "    print('-'*10, \"For character length\", '-'*10)\n",
    "    display(pd.Series([len(document.page_content) for document in list_of_documents]).describe())\n",
    "    \n",
    "    ## search the words length statistics (nb words)\n",
    "    print('-'*10, \"Length of words (nb characters) in the corpus\", '-'*10)\n",
    "    _res = list()\n",
    "    for document in list_of_documents:\n",
    "        _res += pd.Series(document.page_content.split(splitters[0])).apply(len).tolist()\n",
    "    display(pd.Series(_res).describe())\n",
    "    \n",
    "    ## search the sentence length statistics (nb words)\n",
    "    print('-'*10, \"How many words in each doc\", '-'*10)\n",
    "    display(pd.Series([len(doc.page_content.split(splitters[0])) for doc in list_of_documents]).describe())\n",
    "    \n",
    "    ## search the sentence length statistics (nb words)\n",
    "    print('-'*10, \"For how many sentences in in each doc\", '-'*10)\n",
    "    display(pd.Series([len(doc.page_content.split(splitters[1])) for doc in list_of_documents]).describe())\n",
    "    \n",
    "    ## search the sentence length statistics (nb words)\n",
    "    print('-'*10, \"For sentences length in each doc\", '-'*10)\n",
    "    display(pd.Series([len(sentence) for document in list_of_documents for sentence in document.page_content.split('.')]).describe())\n",
    "    \n",
    "    return _res"
   ],
   "id": "d7ab01346dd7721b",
   "outputs": [],
   "execution_count": 8
  },
  {
   "metadata": {
    "ExecuteTime": {
     "end_time": "2024-09-30T07:30:28.916444Z",
     "start_time": "2024-09-30T07:30:28.875032Z"
    }
   },
   "cell_type": "code",
   "source": "res = get_length_info(data)",
   "id": "8f383d02d93be293",
   "outputs": [
    {
     "name": "stdout",
     "output_type": "stream",
     "text": [
      "---------- For character length ----------\n"
     ]
    },
    {
     "data": {
      "text/plain": [
       "count       56.000000\n",
       "mean      2721.000000\n",
       "std       2558.947049\n",
       "min        278.000000\n",
       "25%       1347.000000\n",
       "50%       1992.000000\n",
       "75%       3256.000000\n",
       "max      16557.000000\n",
       "dtype: float64"
      ]
     },
     "metadata": {},
     "output_type": "display_data"
    },
    {
     "name": "stdout",
     "output_type": "stream",
     "text": [
      "---------- Length of words (nb characters) in the corpus ----------\n"
     ]
    },
    {
     "data": {
      "text/plain": [
       "count    23505.000000\n",
       "mean         5.485088\n",
       "std          3.574031\n",
       "min          0.000000\n",
       "25%          2.000000\n",
       "50%          5.000000\n",
       "75%          8.000000\n",
       "max         26.000000\n",
       "dtype: float64"
      ]
     },
     "metadata": {},
     "output_type": "display_data"
    },
    {
     "name": "stdout",
     "output_type": "stream",
     "text": [
      "---------- How many words in each doc ----------\n"
     ]
    },
    {
     "data": {
      "text/plain": [
       "count      56.000000\n",
       "mean      419.732143\n",
       "std       399.585398\n",
       "min        41.000000\n",
       "25%       200.000000\n",
       "50%       300.000000\n",
       "75%       491.250000\n",
       "max      2519.000000\n",
       "dtype: float64"
      ]
     },
     "metadata": {},
     "output_type": "display_data"
    },
    {
     "name": "stdout",
     "output_type": "stream",
     "text": [
      "---------- For how many sentences in in each doc ----------\n"
     ]
    },
    {
     "data": {
      "text/plain": [
       "count    56.000000\n",
       "mean     16.267857\n",
       "std      13.421138\n",
       "min       3.000000\n",
       "25%       8.000000\n",
       "50%      13.000000\n",
       "75%      18.250000\n",
       "max      80.000000\n",
       "dtype: float64"
      ]
     },
     "metadata": {},
     "output_type": "display_data"
    },
    {
     "name": "stdout",
     "output_type": "stream",
     "text": [
      "---------- For sentences length in each doc ----------\n"
     ]
    },
    {
     "data": {
      "text/plain": [
       "count     911.000000\n",
       "mean      166.323820\n",
       "std       122.778007\n",
       "min         0.000000\n",
       "25%        92.000000\n",
       "50%       154.000000\n",
       "75%       227.000000\n",
       "max      1418.000000\n",
       "dtype: float64"
      ]
     },
     "metadata": {},
     "output_type": "display_data"
    }
   ],
   "execution_count": 9
  },
  {
   "metadata": {},
   "cell_type": "markdown",
   "source": "## With splitter",
   "id": "a2da7035ac0fa051"
  },
  {
   "metadata": {
    "ExecuteTime": {
     "end_time": "2024-09-30T07:30:29.565348Z",
     "start_time": "2024-09-30T07:30:29.548437Z"
    }
   },
   "cell_type": "code",
   "source": "pd.Series(res).max(), pd.Series(res).quantile(.99)",
   "id": "e894f4831744b1b6",
   "outputs": [
    {
     "data": {
      "text/plain": [
       "(26, 15.0)"
      ]
     },
     "execution_count": 10,
     "metadata": {},
     "output_type": "execute_result"
    }
   ],
   "execution_count": 10
  },
  {
   "metadata": {
    "ExecuteTime": {
     "end_time": "2024-09-30T07:30:30.530973Z",
     "start_time": "2024-09-30T07:30:30.523041Z"
    }
   },
   "cell_type": "code",
   "source": [
    "quantile = 387 # first version\n",
    "maxi_character_per_sentence = pd.Series([len(sentence) for document in data for sentence in document.page_content.split('.')]).max().astype(int)\n",
    "maxi_character_per_words = 20 # over 16 to make sure to get all-content overlap\n",
    "quantile, maxi_character_per_sentence, maxi_character_per_words"
   ],
   "id": "cc766a25eedffec",
   "outputs": [
    {
     "data": {
      "text/plain": [
       "(387, 1418, 20)"
      ]
     },
     "execution_count": 11,
     "metadata": {},
     "output_type": "execute_result"
    }
   ],
   "execution_count": 11
  },
  {
   "metadata": {},
   "cell_type": "markdown",
   "source": [
    "How do I determine how many characters form a meaningful chunk (i.e., understandable and self-sufficient information)?\n",
    "We will assume that each sentence could be a meaningful chunk. The idea is to have a count distribution of sentences length in our corpus to make a quick decision.\n",
    "- We might choose 400 (similar to the quantile q95) as chunk size to be more flexible. In this case, we stay with 387 as a chunk size\n",
    "- Also, in this case, we'll set 20 as the maximum length of character possible in a sentence"
   ],
   "id": "a7660197a0a2f201"
  },
  {
   "metadata": {
    "ExecuteTime": {
     "end_time": "2024-09-30T07:30:31.984965Z",
     "start_time": "2024-09-30T07:30:31.962860Z"
    }
   },
   "cell_type": "code",
   "source": [
    "## test the document splitter\n",
    "text_splitter = RecursiveCharacterTextSplitter(\n",
    "    chunk_size=quantile, # selected quantile\n",
    "    chunk_overlap=maxi_character_per_words,\n",
    "    separators=[\"\\n\\n\", \"\\n\", \". \", \" \", \"\"], # specify that sentence split (by dot) is more important than space & other\n",
    "    keep_separator=False # drop the separators from the document after split\n",
    ")\n",
    "documents = text_splitter.split_documents(documents=data)\n",
    "len(documents)"
   ],
   "id": "748bcce94fc43827",
   "outputs": [
    {
     "data": {
      "text/plain": [
       "554"
      ]
     },
     "execution_count": 12,
     "metadata": {},
     "output_type": "execute_result"
    }
   ],
   "execution_count": 12
  },
  {
   "metadata": {
    "ExecuteTime": {
     "end_time": "2024-09-30T07:30:34.178863Z",
     "start_time": "2024-09-30T07:30:34.173636Z"
    }
   },
   "cell_type": "code",
   "source": "documents[8:20]",
   "id": "a9f794b440aab2fd",
   "outputs": [
    {
     "data": {
      "text/plain": [
       "[Document(metadata={'source': '../data/articles/malijet/2024/08/21.csv', 'row': 1, 'title': 'Digitalisation de l’Administration: La DGCCC en première ligne pour concrétiser la vision du Président de la transition', 'source_paper': 'Le Nouveau Réveil', 'date': '2024-08-21', 'link': 'https://malijet.com/a_la_une_du_mali/294008-digitalisation-de-l’administration-la-dgccc-en-premiere-ligne-po.html'}, page_content=\"Zedion Dembélé, incarne cette volonté de transformation en s'engageant pleinement dans cette révolution numérique. L’objectif est clair : rendre l'administration plus transparente, plus efficace, tout en assurant une régulation optimale du commerce, une protection accrue des consommateurs, et une concurrence équitable sur le marché national\"),\n",
       " Document(metadata={'source': '../data/articles/malijet/2024/08/21.csv', 'row': 1, 'title': 'Digitalisation de l’Administration: La DGCCC en première ligne pour concrétiser la vision du Président de la transition', 'source_paper': 'Le Nouveau Réveil', 'date': '2024-08-21', 'link': 'https://malijet.com/a_la_une_du_mali/294008-digitalisation-de-l’administration-la-dgccc-en-premiere-ligne-po.html'}, page_content='Le Ministre Diallo, impressionné par les avancées réalisées, n’a pas manqué de souligner l\\'importance de cette digitalisation pour l\\'avenir du Mali. \"Ces progrès illustrent la détermination du gouvernement à instaurer une administration moderne, dynamique et adaptée aux exigences du développement\", a-t-il déclaré avec enthousiasme'),\n",
       " Document(metadata={'source': '../data/articles/malijet/2024/08/21.csv', 'row': 1, 'title': 'Digitalisation de l’Administration: La DGCCC en première ligne pour concrétiser la vision du Président de la transition', 'source_paper': 'Le Nouveau Réveil', 'date': '2024-08-21', 'link': 'https://malijet.com/a_la_une_du_mali/294008-digitalisation-de-l’administration-la-dgccc-en-premiere-ligne-po.html'}, page_content=\"Cette visite a également permis d'échanger de manière constructive avec les cadres de la DGCCC. Ainsi, M. Diallo a chaleureusement félicité l’ensemble du personnel pour son engagement indéfectible, tout en les encourageant à continuer sur cette lancée pour faire de la DGCCC un modèle d'innovation administrative\"),\n",
       " Document(metadata={'source': '../data/articles/malijet/2024/08/21.csv', 'row': 1, 'title': 'Digitalisation de l’Administration: La DGCCC en première ligne pour concrétiser la vision du Président de la transition', 'source_paper': 'Le Nouveau Réveil', 'date': '2024-08-21', 'link': 'https://malijet.com/a_la_une_du_mali/294008-digitalisation-de-l’administration-la-dgccc-en-premiere-ligne-po.html'}, page_content=\"En ligne avec la vision des autorités de la transition, la digitalisation de l’administration constitue un défi majeur pour le Mali. La DGCCC, par ses actions audacieuses, montre qu'elle est à la hauteur de ce défi et qu’elle est prête à jouer un rôle de premier plan dans la modernisation de l’État, suivant ainsi les aspirations du Colonel Goïta et de son gouvernement\"),\n",
       " Document(metadata={'source': '../data/articles/malijet/2024/08/21.csv', 'row': 1, 'title': 'Digitalisation de l’Administration: La DGCCC en première ligne pour concrétiser la vision du Président de la transition', 'source_paper': 'Le Nouveau Réveil', 'date': '2024-08-21', 'link': 'https://malijet.com/a_la_une_du_mali/294008-digitalisation-de-l’administration-la-dgccc-en-premiere-ligne-po.html'}, page_content='Adama Coulibaly'),\n",
       " Document(metadata={'source': '../data/articles/malijet/2024/08/21.csv', 'row': 2, 'title': \"Classement 2024 des puissances militaires africaines: Le Mali supplante ses alliés de l'AES et se positionne derrière la Côte d'Ivoire\", 'source_paper': 'Le Nouveau Réveil', 'date': '2024-08-21', 'link': 'https://malijet.com/a_la_une_du_mali/294006-classement-2024-des-puissances-militaires-africaines-le-mali-sup.html'}, page_content=\"content: Si dans la zone CFA, en termes de classement économique, le rang de 4è qu'occupait le Mali a été chipé par son voisin Burkinabè, qui en plus lui a dépassé en termes d'investissements dans l'armement pendant la période 2022-2023, tel n'est pas le cas dans le classement africain 2024 des puissances de feu. Le Mali laisse loin derrière lui le Burkina\"),\n",
       " Document(metadata={'source': '../data/articles/malijet/2024/08/21.csv', 'row': 2, 'title': \"Classement 2024 des puissances militaires africaines: Le Mali supplante ses alliés de l'AES et se positionne derrière la Côte d'Ivoire\", 'source_paper': 'Le Nouveau Réveil', 'date': '2024-08-21', 'link': 'https://malijet.com/a_la_une_du_mali/294006-classement-2024-des-puissances-militaires-africaines-le-mali-sup.html'}, page_content='C\\'est ce qui ressort du rapport 2024 de \"Global Fire Power\". Le cabinet américain, spécialiste des questions de défense, a établi un classement sur un total de 145 pays à travers le monde dont 38 États africains'),\n",
       " Document(metadata={'source': '../data/articles/malijet/2024/08/21.csv', 'row': 2, 'title': \"Classement 2024 des puissances militaires africaines: Le Mali supplante ses alliés de l'AES et se positionne derrière la Côte d'Ivoire\", 'source_paper': 'Le Nouveau Réveil', 'date': '2024-08-21', 'link': 'https://malijet.com/a_la_une_du_mali/294006-classement-2024-des-puissances-militaires-africaines-le-mali-sup.html'}, page_content=\"Il a fondé son classement sur une nomenclature de 60 critères pour déterminer le score ‘'Power Index'' (indice de pouvoir) d'une nation donnée allant des ressources en hommes, aux moyens financiers en passant notamment par les capacités logistiques\"),\n",
       " Document(metadata={'source': '../data/articles/malijet/2024/08/21.csv', 'row': 2, 'title': \"Classement 2024 des puissances militaires africaines: Le Mali supplante ses alliés de l'AES et se positionne derrière la Côte d'Ivoire\", 'source_paper': 'Le Nouveau Réveil', 'date': '2024-08-21', 'link': 'https://malijet.com/a_la_une_du_mali/294006-classement-2024-des-puissances-militaires-africaines-le-mali-sup.html'}, page_content='Il s\\'agit, en effet du nombre de militaires actifs, des capacités navales et aériennes, de la dotation en ressources naturelles (pétrole, gaz) du pays, du budget alloué à la défense, etc. La conception du \"Power Index\" permet aux nations plus petites et plus avancées sur le plan technologique de rivaliser avec des puissances plus grandes et moins développées'),\n",
       " Document(metadata={'source': '../data/articles/malijet/2024/08/21.csv', 'row': 2, 'title': \"Classement 2024 des puissances militaires africaines: Le Mali supplante ses alliés de l'AES et se positionne derrière la Côte d'Ivoire\", 'source_paper': 'Le Nouveau Réveil', 'date': '2024-08-21', 'link': 'https://malijet.com/a_la_une_du_mali/294006-classement-2024-des-puissances-militaires-africaines-le-mali-sup.html'}, page_content=\"Le Mali boucle le top 20 africain Les 20 premières armées africaines, selon le rapport de Global Fire Power de 2024, sont : l'Égypte, l'Algérie, l'Afrique du Sud, le Nigéria, l'Éthiopie, l'Angola, le Maroc, la République Démocratique du Congo, la Tunisie, le Soudan, la Lybie, le Kenya, le Mozambique, le Tchad, la Zambie, la Côte d'Ivoire, le Zimbabwe, la Tanzanie, le Cameroun\"),\n",
       " Document(metadata={'source': '../data/articles/malijet/2024/08/21.csv', 'row': 2, 'title': \"Classement 2024 des puissances militaires africaines: Le Mali supplante ses alliés de l'AES et se positionne derrière la Côte d'Ivoire\", 'source_paper': 'Le Nouveau Réveil', 'date': '2024-08-21', 'link': 'https://malijet.com/a_la_une_du_mali/294006-classement-2024-des-puissances-militaires-africaines-le-mali-sup.html'}, page_content='le Cameroun et le Mali'),\n",
       " Document(metadata={'source': '../data/articles/malijet/2024/08/21.csv', 'row': 2, 'title': \"Classement 2024 des puissances militaires africaines: Le Mali supplante ses alliés de l'AES et se positionne derrière la Côte d'Ivoire\", 'source_paper': 'Le Nouveau Réveil', 'date': '2024-08-21', 'link': 'https://malijet.com/a_la_une_du_mali/294006-classement-2024-des-puissances-militaires-africaines-le-mali-sup.html'}, page_content=\"Et puis arrivent respectivement le Ghana (113e), l'Ouganda (114e), l'Erythrée (117e), le Soudan du Sud (119e), le Niger (121e), la République du Congo (122e), la Namibie (124e), le Botswana (126e), le Burkina Faso (127e), le Sénégal (130e), la Mauritanie (131e), le Gabon (132e), Madagascar (133e), la Centrafrique (137e), la Sierra Leone (138e), le Liberia (140e), le Bénin (141e),\")]"
      ]
     },
     "execution_count": 13,
     "metadata": {},
     "output_type": "execute_result"
    }
   ],
   "execution_count": 13
  },
  {
   "metadata": {
    "ExecuteTime": {
     "end_time": "2024-09-30T07:30:35.396499Z",
     "start_time": "2024-09-30T07:30:35.256265Z"
    }
   },
   "cell_type": "code",
   "source": [
    "\n",
    "res = get_length_info(documents)"
   ],
   "id": "4cd8692686406b36",
   "outputs": [
    {
     "name": "stdout",
     "output_type": "stream",
     "text": [
      "---------- For character length ----------\n"
     ]
    },
    {
     "data": {
      "text/plain": [
       "count    554.000000\n",
       "mean     274.631769\n",
       "std       95.651822\n",
       "min        7.000000\n",
       "25%      218.000000\n",
       "50%      294.500000\n",
       "75%      354.000000\n",
       "max      387.000000\n",
       "dtype: float64"
      ]
     },
     "metadata": {},
     "output_type": "display_data"
    },
    {
     "name": "stdout",
     "output_type": "stream",
     "text": [
      "---------- Length of words (nb characters) in the corpus ----------\n"
     ]
    },
    {
     "data": {
      "text/plain": [
       "count    23530.000000\n",
       "mean         5.489588\n",
       "std          3.545854\n",
       "min          0.000000\n",
       "25%          2.000000\n",
       "50%          5.000000\n",
       "75%          8.000000\n",
       "max         26.000000\n",
       "dtype: float64"
      ]
     },
     "metadata": {},
     "output_type": "display_data"
    },
    {
     "name": "stdout",
     "output_type": "stream",
     "text": [
      "---------- How many words in each doc ----------\n"
     ]
    },
    {
     "data": {
      "text/plain": [
       "count    554.000000\n",
       "mean      42.472924\n",
       "std       15.320452\n",
       "min        1.000000\n",
       "25%       33.000000\n",
       "50%       46.000000\n",
       "75%       54.000000\n",
       "max       74.000000\n",
       "dtype: float64"
      ]
     },
     "metadata": {},
     "output_type": "display_data"
    },
    {
     "name": "stdout",
     "output_type": "stream",
     "text": [
      "---------- For how many sentences in in each doc ----------\n"
     ]
    },
    {
     "data": {
      "text/plain": [
       "count    554.000000\n",
       "mean       1.738267\n",
       "std        1.014407\n",
       "min        1.000000\n",
       "25%        1.000000\n",
       "50%        1.000000\n",
       "75%        2.000000\n",
       "max        8.000000\n",
       "dtype: float64"
      ]
     },
     "metadata": {},
     "output_type": "display_data"
    },
    {
     "name": "stdout",
     "output_type": "stream",
     "text": [
      "---------- For sentences length in each doc ----------\n"
     ]
    },
    {
     "data": {
      "text/plain": [
       "count    963.000000\n",
       "mean     157.566978\n",
       "std      102.649447\n",
       "min        0.000000\n",
       "25%       86.000000\n",
       "50%      151.000000\n",
       "75%      224.000000\n",
       "max      387.000000\n",
       "dtype: float64"
      ]
     },
     "metadata": {},
     "output_type": "display_data"
    }
   ],
   "execution_count": 14
  },
  {
   "metadata": {},
   "cell_type": "markdown",
   "source": " We move from 4616 words maxi per doc to 79 words per doc. That might be relevant for the final framework of RAG.",
   "id": "811f82dc75521e64"
  },
  {
   "metadata": {
    "ExecuteTime": {
     "end_time": "2024-09-30T07:30:36.495531Z",
     "start_time": "2024-09-30T07:30:36.491808Z"
    }
   },
   "cell_type": "code",
   "source": "[doc for doc in documents[:5]]",
   "id": "8c20dcaa549487bc",
   "outputs": [
    {
     "data": {
      "text/plain": [
       "[Document(metadata={'source': '../data/articles/malijet/2024/08/21.csv', 'row': 0, 'title': 'Coopération Mali-Niger : Une délégation ministérielle séjourne à Niamey', 'source_paper': 'Malijet ', 'date': '2024-08-21', 'link': 'https://malijet.com/a_la_une_du_mali/294034-cooperation-mali-niger--une-delegation-ministerielle-sejourne-a-.html'}, page_content=\"content: Une délégation importante du gouvernement malien, dirigée par le ministre de la Justice et des Droits de l’Homme, garde des Sceaux, Mamadou Kassogué, s'est rendue à Niamey, au Niger, pour étudier les méthodes nigériennes dans la lutte contre l'extrémisme violent, notamment la réinsertion des ex-combattants\"),\n",
       " Document(metadata={'source': '../data/articles/malijet/2024/08/21.csv', 'row': 0, 'title': 'Coopération Mali-Niger : Une délégation ministérielle séjourne à Niamey', 'source_paper': 'Malijet ', 'date': '2024-08-21', 'link': 'https://malijet.com/a_la_une_du_mali/294034-cooperation-mali-niger--une-delegation-ministerielle-sejourne-a-.html'}, page_content=\"Cette initiative vise à trouver une solution durable et efficace pour résoudre un problème capital auquel le Mali est confronté. La délégation malienne a eu des entretiens avec le ministre d'État, ministre de l'Intérieur, de la Sécurité publique et de l'Administration territoriale du Niger, le général de brigade Mohamed Toumba\"),\n",
       " Document(metadata={'source': '../data/articles/malijet/2024/08/21.csv', 'row': 0, 'title': 'Coopération Mali-Niger : Une délégation ministérielle séjourne à Niamey', 'source_paper': 'Malijet ', 'date': '2024-08-21', 'link': 'https://malijet.com/a_la_une_du_mali/294034-cooperation-mali-niger--une-delegation-ministerielle-sejourne-a-.html'}, page_content='Les discussions ont porté sur divers sujets, incluant les mécanismes de désarmement, de démobilisation et de réintégration (DDR), ainsi que le rôle crucial des autorités traditionnelles dans ce processus'),\n",
       " Document(metadata={'source': '../data/articles/malijet/2024/08/21.csv', 'row': 0, 'title': 'Coopération Mali-Niger : Une délégation ministérielle séjourne à Niamey', 'source_paper': 'Malijet ', 'date': '2024-08-21', 'link': 'https://malijet.com/a_la_une_du_mali/294034-cooperation-mali-niger--une-delegation-ministerielle-sejourne-a-.html'}, page_content=\"Le voyage d'études de la délégation malienne s'inscrit également dans le cadre de la réunion préparatoire des experts, présidée par le Conseiller spécial du président de la transition malienne, M. Boya Dembélé. Cette réunion vise à approfondir les échanges sur les stratégies et les meilleures pratiques pour renforcer la paix et la sécurité dans la région\"),\n",
       " Document(metadata={'source': '../data/articles/malijet/2024/08/21.csv', 'row': 0, 'title': 'Coopération Mali-Niger : Une délégation ministérielle séjourne à Niamey', 'source_paper': 'Malijet ', 'date': '2024-08-21', 'link': 'https://malijet.com/a_la_une_du_mali/294034-cooperation-mali-niger--une-delegation-ministerielle-sejourne-a-.html'}, page_content='Kandana/Malijet.com')]"
      ]
     },
     "execution_count": 15,
     "metadata": {},
     "output_type": "execute_result"
    }
   ],
   "execution_count": 15
  },
  {
   "metadata": {
    "ExecuteTime": {
     "end_time": "2024-09-30T07:30:38.143890Z",
     "start_time": "2024-09-30T07:30:38.140128Z"
    }
   },
   "cell_type": "code",
   "source": "[doc.page_content for doc in documents[37:40]]",
   "id": "12684ae1fc5de49a",
   "outputs": [
    {
     "data": {
      "text/plain": [
       "['Plus les jours passent, plus des actes flous amènent à se poser des questions à quand la sincérité du Burkina et du Niger dans la nouvelle aventure qui les lie au Mali. Le premier cas concerne le Burkina',\n",
       " 'Les autorités de ce pays, dans une récente sortie sur la bataille de Tinzaouatene ont déploré et condamné l’ingérence de l’Ukraine en soutien aux groupes rebelles et terroristes sans aller plus loin comme le Mali et le Niger. Ces deux pays ont rompu avec effet immédiat les relations diplomatiques avec l’Ukraine',\n",
       " 'Alors pourquoi le Burkina n’a pas fait la même chose ?   Le Niger surprend plus d’un L’acte le plus commenté, c’est la présence d’une forte délégation du Niger en tête le Premier ministre en Algérie']"
      ]
     },
     "execution_count": 16,
     "metadata": {},
     "output_type": "execute_result"
    }
   ],
   "execution_count": 16
  },
  {
   "metadata": {},
   "cell_type": "markdown",
   "source": "## Embedding and Vector store",
   "id": "e6838d0a9aba8eff"
  },
  {
   "metadata": {
    "ExecuteTime": {
     "end_time": "2024-09-30T07:30:39.811881Z",
     "start_time": "2024-09-30T07:30:39.806664Z"
    }
   },
   "cell_type": "code",
   "source": [
    "# embeddings_llm = OllamaEmbeddings(model=MODEL_NAME) #mistral or Occiglot\n",
    "# embeddings_llm = OllamaEmbeddings(model=\"mayflowergmbh/occiglot-7b-fr-en-instruct\")\n",
    "# embeddings_llm = OllamaEmbeddings(model=\"snowflake-arctic-embed\")\n",
    "# embeddings_llm = OpenAIEmbeddings()\n",
    "\n",
    "# embeddings_llm = OllamaEmbeddings(model=\"bge-large:335m-en-v1.5-fp16\")\n",
    "\n",
    "embeddings_llm = OllamaEmbeddings(model=\"bge-m3:567m-fp16\")\n",
    "# Set few params if needed\n",
    "embeddings_llm.show_progress = True\n",
    "embeddings_llm.num_thread = os.cpu_count() - 8 # 8 in my case\n",
    "# embeddings_llm.top_k = 10\n",
    "# embeddings_llm.top_p = .5\n",
    "\n",
    "embeddings_llm"
   ],
   "id": "4cef3c3a490fec01",
   "outputs": [
    {
     "data": {
      "text/plain": [
       "OllamaEmbeddings(base_url='http://localhost:11434', model='bge-m3:567m-fp16', embed_instruction='passage: ', query_instruction='query: ', mirostat=None, mirostat_eta=None, mirostat_tau=None, num_ctx=None, num_gpu=None, num_thread=8, repeat_last_n=None, repeat_penalty=None, temperature=None, stop=None, tfs_z=None, top_k=None, top_p=None, show_progress=True, headers=None, model_kwargs=None)"
      ]
     },
     "execution_count": 17,
     "metadata": {},
     "output_type": "execute_result"
    }
   ],
   "execution_count": 17
  },
  {
   "metadata": {
    "ExecuteTime": {
     "end_time": "2024-09-30T07:30:41.262816Z",
     "start_time": "2024-09-30T07:30:41.259444Z"
    }
   },
   "cell_type": "code",
   "source": [
    "# Exemple\n",
    "documents[3], len(documents[3].page_content)"
   ],
   "id": "70f7aa1256ac622f",
   "outputs": [
    {
     "data": {
      "text/plain": [
       "(Document(metadata={'source': '../data/articles/malijet/2024/08/21.csv', 'row': 0, 'title': 'Coopération Mali-Niger : Une délégation ministérielle séjourne à Niamey', 'source_paper': 'Malijet ', 'date': '2024-08-21', 'link': 'https://malijet.com/a_la_une_du_mali/294034-cooperation-mali-niger--une-delegation-ministerielle-sejourne-a-.html'}, page_content=\"Le voyage d'études de la délégation malienne s'inscrit également dans le cadre de la réunion préparatoire des experts, présidée par le Conseiller spécial du président de la transition malienne, M. Boya Dembélé. Cette réunion vise à approfondir les échanges sur les stratégies et les meilleures pratiques pour renforcer la paix et la sécurité dans la région\"),\n",
       " 375)"
      ]
     },
     "execution_count": 18,
     "metadata": {},
     "output_type": "execute_result"
    }
   ],
   "execution_count": 18
  },
  {
   "metadata": {
    "ExecuteTime": {
     "end_time": "2024-09-30T07:30:45.300076Z",
     "start_time": "2024-09-30T07:30:42.028433Z"
    }
   },
   "cell_type": "code",
   "source": "len(embeddings_llm.embed_query(documents[3].page_content))",
   "id": "f369205c39e2657e",
   "outputs": [
    {
     "name": "stderr",
     "output_type": "stream",
     "text": [
      "OllamaEmbeddings: 100%|██████████| 1/1 [00:03<00:00,  3.25s/it]\n"
     ]
    },
    {
     "data": {
      "text/plain": [
       "1024"
      ]
     },
     "execution_count": 19,
     "metadata": {},
     "output_type": "execute_result"
    }
   ],
   "execution_count": 19
  },
  {
   "metadata": {
    "ExecuteTime": {
     "end_time": "2024-08-10T09:24:09.781771Z",
     "start_time": "2024-08-10T09:24:08.260939Z"
    }
   },
   "cell_type": "code",
   "source": [
    "# test to embed a query\n",
    "embeddings_llm.embed_query(documents[3].page_content)[:7], len(embeddings_llm.embed_query(documents[3].page_content))"
   ],
   "id": "bb2949b778aa79cf",
   "outputs": [
    {
     "name": "stderr",
     "output_type": "stream",
     "text": [
      "\n",
      "OllamaEmbeddings:   0%|          | 0/1 [00:00<?, ?it/s]\u001B[A\n",
      "OllamaEmbeddings: 100%|██████████| 1/1 [00:00<00:00,  1.20it/s]\u001B[A\n",
      "\n",
      "OllamaEmbeddings:   0%|          | 0/1 [00:00<?, ?it/s]\u001B[A\n",
      "OllamaEmbeddings: 100%|██████████| 1/1 [00:00<00:00,  1.47it/s]\u001B[A\n"
     ]
    },
    {
     "data": {
      "text/plain": [
       "([-0.6823922991752625,\n",
       "  0.23682698607444763,\n",
       "  -0.46551015973091125,\n",
       "  -0.07770388573408127,\n",
       "  -0.7255619764328003,\n",
       "  -1.188683032989502,\n",
       "  1.1188299655914307],\n",
       " 1024)"
      ]
     },
     "execution_count": 25,
     "metadata": {},
     "output_type": "execute_result"
    }
   ],
   "execution_count": 25
  },
  {
   "metadata": {},
   "cell_type": "markdown",
   "source": "## Selection of Vector Store",
   "id": "31641f755d1e6b3e"
  },
  {
   "metadata": {},
   "cell_type": "markdown",
   "source": "Thanks to this brand-new article from Google, we can safely choose any open source Vector Store, make it available to Google NFS Filestore and access it easily through mounting filestore in Cloud Run (see section 3): https://cloud.google.com/blog/products/serverless/introducing-cloud-run-volume-mounts?hl=en",
   "id": "d06c33240e392a47"
  },
  {
   "metadata": {
    "ExecuteTime": {
     "end_time": "2024-09-30T07:32:27.780732Z",
     "start_time": "2024-09-30T07:31:57.238396Z"
    }
   },
   "cell_type": "code",
   "source": [
    "# The embedding is a very large dimension of 4096, so this will take a real long time\n",
    "# Database creation\n",
    "# now 1024 embedding to test Cloud Run\n",
    "db = Chroma.from_documents(\n",
    "    documents=documents,\n",
    "    embedding=embeddings_llm,\n",
    "    persist_directory=CHROMA_DB_PERSIST_PATH.as_posix(),\n",
    ")\n",
    "# db"
   ],
   "id": "2af8b4236d4b4c30",
   "outputs": [
    {
     "name": "stderr",
     "output_type": "stream",
     "text": [
      "OllamaEmbeddings:   8%|▊         | 47/554 [00:29<05:38,  1.50it/s]"
     ]
    },
    {
     "ename": "KeyboardInterrupt",
     "evalue": "",
     "output_type": "error",
     "traceback": [
      "\u001B[0;31m---------------------------------------------------------------------------\u001B[0m",
      "\u001B[0;31mKeyboardInterrupt\u001B[0m                         Traceback (most recent call last)",
      "Cell \u001B[0;32mIn[23], line 4\u001B[0m\n\u001B[1;32m      1\u001B[0m \u001B[38;5;66;03m# The embedding is a very large dimension of 4096, so this will take a real long time\u001B[39;00m\n\u001B[1;32m      2\u001B[0m \u001B[38;5;66;03m# Database creation\u001B[39;00m\n\u001B[1;32m      3\u001B[0m \u001B[38;5;66;03m# now 1024 embedding to test Cloud Run\u001B[39;00m\n\u001B[0;32m----> 4\u001B[0m db \u001B[38;5;241m=\u001B[39m \u001B[43mChroma\u001B[49m\u001B[38;5;241;43m.\u001B[39;49m\u001B[43mfrom_documents\u001B[49m\u001B[43m(\u001B[49m\n\u001B[1;32m      5\u001B[0m \u001B[43m    \u001B[49m\u001B[43mdocuments\u001B[49m\u001B[38;5;241;43m=\u001B[39;49m\u001B[43mdocuments\u001B[49m\u001B[43m,\u001B[49m\n\u001B[1;32m      6\u001B[0m \u001B[43m    \u001B[49m\u001B[43membedding\u001B[49m\u001B[38;5;241;43m=\u001B[39;49m\u001B[43membeddings_llm\u001B[49m\u001B[43m,\u001B[49m\n\u001B[1;32m      7\u001B[0m \u001B[43m    \u001B[49m\u001B[43mpersist_directory\u001B[49m\u001B[38;5;241;43m=\u001B[39;49m\u001B[43mCHROMA_DB_PERSIST_PATH\u001B[49m\u001B[38;5;241;43m.\u001B[39;49m\u001B[43mas_posix\u001B[49m\u001B[43m(\u001B[49m\u001B[43m)\u001B[49m\u001B[43m,\u001B[49m\n\u001B[1;32m      8\u001B[0m \u001B[43m)\u001B[49m\n\u001B[1;32m      9\u001B[0m \u001B[38;5;66;03m# db\u001B[39;00m\n",
      "File \u001B[0;32m~/Workspace/kounafoni-app/.venv/lib/python3.10/site-packages/langchain_community/vectorstores/chroma.py:878\u001B[0m, in \u001B[0;36mChroma.from_documents\u001B[0;34m(cls, documents, embedding, ids, collection_name, persist_directory, client_settings, client, collection_metadata, **kwargs)\u001B[0m\n\u001B[1;32m    876\u001B[0m texts \u001B[38;5;241m=\u001B[39m [doc\u001B[38;5;241m.\u001B[39mpage_content \u001B[38;5;28;01mfor\u001B[39;00m doc \u001B[38;5;129;01min\u001B[39;00m documents]\n\u001B[1;32m    877\u001B[0m metadatas \u001B[38;5;241m=\u001B[39m [doc\u001B[38;5;241m.\u001B[39mmetadata \u001B[38;5;28;01mfor\u001B[39;00m doc \u001B[38;5;129;01min\u001B[39;00m documents]\n\u001B[0;32m--> 878\u001B[0m \u001B[38;5;28;01mreturn\u001B[39;00m \u001B[38;5;28;43mcls\u001B[39;49m\u001B[38;5;241;43m.\u001B[39;49m\u001B[43mfrom_texts\u001B[49m\u001B[43m(\u001B[49m\n\u001B[1;32m    879\u001B[0m \u001B[43m    \u001B[49m\u001B[43mtexts\u001B[49m\u001B[38;5;241;43m=\u001B[39;49m\u001B[43mtexts\u001B[49m\u001B[43m,\u001B[49m\n\u001B[1;32m    880\u001B[0m \u001B[43m    \u001B[49m\u001B[43membedding\u001B[49m\u001B[38;5;241;43m=\u001B[39;49m\u001B[43membedding\u001B[49m\u001B[43m,\u001B[49m\n\u001B[1;32m    881\u001B[0m \u001B[43m    \u001B[49m\u001B[43mmetadatas\u001B[49m\u001B[38;5;241;43m=\u001B[39;49m\u001B[43mmetadatas\u001B[49m\u001B[43m,\u001B[49m\n\u001B[1;32m    882\u001B[0m \u001B[43m    \u001B[49m\u001B[43mids\u001B[49m\u001B[38;5;241;43m=\u001B[39;49m\u001B[43mids\u001B[49m\u001B[43m,\u001B[49m\n\u001B[1;32m    883\u001B[0m \u001B[43m    \u001B[49m\u001B[43mcollection_name\u001B[49m\u001B[38;5;241;43m=\u001B[39;49m\u001B[43mcollection_name\u001B[49m\u001B[43m,\u001B[49m\n\u001B[1;32m    884\u001B[0m \u001B[43m    \u001B[49m\u001B[43mpersist_directory\u001B[49m\u001B[38;5;241;43m=\u001B[39;49m\u001B[43mpersist_directory\u001B[49m\u001B[43m,\u001B[49m\n\u001B[1;32m    885\u001B[0m \u001B[43m    \u001B[49m\u001B[43mclient_settings\u001B[49m\u001B[38;5;241;43m=\u001B[39;49m\u001B[43mclient_settings\u001B[49m\u001B[43m,\u001B[49m\n\u001B[1;32m    886\u001B[0m \u001B[43m    \u001B[49m\u001B[43mclient\u001B[49m\u001B[38;5;241;43m=\u001B[39;49m\u001B[43mclient\u001B[49m\u001B[43m,\u001B[49m\n\u001B[1;32m    887\u001B[0m \u001B[43m    \u001B[49m\u001B[43mcollection_metadata\u001B[49m\u001B[38;5;241;43m=\u001B[39;49m\u001B[43mcollection_metadata\u001B[49m\u001B[43m,\u001B[49m\n\u001B[1;32m    888\u001B[0m \u001B[43m    \u001B[49m\u001B[38;5;241;43m*\u001B[39;49m\u001B[38;5;241;43m*\u001B[39;49m\u001B[43mkwargs\u001B[49m\u001B[43m,\u001B[49m\n\u001B[1;32m    889\u001B[0m \u001B[43m\u001B[49m\u001B[43m)\u001B[49m\n",
      "File \u001B[0;32m~/Workspace/kounafoni-app/.venv/lib/python3.10/site-packages/langchain_community/vectorstores/chroma.py:842\u001B[0m, in \u001B[0;36mChroma.from_texts\u001B[0;34m(cls, texts, embedding, metadatas, ids, collection_name, persist_directory, client_settings, client, collection_metadata, **kwargs)\u001B[0m\n\u001B[1;32m    836\u001B[0m         chroma_collection\u001B[38;5;241m.\u001B[39madd_texts(\n\u001B[1;32m    837\u001B[0m             texts\u001B[38;5;241m=\u001B[39mbatch[\u001B[38;5;241m3\u001B[39m] \u001B[38;5;28;01mif\u001B[39;00m batch[\u001B[38;5;241m3\u001B[39m] \u001B[38;5;28;01melse\u001B[39;00m [],\n\u001B[1;32m    838\u001B[0m             metadatas\u001B[38;5;241m=\u001B[39mbatch[\u001B[38;5;241m2\u001B[39m] \u001B[38;5;28;01mif\u001B[39;00m batch[\u001B[38;5;241m2\u001B[39m] \u001B[38;5;28;01melse\u001B[39;00m \u001B[38;5;28;01mNone\u001B[39;00m,\n\u001B[1;32m    839\u001B[0m             ids\u001B[38;5;241m=\u001B[39mbatch[\u001B[38;5;241m0\u001B[39m],\n\u001B[1;32m    840\u001B[0m         )\n\u001B[1;32m    841\u001B[0m \u001B[38;5;28;01melse\u001B[39;00m:\n\u001B[0;32m--> 842\u001B[0m     \u001B[43mchroma_collection\u001B[49m\u001B[38;5;241;43m.\u001B[39;49m\u001B[43madd_texts\u001B[49m\u001B[43m(\u001B[49m\u001B[43mtexts\u001B[49m\u001B[38;5;241;43m=\u001B[39;49m\u001B[43mtexts\u001B[49m\u001B[43m,\u001B[49m\u001B[43m \u001B[49m\u001B[43mmetadatas\u001B[49m\u001B[38;5;241;43m=\u001B[39;49m\u001B[43mmetadatas\u001B[49m\u001B[43m,\u001B[49m\u001B[43m \u001B[49m\u001B[43mids\u001B[49m\u001B[38;5;241;43m=\u001B[39;49m\u001B[43mids\u001B[49m\u001B[43m)\u001B[49m\n\u001B[1;32m    843\u001B[0m \u001B[38;5;28;01mreturn\u001B[39;00m chroma_collection\n",
      "File \u001B[0;32m~/Workspace/kounafoni-app/.venv/lib/python3.10/site-packages/langchain_community/vectorstores/chroma.py:277\u001B[0m, in \u001B[0;36mChroma.add_texts\u001B[0;34m(self, texts, metadatas, ids, **kwargs)\u001B[0m\n\u001B[1;32m    275\u001B[0m texts \u001B[38;5;241m=\u001B[39m \u001B[38;5;28mlist\u001B[39m(texts)\n\u001B[1;32m    276\u001B[0m \u001B[38;5;28;01mif\u001B[39;00m \u001B[38;5;28mself\u001B[39m\u001B[38;5;241m.\u001B[39m_embedding_function \u001B[38;5;129;01mis\u001B[39;00m \u001B[38;5;129;01mnot\u001B[39;00m \u001B[38;5;28;01mNone\u001B[39;00m:\n\u001B[0;32m--> 277\u001B[0m     embeddings \u001B[38;5;241m=\u001B[39m \u001B[38;5;28;43mself\u001B[39;49m\u001B[38;5;241;43m.\u001B[39;49m\u001B[43m_embedding_function\u001B[49m\u001B[38;5;241;43m.\u001B[39;49m\u001B[43membed_documents\u001B[49m\u001B[43m(\u001B[49m\u001B[43mtexts\u001B[49m\u001B[43m)\u001B[49m\n\u001B[1;32m    278\u001B[0m \u001B[38;5;28;01mif\u001B[39;00m metadatas:\n\u001B[1;32m    279\u001B[0m     \u001B[38;5;66;03m# fill metadatas with empty dicts if somebody\u001B[39;00m\n\u001B[1;32m    280\u001B[0m     \u001B[38;5;66;03m# did not specify metadata for all texts\u001B[39;00m\n\u001B[1;32m    281\u001B[0m     length_diff \u001B[38;5;241m=\u001B[39m \u001B[38;5;28mlen\u001B[39m(texts) \u001B[38;5;241m-\u001B[39m \u001B[38;5;28mlen\u001B[39m(metadatas)\n",
      "File \u001B[0;32m~/Workspace/kounafoni-app/.venv/lib/python3.10/site-packages/langchain_community/embeddings/ollama.py:209\u001B[0m, in \u001B[0;36mOllamaEmbeddings.embed_documents\u001B[0;34m(self, texts)\u001B[0m\n\u001B[1;32m    200\u001B[0m \u001B[38;5;250m\u001B[39m\u001B[38;5;124;03m\"\"\"Embed documents using an Ollama deployed embedding model.\u001B[39;00m\n\u001B[1;32m    201\u001B[0m \n\u001B[1;32m    202\u001B[0m \u001B[38;5;124;03mArgs:\u001B[39;00m\n\u001B[0;32m   (...)\u001B[0m\n\u001B[1;32m    206\u001B[0m \u001B[38;5;124;03m    List of embeddings, one for each text.\u001B[39;00m\n\u001B[1;32m    207\u001B[0m \u001B[38;5;124;03m\"\"\"\u001B[39;00m\n\u001B[1;32m    208\u001B[0m instruction_pairs \u001B[38;5;241m=\u001B[39m [\u001B[38;5;124mf\u001B[39m\u001B[38;5;124m\"\u001B[39m\u001B[38;5;132;01m{\u001B[39;00m\u001B[38;5;28mself\u001B[39m\u001B[38;5;241m.\u001B[39membed_instruction\u001B[38;5;132;01m}\u001B[39;00m\u001B[38;5;132;01m{\u001B[39;00mtext\u001B[38;5;132;01m}\u001B[39;00m\u001B[38;5;124m\"\u001B[39m \u001B[38;5;28;01mfor\u001B[39;00m text \u001B[38;5;129;01min\u001B[39;00m texts]\n\u001B[0;32m--> 209\u001B[0m embeddings \u001B[38;5;241m=\u001B[39m \u001B[38;5;28;43mself\u001B[39;49m\u001B[38;5;241;43m.\u001B[39;49m\u001B[43m_embed\u001B[49m\u001B[43m(\u001B[49m\u001B[43minstruction_pairs\u001B[49m\u001B[43m)\u001B[49m\n\u001B[1;32m    210\u001B[0m \u001B[38;5;28;01mreturn\u001B[39;00m embeddings\n",
      "File \u001B[0;32m~/Workspace/kounafoni-app/.venv/lib/python3.10/site-packages/langchain_community/embeddings/ollama.py:197\u001B[0m, in \u001B[0;36mOllamaEmbeddings._embed\u001B[0;34m(self, input)\u001B[0m\n\u001B[1;32m    195\u001B[0m \u001B[38;5;28;01melse\u001B[39;00m:\n\u001B[1;32m    196\u001B[0m     iter_ \u001B[38;5;241m=\u001B[39m \u001B[38;5;28minput\u001B[39m\n\u001B[0;32m--> 197\u001B[0m \u001B[38;5;28;01mreturn\u001B[39;00m [\u001B[38;5;28mself\u001B[39m\u001B[38;5;241m.\u001B[39m_process_emb_response(prompt) \u001B[38;5;28;01mfor\u001B[39;00m prompt \u001B[38;5;129;01min\u001B[39;00m iter_]\n",
      "File \u001B[0;32m~/Workspace/kounafoni-app/.venv/lib/python3.10/site-packages/langchain_community/embeddings/ollama.py:197\u001B[0m, in \u001B[0;36m<listcomp>\u001B[0;34m(.0)\u001B[0m\n\u001B[1;32m    195\u001B[0m \u001B[38;5;28;01melse\u001B[39;00m:\n\u001B[1;32m    196\u001B[0m     iter_ \u001B[38;5;241m=\u001B[39m \u001B[38;5;28minput\u001B[39m\n\u001B[0;32m--> 197\u001B[0m \u001B[38;5;28;01mreturn\u001B[39;00m [\u001B[38;5;28;43mself\u001B[39;49m\u001B[38;5;241;43m.\u001B[39;49m\u001B[43m_process_emb_response\u001B[49m\u001B[43m(\u001B[49m\u001B[43mprompt\u001B[49m\u001B[43m)\u001B[49m \u001B[38;5;28;01mfor\u001B[39;00m prompt \u001B[38;5;129;01min\u001B[39;00m iter_]\n",
      "File \u001B[0;32m~/Workspace/kounafoni-app/.venv/lib/python3.10/site-packages/langchain_community/embeddings/ollama.py:162\u001B[0m, in \u001B[0;36mOllamaEmbeddings._process_emb_response\u001B[0;34m(self, input)\u001B[0m\n\u001B[1;32m    156\u001B[0m headers \u001B[38;5;241m=\u001B[39m {\n\u001B[1;32m    157\u001B[0m     \u001B[38;5;124m\"\u001B[39m\u001B[38;5;124mContent-Type\u001B[39m\u001B[38;5;124m\"\u001B[39m: \u001B[38;5;124m\"\u001B[39m\u001B[38;5;124mapplication/json\u001B[39m\u001B[38;5;124m\"\u001B[39m,\n\u001B[1;32m    158\u001B[0m     \u001B[38;5;241m*\u001B[39m\u001B[38;5;241m*\u001B[39m(\u001B[38;5;28mself\u001B[39m\u001B[38;5;241m.\u001B[39mheaders \u001B[38;5;129;01mor\u001B[39;00m {}),\n\u001B[1;32m    159\u001B[0m }\n\u001B[1;32m    161\u001B[0m \u001B[38;5;28;01mtry\u001B[39;00m:\n\u001B[0;32m--> 162\u001B[0m     res \u001B[38;5;241m=\u001B[39m \u001B[43mrequests\u001B[49m\u001B[38;5;241;43m.\u001B[39;49m\u001B[43mpost\u001B[49m\u001B[43m(\u001B[49m\n\u001B[1;32m    163\u001B[0m \u001B[43m        \u001B[49m\u001B[38;5;124;43mf\u001B[39;49m\u001B[38;5;124;43m\"\u001B[39;49m\u001B[38;5;132;43;01m{\u001B[39;49;00m\u001B[38;5;28;43mself\u001B[39;49m\u001B[38;5;241;43m.\u001B[39;49m\u001B[43mbase_url\u001B[49m\u001B[38;5;132;43;01m}\u001B[39;49;00m\u001B[38;5;124;43m/api/embeddings\u001B[39;49m\u001B[38;5;124;43m\"\u001B[39;49m\u001B[43m,\u001B[49m\n\u001B[1;32m    164\u001B[0m \u001B[43m        \u001B[49m\u001B[43mheaders\u001B[49m\u001B[38;5;241;43m=\u001B[39;49m\u001B[43mheaders\u001B[49m\u001B[43m,\u001B[49m\n\u001B[1;32m    165\u001B[0m \u001B[43m        \u001B[49m\u001B[43mjson\u001B[49m\u001B[38;5;241;43m=\u001B[39;49m\u001B[43m{\u001B[49m\u001B[38;5;124;43m\"\u001B[39;49m\u001B[38;5;124;43mmodel\u001B[39;49m\u001B[38;5;124;43m\"\u001B[39;49m\u001B[43m:\u001B[49m\u001B[43m \u001B[49m\u001B[38;5;28;43mself\u001B[39;49m\u001B[38;5;241;43m.\u001B[39;49m\u001B[43mmodel\u001B[49m\u001B[43m,\u001B[49m\u001B[43m \u001B[49m\u001B[38;5;124;43m\"\u001B[39;49m\u001B[38;5;124;43mprompt\u001B[39;49m\u001B[38;5;124;43m\"\u001B[39;49m\u001B[43m:\u001B[49m\u001B[43m \u001B[49m\u001B[38;5;28;43minput\u001B[39;49m\u001B[43m,\u001B[49m\u001B[43m \u001B[49m\u001B[38;5;241;43m*\u001B[39;49m\u001B[38;5;241;43m*\u001B[39;49m\u001B[38;5;28;43mself\u001B[39;49m\u001B[38;5;241;43m.\u001B[39;49m\u001B[43m_default_params\u001B[49m\u001B[43m}\u001B[49m\u001B[43m,\u001B[49m\n\u001B[1;32m    166\u001B[0m \u001B[43m    \u001B[49m\u001B[43m)\u001B[49m\n\u001B[1;32m    167\u001B[0m \u001B[38;5;28;01mexcept\u001B[39;00m requests\u001B[38;5;241m.\u001B[39mexceptions\u001B[38;5;241m.\u001B[39mRequestException \u001B[38;5;28;01mas\u001B[39;00m e:\n\u001B[1;32m    168\u001B[0m     \u001B[38;5;28;01mraise\u001B[39;00m \u001B[38;5;167;01mValueError\u001B[39;00m(\u001B[38;5;124mf\u001B[39m\u001B[38;5;124m\"\u001B[39m\u001B[38;5;124mError raised by inference endpoint: \u001B[39m\u001B[38;5;132;01m{\u001B[39;00me\u001B[38;5;132;01m}\u001B[39;00m\u001B[38;5;124m\"\u001B[39m)\n",
      "File \u001B[0;32m~/Workspace/kounafoni-app/.venv/lib/python3.10/site-packages/requests/api.py:115\u001B[0m, in \u001B[0;36mpost\u001B[0;34m(url, data, json, **kwargs)\u001B[0m\n\u001B[1;32m    103\u001B[0m \u001B[38;5;28;01mdef\u001B[39;00m \u001B[38;5;21mpost\u001B[39m(url, data\u001B[38;5;241m=\u001B[39m\u001B[38;5;28;01mNone\u001B[39;00m, json\u001B[38;5;241m=\u001B[39m\u001B[38;5;28;01mNone\u001B[39;00m, \u001B[38;5;241m*\u001B[39m\u001B[38;5;241m*\u001B[39mkwargs):\n\u001B[1;32m    104\u001B[0m \u001B[38;5;250m    \u001B[39m\u001B[38;5;124mr\u001B[39m\u001B[38;5;124;03m\"\"\"Sends a POST request.\u001B[39;00m\n\u001B[1;32m    105\u001B[0m \n\u001B[1;32m    106\u001B[0m \u001B[38;5;124;03m    :param url: URL for the new :class:`Request` object.\u001B[39;00m\n\u001B[0;32m   (...)\u001B[0m\n\u001B[1;32m    112\u001B[0m \u001B[38;5;124;03m    :rtype: requests.Response\u001B[39;00m\n\u001B[1;32m    113\u001B[0m \u001B[38;5;124;03m    \"\"\"\u001B[39;00m\n\u001B[0;32m--> 115\u001B[0m     \u001B[38;5;28;01mreturn\u001B[39;00m \u001B[43mrequest\u001B[49m\u001B[43m(\u001B[49m\u001B[38;5;124;43m\"\u001B[39;49m\u001B[38;5;124;43mpost\u001B[39;49m\u001B[38;5;124;43m\"\u001B[39;49m\u001B[43m,\u001B[49m\u001B[43m \u001B[49m\u001B[43murl\u001B[49m\u001B[43m,\u001B[49m\u001B[43m \u001B[49m\u001B[43mdata\u001B[49m\u001B[38;5;241;43m=\u001B[39;49m\u001B[43mdata\u001B[49m\u001B[43m,\u001B[49m\u001B[43m \u001B[49m\u001B[43mjson\u001B[49m\u001B[38;5;241;43m=\u001B[39;49m\u001B[43mjson\u001B[49m\u001B[43m,\u001B[49m\u001B[43m \u001B[49m\u001B[38;5;241;43m*\u001B[39;49m\u001B[38;5;241;43m*\u001B[39;49m\u001B[43mkwargs\u001B[49m\u001B[43m)\u001B[49m\n",
      "File \u001B[0;32m~/Workspace/kounafoni-app/.venv/lib/python3.10/site-packages/requests/api.py:59\u001B[0m, in \u001B[0;36mrequest\u001B[0;34m(method, url, **kwargs)\u001B[0m\n\u001B[1;32m     55\u001B[0m \u001B[38;5;66;03m# By using the 'with' statement we are sure the session is closed, thus we\u001B[39;00m\n\u001B[1;32m     56\u001B[0m \u001B[38;5;66;03m# avoid leaving sockets open which can trigger a ResourceWarning in some\u001B[39;00m\n\u001B[1;32m     57\u001B[0m \u001B[38;5;66;03m# cases, and look like a memory leak in others.\u001B[39;00m\n\u001B[1;32m     58\u001B[0m \u001B[38;5;28;01mwith\u001B[39;00m sessions\u001B[38;5;241m.\u001B[39mSession() \u001B[38;5;28;01mas\u001B[39;00m session:\n\u001B[0;32m---> 59\u001B[0m     \u001B[38;5;28;01mreturn\u001B[39;00m \u001B[43msession\u001B[49m\u001B[38;5;241;43m.\u001B[39;49m\u001B[43mrequest\u001B[49m\u001B[43m(\u001B[49m\u001B[43mmethod\u001B[49m\u001B[38;5;241;43m=\u001B[39;49m\u001B[43mmethod\u001B[49m\u001B[43m,\u001B[49m\u001B[43m \u001B[49m\u001B[43murl\u001B[49m\u001B[38;5;241;43m=\u001B[39;49m\u001B[43murl\u001B[49m\u001B[43m,\u001B[49m\u001B[43m \u001B[49m\u001B[38;5;241;43m*\u001B[39;49m\u001B[38;5;241;43m*\u001B[39;49m\u001B[43mkwargs\u001B[49m\u001B[43m)\u001B[49m\n",
      "File \u001B[0;32m~/Workspace/kounafoni-app/.venv/lib/python3.10/site-packages/requests/sessions.py:589\u001B[0m, in \u001B[0;36mSession.request\u001B[0;34m(self, method, url, params, data, headers, cookies, files, auth, timeout, allow_redirects, proxies, hooks, stream, verify, cert, json)\u001B[0m\n\u001B[1;32m    584\u001B[0m send_kwargs \u001B[38;5;241m=\u001B[39m {\n\u001B[1;32m    585\u001B[0m     \u001B[38;5;124m\"\u001B[39m\u001B[38;5;124mtimeout\u001B[39m\u001B[38;5;124m\"\u001B[39m: timeout,\n\u001B[1;32m    586\u001B[0m     \u001B[38;5;124m\"\u001B[39m\u001B[38;5;124mallow_redirects\u001B[39m\u001B[38;5;124m\"\u001B[39m: allow_redirects,\n\u001B[1;32m    587\u001B[0m }\n\u001B[1;32m    588\u001B[0m send_kwargs\u001B[38;5;241m.\u001B[39mupdate(settings)\n\u001B[0;32m--> 589\u001B[0m resp \u001B[38;5;241m=\u001B[39m \u001B[38;5;28;43mself\u001B[39;49m\u001B[38;5;241;43m.\u001B[39;49m\u001B[43msend\u001B[49m\u001B[43m(\u001B[49m\u001B[43mprep\u001B[49m\u001B[43m,\u001B[49m\u001B[43m \u001B[49m\u001B[38;5;241;43m*\u001B[39;49m\u001B[38;5;241;43m*\u001B[39;49m\u001B[43msend_kwargs\u001B[49m\u001B[43m)\u001B[49m\n\u001B[1;32m    591\u001B[0m \u001B[38;5;28;01mreturn\u001B[39;00m resp\n",
      "File \u001B[0;32m~/Workspace/kounafoni-app/.venv/lib/python3.10/site-packages/requests/sessions.py:703\u001B[0m, in \u001B[0;36mSession.send\u001B[0;34m(self, request, **kwargs)\u001B[0m\n\u001B[1;32m    700\u001B[0m start \u001B[38;5;241m=\u001B[39m preferred_clock()\n\u001B[1;32m    702\u001B[0m \u001B[38;5;66;03m# Send the request\u001B[39;00m\n\u001B[0;32m--> 703\u001B[0m r \u001B[38;5;241m=\u001B[39m \u001B[43madapter\u001B[49m\u001B[38;5;241;43m.\u001B[39;49m\u001B[43msend\u001B[49m\u001B[43m(\u001B[49m\u001B[43mrequest\u001B[49m\u001B[43m,\u001B[49m\u001B[43m \u001B[49m\u001B[38;5;241;43m*\u001B[39;49m\u001B[38;5;241;43m*\u001B[39;49m\u001B[43mkwargs\u001B[49m\u001B[43m)\u001B[49m\n\u001B[1;32m    705\u001B[0m \u001B[38;5;66;03m# Total elapsed time of the request (approximately)\u001B[39;00m\n\u001B[1;32m    706\u001B[0m elapsed \u001B[38;5;241m=\u001B[39m preferred_clock() \u001B[38;5;241m-\u001B[39m start\n",
      "File \u001B[0;32m~/Workspace/kounafoni-app/.venv/lib/python3.10/site-packages/requests/adapters.py:667\u001B[0m, in \u001B[0;36mHTTPAdapter.send\u001B[0;34m(self, request, stream, timeout, verify, cert, proxies)\u001B[0m\n\u001B[1;32m    664\u001B[0m     timeout \u001B[38;5;241m=\u001B[39m TimeoutSauce(connect\u001B[38;5;241m=\u001B[39mtimeout, read\u001B[38;5;241m=\u001B[39mtimeout)\n\u001B[1;32m    666\u001B[0m \u001B[38;5;28;01mtry\u001B[39;00m:\n\u001B[0;32m--> 667\u001B[0m     resp \u001B[38;5;241m=\u001B[39m \u001B[43mconn\u001B[49m\u001B[38;5;241;43m.\u001B[39;49m\u001B[43murlopen\u001B[49m\u001B[43m(\u001B[49m\n\u001B[1;32m    668\u001B[0m \u001B[43m        \u001B[49m\u001B[43mmethod\u001B[49m\u001B[38;5;241;43m=\u001B[39;49m\u001B[43mrequest\u001B[49m\u001B[38;5;241;43m.\u001B[39;49m\u001B[43mmethod\u001B[49m\u001B[43m,\u001B[49m\n\u001B[1;32m    669\u001B[0m \u001B[43m        \u001B[49m\u001B[43murl\u001B[49m\u001B[38;5;241;43m=\u001B[39;49m\u001B[43murl\u001B[49m\u001B[43m,\u001B[49m\n\u001B[1;32m    670\u001B[0m \u001B[43m        \u001B[49m\u001B[43mbody\u001B[49m\u001B[38;5;241;43m=\u001B[39;49m\u001B[43mrequest\u001B[49m\u001B[38;5;241;43m.\u001B[39;49m\u001B[43mbody\u001B[49m\u001B[43m,\u001B[49m\n\u001B[1;32m    671\u001B[0m \u001B[43m        \u001B[49m\u001B[43mheaders\u001B[49m\u001B[38;5;241;43m=\u001B[39;49m\u001B[43mrequest\u001B[49m\u001B[38;5;241;43m.\u001B[39;49m\u001B[43mheaders\u001B[49m\u001B[43m,\u001B[49m\n\u001B[1;32m    672\u001B[0m \u001B[43m        \u001B[49m\u001B[43mredirect\u001B[49m\u001B[38;5;241;43m=\u001B[39;49m\u001B[38;5;28;43;01mFalse\u001B[39;49;00m\u001B[43m,\u001B[49m\n\u001B[1;32m    673\u001B[0m \u001B[43m        \u001B[49m\u001B[43massert_same_host\u001B[49m\u001B[38;5;241;43m=\u001B[39;49m\u001B[38;5;28;43;01mFalse\u001B[39;49;00m\u001B[43m,\u001B[49m\n\u001B[1;32m    674\u001B[0m \u001B[43m        \u001B[49m\u001B[43mpreload_content\u001B[49m\u001B[38;5;241;43m=\u001B[39;49m\u001B[38;5;28;43;01mFalse\u001B[39;49;00m\u001B[43m,\u001B[49m\n\u001B[1;32m    675\u001B[0m \u001B[43m        \u001B[49m\u001B[43mdecode_content\u001B[49m\u001B[38;5;241;43m=\u001B[39;49m\u001B[38;5;28;43;01mFalse\u001B[39;49;00m\u001B[43m,\u001B[49m\n\u001B[1;32m    676\u001B[0m \u001B[43m        \u001B[49m\u001B[43mretries\u001B[49m\u001B[38;5;241;43m=\u001B[39;49m\u001B[38;5;28;43mself\u001B[39;49m\u001B[38;5;241;43m.\u001B[39;49m\u001B[43mmax_retries\u001B[49m\u001B[43m,\u001B[49m\n\u001B[1;32m    677\u001B[0m \u001B[43m        \u001B[49m\u001B[43mtimeout\u001B[49m\u001B[38;5;241;43m=\u001B[39;49m\u001B[43mtimeout\u001B[49m\u001B[43m,\u001B[49m\n\u001B[1;32m    678\u001B[0m \u001B[43m        \u001B[49m\u001B[43mchunked\u001B[49m\u001B[38;5;241;43m=\u001B[39;49m\u001B[43mchunked\u001B[49m\u001B[43m,\u001B[49m\n\u001B[1;32m    679\u001B[0m \u001B[43m    \u001B[49m\u001B[43m)\u001B[49m\n\u001B[1;32m    681\u001B[0m \u001B[38;5;28;01mexcept\u001B[39;00m (ProtocolError, \u001B[38;5;167;01mOSError\u001B[39;00m) \u001B[38;5;28;01mas\u001B[39;00m err:\n\u001B[1;32m    682\u001B[0m     \u001B[38;5;28;01mraise\u001B[39;00m \u001B[38;5;167;01mConnectionError\u001B[39;00m(err, request\u001B[38;5;241m=\u001B[39mrequest)\n",
      "File \u001B[0;32m~/Workspace/kounafoni-app/.venv/lib/python3.10/site-packages/urllib3/connectionpool.py:789\u001B[0m, in \u001B[0;36mHTTPConnectionPool.urlopen\u001B[0;34m(self, method, url, body, headers, retries, redirect, assert_same_host, timeout, pool_timeout, release_conn, chunked, body_pos, preload_content, decode_content, **response_kw)\u001B[0m\n\u001B[1;32m    786\u001B[0m response_conn \u001B[38;5;241m=\u001B[39m conn \u001B[38;5;28;01mif\u001B[39;00m \u001B[38;5;129;01mnot\u001B[39;00m release_conn \u001B[38;5;28;01melse\u001B[39;00m \u001B[38;5;28;01mNone\u001B[39;00m\n\u001B[1;32m    788\u001B[0m \u001B[38;5;66;03m# Make the request on the HTTPConnection object\u001B[39;00m\n\u001B[0;32m--> 789\u001B[0m response \u001B[38;5;241m=\u001B[39m \u001B[38;5;28;43mself\u001B[39;49m\u001B[38;5;241;43m.\u001B[39;49m\u001B[43m_make_request\u001B[49m\u001B[43m(\u001B[49m\n\u001B[1;32m    790\u001B[0m \u001B[43m    \u001B[49m\u001B[43mconn\u001B[49m\u001B[43m,\u001B[49m\n\u001B[1;32m    791\u001B[0m \u001B[43m    \u001B[49m\u001B[43mmethod\u001B[49m\u001B[43m,\u001B[49m\n\u001B[1;32m    792\u001B[0m \u001B[43m    \u001B[49m\u001B[43murl\u001B[49m\u001B[43m,\u001B[49m\n\u001B[1;32m    793\u001B[0m \u001B[43m    \u001B[49m\u001B[43mtimeout\u001B[49m\u001B[38;5;241;43m=\u001B[39;49m\u001B[43mtimeout_obj\u001B[49m\u001B[43m,\u001B[49m\n\u001B[1;32m    794\u001B[0m \u001B[43m    \u001B[49m\u001B[43mbody\u001B[49m\u001B[38;5;241;43m=\u001B[39;49m\u001B[43mbody\u001B[49m\u001B[43m,\u001B[49m\n\u001B[1;32m    795\u001B[0m \u001B[43m    \u001B[49m\u001B[43mheaders\u001B[49m\u001B[38;5;241;43m=\u001B[39;49m\u001B[43mheaders\u001B[49m\u001B[43m,\u001B[49m\n\u001B[1;32m    796\u001B[0m \u001B[43m    \u001B[49m\u001B[43mchunked\u001B[49m\u001B[38;5;241;43m=\u001B[39;49m\u001B[43mchunked\u001B[49m\u001B[43m,\u001B[49m\n\u001B[1;32m    797\u001B[0m \u001B[43m    \u001B[49m\u001B[43mretries\u001B[49m\u001B[38;5;241;43m=\u001B[39;49m\u001B[43mretries\u001B[49m\u001B[43m,\u001B[49m\n\u001B[1;32m    798\u001B[0m \u001B[43m    \u001B[49m\u001B[43mresponse_conn\u001B[49m\u001B[38;5;241;43m=\u001B[39;49m\u001B[43mresponse_conn\u001B[49m\u001B[43m,\u001B[49m\n\u001B[1;32m    799\u001B[0m \u001B[43m    \u001B[49m\u001B[43mpreload_content\u001B[49m\u001B[38;5;241;43m=\u001B[39;49m\u001B[43mpreload_content\u001B[49m\u001B[43m,\u001B[49m\n\u001B[1;32m    800\u001B[0m \u001B[43m    \u001B[49m\u001B[43mdecode_content\u001B[49m\u001B[38;5;241;43m=\u001B[39;49m\u001B[43mdecode_content\u001B[49m\u001B[43m,\u001B[49m\n\u001B[1;32m    801\u001B[0m \u001B[43m    \u001B[49m\u001B[38;5;241;43m*\u001B[39;49m\u001B[38;5;241;43m*\u001B[39;49m\u001B[43mresponse_kw\u001B[49m\u001B[43m,\u001B[49m\n\u001B[1;32m    802\u001B[0m \u001B[43m\u001B[49m\u001B[43m)\u001B[49m\n\u001B[1;32m    804\u001B[0m \u001B[38;5;66;03m# Everything went great!\u001B[39;00m\n\u001B[1;32m    805\u001B[0m clean_exit \u001B[38;5;241m=\u001B[39m \u001B[38;5;28;01mTrue\u001B[39;00m\n",
      "File \u001B[0;32m~/Workspace/kounafoni-app/.venv/lib/python3.10/site-packages/urllib3/connectionpool.py:536\u001B[0m, in \u001B[0;36mHTTPConnectionPool._make_request\u001B[0;34m(self, conn, method, url, body, headers, retries, timeout, chunked, response_conn, preload_content, decode_content, enforce_content_length)\u001B[0m\n\u001B[1;32m    534\u001B[0m \u001B[38;5;66;03m# Receive the response from the server\u001B[39;00m\n\u001B[1;32m    535\u001B[0m \u001B[38;5;28;01mtry\u001B[39;00m:\n\u001B[0;32m--> 536\u001B[0m     response \u001B[38;5;241m=\u001B[39m \u001B[43mconn\u001B[49m\u001B[38;5;241;43m.\u001B[39;49m\u001B[43mgetresponse\u001B[49m\u001B[43m(\u001B[49m\u001B[43m)\u001B[49m\n\u001B[1;32m    537\u001B[0m \u001B[38;5;28;01mexcept\u001B[39;00m (BaseSSLError, \u001B[38;5;167;01mOSError\u001B[39;00m) \u001B[38;5;28;01mas\u001B[39;00m e:\n\u001B[1;32m    538\u001B[0m     \u001B[38;5;28mself\u001B[39m\u001B[38;5;241m.\u001B[39m_raise_timeout(err\u001B[38;5;241m=\u001B[39me, url\u001B[38;5;241m=\u001B[39murl, timeout_value\u001B[38;5;241m=\u001B[39mread_timeout)\n",
      "File \u001B[0;32m~/Workspace/kounafoni-app/.venv/lib/python3.10/site-packages/urllib3/connection.py:464\u001B[0m, in \u001B[0;36mHTTPConnection.getresponse\u001B[0;34m(self)\u001B[0m\n\u001B[1;32m    461\u001B[0m \u001B[38;5;28;01mfrom\u001B[39;00m \u001B[38;5;21;01m.\u001B[39;00m\u001B[38;5;21;01mresponse\u001B[39;00m \u001B[38;5;28;01mimport\u001B[39;00m HTTPResponse\n\u001B[1;32m    463\u001B[0m \u001B[38;5;66;03m# Get the response from http.client.HTTPConnection\u001B[39;00m\n\u001B[0;32m--> 464\u001B[0m httplib_response \u001B[38;5;241m=\u001B[39m \u001B[38;5;28;43msuper\u001B[39;49m\u001B[43m(\u001B[49m\u001B[43m)\u001B[49m\u001B[38;5;241;43m.\u001B[39;49m\u001B[43mgetresponse\u001B[49m\u001B[43m(\u001B[49m\u001B[43m)\u001B[49m\n\u001B[1;32m    466\u001B[0m \u001B[38;5;28;01mtry\u001B[39;00m:\n\u001B[1;32m    467\u001B[0m     assert_header_parsing(httplib_response\u001B[38;5;241m.\u001B[39mmsg)\n",
      "File \u001B[0;32m/usr/lib/python3.10/http/client.py:1375\u001B[0m, in \u001B[0;36mHTTPConnection.getresponse\u001B[0;34m(self)\u001B[0m\n\u001B[1;32m   1373\u001B[0m \u001B[38;5;28;01mtry\u001B[39;00m:\n\u001B[1;32m   1374\u001B[0m     \u001B[38;5;28;01mtry\u001B[39;00m:\n\u001B[0;32m-> 1375\u001B[0m         \u001B[43mresponse\u001B[49m\u001B[38;5;241;43m.\u001B[39;49m\u001B[43mbegin\u001B[49m\u001B[43m(\u001B[49m\u001B[43m)\u001B[49m\n\u001B[1;32m   1376\u001B[0m     \u001B[38;5;28;01mexcept\u001B[39;00m \u001B[38;5;167;01mConnectionError\u001B[39;00m:\n\u001B[1;32m   1377\u001B[0m         \u001B[38;5;28mself\u001B[39m\u001B[38;5;241m.\u001B[39mclose()\n",
      "File \u001B[0;32m/usr/lib/python3.10/http/client.py:318\u001B[0m, in \u001B[0;36mHTTPResponse.begin\u001B[0;34m(self)\u001B[0m\n\u001B[1;32m    316\u001B[0m \u001B[38;5;66;03m# read until we get a non-100 response\u001B[39;00m\n\u001B[1;32m    317\u001B[0m \u001B[38;5;28;01mwhile\u001B[39;00m \u001B[38;5;28;01mTrue\u001B[39;00m:\n\u001B[0;32m--> 318\u001B[0m     version, status, reason \u001B[38;5;241m=\u001B[39m \u001B[38;5;28;43mself\u001B[39;49m\u001B[38;5;241;43m.\u001B[39;49m\u001B[43m_read_status\u001B[49m\u001B[43m(\u001B[49m\u001B[43m)\u001B[49m\n\u001B[1;32m    319\u001B[0m     \u001B[38;5;28;01mif\u001B[39;00m status \u001B[38;5;241m!=\u001B[39m CONTINUE:\n\u001B[1;32m    320\u001B[0m         \u001B[38;5;28;01mbreak\u001B[39;00m\n",
      "File \u001B[0;32m/usr/lib/python3.10/http/client.py:279\u001B[0m, in \u001B[0;36mHTTPResponse._read_status\u001B[0;34m(self)\u001B[0m\n\u001B[1;32m    278\u001B[0m \u001B[38;5;28;01mdef\u001B[39;00m \u001B[38;5;21m_read_status\u001B[39m(\u001B[38;5;28mself\u001B[39m):\n\u001B[0;32m--> 279\u001B[0m     line \u001B[38;5;241m=\u001B[39m \u001B[38;5;28mstr\u001B[39m(\u001B[38;5;28;43mself\u001B[39;49m\u001B[38;5;241;43m.\u001B[39;49m\u001B[43mfp\u001B[49m\u001B[38;5;241;43m.\u001B[39;49m\u001B[43mreadline\u001B[49m\u001B[43m(\u001B[49m\u001B[43m_MAXLINE\u001B[49m\u001B[43m \u001B[49m\u001B[38;5;241;43m+\u001B[39;49m\u001B[43m \u001B[49m\u001B[38;5;241;43m1\u001B[39;49m\u001B[43m)\u001B[49m, \u001B[38;5;124m\"\u001B[39m\u001B[38;5;124miso-8859-1\u001B[39m\u001B[38;5;124m\"\u001B[39m)\n\u001B[1;32m    280\u001B[0m     \u001B[38;5;28;01mif\u001B[39;00m \u001B[38;5;28mlen\u001B[39m(line) \u001B[38;5;241m>\u001B[39m _MAXLINE:\n\u001B[1;32m    281\u001B[0m         \u001B[38;5;28;01mraise\u001B[39;00m LineTooLong(\u001B[38;5;124m\"\u001B[39m\u001B[38;5;124mstatus line\u001B[39m\u001B[38;5;124m\"\u001B[39m)\n",
      "File \u001B[0;32m/usr/lib/python3.10/socket.py:705\u001B[0m, in \u001B[0;36mSocketIO.readinto\u001B[0;34m(self, b)\u001B[0m\n\u001B[1;32m    703\u001B[0m \u001B[38;5;28;01mwhile\u001B[39;00m \u001B[38;5;28;01mTrue\u001B[39;00m:\n\u001B[1;32m    704\u001B[0m     \u001B[38;5;28;01mtry\u001B[39;00m:\n\u001B[0;32m--> 705\u001B[0m         \u001B[38;5;28;01mreturn\u001B[39;00m \u001B[38;5;28;43mself\u001B[39;49m\u001B[38;5;241;43m.\u001B[39;49m\u001B[43m_sock\u001B[49m\u001B[38;5;241;43m.\u001B[39;49m\u001B[43mrecv_into\u001B[49m\u001B[43m(\u001B[49m\u001B[43mb\u001B[49m\u001B[43m)\u001B[49m\n\u001B[1;32m    706\u001B[0m     \u001B[38;5;28;01mexcept\u001B[39;00m timeout:\n\u001B[1;32m    707\u001B[0m         \u001B[38;5;28mself\u001B[39m\u001B[38;5;241m.\u001B[39m_timeout_occurred \u001B[38;5;241m=\u001B[39m \u001B[38;5;28;01mTrue\u001B[39;00m\n",
      "\u001B[0;31mKeyboardInterrupt\u001B[0m: "
     ]
    }
   ],
   "execution_count": 23
  },
  {
   "metadata": {
    "ExecuteTime": {
     "end_time": "2024-09-30T08:50:12.347366Z",
     "start_time": "2024-09-30T08:50:12.343859Z"
    }
   },
   "cell_type": "code",
   "source": "CHROMA_DB_PERSIST_PATH",
   "id": "be931ab125be0401",
   "outputs": [
    {
     "data": {
      "text/plain": [
       "PosixPath('/home/bouba/Workspace/kounafoni-app/data/new_chroma_db_1024')"
      ]
     },
     "execution_count": 68,
     "metadata": {},
     "output_type": "execute_result"
    }
   ],
   "execution_count": 68
  },
  {
   "metadata": {
    "ExecuteTime": {
     "end_time": "2024-09-30T08:56:23.559497Z",
     "start_time": "2024-09-30T08:50:55.697905Z"
    }
   },
   "cell_type": "code",
   "source": [
    "db = Chroma(\n",
    "    persist_directory=CHROMA_DB_PERSIST_PATH.as_posix(),\n",
    "    embedding_function=embeddings_llm,\n",
    ")\n",
    "\n",
    "persisted_ids = db.get()[\"ids\"]\n",
    "\n",
    "new_documents_to_embed_df = pd.DataFrame({\n",
    "    \"single_id\": [str(uuid.uuid5(uuid.NAMESPACE_DNS, doc.page_content)) for doc in documents],\n",
    "    \"document\": documents\n",
    "})\n",
    "\n",
    "# to keep only different documents (i.e. chunks)\n",
    "new_documents_to_embed_df.drop_duplicates(subset=\"single_id\", inplace=True)\n",
    "\n",
    "# Keep only documents not already embedded\n",
    "new_documents_to_embed_df = new_documents_to_embed_df.query(f\"single_id not in {persisted_ids}\")\n",
    "\n",
    "if new_documents_to_embed_df.empty:\n",
    "    print(\"No documents to embed\")\n",
    "else:\n",
    "    print(\"Embedding documents...\")\n",
    "    display(new_documents_to_embed_df.head()), \n",
    "    db.add_documents(\n",
    "        documents=new_documents_to_embed_df.document.tolist(), \n",
    "        embedding=embeddings_llm, \n",
    "        ids=new_documents_to_embed_df.single_id.tolist(), \n",
    "        persist_directory=CHROMA_DB_PERSIST_PATH.as_posix(),\n",
    "    )\n"
   ],
   "id": "7dc1ed2f4249ffc9",
   "outputs": [
    {
     "name": "stdout",
     "output_type": "stream",
     "text": [
      "Embedding documents...\n"
     ]
    },
    {
     "data": {
      "text/plain": [
       "                               single_id  \\\n",
       "30  a8985259-a938-53b2-8a89-9cf236a47d93   \n",
       "31  3ec82d58-53bd-566a-bc8c-6b72025413f8   \n",
       "32  5d1c0def-194d-577d-b65a-4272b1e9caa3   \n",
       "33  0932f39f-1d8b-5048-9a16-d94a8f24a4a0   \n",
       "34  28a9bfea-9078-59fa-8e63-6df921417af4   \n",
       "\n",
       "                                             document  \n",
       "30  page_content='Ainsi, plus on s'éloigne de ce ...  \n",
       "31  page_content='content: Le général Alou Boï ...  \n",
       "32  page_content='« Très impressionnant. Les tech...  \n",
       "33  page_content='Il a également commenté à AI ...  \n",
       "34  page_content='<...> Nous déplorons l’attitude...  "
      ],
      "text/html": [
       "<div>\n",
       "<style scoped>\n",
       "    .dataframe tbody tr th:only-of-type {\n",
       "        vertical-align: middle;\n",
       "    }\n",
       "\n",
       "    .dataframe tbody tr th {\n",
       "        vertical-align: top;\n",
       "    }\n",
       "\n",
       "    .dataframe thead th {\n",
       "        text-align: right;\n",
       "    }\n",
       "</style>\n",
       "<table border=\"1\" class=\"dataframe\">\n",
       "  <thead>\n",
       "    <tr style=\"text-align: right;\">\n",
       "      <th></th>\n",
       "      <th>single_id</th>\n",
       "      <th>document</th>\n",
       "    </tr>\n",
       "  </thead>\n",
       "  <tbody>\n",
       "    <tr>\n",
       "      <th>30</th>\n",
       "      <td>a8985259-a938-53b2-8a89-9cf236a47d93</td>\n",
       "      <td>page_content='Ainsi, plus on s'éloigne de ce ...</td>\n",
       "    </tr>\n",
       "    <tr>\n",
       "      <th>31</th>\n",
       "      <td>3ec82d58-53bd-566a-bc8c-6b72025413f8</td>\n",
       "      <td>page_content='content: Le général Alou Boï ...</td>\n",
       "    </tr>\n",
       "    <tr>\n",
       "      <th>32</th>\n",
       "      <td>5d1c0def-194d-577d-b65a-4272b1e9caa3</td>\n",
       "      <td>page_content='« Très impressionnant. Les tech...</td>\n",
       "    </tr>\n",
       "    <tr>\n",
       "      <th>33</th>\n",
       "      <td>0932f39f-1d8b-5048-9a16-d94a8f24a4a0</td>\n",
       "      <td>page_content='Il a également commenté à AI ...</td>\n",
       "    </tr>\n",
       "    <tr>\n",
       "      <th>34</th>\n",
       "      <td>28a9bfea-9078-59fa-8e63-6df921417af4</td>\n",
       "      <td>page_content='&lt;...&gt; Nous déplorons l’attitude...</td>\n",
       "    </tr>\n",
       "  </tbody>\n",
       "</table>\n",
       "</div>"
      ]
     },
     "metadata": {},
     "output_type": "display_data"
    },
    {
     "name": "stderr",
     "output_type": "stream",
     "text": [
      "OllamaEmbeddings: 100%|██████████| 519/519 [05:27<00:00,  1.58it/s]\n"
     ]
    }
   ],
   "execution_count": 70
  },
  {
   "metadata": {
    "ExecuteTime": {
     "end_time": "2024-09-23T07:39:06.312925Z",
     "start_time": "2024-09-23T07:39:06.298907Z"
    }
   },
   "cell_type": "code",
   "source": [
    "db_check = Chroma(\n",
    "    persist_directory=CHROMA_DB_PERSIST_PATH.as_posix(),\n",
    "    embedding_function=embeddings_llm,\n",
    ")\n",
    "db_check.get()"
   ],
   "id": "f475746c4170928",
   "outputs": [
    {
     "data": {
      "text/plain": [
       "{'ids': ['08214fe1-38c6-56d6-8c4f-245ba844bee1',\n",
       "  '11f1d385-f429-59a2-afd5-71223f4b74df',\n",
       "  '2490711e-e345-5e92-a883-bc2dec9a8d4d',\n",
       "  '2b36dcc4-e01f-53a9-89af-816bb8b058ab',\n",
       "  '3fd9514c-a0b9-5ff0-83a9-6cd058a965bb',\n",
       "  '431801fc-54ae-54c7-8b89-5629ed02202d',\n",
       "  '4373ecaa-3dde-5cd9-a08b-e5985c5d70b8',\n",
       "  '4c51426c-5f39-542e-9b7d-e8eb1b14a4f5',\n",
       "  '5261cd46-bb81-5322-a6a4-9e9327995441',\n",
       "  '6064e09e-f508-5762-b2ff-8c0dfcb25586',\n",
       "  '61cccc77-0a85-51ff-bcc9-370d9946eb2e',\n",
       "  '657515c2-5c93-5538-b8d4-afbeddebf110',\n",
       "  '6ccd4345-af7b-5a6f-9cd1-920084aa5048',\n",
       "  '8544498f-95b7-5a99-b4e7-da20bea4ba16',\n",
       "  '886f93e9-21a4-5d31-93d9-922478057c6f',\n",
       "  '8bd5dee4-85db-5188-8aec-a0289b9fa9ce',\n",
       "  '8f92abb1-124d-5b64-9d88-adfb4c0df86a',\n",
       "  '908b29d1-15fb-4381-a1c9-1e8621833630',\n",
       "  '93b0b662-0c54-516a-8b0d-d6eac3ec97b9',\n",
       "  '9b2dbda5-fb4c-59c4-a881-0118bfbaf2b4',\n",
       "  'a7af70d3-fbbe-5e3b-83e3-a9d3efe766ee',\n",
       "  'acdf1f22-60fa-54de-8d1b-b0b56dcc89f3',\n",
       "  'ad36a773-8e9e-5825-b1ba-f74bc2a53016',\n",
       "  'af0d3583-d70a-54f2-8d56-a70817f4cdbc',\n",
       "  'b0f564fc-8ae9-56fa-99a1-ab749c261da1',\n",
       "  'c61aaa1c-3432-5f90-8ed2-97775a5d4c95',\n",
       "  'c7193dea-4ad2-5e4e-a2f4-61cfed1b0c6e',\n",
       "  'c8cb526f-8ad9-4aa9-93c7-15cf9b3f21b8',\n",
       "  'e47e04de-a44e-561d-96bf-766f1b5188b2',\n",
       "  'ef11bbc6-32d0-5432-b270-5262c2898468',\n",
       "  'f6a1244c-79a4-5e29-8148-30495c514f0b',\n",
       "  'f8871cf3-1f21-5d67-98a4-f01b87484621'],\n",
       " 'embeddings': None,\n",
       " 'metadatas': [{'date': '2024-08-21',\n",
       "   'link': 'https://malijet.com/a_la_une_du_mali/294006-classement-2024-des-puissances-militaires-africaines-le-mali-sup.html',\n",
       "   'row': 2,\n",
       "   'source': '../data/articles/malijet/2024/08/21.csv',\n",
       "   'source_paper': 'Le Nouveau Réveil',\n",
       "   'title': \"Classement 2024 des puissances militaires africaines: Le Mali supplante ses alliés de l'AES et se positionne derrière la Côte d'Ivoire\"},\n",
       "  {'date': '2024-08-21',\n",
       "   'link': 'https://malijet.com/a_la_une_du_mali/294008-digitalisation-de-l’administration-la-dgccc-en-premiere-ligne-po.html',\n",
       "   'row': 1,\n",
       "   'source': '../data/articles/malijet/2024/08/21.csv',\n",
       "   'source_paper': 'Le Nouveau Réveil',\n",
       "   'title': 'Digitalisation de l’Administration: La DGCCC en première ligne pour concrétiser la vision du Président de la transition'},\n",
       "  {'date': '2024-08-21',\n",
       "   'link': 'https://malijet.com/a_la_une_du_mali/294008-digitalisation-de-l’administration-la-dgccc-en-premiere-ligne-po.html',\n",
       "   'row': 1,\n",
       "   'source': '../data/articles/malijet/2024/08/21.csv',\n",
       "   'source_paper': 'Le Nouveau Réveil',\n",
       "   'title': 'Digitalisation de l’Administration: La DGCCC en première ligne pour concrétiser la vision du Président de la transition'},\n",
       "  {'date': '2024-08-21',\n",
       "   'link': 'https://malijet.com/a_la_une_du_mali/294006-classement-2024-des-puissances-militaires-africaines-le-mali-sup.html',\n",
       "   'row': 2,\n",
       "   'source': '../data/articles/malijet/2024/08/21.csv',\n",
       "   'source_paper': 'Le Nouveau Réveil',\n",
       "   'title': \"Classement 2024 des puissances militaires africaines: Le Mali supplante ses alliés de l'AES et se positionne derrière la Côte d'Ivoire\"},\n",
       "  {'date': '2024-08-21',\n",
       "   'link': 'https://malijet.com/a_la_une_du_mali/294006-classement-2024-des-puissances-militaires-africaines-le-mali-sup.html',\n",
       "   'row': 2,\n",
       "   'source': '../data/articles/malijet/2024/08/21.csv',\n",
       "   'source_paper': 'Le Nouveau Réveil',\n",
       "   'title': \"Classement 2024 des puissances militaires africaines: Le Mali supplante ses alliés de l'AES et se positionne derrière la Côte d'Ivoire\"},\n",
       "  {'date': '2024-08-21',\n",
       "   'link': 'https://malijet.com/a_la_une_du_mali/294006-classement-2024-des-puissances-militaires-africaines-le-mali-sup.html',\n",
       "   'row': 2,\n",
       "   'source': '../data/articles/malijet/2024/08/21.csv',\n",
       "   'source_paper': 'Le Nouveau Réveil',\n",
       "   'title': \"Classement 2024 des puissances militaires africaines: Le Mali supplante ses alliés de l'AES et se positionne derrière la Côte d'Ivoire\"},\n",
       "  {'date': '2024-08-21',\n",
       "   'link': 'https://malijet.com/a_la_une_du_mali/294034-cooperation-mali-niger--une-delegation-ministerielle-sejourne-a-.html',\n",
       "   'row': 0,\n",
       "   'source': '../data/articles/malijet/2024/08/21.csv',\n",
       "   'source_paper': 'Malijet ',\n",
       "   'title': 'Coopération Mali-Niger : Une délégation ministérielle séjourne à Niamey'},\n",
       "  {'date': '2024-08-21',\n",
       "   'link': 'https://malijet.com/a_la_une_du_mali/294006-classement-2024-des-puissances-militaires-africaines-le-mali-sup.html',\n",
       "   'row': 2,\n",
       "   'source': '../data/articles/malijet/2024/08/21.csv',\n",
       "   'source_paper': 'Le Nouveau Réveil',\n",
       "   'title': \"Classement 2024 des puissances militaires africaines: Le Mali supplante ses alliés de l'AES et se positionne derrière la Côte d'Ivoire\"},\n",
       "  {'date': '2024-08-21',\n",
       "   'link': 'https://malijet.com/a_la_une_du_mali/294034-cooperation-mali-niger--une-delegation-ministerielle-sejourne-a-.html',\n",
       "   'row': 0,\n",
       "   'source': '../data/articles/malijet/2024/08/21.csv',\n",
       "   'source_paper': 'Malijet ',\n",
       "   'title': 'Coopération Mali-Niger : Une délégation ministérielle séjourne à Niamey'},\n",
       "  {'date': '2024-08-21',\n",
       "   'link': 'https://malijet.com/a_la_une_du_mali/294006-classement-2024-des-puissances-militaires-africaines-le-mali-sup.html',\n",
       "   'row': 2,\n",
       "   'source': '../data/articles/malijet/2024/08/21.csv',\n",
       "   'source_paper': 'Le Nouveau Réveil',\n",
       "   'title': \"Classement 2024 des puissances militaires africaines: Le Mali supplante ses alliés de l'AES et se positionne derrière la Côte d'Ivoire\"},\n",
       "  {'date': '2024-08-21',\n",
       "   'link': 'https://malijet.com/a_la_une_du_mali/294034-cooperation-mali-niger--une-delegation-ministerielle-sejourne-a-.html',\n",
       "   'row': 0,\n",
       "   'source': '../data/articles/malijet/2024/08/21.csv',\n",
       "   'source_paper': 'Malijet ',\n",
       "   'title': 'Coopération Mali-Niger : Une délégation ministérielle séjourne à Niamey'},\n",
       "  {'date': '2024-08-21',\n",
       "   'link': 'https://malijet.com/a_la_une_du_mali/294008-digitalisation-de-l’administration-la-dgccc-en-premiere-ligne-po.html',\n",
       "   'row': 1,\n",
       "   'source': '../data/articles/malijet/2024/08/21.csv',\n",
       "   'source_paper': 'Le Nouveau Réveil',\n",
       "   'title': 'Digitalisation de l’Administration: La DGCCC en première ligne pour concrétiser la vision du Président de la transition'},\n",
       "  {'date': '2024-08-21',\n",
       "   'link': 'https://malijet.com/a_la_une_du_mali/294006-classement-2024-des-puissances-militaires-africaines-le-mali-sup.html',\n",
       "   'row': 2,\n",
       "   'source': '../data/articles/malijet/2024/08/21.csv',\n",
       "   'source_paper': 'Le Nouveau Réveil',\n",
       "   'title': \"Classement 2024 des puissances militaires africaines: Le Mali supplante ses alliés de l'AES et se positionne derrière la Côte d'Ivoire\"},\n",
       "  {'date': '2024-08-21',\n",
       "   'link': 'https://malijet.com/a_la_une_du_mali/294006-classement-2024-des-puissances-militaires-africaines-le-mali-sup.html',\n",
       "   'row': 2,\n",
       "   'source': '../data/articles/malijet/2024/08/21.csv',\n",
       "   'source_paper': 'Le Nouveau Réveil',\n",
       "   'title': \"Classement 2024 des puissances militaires africaines: Le Mali supplante ses alliés de l'AES et se positionne derrière la Côte d'Ivoire\"},\n",
       "  {'date': '2024-08-21',\n",
       "   'link': 'https://malijet.com/a_la_une_du_mali/294006-classement-2024-des-puissances-militaires-africaines-le-mali-sup.html',\n",
       "   'row': 2,\n",
       "   'source': '../data/articles/malijet/2024/08/21.csv',\n",
       "   'source_paper': 'Le Nouveau Réveil',\n",
       "   'title': \"Classement 2024 des puissances militaires africaines: Le Mali supplante ses alliés de l'AES et se positionne derrière la Côte d'Ivoire\"},\n",
       "  {'date': '2024-08-21',\n",
       "   'link': 'https://malijet.com/a_la_une_du_mali/294006-classement-2024-des-puissances-militaires-africaines-le-mali-sup.html',\n",
       "   'row': 2,\n",
       "   'source': '../data/articles/malijet/2024/08/21.csv',\n",
       "   'source_paper': 'Le Nouveau Réveil',\n",
       "   'title': \"Classement 2024 des puissances militaires africaines: Le Mali supplante ses alliés de l'AES et se positionne derrière la Côte d'Ivoire\"},\n",
       "  {'date': '2024-08-21',\n",
       "   'link': 'https://malijet.com/a_la_une_du_mali/294008-digitalisation-de-l’administration-la-dgccc-en-premiere-ligne-po.html',\n",
       "   'row': 1,\n",
       "   'source': '../data/articles/malijet/2024/08/21.csv',\n",
       "   'source_paper': 'Le Nouveau Réveil',\n",
       "   'title': 'Digitalisation de l’Administration: La DGCCC en première ligne pour concrétiser la vision du Président de la transition'},\n",
       "  {'date': '2024-08-21',\n",
       "   'link': 'https://malijet.com/a_la_une_du_mali/294034-cooperation-mali-niger--une-delegation-ministerielle-sejourne-a-.html',\n",
       "   'row': 0,\n",
       "   'source': '../data/articles/malijet/2024/08/21.csv',\n",
       "   'source_paper': 'Malijet ',\n",
       "   'title': 'Coopération Mali-Niger : Une délégation ministérielle séjourne à Niamey'},\n",
       "  {'date': '2024-08-21',\n",
       "   'link': 'https://malijet.com/a_la_une_du_mali/294008-digitalisation-de-l’administration-la-dgccc-en-premiere-ligne-po.html',\n",
       "   'row': 1,\n",
       "   'source': '../data/articles/malijet/2024/08/21.csv',\n",
       "   'source_paper': 'Le Nouveau Réveil',\n",
       "   'title': 'Digitalisation de l’Administration: La DGCCC en première ligne pour concrétiser la vision du Président de la transition'},\n",
       "  {'date': '2024-08-21',\n",
       "   'link': 'https://malijet.com/a_la_une_du_mali/294008-digitalisation-de-l’administration-la-dgccc-en-premiere-ligne-po.html',\n",
       "   'row': 1,\n",
       "   'source': '../data/articles/malijet/2024/08/21.csv',\n",
       "   'source_paper': 'Le Nouveau Réveil',\n",
       "   'title': 'Digitalisation de l’Administration: La DGCCC en première ligne pour concrétiser la vision du Président de la transition'},\n",
       "  {'date': '2024-08-21',\n",
       "   'link': 'https://malijet.com/a_la_une_du_mali/294006-classement-2024-des-puissances-militaires-africaines-le-mali-sup.html',\n",
       "   'row': 2,\n",
       "   'source': '../data/articles/malijet/2024/08/21.csv',\n",
       "   'source_paper': 'Le Nouveau Réveil',\n",
       "   'title': \"Classement 2024 des puissances militaires africaines: Le Mali supplante ses alliés de l'AES et se positionne derrière la Côte d'Ivoire\"},\n",
       "  {'date': '2024-08-21',\n",
       "   'link': 'https://malijet.com/a_la_une_du_mali/294006-classement-2024-des-puissances-militaires-africaines-le-mali-sup.html',\n",
       "   'row': 2,\n",
       "   'source': '../data/articles/malijet/2024/08/21.csv',\n",
       "   'source_paper': 'Le Nouveau Réveil',\n",
       "   'title': \"Classement 2024 des puissances militaires africaines: Le Mali supplante ses alliés de l'AES et se positionne derrière la Côte d'Ivoire\"},\n",
       "  {'date': '2024-08-21',\n",
       "   'link': 'https://malijet.com/a_la_une_du_mali/294006-classement-2024-des-puissances-militaires-africaines-le-mali-sup.html',\n",
       "   'row': 2,\n",
       "   'source': '../data/articles/malijet/2024/08/21.csv',\n",
       "   'source_paper': 'Le Nouveau Réveil',\n",
       "   'title': \"Classement 2024 des puissances militaires africaines: Le Mali supplante ses alliés de l'AES et se positionne derrière la Côte d'Ivoire\"},\n",
       "  {'date': '2024-08-21',\n",
       "   'link': 'https://malijet.com/a_la_une_du_mali/294008-digitalisation-de-l’administration-la-dgccc-en-premiere-ligne-po.html',\n",
       "   'row': 1,\n",
       "   'source': '../data/articles/malijet/2024/08/21.csv',\n",
       "   'source_paper': 'Le Nouveau Réveil',\n",
       "   'title': 'Digitalisation de l’Administration: La DGCCC en première ligne pour concrétiser la vision du Président de la transition'},\n",
       "  {'date': '2024-08-21',\n",
       "   'link': 'https://malijet.com/a_la_une_du_mali/294006-classement-2024-des-puissances-militaires-africaines-le-mali-sup.html',\n",
       "   'row': 2,\n",
       "   'source': '../data/articles/malijet/2024/08/21.csv',\n",
       "   'source_paper': 'Le Nouveau Réveil',\n",
       "   'title': \"Classement 2024 des puissances militaires africaines: Le Mali supplante ses alliés de l'AES et se positionne derrière la Côte d'Ivoire\"},\n",
       "  {'date': '2024-08-21',\n",
       "   'link': 'https://malijet.com/a_la_une_du_mali/294034-cooperation-mali-niger--une-delegation-ministerielle-sejourne-a-.html',\n",
       "   'row': 0,\n",
       "   'source': '../data/articles/malijet/2024/08/21.csv',\n",
       "   'source_paper': 'Malijet ',\n",
       "   'title': 'Coopération Mali-Niger : Une délégation ministérielle séjourne à Niamey'},\n",
       "  {'date': '2024-08-21',\n",
       "   'link': 'https://malijet.com/a_la_une_du_mali/294006-classement-2024-des-puissances-militaires-africaines-le-mali-sup.html',\n",
       "   'row': 2,\n",
       "   'source': '../data/articles/malijet/2024/08/21.csv',\n",
       "   'source_paper': 'Le Nouveau Réveil',\n",
       "   'title': \"Classement 2024 des puissances militaires africaines: Le Mali supplante ses alliés de l'AES et se positionne derrière la Côte d'Ivoire\"},\n",
       "  {'date': '2024-08-21',\n",
       "   'link': 'https://malijet.com/a_la_une_du_mali/294034-cooperation-mali-niger--une-delegation-ministerielle-sejourne-a-.html',\n",
       "   'row': 0,\n",
       "   'source': '../data/articles/malijet/2024/08/21.csv',\n",
       "   'source_paper': 'Malijet ',\n",
       "   'title': 'Coopération Mali-Niger : Une délégation ministérielle séjourne à Niamey'},\n",
       "  {'date': '2024-08-21',\n",
       "   'link': 'https://malijet.com/a_la_une_du_mali/294006-classement-2024-des-puissances-militaires-africaines-le-mali-sup.html',\n",
       "   'row': 2,\n",
       "   'source': '../data/articles/malijet/2024/08/21.csv',\n",
       "   'source_paper': 'Le Nouveau Réveil',\n",
       "   'title': \"Classement 2024 des puissances militaires africaines: Le Mali supplante ses alliés de l'AES et se positionne derrière la Côte d'Ivoire\"},\n",
       "  {'date': '2024-08-21',\n",
       "   'link': 'https://malijet.com/a_la_une_du_mali/294008-digitalisation-de-l’administration-la-dgccc-en-premiere-ligne-po.html',\n",
       "   'row': 1,\n",
       "   'source': '../data/articles/malijet/2024/08/21.csv',\n",
       "   'source_paper': 'Le Nouveau Réveil',\n",
       "   'title': 'Digitalisation de l’Administration: La DGCCC en première ligne pour concrétiser la vision du Président de la transition'},\n",
       "  {'date': '2024-08-21',\n",
       "   'link': 'https://malijet.com/a_la_une_du_mali/294006-classement-2024-des-puissances-militaires-africaines-le-mali-sup.html',\n",
       "   'row': 2,\n",
       "   'source': '../data/articles/malijet/2024/08/21.csv',\n",
       "   'source_paper': 'Le Nouveau Réveil',\n",
       "   'title': \"Classement 2024 des puissances militaires africaines: Le Mali supplante ses alliés de l'AES et se positionne derrière la Côte d'Ivoire\"},\n",
       "  {'date': '2024-08-21',\n",
       "   'link': 'https://malijet.com/a_la_une_du_mali/294034-cooperation-mali-niger--une-delegation-ministerielle-sejourne-a-.html',\n",
       "   'row': 0,\n",
       "   'source': '../data/articles/malijet/2024/08/21.csv',\n",
       "   'source_paper': 'Malijet ',\n",
       "   'title': 'Coopération Mali-Niger : Une délégation ministérielle séjourne à Niamey'}],\n",
       " 'documents': ['le Cameroun et le Mali',\n",
       "  'Conformément aux directives des plus hautes autorités de la transition, avec à leur tête, le Colonel Assimi Goïta, Président de la Transition, le Mali avance résolument vers la digitalisation de ses services publics. La DGCCC, sous la houlette de son Directeur Général, M',\n",
       "  'content: Le lundi 12 août 2024, la Direction Générale du Commerce, de la Consommation et de la Concurrence (DGCCC) a accueilli le Ministre de l’Industrie et du Commerce, M. Moussa Alassane Diallo, pour une visite riche en enseignements',\n",
       "  'Les États Unis, première puissance de feu du monde D\\'après le rapport de \"Global Fire Power\", les Etats-Unis conservent toujours le titre de première puissance de feu du monde. La Russie, la Chine, l\\'Inde et la Corée du Sud complètent respectivement ce top 5 mondial des puissances militaires. La France détient le 11è rang mondial, tandis que l\\'Ukraine se loge à la 18è place',\n",
       "  'le Bénin (141e), la Somalie (142e)',\n",
       "  \"Le Mali, 3è de la CEDEAO et 2è de l'UMEOA  A l'analyse du classement, l'on remarque qu'au sein de la CEDEAO (Communauté économique des États de l'Afrique de l'ouest), le Nigéria et la Côte d'Ivoire conservent leur place des deux plus grandes puissances militaires de la zone\",\n",
       "  'Kandana/Malijet.com',\n",
       "  'Il s\\'agit, en effet du nombre de militaires actifs, des capacités navales et aériennes, de la dotation en ressources naturelles (pétrole, gaz) du pays, du budget alloué à la défense, etc. La conception du \"Power Index\" permet aux nations plus petites et plus avancées sur le plan technologique de rivaliser avec des puissances plus grandes et moins développées',\n",
       "  'Les discussions ont porté sur divers sujets, incluant les mécanismes de désarmement, de démobilisation et de réintégration (DDR), ainsi que le rôle crucial des autorités traditionnelles dans ce processus',\n",
       "  \"Par rapport aux pays de l'Afrique de l'ouest francophone, c'est la Côte d'Ivoire qui se hisse au 16è rang au niveau continental et 98è à l'échelle mondiale contre respectivement la 19è et la 105è places en 2023. Elle est suivie du Mali et du Niger qui occupent respectivement au niveau africain les 20è et 25è places et au niveau mondial les 106è et 121è rangs\",\n",
       "  \"Le voyage d'études de la délégation malienne s'inscrit également dans le cadre de la réunion préparatoire des experts, présidée par le Conseiller spécial du président de la transition malienne, M. Boya Dembélé. Cette réunion vise à approfondir les échanges sur les stratégies et les meilleures pratiques pour renforcer la paix et la sécurité dans la région\",\n",
       "  'Le Ministre Diallo, impressionné par les avancées réalisées, n’a pas manqué de souligner l\\'importance de cette digitalisation pour l\\'avenir du Mali. \"Ces progrès illustrent la détermination du gouvernement à instaurer une administration moderne, dynamique et adaptée aux exigences du développement\", a-t-il déclaré avec enthousiasme',\n",
       "  \"Le Mali boucle le top 20 africain Les 20 premières armées africaines, selon le rapport de Global Fire Power de 2024, sont : l'Égypte, l'Algérie, l'Afrique du Sud, le Nigéria, l'Éthiopie, l'Angola, le Maroc, la République Démocratique du Congo, la Tunisie, le Soudan, la Lybie, le Kenya, le Mozambique, le Tchad, la Zambie, la Côte d'Ivoire, le Zimbabwe, la Tanzanie, le Cameroun\",\n",
       "  \"Et puis arrivent respectivement le Ghana (113e), l'Ouganda (114e), l'Erythrée (117e), le Soudan du Sud (119e), le Niger (121e), la République du Congo (122e), la Namibie (124e), le Botswana (126e), le Burkina Faso (127e), le Sénégal (130e), la Mauritanie (131e), le Gabon (132e), Madagascar (133e), la Centrafrique (137e), la Sierra Leone (138e), le Liberia (140e), le Bénin (141e),\",\n",
       "  \"Par ailleurs, on constate que le Burkina, pays membre de la confédération de l'Alliance des États du sahel (AES) tout  comme le Mali et le Niger, occupe le 29è rang africain et 127è mondial. Autrement dit, le Mali (20è africain et 106è mondial) le dépasse de très loin\",\n",
       "  \"En effet, comparativement à l'année dernière, le Nigéria a maintenu à la fois sa première place dans la CEDEAO, et la 4ème au niveau africain. Cependant, il a été décalé à l'échelle mondiale au 39ème rang contre 36ème en 2023 sur les 145 Etats évalués\",\n",
       "  \"Zedion Dembélé, incarne cette volonté de transformation en s'engageant pleinement dans cette révolution numérique. L’objectif est clair : rendre l'administration plus transparente, plus efficace, tout en assurant une régulation optimale du commerce, une protection accrue des consommateurs, et une concurrence équitable sur le marché national\",\n",
       "  \"Cette initiative vise à trouver une solution durable et efficace pour résoudre un problème capital auquel le Mali est confronté. La délégation malienne a eu des entretiens avec le ministre d'État, ministre de l'Intérieur, de la Sécurité publique et de l'Administration territoriale du Niger, le général de brigade Mohamed Toumba\",\n",
       "  \"À cette occasion, le Ministre a salué les progrès remarquables réalisés par cette entité dans le processus de digitalisation, un pilier essentiel pour la modernisation de l'administration malienne\",\n",
       "  'Adama Coulibaly',\n",
       "  \"content: Si dans la zone CFA, en termes de classement économique, le rang de 4è qu'occupait le Mali a été chipé par son voisin Burkinabè, qui en plus lui a dépassé en termes d'investissements dans l'armement pendant la période 2022-2023, tel n'est pas le cas dans le classement africain 2024 des puissances de feu. Le Mali laisse loin derrière lui le Burkina\",\n",
       "  \"A souligner que, dans le classement mondial, l'Afrique entre à partir de la 15è place avec l'Égypte. Ce qui fait d'elle la 1ère puissance militaire du continent, tout comme en 2023 où elle occupait la 14è place. Tout comme l'année dernière, il est directement suivi de l'Algérie, de l'Afrique du Sud et du Nigéria\",\n",
       "  \"Ainsi, il se classe derrière la Côte d'Ivoire qui demeure leader en Afrique occidentale francophone. A noter que tout comme l'année précédente, ces deux pays maintiennent leur position d'armée leader en cette année 2024. Il en de même pour le Niger (25è rang africain et 121è rang mondial) est 5è de la CEDEAO et 3è de la zone UEMOA\",\n",
       "  \"En ligne avec la vision des autorités de la transition, la digitalisation de l’administration constitue un défi majeur pour le Mali. La DGCCC, par ses actions audacieuses, montre qu'elle est à la hauteur de ce défi et qu’elle est prête à jouer un rôle de premier plan dans la modernisation de l’État, suivant ainsi les aspirations du Colonel Goïta et de son gouvernement\",\n",
       "  'C\\'est ce qui ressort du rapport 2024 de \"Global Fire Power\". Le cabinet américain, spécialiste des questions de défense, a établi un classement sur un total de 145 pays à travers le monde dont 38 États africains',\n",
       "  \"Cette initiative vise à trouver une solution durable et efficace pour résoudre un problème capital auquel le Mali est confronté. La délégation malienne a eu des entretiens avec le ministre d'État, ministre de l'Intérieur, de la Sécurité publique et de l'Administration territoriale du Niger, le général de brigade Mohamed Toumba\",\n",
       "  \"Il a fondé son classement sur une nomenclature de 60 critères pour déterminer le score ‘'Power Index'' (indice de pouvoir) d'une nation donnée allant des ressources en hommes, aux moyens financiers en passant notamment par les capacités logistiques\",\n",
       "  \"content: Une délégation importante du gouvernement malien, dirigée par le ministre de la Justice et des Droits de l’Homme, garde des Sceaux, Mamadou Kassogué, s'est rendue à Niamey, au Niger, pour étudier les méthodes nigériennes dans la lutte contre l'extrémisme violent, notamment la réinsertion des ex-combattants\",\n",
       "  'A l\\'instar de 2023, le Bhoutan, pays d\\'Asie du Sud, est resté au bas de l\\'échelle dans ce classement mondial des puissances militaires, soit 145è. Il faut noter que le classement de \"Fire Global Fire\" (GFP), basé sur un « Power index » ( indice de pouvoir) dont le score parfait serait de 0,0000 , est impossible dans les faits',\n",
       "  \"Cette visite a également permis d'échanger de manière constructive avec les cadres de la DGCCC. Ainsi, M. Diallo a chaleureusement félicité l’ensemble du personnel pour son engagement indéfectible, tout en les encourageant à continuer sur cette lancée pour faire de la DGCCC un modèle d'innovation administrative\",\n",
       "  \"Quant à la Côte d'Ivoire, au regard de son 16è rang africain, elle se classe en 2è position dans la CEDEAO et, du coup première dans la zone UEMOA (Union économique et monétaire ouest-africaine). Le Mali, occupant au niveau africain la 20è place, se classe 3è de la CEDEAO et 2è dans la zone UEMOA\",\n",
       "  \"content: Une délégation importante du gouvernement malien, dirigée par le ministre de la Justice et des Droits de l’Homme, garde des Sceaux, Mamadou Kassogué, s'est rendue à Niamey, au Niger, pour étudier les méthodes nigériennes dans la lutte contre l'extrémisme violent, notamment la réinsertion des ex-combattants\"],\n",
       " 'uris': None,\n",
       " 'data': None,\n",
       " 'included': ['metadatas', 'documents']}"
      ]
     },
     "execution_count": 39,
     "metadata": {},
     "output_type": "execute_result"
    }
   ],
   "execution_count": 39
  },
  {
   "metadata": {
    "ExecuteTime": {
     "end_time": "2024-05-22T14:37:03.119010Z",
     "start_time": "2024-05-22T14:37:03.115110Z"
    }
   },
   "cell_type": "code",
   "source": "# db_check.get(include=['embeddings'])",
   "id": "5d2d60cf0ec55c70",
   "execution_count": 42,
   "outputs": []
  },
  {
   "metadata": {
    "ExecuteTime": {
     "end_time": "2024-05-22T15:08:07.564700Z",
     "start_time": "2024-05-22T15:08:07.519977Z"
    }
   },
   "cell_type": "code",
   "source": "# db_check.delete_collection()",
   "id": "232d0e1ee52fb5ff",
   "execution_count": 62,
   "outputs": []
  },
  {
   "metadata": {
    "ExecuteTime": {
     "end_time": "2024-05-21T12:21:05.502834Z",
     "start_time": "2024-05-21T09:52:55.322263Z"
    }
   },
   "cell_type": "code",
   "source": [
    "# In memory vector store test!\n",
    "\n",
    "# Took more than 36min for 46 documents only; wow, I interrupted with the keyboard!\n",
    "# For model name as occiglot or mistral or sfr-embedding first on retrieval\n",
    "# db = DocArrayInMemorySearch.from_documents(documents, embedding=embeddings_llm)"
   ],
   "id": "bd7d4249e102ea32",
   "execution_count": 23,
   "outputs": []
  },
  {
   "metadata": {},
   "cell_type": "code",
   "source": [
    "# for snowflake\n",
    "# db2 = DocArrayInMemorySearch.from_documents(documents, embedding=embeddings_llm) "
   ],
   "id": "9d2975291432835c",
   "execution_count": 26,
   "outputs": []
  },
  {
   "metadata": {
    "ExecuteTime": {
     "end_time": "2024-05-23T20:05:43.676683Z",
     "start_time": "2024-05-23T20:05:43.649407Z"
    }
   },
   "cell_type": "code",
   "source": [
    "# for openai\n",
    "# db4 = DocArrayInMemorySearch.from_documents(documents, embedding=embeddings_llm)"
   ],
   "id": "4275c9eae893b756",
   "execution_count": 27,
   "outputs": []
  },
  {
   "metadata": {
    "ExecuteTime": {
     "end_time": "2024-05-23T20:05:43.680902Z",
     "start_time": "2024-05-23T20:05:43.678388Z"
    }
   },
   "cell_type": "code",
   "source": [
    "# load db from disk\n",
    "# db3 = Chroma(persist_directory=CHROMA_DB_PERSIST_PATH.as_posix(), embedding_function=embeddings_llm)\n",
    "# db3"
   ],
   "id": "e23dca038e93e09a",
   "execution_count": 28,
   "outputs": []
  },
  {
   "metadata": {},
   "cell_type": "markdown",
   "source": "## Retriever for RAG",
   "id": "59cd98ac136a801a"
  },
  {
   "metadata": {
    "ExecuteTime": {
     "end_time": "2024-09-30T08:59:29.235826Z",
     "start_time": "2024-09-30T08:59:29.220578Z"
    }
   },
   "cell_type": "code",
   "source": "len(db.get()[\"ids\"])",
   "id": "6c7de4509392c986",
   "outputs": [
    {
     "data": {
      "text/plain": [
       "553"
      ]
     },
     "execution_count": 71,
     "metadata": {},
     "output_type": "execute_result"
    }
   ],
   "execution_count": 71
  },
  {
   "metadata": {
    "ExecuteTime": {
     "end_time": "2024-09-30T08:59:31.201020Z",
     "start_time": "2024-09-30T08:59:31.193935Z"
    }
   },
   "cell_type": "code",
   "source": [
    "retriever = db.as_retriever(search_kwargs={\"k\": 7}) # Occiglot or sfr-embed\n",
    "# retriever = db2.as_retriever(search_kwargs={\"k\": 10}) # snowflake\n",
    "# retriever = db4.as_retriever(search_kwargs={\"k\": 10}) #openAI\n",
    "# retriever = db3.as_retriever(search_kwargs={\"k\": 5})\n",
    "retriever"
   ],
   "id": "c580b555761db9fc",
   "outputs": [
    {
     "data": {
      "text/plain": [
       "VectorStoreRetriever(tags=['Chroma', 'OllamaEmbeddings'], vectorstore=<langchain_community.vectorstores.chroma.Chroma object at 0x79cc31c32da0>, search_kwargs={'k': 7})"
      ]
     },
     "execution_count": 72,
     "metadata": {},
     "output_type": "execute_result"
    }
   ],
   "execution_count": 72
  },
  {
   "metadata": {
    "ExecuteTime": {
     "end_time": "2024-09-23T07:41:03.775949Z",
     "start_time": "2024-09-23T07:41:02.990961Z"
    }
   },
   "cell_type": "code",
   "source": [
    "# Test retriever\n",
    "query = \"AES\" \n",
    "retriever.invoke(query), len(retriever.invoke(query))"
   ],
   "id": "edc395197ac7abaa",
   "outputs": [
    {
     "name": "stderr",
     "output_type": "stream",
     "text": [
      "OllamaEmbeddings: 100%|██████████| 1/1 [00:00<00:00,  2.57it/s]\n",
      "OllamaEmbeddings: 100%|██████████| 1/1 [00:00<00:00,  2.75it/s]\n"
     ]
    },
    {
     "data": {
      "text/plain": [
       "([Document(metadata={'date': '2024-08-21', 'link': 'https://malijet.com/a_la_une_du_mali/294008-digitalisation-de-l’administration-la-dgccc-en-premiere-ligne-po.html', 'row': 1, 'source': '../data/articles/malijet/2024/08/21.csv', 'source_paper': 'Le Nouveau Réveil', 'title': 'Digitalisation de l’Administration: La DGCCC en première ligne pour concrétiser la vision du Président de la transition'}, page_content='Adama Coulibaly'),\n",
       "  Document(metadata={'date': '2024-08-21', 'link': 'https://malijet.com/a_la_une_du_mali/294034-cooperation-mali-niger--une-delegation-ministerielle-sejourne-a-.html', 'row': 0, 'source': '../data/articles/malijet/2024/08/21.csv', 'source_paper': 'Malijet ', 'title': 'Coopération Mali-Niger : Une délégation ministérielle séjourne à Niamey'}, page_content='Kandana/Malijet.com'),\n",
       "  Document(metadata={'date': '2024-08-21', 'link': 'https://malijet.com/a_la_une_du_mali/294006-classement-2024-des-puissances-militaires-africaines-le-mali-sup.html', 'row': 2, 'source': '../data/articles/malijet/2024/08/21.csv', 'source_paper': 'Le Nouveau Réveil', 'title': \"Classement 2024 des puissances militaires africaines: Le Mali supplante ses alliés de l'AES et se positionne derrière la Côte d'Ivoire\"}, page_content='le Cameroun et le Mali'),\n",
       "  Document(metadata={'date': '2024-08-21', 'link': 'https://malijet.com/a_la_une_du_mali/294006-classement-2024-des-puissances-militaires-africaines-le-mali-sup.html', 'row': 2, 'source': '../data/articles/malijet/2024/08/21.csv', 'source_paper': 'Le Nouveau Réveil', 'title': \"Classement 2024 des puissances militaires africaines: Le Mali supplante ses alliés de l'AES et se positionne derrière la Côte d'Ivoire\"}, page_content='le Bénin (141e), la Somalie (142e)'),\n",
       "  Document(metadata={'date': '2024-08-21', 'link': 'https://malijet.com/a_la_une_du_mali/294006-classement-2024-des-puissances-militaires-africaines-le-mali-sup.html', 'row': 2, 'source': '../data/articles/malijet/2024/08/21.csv', 'source_paper': 'Le Nouveau Réveil', 'title': \"Classement 2024 des puissances militaires africaines: Le Mali supplante ses alliés de l'AES et se positionne derrière la Côte d'Ivoire\"}, page_content=\"Il a fondé son classement sur une nomenclature de 60 critères pour déterminer le score ‘'Power Index'' (indice de pouvoir) d'une nation donnée allant des ressources en hommes, aux moyens financiers en passant notamment par les capacités logistiques\"),\n",
       "  Document(metadata={'date': '2024-08-21', 'link': 'https://malijet.com/a_la_une_du_mali/294008-digitalisation-de-l’administration-la-dgccc-en-premiere-ligne-po.html', 'row': 1, 'source': '../data/articles/malijet/2024/08/21.csv', 'source_paper': 'Le Nouveau Réveil', 'title': 'Digitalisation de l’Administration: La DGCCC en première ligne pour concrétiser la vision du Président de la transition'}, page_content=\"Zedion Dembélé, incarne cette volonté de transformation en s'engageant pleinement dans cette révolution numérique. L’objectif est clair : rendre l'administration plus transparente, plus efficace, tout en assurant une régulation optimale du commerce, une protection accrue des consommateurs, et une concurrence équitable sur le marché national\"),\n",
       "  Document(metadata={'date': '2024-08-21', 'link': 'https://malijet.com/a_la_une_du_mali/294006-classement-2024-des-puissances-militaires-africaines-le-mali-sup.html', 'row': 2, 'source': '../data/articles/malijet/2024/08/21.csv', 'source_paper': 'Le Nouveau Réveil', 'title': \"Classement 2024 des puissances militaires africaines: Le Mali supplante ses alliés de l'AES et se positionne derrière la Côte d'Ivoire\"}, page_content=\"Par ailleurs, on constate que le Burkina, pays membre de la confédération de l'Alliance des États du sahel (AES) tout  comme le Mali et le Niger, occupe le 29è rang africain et 127è mondial. Autrement dit, le Mali (20è africain et 106è mondial) le dépasse de très loin\")],\n",
       " 7)"
      ]
     },
     "execution_count": 41,
     "metadata": {},
     "output_type": "execute_result"
    }
   ],
   "execution_count": 41
  },
  {
   "metadata": {
    "ExecuteTime": {
     "end_time": "2024-09-30T09:02:58.414131Z",
     "start_time": "2024-09-30T09:02:58.410931Z"
    }
   },
   "cell_type": "code",
   "source": [
    "def format_docs(docs):\n",
    "    # print(type(docs))\n",
    "    docs_formatted = list()\n",
    "    for d in docs:\n",
    "        # print(type(d))\n",
    "        # date_obj = datetime.strptime(d.metadata['date'], '%Y-%m-%d')\n",
    "        # # Formater la date en format lisible\n",
    "        # date_fr = date_obj.strftime('%#d %B %Y')\n",
    "        # print(d)\n",
    "        doc_presentation = f\"Doc title : <<{d.metadata['title']}>>\\n\"\n",
    "        doc_presentation +=  f\"Doc date : <<{d.metadata['date']}>>\\n\"\n",
    "        # doc_presentation +=  f\"Doc date : <<{d.metadata['date'].strftime('%#d %B %Y')} (en français)>>\\n\"\n",
    "        doc_presentation +=  f\"Doc source_paper : <<{d.metadata['source_paper']}>>\\n\"\n",
    "        doc_presentation +=  f\"Doc link : <<{d.metadata['link']}>>\\n\"\n",
    "        doc_presentation +=  f\"Doc page_content : <<{d.page_content}>>\\n\"\n",
    "        \n",
    "        # saving doc\n",
    "        d.page_content = doc_presentation\n",
    "        docs_formatted.append(d)\n",
    "    # print(docs_formatted)\n",
    "    # return f\"\\n\\n{'-'*50}\\n\".join(docs_formatted)\n",
    "    return docs_formatted"
   ],
   "id": "6fac1b6fc9497760",
   "outputs": [],
   "execution_count": 81
  },
  {
   "metadata": {
    "ExecuteTime": {
     "end_time": "2024-09-30T09:03:04.026599Z",
     "start_time": "2024-09-30T09:03:03.937598Z"
    }
   },
   "cell_type": "code",
   "source": [
    "### Contextualize question ###\n",
    "contextualize_q_system_prompt = \"\"\"Compte tenu de l'historique des discussions et de la dernière question d'un utilisateur qui peut faire référence au contexte de l'historique des discussions, formulez une question indépendante qui peut être comprise sans l'historique des discussions. Ne répondez PAS à la question, reformulez-la si nécessaire ou renvoyez-la telle quelle.\"\"\"\n",
    "contextualize_q_prompt = ChatPromptTemplate.from_messages(\n",
    "    [\n",
    "        (\"system\", contextualize_q_system_prompt),\n",
    "        MessagesPlaceholder(\"chat_history\"),\n",
    "        (\"human\", \"{input}\"),\n",
    "    ]\n",
    ")\n",
    "history_aware_retriever = create_history_aware_retriever(\n",
    "    llm=ChatGroq(temperature=0, model=\"llama3-70b-8192\"), retriever=retriever | format_docs, prompt=contextualize_q_prompt\n",
    ")"
   ],
   "id": "db61fae18f94c62e",
   "outputs": [],
   "execution_count": 82
  },
  {
   "metadata": {
    "ExecuteTime": {
     "end_time": "2024-09-30T09:03:06.182113Z",
     "start_time": "2024-09-30T09:03:06.179299Z"
    }
   },
   "cell_type": "code",
   "source": "# history_aware_retriever.invoke({\"input\":\"definis AES\"})",
   "id": "5c5499265740e359",
   "outputs": [],
   "execution_count": 83
  },
  {
   "metadata": {
    "ExecuteTime": {
     "end_time": "2024-09-30T09:10:36.297284Z",
     "start_time": "2024-09-30T09:10:36.205382Z"
    }
   },
   "cell_type": "code",
   "source": [
    "### Answer question ###\n",
    "qa_system_prompt = \"\"\"Tu es un assistant spécialisé sur les tâches de réponse aux questions. Utilisez les éléments de contexte suivants pour répondre à la question. Réponds à la question uniquement grâce au contexte suivant et uniquement en langue française. Il faudra clairement détailler ta réponse. A la fin de ta réponse, mets en bas la source de média qui t'as permis d'avoir ces réponses, puis ':', puis le lien associé (en lien hyperlink markdown sous le format [Doc title](Doc link)) pour permettre à l'utilisateur de cliquer sur le lien et aller vérifier l'information. S'il y a plusieurs link et plusieurs source_paper, cite les deux majoritaires !\n",
    "Ne commence pas ta réponse par : \"selon les informations ou contexte fournis\" ou quelque chose de similaire, réponds directement à la question.\n",
    "Si tu n'as pas de réponse explicite dans le contexte, réponds \"Je n'ai pas assez d'informations pour répondre correctement à votre question.\"\n",
    "\n",
    "Contexte : {context}\"\"\"\n",
    "\n",
    "\n",
    "qa_prompt = ChatPromptTemplate.from_messages(\n",
    "    [\n",
    "        (\"system\", qa_system_prompt),\n",
    "        MessagesPlaceholder(\"chat_history\"),\n",
    "        (\"human\", \"{input}\"),\n",
    "    ]\n",
    ")\n",
    "\n",
    "question_answer_chain = create_stuff_documents_chain(ChatGroq(temperature=0, model=\"llama3-70b-8192\"), qa_prompt)\n",
    "\n",
    "rag_chain = create_retrieval_chain(history_aware_retriever, question_answer_chain)\n",
    "\n",
    "### Statefully manage chat history ###\n",
    "store = {}\n",
    "\n",
    "\n",
    "def get_session_history(session_id: str) -> BaseChatMessageHistory:\n",
    "    if session_id not in store:\n",
    "        store[session_id] = ChatMessageHistory()\n",
    "    return store[session_id]\n",
    "\n",
    "\n",
    "conversational_rag_chain = RunnableWithMessageHistory(\n",
    "    rag_chain,\n",
    "    get_session_history,\n",
    "    input_messages_key=\"input\",\n",
    "    history_messages_key=\"chat_history\",\n",
    "    output_messages_key=\"answer\",\n",
    ")"
   ],
   "id": "fde1c0521c52763a",
   "outputs": [],
   "execution_count": 91
  },
  {
   "metadata": {
    "ExecuteTime": {
     "end_time": "2024-09-30T09:10:39.779688Z",
     "start_time": "2024-09-30T09:10:38.052210Z"
    }
   },
   "cell_type": "code",
   "source": [
    "conversational_rag_chain.invoke(\n",
    "    {\"input\": \"définis moi l'AES\"},\n",
    "    config={\n",
    "        \"configurable\": {\"session_id\": \"abc123\"}\n",
    "    },  # constructs a key \"abc123\" in `store`.\n",
    ")[\"answer\"]"
   ],
   "id": "8f982cf5e7dd5fab",
   "outputs": [
    {
     "name": "stderr",
     "output_type": "stream",
     "text": [
      "OllamaEmbeddings: 100%|██████████| 1/1 [00:00<00:00,  2.16it/s]\n"
     ]
    },
    {
     "data": {
      "text/plain": [
       "\"L'AES signifie l'Alliance des États du Sahel. C'est une organisation régionale qui regroupe plusieurs pays du Sahel, dont le Mali, et qui vise à promouvoir l'intégration sous-régionale et la coopération entre ses membres. L'AES est considérée comme une alternative crédible pour l'intégration sous-régionale, et non comme une menace contre la CEDEAO (Communauté économique des États de l'Afrique de l'Ouest).\\n\\nSource : [Le PM Dr Choguel K. MAIGA lors de la séance de travail avec son homologue sénégalais Ousmane SONKO : «Nous avons engagé la seconde bataille pour l’indépendance, pour la souveraineté»](https://malijet.com/a_la_une_du_mali/293869-le-pm-dr-choguel-k-maiga-lors-de-la-seance-de-travail-avec-son-h.html)\""
      ]
     },
     "execution_count": 92,
     "metadata": {},
     "output_type": "execute_result"
    }
   ],
   "execution_count": 92
  },
  {
   "metadata": {
    "ExecuteTime": {
     "end_time": "2024-09-30T09:04:32.259741Z",
     "start_time": "2024-09-30T09:04:30.260574Z"
    }
   },
   "cell_type": "code",
   "source": [
    "conversational_rag_chain.invoke(\n",
    "    {\"input\": \"quelles sont les principales villes concernées ?\"},\n",
    "    config={\"configurable\": {\"session_id\": \"abc123\"}},\n",
    ")[\"answer\"]"
   ],
   "id": "922f6629d7865eb8",
   "outputs": [
    {
     "name": "stderr",
     "output_type": "stream",
     "text": [
      "OllamaEmbeddings: 100%|██████████| 1/1 [00:00<00:00,  2.07it/s]\n"
     ]
    },
    {
     "data": {
      "text/plain": [
       "\"Je n'ai pas assez d'informations pour répondre correctement à votre question. Les documents fournis ne mentionnent pas spécifiquement les villes concernées par les dégâts causés par la pluie.\""
      ]
     },
     "execution_count": 88,
     "metadata": {},
     "output_type": "execute_result"
    }
   ],
   "execution_count": 88
  },
  {
   "metadata": {
    "ExecuteTime": {
     "end_time": "2024-09-30T08:06:13.318365Z",
     "start_time": "2024-09-30T08:06:13.315168Z"
    }
   },
   "cell_type": "code",
   "source": "get_session_history(\"abc123\")",
   "id": "9edefe2a3a7c503c",
   "outputs": [
    {
     "data": {
      "text/plain": [
       "InMemoryChatMessageHistory(messages=[HumanMessage(content=\"définis moi l'AES\"), AIMessage(content=\"L'AES signifie l'Alliance des États du Sahel.\"), HumanMessage(content='Cite moi les pays membres et sa date de création.'), AIMessage(content=\"L'Alliance des États du Sahel (AES) compte cinq pays membres : le Burkina Faso, le Mali, le Mauritanie, le Niger et le Tchad. L'AES a été créée en 2017.\")])"
      ]
     },
     "execution_count": 33,
     "metadata": {},
     "output_type": "execute_result"
    }
   ],
   "execution_count": 33
  },
  {
   "metadata": {
    "ExecuteTime": {
     "end_time": "2024-09-23T08:09:45.288668Z",
     "start_time": "2024-09-23T08:09:45.284754Z"
    }
   },
   "cell_type": "code",
   "source": [
    "# Prompt template\n",
    "template = \"\"\"\n",
    "Réponds à la question uniquement grâce au contexte suivant et uniquement en langue française. Il faudra clairement détailler ta réponse. A la fin de ta réponse, mets en bas la source de média 'source_paper' qui t'as permis d'avoir ces réponses ainsi que le lien associé (en lien hyperlink markdown sous le format [Doc title](Doc link)) pour permettre à l'utilisateur de cliquer sur le lien et aller vérifier l'information. S'il y a plusieurs link et plusieurs source_paper, cite les deux majoritaires !\n",
    "Ne commence pas ta réponse par : \"selon les informations ou contexte fournis\" ou quelque chose de similaire, réponds directement à la question.\n",
    "Si tu n'as pas de réponse explicite dans le contexte, réponds \"Je n'ai pas assez d'informations pour répondre correctement à votre question.\".\n",
    "\n",
    "Contexte : {context}\n",
    "\n",
    "Question : {question}\n",
    "\"\"\"\n",
    "\n",
    "prompt = ChatPromptTemplate.from_template(template)"
   ],
   "id": "e04b7feeb5790a7b",
   "outputs": [],
   "execution_count": 75
  },
  {
   "metadata": {
    "ExecuteTime": {
     "end_time": "2024-09-30T08:10:05.711011Z",
     "start_time": "2024-09-30T08:10:05.625337Z"
    }
   },
   "cell_type": "code",
   "source": [
    "def format_docs(docs):\n",
    "    docs_formatted = list()\n",
    "    for d in docs:\n",
    "        # date_obj = datetime.strptime(d.metadata['date'], '%Y-%m-%d')\n",
    "        # # Formater la date en format lisible\n",
    "        # date_fr = date_obj.strftime('%#d %B %Y')\n",
    "            \n",
    "        doc_presentation = f\"Doc title : <<{d.metadata['title']}>>\\n\"\n",
    "        doc_presentation +=  f\"Doc date : <<{d.metadata['date'].strftime('%#d %B %Y')} (en français)>>\\n\"\n",
    "        doc_presentation +=  f\"Doc source_paper : <<{d.metadata['source_paper']}>>\\n\"\n",
    "        doc_presentation +=  f\"Doc link : <<{d.metadata['link']}>>\\n\"\n",
    "        doc_presentation +=  f\"Doc page_content : <<{d.page_content}>>\\n\"\n",
    "        docs_formatted.append(doc_presentation)\n",
    "    print(docs_formatted)\n",
    "    return f\"\\n\\n{'-'*50}\\n\".join(docs_formatted)\n",
    "\n",
    "chain = (\n",
    "    {\"context\": retriever | format_docs, \"question\": RunnablePassthrough()}\n",
    "    | prompt\n",
    "    # | llm\n",
    "    | ChatGroq(temperature=0, model=\"llama3-70b-8192\")\n",
    "    | StrOutputParser()\n",
    ")\n"
   ],
   "id": "b6beb2a70ad859d3",
   "outputs": [],
   "execution_count": 35
  },
  {
   "metadata": {
    "ExecuteTime": {
     "end_time": "2024-09-23T08:09:47.956469Z",
     "start_time": "2024-09-23T08:09:47.951207Z"
    }
   },
   "cell_type": "code",
   "source": [
    "questions = [\n",
    "    # \"Qui est Oumar Diarra ?\",\n",
    "    # \"Quels sont les actions de l'EUTM ?\",\n",
    "    # \"Cite-moi les recommandations retenues lors du dialogue inter malien\",\n",
    "    # \"Quand finit la mission de l'union européenne ?\",\n",
    "    # \"Actualités sur la DIRPA\",\n",
    "    # \"Parle-moi de l'agriculture au Mali\",\n",
    "    # \"Que font les FAMA actuellement ?\"\n",
    "    \n",
    "    # \"Parle moi du nouveau vérificateur général\",\n",
    "    # \"Résume moi en quelques points les dernières actualités maintenant\",\n",
    "    # \"Où en est la relation Mali et Russie ?\",\n",
    "    # \"Qui est Bassaro Haïdara ?\",\n",
    "    # \"Qu'est ce que Assimi a fait récemment ?\",\n",
    "    # \"Le dialogue inter malien est il terminé ?\",\n",
    "    # \"Qui sont les membres de l'AES ?\",\n",
    "    # \"Comment a été la journée du 1er Mai au Mali ?\",\n",
    "    # \"Donne moi la date la plus récente des informations dont tu disposes\",\n",
    "    # \"Qu'en est il de la crise sécuritaire au Mali ?\",\n",
    "    # \"La Belgique a t elle récemment collaborée avec le Mali ?\" # question bonus (must return I dont know),\n",
    "    \"parle moi des puissances militaires\",\n",
    "    # \"Y a t il des tensions entre le Mali et le Danemark ?\",\n",
    "    # \"Quelles les implications de l'Algérie à la guerre au nord du Mali ?\",\n",
    "    # \"Qu'a fait le président Assimi le 15 Aout ?\",\n",
    "    # \"Fais moi un bilan des inondations du Mali.\"\n",
    "]\n",
    "len(questions)"
   ],
   "id": "e2c25a9197388c95",
   "outputs": [
    {
     "data": {
      "text/plain": [
       "1"
      ]
     },
     "execution_count": 77,
     "metadata": {},
     "output_type": "execute_result"
    }
   ],
   "execution_count": 77
  },
  {
   "metadata": {
    "ExecuteTime": {
     "end_time": "2024-09-23T12:03:07.271469Z",
     "start_time": "2024-09-23T12:03:01.090189Z"
    }
   },
   "cell_type": "code",
   "source": [
    "for q in questions:\n",
    "    print(q)\n",
    "    print(chain.invoke(q))\n",
    "    print('-'*50, \"\\n\")\n",
    "# for open source models\n",
    "for q in questions:\n",
    "    print(q)\n",
    "    print(chain.invoke(q))\n",
    "    print('-'*50, \"\\n\")"
   ],
   "id": "89bb453fad174648",
   "outputs": [
    {
     "name": "stdout",
     "output_type": "stream",
     "text": [
      "parle moi des puissances militaires\n"
     ]
    },
    {
     "name": "stderr",
     "output_type": "stream",
     "text": [
      "OllamaEmbeddings: 100%|██████████| 1/1 [00:05<00:00,  5.56s/it]\n"
     ]
    },
    {
     "ename": "AttributeError",
     "evalue": "'str' object has no attribute 'strftime'",
     "output_type": "error",
     "traceback": [
      "\u001B[0;31m---------------------------------------------------------------------------\u001B[0m",
      "\u001B[0;31mAttributeError\u001B[0m                            Traceback (most recent call last)",
      "Cell \u001B[0;32mIn[81], line 3\u001B[0m\n\u001B[1;32m      1\u001B[0m \u001B[38;5;28;01mfor\u001B[39;00m q \u001B[38;5;129;01min\u001B[39;00m questions:\n\u001B[1;32m      2\u001B[0m     \u001B[38;5;28mprint\u001B[39m(q)\n\u001B[0;32m----> 3\u001B[0m     \u001B[38;5;28mprint\u001B[39m(\u001B[43mchain\u001B[49m\u001B[38;5;241;43m.\u001B[39;49m\u001B[43minvoke\u001B[49m\u001B[43m(\u001B[49m\u001B[43mq\u001B[49m\u001B[43m)\u001B[49m)\n\u001B[1;32m      4\u001B[0m     \u001B[38;5;28mprint\u001B[39m(\u001B[38;5;124m'\u001B[39m\u001B[38;5;124m-\u001B[39m\u001B[38;5;124m'\u001B[39m\u001B[38;5;241m*\u001B[39m\u001B[38;5;241m50\u001B[39m, \u001B[38;5;124m\"\u001B[39m\u001B[38;5;130;01m\\n\u001B[39;00m\u001B[38;5;124m\"\u001B[39m)\n\u001B[1;32m      5\u001B[0m \u001B[38;5;66;03m# for open source models\u001B[39;00m\n",
      "File \u001B[0;32m~/Workspace/kounafoni-app/.venv/lib/python3.10/site-packages/langchain_core/runnables/base.py:2876\u001B[0m, in \u001B[0;36mRunnableSequence.invoke\u001B[0;34m(self, input, config, **kwargs)\u001B[0m\n\u001B[1;32m   2874\u001B[0m context\u001B[38;5;241m.\u001B[39mrun(_set_config_context, config)\n\u001B[1;32m   2875\u001B[0m \u001B[38;5;28;01mif\u001B[39;00m i \u001B[38;5;241m==\u001B[39m \u001B[38;5;241m0\u001B[39m:\n\u001B[0;32m-> 2876\u001B[0m     \u001B[38;5;28minput\u001B[39m \u001B[38;5;241m=\u001B[39m \u001B[43mcontext\u001B[49m\u001B[38;5;241;43m.\u001B[39;49m\u001B[43mrun\u001B[49m\u001B[43m(\u001B[49m\u001B[43mstep\u001B[49m\u001B[38;5;241;43m.\u001B[39;49m\u001B[43minvoke\u001B[49m\u001B[43m,\u001B[49m\u001B[43m \u001B[49m\u001B[38;5;28;43minput\u001B[39;49m\u001B[43m,\u001B[49m\u001B[43m \u001B[49m\u001B[43mconfig\u001B[49m\u001B[43m,\u001B[49m\u001B[43m \u001B[49m\u001B[38;5;241;43m*\u001B[39;49m\u001B[38;5;241;43m*\u001B[39;49m\u001B[43mkwargs\u001B[49m\u001B[43m)\u001B[49m\n\u001B[1;32m   2877\u001B[0m \u001B[38;5;28;01melse\u001B[39;00m:\n\u001B[1;32m   2878\u001B[0m     \u001B[38;5;28minput\u001B[39m \u001B[38;5;241m=\u001B[39m context\u001B[38;5;241m.\u001B[39mrun(step\u001B[38;5;241m.\u001B[39minvoke, \u001B[38;5;28minput\u001B[39m, config)\n",
      "File \u001B[0;32m~/Workspace/kounafoni-app/.venv/lib/python3.10/site-packages/langchain_core/runnables/base.py:3579\u001B[0m, in \u001B[0;36mRunnableParallel.invoke\u001B[0;34m(self, input, config)\u001B[0m\n\u001B[1;32m   3574\u001B[0m     \u001B[38;5;28;01mwith\u001B[39;00m get_executor_for_config(config) \u001B[38;5;28;01mas\u001B[39;00m executor:\n\u001B[1;32m   3575\u001B[0m         futures \u001B[38;5;241m=\u001B[39m [\n\u001B[1;32m   3576\u001B[0m             executor\u001B[38;5;241m.\u001B[39msubmit(_invoke_step, step, \u001B[38;5;28minput\u001B[39m, config, key)\n\u001B[1;32m   3577\u001B[0m             \u001B[38;5;28;01mfor\u001B[39;00m key, step \u001B[38;5;129;01min\u001B[39;00m steps\u001B[38;5;241m.\u001B[39mitems()\n\u001B[1;32m   3578\u001B[0m         ]\n\u001B[0;32m-> 3579\u001B[0m         output \u001B[38;5;241m=\u001B[39m {key: future\u001B[38;5;241m.\u001B[39mresult() \u001B[38;5;28;01mfor\u001B[39;00m key, future \u001B[38;5;129;01min\u001B[39;00m \u001B[38;5;28mzip\u001B[39m(steps, futures)}\n\u001B[1;32m   3580\u001B[0m \u001B[38;5;66;03m# finish the root run\u001B[39;00m\n\u001B[1;32m   3581\u001B[0m \u001B[38;5;28;01mexcept\u001B[39;00m \u001B[38;5;167;01mBaseException\u001B[39;00m \u001B[38;5;28;01mas\u001B[39;00m e:\n",
      "File \u001B[0;32m~/Workspace/kounafoni-app/.venv/lib/python3.10/site-packages/langchain_core/runnables/base.py:3579\u001B[0m, in \u001B[0;36m<dictcomp>\u001B[0;34m(.0)\u001B[0m\n\u001B[1;32m   3574\u001B[0m     \u001B[38;5;28;01mwith\u001B[39;00m get_executor_for_config(config) \u001B[38;5;28;01mas\u001B[39;00m executor:\n\u001B[1;32m   3575\u001B[0m         futures \u001B[38;5;241m=\u001B[39m [\n\u001B[1;32m   3576\u001B[0m             executor\u001B[38;5;241m.\u001B[39msubmit(_invoke_step, step, \u001B[38;5;28minput\u001B[39m, config, key)\n\u001B[1;32m   3577\u001B[0m             \u001B[38;5;28;01mfor\u001B[39;00m key, step \u001B[38;5;129;01min\u001B[39;00m steps\u001B[38;5;241m.\u001B[39mitems()\n\u001B[1;32m   3578\u001B[0m         ]\n\u001B[0;32m-> 3579\u001B[0m         output \u001B[38;5;241m=\u001B[39m {key: \u001B[43mfuture\u001B[49m\u001B[38;5;241;43m.\u001B[39;49m\u001B[43mresult\u001B[49m\u001B[43m(\u001B[49m\u001B[43m)\u001B[49m \u001B[38;5;28;01mfor\u001B[39;00m key, future \u001B[38;5;129;01min\u001B[39;00m \u001B[38;5;28mzip\u001B[39m(steps, futures)}\n\u001B[1;32m   3580\u001B[0m \u001B[38;5;66;03m# finish the root run\u001B[39;00m\n\u001B[1;32m   3581\u001B[0m \u001B[38;5;28;01mexcept\u001B[39;00m \u001B[38;5;167;01mBaseException\u001B[39;00m \u001B[38;5;28;01mas\u001B[39;00m e:\n",
      "File \u001B[0;32m/usr/lib/python3.10/concurrent/futures/_base.py:458\u001B[0m, in \u001B[0;36mFuture.result\u001B[0;34m(self, timeout)\u001B[0m\n\u001B[1;32m    456\u001B[0m     \u001B[38;5;28;01mraise\u001B[39;00m CancelledError()\n\u001B[1;32m    457\u001B[0m \u001B[38;5;28;01melif\u001B[39;00m \u001B[38;5;28mself\u001B[39m\u001B[38;5;241m.\u001B[39m_state \u001B[38;5;241m==\u001B[39m FINISHED:\n\u001B[0;32m--> 458\u001B[0m     \u001B[38;5;28;01mreturn\u001B[39;00m \u001B[38;5;28;43mself\u001B[39;49m\u001B[38;5;241;43m.\u001B[39;49m\u001B[43m__get_result\u001B[49m\u001B[43m(\u001B[49m\u001B[43m)\u001B[49m\n\u001B[1;32m    459\u001B[0m \u001B[38;5;28;01melse\u001B[39;00m:\n\u001B[1;32m    460\u001B[0m     \u001B[38;5;28;01mraise\u001B[39;00m \u001B[38;5;167;01mTimeoutError\u001B[39;00m()\n",
      "File \u001B[0;32m/usr/lib/python3.10/concurrent/futures/_base.py:403\u001B[0m, in \u001B[0;36mFuture.__get_result\u001B[0;34m(self)\u001B[0m\n\u001B[1;32m    401\u001B[0m \u001B[38;5;28;01mif\u001B[39;00m \u001B[38;5;28mself\u001B[39m\u001B[38;5;241m.\u001B[39m_exception:\n\u001B[1;32m    402\u001B[0m     \u001B[38;5;28;01mtry\u001B[39;00m:\n\u001B[0;32m--> 403\u001B[0m         \u001B[38;5;28;01mraise\u001B[39;00m \u001B[38;5;28mself\u001B[39m\u001B[38;5;241m.\u001B[39m_exception\n\u001B[1;32m    404\u001B[0m     \u001B[38;5;28;01mfinally\u001B[39;00m:\n\u001B[1;32m    405\u001B[0m         \u001B[38;5;66;03m# Break a reference cycle with the exception in self._exception\u001B[39;00m\n\u001B[1;32m    406\u001B[0m         \u001B[38;5;28mself\u001B[39m \u001B[38;5;241m=\u001B[39m \u001B[38;5;28;01mNone\u001B[39;00m\n",
      "File \u001B[0;32m/usr/lib/python3.10/concurrent/futures/thread.py:58\u001B[0m, in \u001B[0;36m_WorkItem.run\u001B[0;34m(self)\u001B[0m\n\u001B[1;32m     55\u001B[0m     \u001B[38;5;28;01mreturn\u001B[39;00m\n\u001B[1;32m     57\u001B[0m \u001B[38;5;28;01mtry\u001B[39;00m:\n\u001B[0;32m---> 58\u001B[0m     result \u001B[38;5;241m=\u001B[39m \u001B[38;5;28;43mself\u001B[39;49m\u001B[38;5;241;43m.\u001B[39;49m\u001B[43mfn\u001B[49m\u001B[43m(\u001B[49m\u001B[38;5;241;43m*\u001B[39;49m\u001B[38;5;28;43mself\u001B[39;49m\u001B[38;5;241;43m.\u001B[39;49m\u001B[43margs\u001B[49m\u001B[43m,\u001B[49m\u001B[43m \u001B[49m\u001B[38;5;241;43m*\u001B[39;49m\u001B[38;5;241;43m*\u001B[39;49m\u001B[38;5;28;43mself\u001B[39;49m\u001B[38;5;241;43m.\u001B[39;49m\u001B[43mkwargs\u001B[49m\u001B[43m)\u001B[49m\n\u001B[1;32m     59\u001B[0m \u001B[38;5;28;01mexcept\u001B[39;00m \u001B[38;5;167;01mBaseException\u001B[39;00m \u001B[38;5;28;01mas\u001B[39;00m exc:\n\u001B[1;32m     60\u001B[0m     \u001B[38;5;28mself\u001B[39m\u001B[38;5;241m.\u001B[39mfuture\u001B[38;5;241m.\u001B[39mset_exception(exc)\n",
      "File \u001B[0;32m~/Workspace/kounafoni-app/.venv/lib/python3.10/site-packages/langchain_core/runnables/base.py:3563\u001B[0m, in \u001B[0;36mRunnableParallel.invoke.<locals>._invoke_step\u001B[0;34m(step, input, config, key)\u001B[0m\n\u001B[1;32m   3561\u001B[0m context \u001B[38;5;241m=\u001B[39m copy_context()\n\u001B[1;32m   3562\u001B[0m context\u001B[38;5;241m.\u001B[39mrun(_set_config_context, child_config)\n\u001B[0;32m-> 3563\u001B[0m \u001B[38;5;28;01mreturn\u001B[39;00m \u001B[43mcontext\u001B[49m\u001B[38;5;241;43m.\u001B[39;49m\u001B[43mrun\u001B[49m\u001B[43m(\u001B[49m\n\u001B[1;32m   3564\u001B[0m \u001B[43m    \u001B[49m\u001B[43mstep\u001B[49m\u001B[38;5;241;43m.\u001B[39;49m\u001B[43minvoke\u001B[49m\u001B[43m,\u001B[49m\n\u001B[1;32m   3565\u001B[0m \u001B[43m    \u001B[49m\u001B[38;5;28;43minput\u001B[39;49m\u001B[43m,\u001B[49m\n\u001B[1;32m   3566\u001B[0m \u001B[43m    \u001B[49m\u001B[43mchild_config\u001B[49m\u001B[43m,\u001B[49m\n\u001B[1;32m   3567\u001B[0m \u001B[43m\u001B[49m\u001B[43m)\u001B[49m\n",
      "File \u001B[0;32m~/Workspace/kounafoni-app/.venv/lib/python3.10/site-packages/langchain_core/runnables/base.py:2878\u001B[0m, in \u001B[0;36mRunnableSequence.invoke\u001B[0;34m(self, input, config, **kwargs)\u001B[0m\n\u001B[1;32m   2876\u001B[0m             \u001B[38;5;28minput\u001B[39m \u001B[38;5;241m=\u001B[39m context\u001B[38;5;241m.\u001B[39mrun(step\u001B[38;5;241m.\u001B[39minvoke, \u001B[38;5;28minput\u001B[39m, config, \u001B[38;5;241m*\u001B[39m\u001B[38;5;241m*\u001B[39mkwargs)\n\u001B[1;32m   2877\u001B[0m         \u001B[38;5;28;01melse\u001B[39;00m:\n\u001B[0;32m-> 2878\u001B[0m             \u001B[38;5;28minput\u001B[39m \u001B[38;5;241m=\u001B[39m \u001B[43mcontext\u001B[49m\u001B[38;5;241;43m.\u001B[39;49m\u001B[43mrun\u001B[49m\u001B[43m(\u001B[49m\u001B[43mstep\u001B[49m\u001B[38;5;241;43m.\u001B[39;49m\u001B[43minvoke\u001B[49m\u001B[43m,\u001B[49m\u001B[43m \u001B[49m\u001B[38;5;28;43minput\u001B[39;49m\u001B[43m,\u001B[49m\u001B[43m \u001B[49m\u001B[43mconfig\u001B[49m\u001B[43m)\u001B[49m\n\u001B[1;32m   2879\u001B[0m \u001B[38;5;66;03m# finish the root run\u001B[39;00m\n\u001B[1;32m   2880\u001B[0m \u001B[38;5;28;01mexcept\u001B[39;00m \u001B[38;5;167;01mBaseException\u001B[39;00m \u001B[38;5;28;01mas\u001B[39;00m e:\n",
      "File \u001B[0;32m~/Workspace/kounafoni-app/.venv/lib/python3.10/site-packages/langchain_core/runnables/base.py:4474\u001B[0m, in \u001B[0;36mRunnableLambda.invoke\u001B[0;34m(self, input, config, **kwargs)\u001B[0m\n\u001B[1;32m   4460\u001B[0m \u001B[38;5;250m\u001B[39m\u001B[38;5;124;03m\"\"\"Invoke this Runnable synchronously.\u001B[39;00m\n\u001B[1;32m   4461\u001B[0m \n\u001B[1;32m   4462\u001B[0m \u001B[38;5;124;03mArgs:\u001B[39;00m\n\u001B[0;32m   (...)\u001B[0m\n\u001B[1;32m   4471\u001B[0m \u001B[38;5;124;03m    TypeError: If the Runnable is a coroutine function.\u001B[39;00m\n\u001B[1;32m   4472\u001B[0m \u001B[38;5;124;03m\"\"\"\u001B[39;00m\n\u001B[1;32m   4473\u001B[0m \u001B[38;5;28;01mif\u001B[39;00m \u001B[38;5;28mhasattr\u001B[39m(\u001B[38;5;28mself\u001B[39m, \u001B[38;5;124m\"\u001B[39m\u001B[38;5;124mfunc\u001B[39m\u001B[38;5;124m\"\u001B[39m):\n\u001B[0;32m-> 4474\u001B[0m     \u001B[38;5;28;01mreturn\u001B[39;00m \u001B[38;5;28;43mself\u001B[39;49m\u001B[38;5;241;43m.\u001B[39;49m\u001B[43m_call_with_config\u001B[49m\u001B[43m(\u001B[49m\n\u001B[1;32m   4475\u001B[0m \u001B[43m        \u001B[49m\u001B[38;5;28;43mself\u001B[39;49m\u001B[38;5;241;43m.\u001B[39;49m\u001B[43m_invoke\u001B[49m\u001B[43m,\u001B[49m\n\u001B[1;32m   4476\u001B[0m \u001B[43m        \u001B[49m\u001B[38;5;28;43minput\u001B[39;49m\u001B[43m,\u001B[49m\n\u001B[1;32m   4477\u001B[0m \u001B[43m        \u001B[49m\u001B[38;5;28;43mself\u001B[39;49m\u001B[38;5;241;43m.\u001B[39;49m\u001B[43m_config\u001B[49m\u001B[43m(\u001B[49m\u001B[43mconfig\u001B[49m\u001B[43m,\u001B[49m\u001B[43m \u001B[49m\u001B[38;5;28;43mself\u001B[39;49m\u001B[38;5;241;43m.\u001B[39;49m\u001B[43mfunc\u001B[49m\u001B[43m)\u001B[49m\u001B[43m,\u001B[49m\n\u001B[1;32m   4478\u001B[0m \u001B[43m        \u001B[49m\u001B[38;5;241;43m*\u001B[39;49m\u001B[38;5;241;43m*\u001B[39;49m\u001B[43mkwargs\u001B[49m\u001B[43m,\u001B[49m\n\u001B[1;32m   4479\u001B[0m \u001B[43m    \u001B[49m\u001B[43m)\u001B[49m\n\u001B[1;32m   4480\u001B[0m \u001B[38;5;28;01melse\u001B[39;00m:\n\u001B[1;32m   4481\u001B[0m     \u001B[38;5;28;01mraise\u001B[39;00m \u001B[38;5;167;01mTypeError\u001B[39;00m(\n\u001B[1;32m   4482\u001B[0m         \u001B[38;5;124m\"\u001B[39m\u001B[38;5;124mCannot invoke a coroutine function synchronously.\u001B[39m\u001B[38;5;124m\"\u001B[39m\n\u001B[1;32m   4483\u001B[0m         \u001B[38;5;124m\"\u001B[39m\u001B[38;5;124mUse `ainvoke` instead.\u001B[39m\u001B[38;5;124m\"\u001B[39m\n\u001B[1;32m   4484\u001B[0m     )\n",
      "File \u001B[0;32m~/Workspace/kounafoni-app/.venv/lib/python3.10/site-packages/langchain_core/runnables/base.py:1785\u001B[0m, in \u001B[0;36mRunnable._call_with_config\u001B[0;34m(self, func, input, config, run_type, **kwargs)\u001B[0m\n\u001B[1;32m   1781\u001B[0m     context \u001B[38;5;241m=\u001B[39m copy_context()\n\u001B[1;32m   1782\u001B[0m     context\u001B[38;5;241m.\u001B[39mrun(_set_config_context, child_config)\n\u001B[1;32m   1783\u001B[0m     output \u001B[38;5;241m=\u001B[39m cast(\n\u001B[1;32m   1784\u001B[0m         Output,\n\u001B[0;32m-> 1785\u001B[0m         \u001B[43mcontext\u001B[49m\u001B[38;5;241;43m.\u001B[39;49m\u001B[43mrun\u001B[49m\u001B[43m(\u001B[49m\n\u001B[1;32m   1786\u001B[0m \u001B[43m            \u001B[49m\u001B[43mcall_func_with_variable_args\u001B[49m\u001B[43m,\u001B[49m\u001B[43m  \u001B[49m\u001B[38;5;66;43;03m# type: ignore[arg-type]\u001B[39;49;00m\n\u001B[1;32m   1787\u001B[0m \u001B[43m            \u001B[49m\u001B[43mfunc\u001B[49m\u001B[43m,\u001B[49m\u001B[43m  \u001B[49m\u001B[38;5;66;43;03m# type: ignore[arg-type]\u001B[39;49;00m\n\u001B[1;32m   1788\u001B[0m \u001B[43m            \u001B[49m\u001B[38;5;28;43minput\u001B[39;49m\u001B[43m,\u001B[49m\u001B[43m  \u001B[49m\u001B[38;5;66;43;03m# type: ignore[arg-type]\u001B[39;49;00m\n\u001B[1;32m   1789\u001B[0m \u001B[43m            \u001B[49m\u001B[43mconfig\u001B[49m\u001B[43m,\u001B[49m\n\u001B[1;32m   1790\u001B[0m \u001B[43m            \u001B[49m\u001B[43mrun_manager\u001B[49m\u001B[43m,\u001B[49m\n\u001B[1;32m   1791\u001B[0m \u001B[43m            \u001B[49m\u001B[38;5;241;43m*\u001B[39;49m\u001B[38;5;241;43m*\u001B[39;49m\u001B[43mkwargs\u001B[49m\u001B[43m,\u001B[49m\n\u001B[1;32m   1792\u001B[0m \u001B[43m        \u001B[49m\u001B[43m)\u001B[49m,\n\u001B[1;32m   1793\u001B[0m     )\n\u001B[1;32m   1794\u001B[0m \u001B[38;5;28;01mexcept\u001B[39;00m \u001B[38;5;167;01mBaseException\u001B[39;00m \u001B[38;5;28;01mas\u001B[39;00m e:\n\u001B[1;32m   1795\u001B[0m     run_manager\u001B[38;5;241m.\u001B[39mon_chain_error(e)\n",
      "File \u001B[0;32m~/Workspace/kounafoni-app/.venv/lib/python3.10/site-packages/langchain_core/runnables/config.py:398\u001B[0m, in \u001B[0;36mcall_func_with_variable_args\u001B[0;34m(func, input, config, run_manager, **kwargs)\u001B[0m\n\u001B[1;32m    396\u001B[0m \u001B[38;5;28;01mif\u001B[39;00m run_manager \u001B[38;5;129;01mis\u001B[39;00m \u001B[38;5;129;01mnot\u001B[39;00m \u001B[38;5;28;01mNone\u001B[39;00m \u001B[38;5;129;01mand\u001B[39;00m accepts_run_manager(func):\n\u001B[1;32m    397\u001B[0m     kwargs[\u001B[38;5;124m\"\u001B[39m\u001B[38;5;124mrun_manager\u001B[39m\u001B[38;5;124m\"\u001B[39m] \u001B[38;5;241m=\u001B[39m run_manager\n\u001B[0;32m--> 398\u001B[0m \u001B[38;5;28;01mreturn\u001B[39;00m \u001B[43mfunc\u001B[49m\u001B[43m(\u001B[49m\u001B[38;5;28;43minput\u001B[39;49m\u001B[43m,\u001B[49m\u001B[43m \u001B[49m\u001B[38;5;241;43m*\u001B[39;49m\u001B[38;5;241;43m*\u001B[39;49m\u001B[43mkwargs\u001B[49m\u001B[43m)\u001B[49m\n",
      "File \u001B[0;32m~/Workspace/kounafoni-app/.venv/lib/python3.10/site-packages/langchain_core/runnables/base.py:4330\u001B[0m, in \u001B[0;36mRunnableLambda._invoke\u001B[0;34m(self, input, run_manager, config, **kwargs)\u001B[0m\n\u001B[1;32m   4328\u001B[0m                 output \u001B[38;5;241m=\u001B[39m chunk\n\u001B[1;32m   4329\u001B[0m \u001B[38;5;28;01melse\u001B[39;00m:\n\u001B[0;32m-> 4330\u001B[0m     output \u001B[38;5;241m=\u001B[39m \u001B[43mcall_func_with_variable_args\u001B[49m\u001B[43m(\u001B[49m\n\u001B[1;32m   4331\u001B[0m \u001B[43m        \u001B[49m\u001B[38;5;28;43mself\u001B[39;49m\u001B[38;5;241;43m.\u001B[39;49m\u001B[43mfunc\u001B[49m\u001B[43m,\u001B[49m\u001B[43m \u001B[49m\u001B[38;5;28;43minput\u001B[39;49m\u001B[43m,\u001B[49m\u001B[43m \u001B[49m\u001B[43mconfig\u001B[49m\u001B[43m,\u001B[49m\u001B[43m \u001B[49m\u001B[43mrun_manager\u001B[49m\u001B[43m,\u001B[49m\u001B[43m \u001B[49m\u001B[38;5;241;43m*\u001B[39;49m\u001B[38;5;241;43m*\u001B[39;49m\u001B[43mkwargs\u001B[49m\n\u001B[1;32m   4332\u001B[0m \u001B[43m    \u001B[49m\u001B[43m)\u001B[49m\n\u001B[1;32m   4333\u001B[0m \u001B[38;5;66;03m# If the output is a Runnable, invoke it\u001B[39;00m\n\u001B[1;32m   4334\u001B[0m \u001B[38;5;28;01mif\u001B[39;00m \u001B[38;5;28misinstance\u001B[39m(output, Runnable):\n",
      "File \u001B[0;32m~/Workspace/kounafoni-app/.venv/lib/python3.10/site-packages/langchain_core/runnables/config.py:398\u001B[0m, in \u001B[0;36mcall_func_with_variable_args\u001B[0;34m(func, input, config, run_manager, **kwargs)\u001B[0m\n\u001B[1;32m    396\u001B[0m \u001B[38;5;28;01mif\u001B[39;00m run_manager \u001B[38;5;129;01mis\u001B[39;00m \u001B[38;5;129;01mnot\u001B[39;00m \u001B[38;5;28;01mNone\u001B[39;00m \u001B[38;5;129;01mand\u001B[39;00m accepts_run_manager(func):\n\u001B[1;32m    397\u001B[0m     kwargs[\u001B[38;5;124m\"\u001B[39m\u001B[38;5;124mrun_manager\u001B[39m\u001B[38;5;124m\"\u001B[39m] \u001B[38;5;241m=\u001B[39m run_manager\n\u001B[0;32m--> 398\u001B[0m \u001B[38;5;28;01mreturn\u001B[39;00m \u001B[43mfunc\u001B[49m\u001B[43m(\u001B[49m\u001B[38;5;28;43minput\u001B[39;49m\u001B[43m,\u001B[49m\u001B[43m \u001B[49m\u001B[38;5;241;43m*\u001B[39;49m\u001B[38;5;241;43m*\u001B[39;49m\u001B[43mkwargs\u001B[49m\u001B[43m)\u001B[49m\n",
      "Cell \u001B[0;32mIn[80], line 5\u001B[0m, in \u001B[0;36mformat_docs\u001B[0;34m(docs)\u001B[0m\n\u001B[1;32m      3\u001B[0m \u001B[38;5;28;01mfor\u001B[39;00m d \u001B[38;5;129;01min\u001B[39;00m docs:\n\u001B[1;32m      4\u001B[0m     doc_presentation \u001B[38;5;241m=\u001B[39m \u001B[38;5;124mf\u001B[39m\u001B[38;5;124m\"\u001B[39m\u001B[38;5;124mDoc title : <<\u001B[39m\u001B[38;5;132;01m{\u001B[39;00md\u001B[38;5;241m.\u001B[39mmetadata[\u001B[38;5;124m'\u001B[39m\u001B[38;5;124mtitle\u001B[39m\u001B[38;5;124m'\u001B[39m]\u001B[38;5;132;01m}\u001B[39;00m\u001B[38;5;124m>>\u001B[39m\u001B[38;5;130;01m\\n\u001B[39;00m\u001B[38;5;124m\"\u001B[39m\n\u001B[0;32m----> 5\u001B[0m     doc_presentation \u001B[38;5;241m+\u001B[39m\u001B[38;5;241m=\u001B[39m  \u001B[38;5;124mf\u001B[39m\u001B[38;5;124m\"\u001B[39m\u001B[38;5;124mDoc date : <<\u001B[39m\u001B[38;5;132;01m{\u001B[39;00m\u001B[43md\u001B[49m\u001B[38;5;241;43m.\u001B[39;49m\u001B[43mmetadata\u001B[49m\u001B[43m[\u001B[49m\u001B[38;5;124;43m'\u001B[39;49m\u001B[38;5;124;43mdate\u001B[39;49m\u001B[38;5;124;43m'\u001B[39;49m\u001B[43m]\u001B[49m\u001B[38;5;241;43m.\u001B[39;49m\u001B[43mstrftime\u001B[49m(\u001B[38;5;124m'\u001B[39m\u001B[38;5;132;01m%#d\u001B[39;00m\u001B[38;5;124m \u001B[39m\u001B[38;5;124m%\u001B[39m\u001B[38;5;124mB \u001B[39m\u001B[38;5;124m%\u001B[39m\u001B[38;5;124mY\u001B[39m\u001B[38;5;124m'\u001B[39m)\u001B[38;5;132;01m}\u001B[39;00m\u001B[38;5;124m (en français)>>\u001B[39m\u001B[38;5;130;01m\\n\u001B[39;00m\u001B[38;5;124m\"\u001B[39m\n\u001B[1;32m      6\u001B[0m     doc_presentation \u001B[38;5;241m+\u001B[39m\u001B[38;5;241m=\u001B[39m  \u001B[38;5;124mf\u001B[39m\u001B[38;5;124m\"\u001B[39m\u001B[38;5;124mDoc source_paper : <<\u001B[39m\u001B[38;5;132;01m{\u001B[39;00md\u001B[38;5;241m.\u001B[39mmetadata[\u001B[38;5;124m'\u001B[39m\u001B[38;5;124msource_paper\u001B[39m\u001B[38;5;124m'\u001B[39m]\u001B[38;5;132;01m}\u001B[39;00m\u001B[38;5;124m>>\u001B[39m\u001B[38;5;130;01m\\n\u001B[39;00m\u001B[38;5;124m\"\u001B[39m\n\u001B[1;32m      7\u001B[0m     doc_presentation \u001B[38;5;241m+\u001B[39m\u001B[38;5;241m=\u001B[39m  \u001B[38;5;124mf\u001B[39m\u001B[38;5;124m\"\u001B[39m\u001B[38;5;124mDoc link : <<\u001B[39m\u001B[38;5;132;01m{\u001B[39;00md\u001B[38;5;241m.\u001B[39mmetadata[\u001B[38;5;124m'\u001B[39m\u001B[38;5;124mlink\u001B[39m\u001B[38;5;124m'\u001B[39m]\u001B[38;5;132;01m}\u001B[39;00m\u001B[38;5;124m>>\u001B[39m\u001B[38;5;130;01m\\n\u001B[39;00m\u001B[38;5;124m\"\u001B[39m\n",
      "\u001B[0;31mAttributeError\u001B[0m: 'str' object has no attribute 'strftime'"
     ]
    }
   ],
   "execution_count": 81
  },
  {
   "metadata": {},
   "cell_type": "markdown",
   "source": "## Récapitulatif",
   "id": "75dc12a11b946a69"
  },
  {
   "metadata": {},
   "cell_type": "markdown",
   "source": [
    "- 8 bons retrieval sur 11 questions [V, V, V, X, V, V, X, V, X, V, V] : V → True response and X → Wrong response\n",
    "- 4 bonnes réponses sur 11 questions [X, V, V, X, V, X, X, X, X, X, V] :  V → True response and X → Wrong response\n",
    "- Bonne réponse à la question Bonus !\n",
    "- Questions potentielles à rajouter :\n",
    "    - Quand est ce que Abdoulaye Diop rencontrera ses homologues ?\n",
    "    -  Quoi de prévu le 28 juin à Bamako ?\n",
    "    - Quelle célébrité le président a rencontré ?\n",
    "    - À quand la transition civile au Mali ?"
   ],
   "id": "b4fdfa56c58bde45"
  },
  {
   "metadata": {},
   "cell_type": "markdown",
   "source": "# Some results from OpenAIEmbeddings, far better result",
   "id": "ddd5fd27633320b0"
  },
  {
   "metadata": {
    "ExecuteTime": {
     "end_time": "2024-05-21T15:48:44.407782Z",
     "start_time": "2024-05-21T15:17:35.183244Z"
    }
   },
   "cell_type": "code",
   "source": [
    "# Result from OpenAI Embeddings\n",
    "for q in questions:\n",
    "    print(q)\n",
    "    print(chain.invoke(q))\n",
    "    print('-'*50, \"\\n\")"
   ],
   "id": "7b0a8ea0e30d79e7",
   "execution_count": 40,
   "outputs": []
  }
 ],
 "metadata": {
  "kernelspec": {
   "display_name": "Python 3",
   "language": "python",
   "name": "python3"
  },
  "language_info": {
   "codemirror_mode": {
    "name": "ipython",
    "version": 2
   },
   "file_extension": ".py",
   "mimetype": "text/x-python",
   "name": "python",
   "nbconvert_exporter": "python",
   "pygments_lexer": "ipython2",
   "version": "2.7.6"
  }
 },
 "nbformat": 4,
 "nbformat_minor": 5
}
