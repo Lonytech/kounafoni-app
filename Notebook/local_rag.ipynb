{
 "cells": [
  {
   "metadata": {},
   "cell_type": "markdown",
   "source": [
    "- Ollama -> See : https://ollama.com/download\n",
    "  - For linux users :\n",
    "    \n",
    "    For this tutorial, run these instructions\n",
    "    - Install Ollama : `curl -fsSL https://ollama.com/install.sh | sh`\n",
    "    - Pull required models : \n",
    "        - `ollama pull mayflowergmbh/occiglot-7b-fr-en-instruct` #french llm model\n",
    "        - `ollama pull sammcj/sfr-embedding-mistral:Q4_K_M` # decent embedding for this use case\n",
    "    \n",
    "    -------------------------------------------------------------------------------\n",
    "  \n",
    "    Additional informations about Ollama\n",
    "    - To remove Ollama : https://github.com/ollama/ollama/blob/main/docs/linux.md\n",
    "    - To stop ollama server : `systemctl stop ollama`\n",
    "    - To restart server : `systemctl start ollama`\n",
    "    \n",
    "    -------------------------------------------------------------------------------\n",
    "    Due to issues from Ollama latest versions in weigths update, we might want to install older versions of Ollama.\n",
    "    To install **v.0.1.31** on Linux:\n",
    "      - `curl -fsSL https://ollama.com/install.sh | sed 's#https://ollama.com/download/ollama-linux-${ARCH}${VER_PARAM}#https://github.com/ollama/ollama/releases/download/v0.1.31/ollama-linux-amd64#' | sh`\n",
    "            \n",
    "- Next steps\n",
    "    - Add source for response provided by the chatbot (e.g. source : from 'Le Challenger' via 'Malijet'. To know more, here are some useful links: links...)\n",
    "    - Improve model response (accuracy and precision)\n"
   ],
   "id": "1b3ffc25e5487cf2"
  },
  {
   "cell_type": "code",
   "id": "initial_id",
   "metadata": {
    "collapsed": true,
    "ExecuteTime": {
     "end_time": "2024-05-22T14:56:22.577662Z",
     "start_time": "2024-05-22T14:56:22.555775Z"
    }
   },
   "source": [
    "from pathlib import Path\n",
    "import os\n",
    "import uuid\n",
    "import pandas as pd\n",
    "from langchain_community.llms import Ollama\n",
    "from langchain_core.output_parsers import StrOutputParser\n",
    "from langchain.document_loaders.csv_loader import CSVLoader\n",
    "from langchain_text_splitters import RecursiveCharacterTextSplitter\n",
    "from langchain.embeddings import OllamaEmbeddings\n",
    "from langchain_core.prompts import ChatPromptTemplate\n",
    "from langchain_core.runnables import RunnablePassthrough\n",
    "from langchain.vectorstores.chroma import Chroma\n",
    "# from langchain_community.vectorstores import DocArrayInMemorySearch\n",
    "# from langchain_openai.embeddings import OpenAIEmbeddings"
   ],
   "outputs": [],
   "execution_count": 59
  },
  {
   "metadata": {
    "ExecuteTime": {
     "end_time": "2024-05-21T15:56:03.100078Z",
     "start_time": "2024-05-21T15:56:03.096544Z"
    }
   },
   "cell_type": "code",
   "source": "%env OPENAI_API_KEY=sk-xxx",
   "id": "fa0970cb82d4cc0e",
   "outputs": [
    {
     "name": "stdout",
     "output_type": "stream",
     "text": [
      "env: OPENAI_API_KEY=sk-xxx\n"
     ]
    }
   ],
   "execution_count": 41
  },
  {
   "metadata": {
    "ExecuteTime": {
     "end_time": "2024-05-22T13:22:53.305761Z",
     "start_time": "2024-05-22T13:22:53.300765Z"
    }
   },
   "cell_type": "code",
   "source": [
    "ARTICLE_SOURCE_FILE_PATH = Path().resolve().parent /\"data\" / \"malijet\" / \"source.csv\"\n",
    "CHROMA_DB_PERSIST_PATH = Path().resolve().parent / \"data\" / \"chroma_db\"\n",
    "MODEL_NAME = \"mayflowergmbh/occiglot-7b-fr-en-instruct\""
   ],
   "id": "1e5d62f9058c6a59",
   "outputs": [],
   "execution_count": 2
  },
  {
   "metadata": {
    "ExecuteTime": {
     "end_time": "2024-05-22T13:22:54.464833Z",
     "start_time": "2024-05-22T13:22:54.457958Z"
    }
   },
   "cell_type": "code",
   "source": [
    "# get nb cpu\n",
    "os.cpu_count()"
   ],
   "id": "5fc57ddc9742470d",
   "outputs": [
    {
     "data": {
      "text/plain": [
       "16"
      ]
     },
     "execution_count": 3,
     "metadata": {},
     "output_type": "execute_result"
    }
   ],
   "execution_count": 3
  },
  {
   "metadata": {
    "ExecuteTime": {
     "end_time": "2024-05-22T13:22:54.809865Z",
     "start_time": "2024-05-22T13:22:54.804090Z"
    }
   },
   "cell_type": "code",
   "source": [
    "system_role = \"Tu es un expert sur les actualités du Mali et tu parles uniquement français (spécialisé en langue française).\"\n",
    "llm = Ollama(model=MODEL_NAME, system=system_role, num_thread=os.cpu_count()-6)\n",
    "llm"
   ],
   "id": "609b90e8d6c8fa64",
   "outputs": [
    {
     "data": {
      "text/plain": [
       "Ollama(model='mayflowergmbh/occiglot-7b-fr-en-instruct', num_thread=10, system='Tu es un expert sur les actualités du Mali et tu parles uniquement français (spécialisé en langue française).')"
      ]
     },
     "execution_count": 4,
     "metadata": {},
     "output_type": "execute_result"
    }
   ],
   "execution_count": 4
  },
  {
   "metadata": {},
   "cell_type": "markdown",
   "source": "## Testing Simple LLM discussion",
   "id": "79883c6433748c08"
  },
  {
   "metadata": {
    "ExecuteTime": {
     "end_time": "2024-05-21T05:23:34.381320Z",
     "start_time": "2024-05-21T05:22:32.813700Z"
    }
   },
   "cell_type": "code",
   "source": "llm.invoke(\"Cite moi les noms des présidents du Mali.\")",
   "id": "3c93a18536ce0ae5",
   "outputs": [
    {
     "data": {
      "text/plain": [
       "\"Les présidents du Mali sont :\\n- Modibo Keïta (1960-1968)\\n- Moussa Traoré (1968-1991)\\n- Amadou Toumani Touré (2002-2012)\\n- Dioncounda Traoré (intérim, 2012-2013)\\n- Ibrahim Boubacar Keïta (2013-2020)\\n- Bah N'Daw (intérim, 2020)\\n- Assimi Goïta (depuis 2020).\""
      ]
     },
     "execution_count": 270,
     "metadata": {},
     "output_type": "execute_result"
    }
   ],
   "execution_count": 270
  },
  {
   "metadata": {},
   "cell_type": "code",
   "outputs": [
    {
     "data": {
      "text/plain": [
       "\"La plus grande crise économique que le Mali a connue est la crise financière de 2012-2013, qui a été causée par une combinaison de facteurs tels que les chocs exogènes, la mauvaise gouvernance et la corruption. Cette crise a entraîné une forte dépréciation du franc CFA malien, une baisse des investissements étrangers et une augmentation de l'inflation. Le gouvernement malien a mis en place plusieurs mesures pour remédier à cette situation, notamment la réduction des dépenses publiques, la privatisation d'entreprises publiques et la mise en place de politiques économiques plus libérales. Cependant, le pays est encore confronté à de nombreux défis économiques, tels que la faible croissance économique, la pauvreté et l'instabilité politique.\""
      ]
     },
     "execution_count": 271,
     "metadata": {},
     "output_type": "execute_result"
    }
   ],
   "execution_count": 271,
   "source": "llm.invoke(\"Quelle est la plus grande crise que la Mali a connue ?\")",
   "id": "7a2a5487f0d95608"
  },
  {
   "metadata": {
    "ExecuteTime": {
     "end_time": "2024-05-21T05:29:34.586455Z",
     "start_time": "2024-05-21T05:29:10.498362Z"
    }
   },
   "cell_type": "code",
   "source": "llm.invoke(\"Who is the most popular scientist in the world?\")",
   "id": "abbaf94d1945f818",
   "outputs": [
    {
     "data": {
      "text/plain": [
       "\"Il n'y a pas de réponse définitive à cette question car la popularité est subjective et peut varier selon les individus et les régions. Cependant, certains scientifiques célèbres qui ont contribué de manière significative à leur domaine sont Albert Einstein, Stephen Hawking, Marie Curie, Isaac Newton et Charles Darwin.\""
      ]
     },
     "execution_count": 276,
     "metadata": {},
     "output_type": "execute_result"
    }
   ],
   "execution_count": 276
  },
  {
   "metadata": {},
   "cell_type": "markdown",
   "source": "## 2. Build RAG with CSV file",
   "id": "72e4efb57cc1c09b"
  },
  {
   "metadata": {
    "ExecuteTime": {
     "end_time": "2024-05-22T13:22:58.268336Z",
     "start_time": "2024-05-22T13:22:58.257561Z"
    }
   },
   "cell_type": "code",
   "source": [
    "loader = CSVLoader(\n",
    "    file_path=ARTICLE_SOURCE_FILE_PATH,\n",
    "    csv_args={\n",
    "        \"delimiter\": \"\\t\"\n",
    "    }\n",
    ")\n",
    "\n",
    "# load documents\n",
    "data = loader.load()\n",
    "data[:3] # three first documents"
   ],
   "id": "e79a45440193a7cb",
   "outputs": [
    {
     "data": {
      "text/plain": [
       "[Document(page_content='title: Fin de la transition militaire: des propositions farfelues du Panel des démocrates\\nsource_paper: Info Matin\\ndate: 2024-05-16\\nlink: https://malijet.com/a_la_une_du_mali/290855-fin-de-la-transition-militaire-des-propositions-farfelues-du-pan.html\\ncontent: Des supposés ‘’démocrates’’ maliens qui n’ont pas osé s’afficher dans leur communiqué de presse d’appel à la mobilisation pour la mise en place d’une transition civile auront-ils le courage de fouler le territoire national pour la concrétisation de leur projet ? La déclaration de ce ‘’Panel des démocrates’’ nous rappelle l’affaire de l’opposant malien, Ainea Ibrahim CAMARA, qui s’était proclamé président du Mali depuis la Côte d’Ivoire. Dans son document, le fameux ‘’Panel des démocrates’’ expose des propositions farfelues en demandant que le pays soit dirigé par un chef d’État honorifique désigné chaque année par exercice tournant parmi les sénateurs...Autre hic, alors que certains démocrates exigent le retour immédiat à l’ordre constitutionnel, eux ils proposent encore une autre transition dite civile de 5 ans. Mais on est où là ? Encore une autre illusion des détracteurs des nouvelles autorités qui veulent mettre en place une transition civile à partir du 18 mai prochain, en vue de tourner la page en délogeant les locataires de Koulouba. Un appel à la mobilisation a été, à cet effet, lancé dans un communiqué de presse rendu public le mardi 14 mai.   Une initiative portée par des ‘’supposés démocrates’’, en clandestinité dont les noms ne figurent pas sur le document, et qui veulent naviguer sur la vague des contestations de certains acteurs politiques et de la société civile contre des résolutions du Dialogue inter-Maliens tenu du 6 au 9 mai. Les conclusions qui fâchent sont relatives à la nouvelle prorogation de la transition, à la relecture de la Charte de la transition, à l’appel à la candidature de Assimi GOITA, à l’élévation des jeunes officiers au grade du général. Sans ambages, ce panel des démocrates appelle à un soulèvement contre la transition en cours en vue de rétablir « la souveraineté populaire et l’ordre constitutionnel, à soutenir l’investiture du gouvernement de transition en exil et à participer massivement à la manifestation populaire des démocrates maliens le 28 juin 2024 à Bamako, dans les autres localités du Mali et à l’étranger... ». Dernière ce projet machiavélique qui n’est pas visiblement soutenu par certains hommes politiques joints par nos soins, malgré leur divergence avec les autorités de la transition, se cache le désir de ces ‘’démocrates’’ de vouloir mettre en place un gouvernement en exil pour agir au nom et au compte d’un pays où ils sont interdits de séjour. Pour certains hommes politiques contactés par nos soins, ce projet est loin d’être une solution viable dans le contexte de la crise sécuritaire et socio-politique de notre pays. Parce que, selon eux, un gouvernement en exil va être une représentation qui n’aura aucune valeur juridique ni aucune légitimité. Au moins à défaut d’avoir de la légalité, il faut jouir de la légitimité. La transition en cours, en dépit de ses imperfections, bénéficie aujourd’hui d’une certaine légitimité auprès de la population. Veulent-ils être plus royalistes que le roi ? Ne sont-ils pas en train de se tromper de combat ? Après s’être mobilisés pour renverser un régime démocratiquement élu, la stratégie du Panel des démocrates devrait être de renforcer leurs confrères du pays pour plus de cohérence, de respect des principes démocratiques, entre autres. Sans le respect de ces valeurs, il est impossible de mettre fin au coup d’Etat. Par ailleurs, ce panel des démocrates appelle la population à participer à la rencontre de concertation en ligne le 18 mai prochain devant conduire à une transition civile élue. Cette rencontre de concertation, explique le communiqué, a pour objectifs de constituer un cadre pour échanger et appeler d’une seule voix à la fin du régime militaire, à la mise en place d’une transition civile, à la tenue des élections législatives pour instituer une assemblée constituante élue et à la sauvegarde des acquis démocratiques et de la souveraineté populaire au Mali. Dans son scénario, le panel planifie la mise en place d’un gouvernement d’union nationale de 7 membres collégial non partisan élu et mandaté par ce Parlement pour organiser des élections législatives (désignation de députés par consensus local en zones d’insécurité) à partir du 29 septembre 2024 en vue d’une transition civile de refondation élue de 5 ans. Le hic, alors que les autres démocrates se battent tout en exigeant des élections le plus rapidement possible pour le retour à l’ordre constitutionnel, le fameux panel envisage une transition civile de refondation de 5 ans. Également, parmi ses propositions farfelues, le panel souhaite que la transition soit gérée par un Chef d’État honorifique désigné chaque année par exercice tournant parmi les sénateurs. Qu’est-ce qu’un chef de l’État peut faire en un an et atteindre des résultats ? En clair, en plus d’être farfelue, cette proposition infantilise notre situation. Au lieu de séduire par la qualité des solutions, cette organisation des démocrates entretient le doute sur sa capacité d’analyse et d’anticipation d’une crise politique, notamment. Existe-t-il, dans le monde, un pays où la présidence est tournante et par an ? Cette histoire nous rappelle la déclaration tenue en janvier 2022 par l’opposant AINEA Ibrahim CAMARA, président du Parti « Mouvement Républicain », se disant également président de la Plateforme « Mouvement Faso Dcmbé ». Une responsabilité qui n’a existé que sur les réseaux sociaux et pour quelques minutes. PAR SIKOU BAH', metadata={'source': '/home/bouba/Workspace/kounafoni-app/data/malijet/source.csv', 'row': 0}),\n",
       " Document(page_content='title: Dialogue inter-maliens : l’offre pour le retour de la sécurité\\nsource_paper: Le Pays\\ndate: 2024-05-16\\nlink: https://malijet.com/a_la_une_du_mali/290836-dialogue-inter-maliens--l’offre-pour-le-retour-de-la-securite.html\\ncontent: Désormais sur la table des autorités de la transition, les recommandations formulées lors du Dialogue inter-maliens pour la paix et la réconciliation nationale, conclu le 10 mai dernier au CICB, prenant compte quasiment tous les aspects de la vie d’une nation. En matière de la défense et de la sécurité du Mali en proie à de violences accrues depuis plus d’une décennie, les participants au dialogue mettent l’accent que l’action militaire seule n’est pas suffisante pour le retour définitif de la paix au Mali. Lancé il y a quelques mois, le dialogue inter-maliens a produit un document qu’il faut apprécier à sa juste valeur même si d’aucuns, notamment de la classe politique le rejettent purement et simplement. En effet, les participants représentant les 24 millions de Maliens ont émis ce qu’ils pensent propice pour traiter l’épineuse question de défense et de sécurité au Mali. A ce rendez-vous d’échanges et de discussions où la quatrième thématique portait notamment sur l’aspect sécurité et défense, les participants dans leur recommandation ont souligné que la seule action militaire n’est pas suffisante pour le retour de la paix. En outre, ils évoquent la moralisation du processus de recrutement dans les Forces armées et de sécurité, afin de disposer d’une armée professionnelle et bien équipée. Aussi, les participants proposent de procéder à un meilleur maillage du territoire en révisant la carte militaire. Parmi leurs recommandations figure la facilitation de l’accès des populations aux services sociaux de bases ; la facilitation des rapports entre les Forces armées et de sécurité et les populations ; le renforcement du rôle des autorités traditionnelles dans la gestion des conflits ; la sensibilisation et la formation des autorités locales et les populations dans la mise en œuvre des plans de gestion des risques, des crises et des catastrophes. S’y ajoutent le renforcement des actions civilo-militaires ; la déconcentration du recrutement dans les Forces armées et de sécurité (quotas par commune, cercle et région) ; le renforcement de la surveillance des frontières. Ils vont loin et prônent l’intensification des campagnes de sensibilisation sur les dangers de la prolifération des armes ; la lutte contre l’économie criminelle ; la création d’un site mémoriel des martyrs de la Nation ; l’écriture de l’histoire militaire du Mali pour son enseignement dans les écoles maliennes ; la création des canaux d’échanges et de communication entre les Forces armées et de sécurité et les chercheurs ; l’amélioration des conditions de vie et de travail des Forces armées et de sécurité ; l’achèvement du processus de délimitation et de bornage des frontières ; la sensibilisation des populations au vivre ensemble au niveau des frontières ; la création et le renforcement des postes de sécurité frontaliers terrestres, fluviaux et aériens.   L’opérationnalisation des nouveaux postes de sécurité A lire le document de 17 pages, les participants plaident pour l’opérationnalisation des commissariats de police, celle des centres de secours et les brigades de gendarmerie déjà créés. Ils sollicitent la mise en place des postes de sécurité mobiles entre les grandes agglomérations ; la promotion et le renforcement d’une justice sociale équitable pour tous ; la poursuite du renforcement des capacités des Forces armées et de sécurité en formation, équipements, budget et effectifs ; l’encadrement des artisans armuriers dont les compétences peuvent être mises à profit pour l’émergence d’une expertise endogène ; la promotion de l’amour de la patrie et l’esprit du don de soi ; la recherche des mécanismes innovants pour soutenir l’effort de guerre ; l’anticipation et l’accompagnement pour le retour des réfugiés et des déplacés dans leurs localités respectives ; la prise des dispositions nécessaires pour la réinsertion socio-économique des déplacés et des réfugiés. Doter le pays d’un satellite, sanctionner les fausses informations, créer des comités de veille citoyenne Parmi lesdites recommandations figurent la prise en compte de nos valeurs sociétales dans la gestion des crises ; la dotation du Mali d’un satellite de communication et de surveillance pouvant couvrir tout le territoire ; rendre la justice, promouvoir le pardon et le consensus national autour des questions de défense et de sécurité ; éviter l’amalgame et la stigmatisation dans le cadre de la lutte contre le terrorisme ; sanctionner la diffusion de fausses informations sur la situation sécuritaire ; renforcer la communication entre l’Etat et les légitimités traditionnelles ; renforcer les capacités des autorités et légitimités traditionnelles ; instituer les comités de veille citoyenne dans les villages, fractions et quartiers ; prendre en compte les questions de sécurité comme critère de performance dans l’évaluation des communes ; créer des polices de proximité et des commissions de sécurité au sein des conseils communaux ; veiller au respect de la réglementation du port d’arme ; recenser et collaborer avec les fabricants d’armes artisanales pour un meilleur contrôle ; accentuer le contrôle du trafic d’armes au niveau national ; sanctionner les trafiquants d’armes et autres produits prohibés. Dissolution les groupes d’auto-défense, militariser les corps paramilitaires Pour la paix et la réconciliation, il est désormais sollicité de dissoudre à terme les groupes d’auto-défense et les milices armées ; mettre en œuvre un programme DDR au profit des membres des groupes armés ; militariser les corps paramilitaires (Eaux et Forêts, Douanes et Administration pénitentiaire) ; interdire l’immixtion du politique dans le détail du fonctionnement des Forces armées et de sécurité ; créer une synergie d’action interministérielle et relever le niveau de vigilance pour la protection des points sensibles ; assurer une coopération entre les populations frontalières et les FAS ; mettre l’accent sur la coopération avec les pays voisins et les partenaires dans le strict respect des trois principes qui guident l’action publique au Mali ; impliquer les populations frontalières dans la sécurisation des frontières ; renforcer la collaboration entre les autorités et les populations riveraines des frontières ; renforcer la surveillance des frontières ; encourager l’emploi et l’entrepreneuriat jeune pour circonscrire le flux migratoire et lutter contre l’enrôlement des jeunes dans les groupes armés terroristes ; interdire et sanctionner les rackets sous toutes leurs formes... Des infrastructures à réhabiliter Aux autorités de la transition, il est recommandé d’installer des postes de sécurité dans certains points sensibles, notamment sur la route RN15 : Parou, Mandoli Diallo sur l’axe Mandoli-Somadougou, Baye (Bankass) ; la route RN15 : GoundaKa et Bandiagara, Koro et Bhi (axe Koro – Ouagouiya), Koro et Diankabou. Les participants demandent le ratissage des zones Timiniri, Pignari, Pignari-Bana, Doucombo, Bara-Sara, Lowol-Guéou, Dourou, Baye, Borko, Bamba, Kassa, Timini, Anaye, Dinangourou, Torolly, Zon, Orodourou, Pouty, Ouenkoro, Korientzé-Saraféré, Ténenkou, Youwarou, Niono, Nara, Nioro. Ils sollicitent la construction et le bitumage des infrastructures routières, telles que celles de Kadiolo-Fourou-Kadiana ; Kadiolo- Misséni- Deléou. Du DIM ressort la réhabilitation des routes Sikasso- Zegoua (deux fois deux voies) ; Farakala- Lobougoula-fourou ; Loulouni-Nimbougou- Ouéléni (B FASO) ; Zegoua- Baguaira (B FASO) ; Sévaré-Gao; Ansongo-Ménaka-Anderamboukane-frontière Niger (Abala et Banibangou) ; Ménaka-Kidal-Tinzawatène ; Ménaka-Tindermène ; Ménaka-Inékar ; Tessalit-Bouressa ; Konna-Korientzé-Tonka; Mopti-Dialloubé; Kwala-Mourdiah-Nara-Frontière Mauritanie ; Goumbou-Fallou-Ballé-Nioro du Sahel ; Gossi-Rarhouss-Tombouctou ; Kita-Kourourinkoto-Diéma ; Kidal-Talahandar ; Kidal- Inafara . A cela s’ajoute la poursuite de la construction de la route Tombouctou-Goma coura-Niono ; Daguol-borhè-NGouma ; Boni-Mondoro ; Koutiala-Yorosso ; Yorosso-Boura-Frontière Burkina Faso. Mamadou Diarra', metadata={'source': '/home/bouba/Workspace/kounafoni-app/data/malijet/source.csv', 'row': 1}),\n",
       " Document(page_content=\"title: Réunion des Ministres des Affaires étrangères des pays membres de l'AES\\nsource_paper: Malijet\\ndate: 2024-05-16\\nlink: https://malijet.com/a_la_une_du_mali/290831-reunion-des-ministres-des-affaires-etrangeres-des-pays-membres-d.html\\ncontent: Son Excellence Monsieur Abdoulaye DIOP, Ministre des Affaires étrangères et de la Coopération internationale prendra part, le 17 mai 2024 à Niamey, aux côtés de ses Homologues du Burkina et du Niger, à la réunion des Ministres chargés des Affaires Étrangères des pays membres de l’Alliance des États du Sahel (AES). Précédée de la réunion des hauts fonctionnaires prévue le 16 mai, la rencontre ministérielle préparatoire au Sommet des Chefs d’État de l’AES permettra aux Ministres chargés des Affaires Étrangères d’examiner et de valider les textes qui seront soumis à l’adoption des Chefs d’État en vue de l’institutionnalisation et de l’opérationnalisation de la Confédération « Alliance des États du Sahel ». Cette rencontre constituera ainsi une étape importante du processus d’intégration politique et socio-économique des trois pays, dans le cadre du renforcement de leurs relations stratégiques.    L'intégration renforcée des pays de l'AES découle de la vision partagée de Leurs Excellences Le Capitaine Ibrahim TRAORE, Président de la Transition, Chef de l’État du Burkina, Le Colonel Assimi GOITA, Président de la Transition, Chef de l’État du Mali, et Le Général de Brigade Abdourahamane TIANI, Président du Conseil National pour la Sauvegarde de la Patrie, Chef de l’État du Niger qui, dès le 16 septembre 2023, à travers la Charte du Liptako-Gourma instituant l'AES, ont, dans un premier temps, mis en place une architecture de défense collective et d’assistance mutuelle. Bureau de l’Information et de la Presse/MAECI.\", metadata={'source': '/home/bouba/Workspace/kounafoni-app/data/malijet/source.csv', 'row': 2})]"
      ]
     },
     "execution_count": 5,
     "metadata": {},
     "output_type": "execute_result"
    }
   ],
   "execution_count": 5
  },
  {
   "metadata": {
    "ExecuteTime": {
     "end_time": "2024-05-22T13:22:58.488028Z",
     "start_time": "2024-05-22T13:22:58.475425Z"
    }
   },
   "cell_type": "code",
   "source": [
    "# 53 articles extracted\n",
    "len(data), pd.read_csv(ARTICLE_SOURCE_FILE_PATH, sep=\"\\t\").shape[0]"
   ],
   "id": "873e297d2e8bea8e",
   "outputs": [
    {
     "data": {
      "text/plain": [
       "(53, 53)"
      ]
     },
     "execution_count": 6,
     "metadata": {},
     "output_type": "execute_result"
    }
   ],
   "execution_count": 6
  },
  {
   "metadata": {},
   "cell_type": "markdown",
   "source": "## Let's see if the splitter is necessary",
   "id": "9c4aaff6953733cf"
  },
  {
   "metadata": {},
   "cell_type": "markdown",
   "source": "### Without splitter",
   "id": "f002488cec5b6f14"
  },
  {
   "metadata": {
    "ExecuteTime": {
     "end_time": "2024-05-22T13:22:58.936809Z",
     "start_time": "2024-05-22T13:22:58.930999Z"
    }
   },
   "cell_type": "code",
   "source": [
    "def get_length_info(list_of_documents, splitters=None):\n",
    "    \n",
    "    if splitters is None:\n",
    "        splitters = [' ', '.']\n",
    "    \n",
    "    ## search the content length statistics (nb characters)\n",
    "    print('-'*10, \"For character length\", '-'*10)\n",
    "    display(pd.Series([len(document.page_content) for document in list_of_documents]).describe())\n",
    "    \n",
    "    ## search the words length statistics (nb words)\n",
    "    print('-'*10, \"Length of words (nb characters) in the corpus\", '-'*10)\n",
    "    _res = list()\n",
    "    for document in list_of_documents:\n",
    "        _res += pd.Series(document.page_content.split(splitters[0])).apply(len).tolist()\n",
    "    display(pd.Series(_res).describe())\n",
    "    \n",
    "    ## search the sentence length statistics (nb words)\n",
    "    print('-'*10, \"How many words in each doc\", '-'*10)\n",
    "    display(pd.Series([len(doc.page_content.split(splitters[0])) for doc in list_of_documents]).describe())\n",
    "    \n",
    "    ## search the sentence length statistics (nb words)\n",
    "    print('-'*10, \"For how many sentences in in each doc\", '-'*10)\n",
    "    display(pd.Series([len(doc.page_content.split(splitters[1])) for doc in list_of_documents]).describe())\n",
    "    \n",
    "    ## search the sentence length statistics (nb words)\n",
    "    print('-'*10, \"For sentences length in each doc\", '-'*10)\n",
    "    display(pd.Series([len(sentence) for document in list_of_documents for sentence in document.page_content.split('.')]).describe())\n",
    "    \n",
    "    return _res"
   ],
   "id": "d7ab01346dd7721b",
   "outputs": [],
   "execution_count": 7
  },
  {
   "metadata": {
    "ExecuteTime": {
     "end_time": "2024-05-22T13:22:59.244478Z",
     "start_time": "2024-05-22T13:22:59.202024Z"
    }
   },
   "cell_type": "code",
   "source": "res = get_length_info(data)",
   "id": "8f383d02d93be293",
   "outputs": [
    {
     "name": "stdout",
     "output_type": "stream",
     "text": [
      "---------- For character length ----------\n"
     ]
    },
    {
     "data": {
      "text/plain": [
       "count       53.000000\n",
       "mean      5078.716981\n",
       "std       5284.925774\n",
       "min        373.000000\n",
       "25%       2038.000000\n",
       "50%       3816.000000\n",
       "75%       6236.000000\n",
       "max      30532.000000\n",
       "dtype: float64"
      ]
     },
     "metadata": {},
     "output_type": "display_data"
    },
    {
     "name": "stdout",
     "output_type": "stream",
     "text": [
      "---------- Length of words (nb characters) in the corpus ----------\n"
     ]
    },
    {
     "data": {
      "text/plain": [
       "count    40780.000000\n",
       "mean         5.601888\n",
       "std          5.527599\n",
       "min          0.000000\n",
       "25%          2.000000\n",
       "50%          4.000000\n",
       "75%          8.000000\n",
       "max        123.000000\n",
       "dtype: float64"
      ]
     },
     "metadata": {},
     "output_type": "display_data"
    },
    {
     "name": "stdout",
     "output_type": "stream",
     "text": [
      "---------- How many words in each doc ----------\n"
     ]
    },
    {
     "data": {
      "text/plain": [
       "count      53.000000\n",
       "mean      769.433962\n",
       "std       826.540415\n",
       "min        30.000000\n",
       "25%       304.000000\n",
       "50%       571.000000\n",
       "75%       931.000000\n",
       "max      4616.000000\n",
       "dtype: float64"
      ]
     },
     "metadata": {},
     "output_type": "display_data"
    },
    {
     "name": "stdout",
     "output_type": "stream",
     "text": [
      "---------- For how many sentences in in each doc ----------\n"
     ]
    },
    {
     "data": {
      "text/plain": [
       "count     53.000000\n",
       "mean      31.660377\n",
       "std       40.456027\n",
       "min        4.000000\n",
       "25%       14.000000\n",
       "50%       21.000000\n",
       "75%       35.000000\n",
       "max      287.000000\n",
       "dtype: float64"
      ]
     },
     "metadata": {},
     "output_type": "display_data"
    },
    {
     "name": "stdout",
     "output_type": "stream",
     "text": [
      "---------- For sentences length in each doc ----------\n"
     ]
    },
    {
     "data": {
      "text/plain": [
       "count    1678.000000\n",
       "mean      159.443981\n",
       "std       150.289294\n",
       "min         0.000000\n",
       "25%        76.000000\n",
       "50%       132.000000\n",
       "75%       207.000000\n",
       "max      2386.000000\n",
       "dtype: float64"
      ]
     },
     "metadata": {},
     "output_type": "display_data"
    }
   ],
   "execution_count": 8
  },
  {
   "metadata": {},
   "cell_type": "markdown",
   "source": "## With splitter",
   "id": "a2da7035ac0fa051"
  },
  {
   "metadata": {
    "ExecuteTime": {
     "end_time": "2024-05-22T13:22:59.691941Z",
     "start_time": "2024-05-22T13:22:59.670247Z"
    }
   },
   "cell_type": "code",
   "source": "pd.Series(res).max(), pd.Series(res).quantile(.99)",
   "id": "e894f4831744b1b6",
   "outputs": [
    {
     "data": {
      "text/plain": [
       "(123, 16.0)"
      ]
     },
     "execution_count": 9,
     "metadata": {},
     "output_type": "execute_result"
    }
   ],
   "execution_count": 9
  },
  {
   "metadata": {
    "ExecuteTime": {
     "end_time": "2024-05-22T13:23:00.052022Z",
     "start_time": "2024-05-22T13:23:00.042176Z"
    }
   },
   "cell_type": "code",
   "source": [
    "quantile = int(pd.Series([len(sentence) for document in data for sentence in document.page_content.split('.')]).quantile(.95))\n",
    "maxi_character_per_chunk = pd.Series([len(sentence) for document in data for sentence in document.page_content.split('.')]).max().astype(int)\n",
    "maxi_character_per_words = 20 # over 16 to make sure to get all content overlap\n",
    "quantile, maxi_character_per_chunk, maxi_character_per_words"
   ],
   "id": "cc766a25eedffec",
   "outputs": [
    {
     "data": {
      "text/plain": [
       "(387, 2386, 20)"
      ]
     },
     "execution_count": 10,
     "metadata": {},
     "output_type": "execute_result"
    }
   ],
   "execution_count": 10
  },
  {
   "metadata": {},
   "cell_type": "markdown",
   "source": [
    "How do I determine how many characters form a meaningful chunk (i.e. understandable and self-sufficient information) ?\n",
    "We will assume that each sentence could be a meaningful chunk. The idea is to have a count distribution of sentences length in our courpus to make a quick decision.\n",
    "- We might choose 400 (similar to the quantile q95) as chunk size to be more flexible.\n",
    "- Also, in this case, we'll set 20 as the maximum length of character possible in a sentence"
   ],
   "id": "a7660197a0a2f201"
  },
  {
   "metadata": {
    "ExecuteTime": {
     "end_time": "2024-05-22T13:23:00.775273Z",
     "start_time": "2024-05-22T13:23:00.748382Z"
    }
   },
   "cell_type": "code",
   "source": [
    "## test the document splitter\n",
    "text_splitter = RecursiveCharacterTextSplitter(\n",
    "    chunk_size=quantile, # selected quantile\n",
    "    chunk_overlap=maxi_character_per_words,\n",
    "    separators=[\"\\n\\n\", \"\\n\", \". \", \" \", \"\"], # specify that sentence split (by dot) is more important than space & other\n",
    "    keep_separator=False # drop the separators from the document after split\n",
    ")\n",
    "documents = text_splitter.split_documents(documents=data)\n",
    "len(documents)"
   ],
   "id": "748bcce94fc43827",
   "outputs": [
    {
     "data": {
      "text/plain": [
       "962"
      ]
     },
     "execution_count": 11,
     "metadata": {},
     "output_type": "execute_result"
    }
   ],
   "execution_count": 11
  },
  {
   "metadata": {
    "ExecuteTime": {
     "end_time": "2024-05-22T13:23:02.028724Z",
     "start_time": "2024-05-22T13:23:02.024004Z"
    }
   },
   "cell_type": "code",
   "source": "documents[8:20]",
   "id": "a9f794b440aab2fd",
   "outputs": [
    {
     "data": {
      "text/plain": [
       "[Document(page_content='Sans ambages, ce panel des démocrates appelle à un soulèvement contre la transition en cours en vue de rétablir « la souveraineté populaire et l’ordre constitutionnel, à soutenir l’investiture du gouvernement de transition en exil et à participer massivement à la manifestation populaire des démocrates maliens le 28 juin 2024 à Bamako, dans les autres localités du Mali et à', metadata={'source': '/home/bouba/Workspace/kounafoni-app/data/malijet/source.csv', 'row': 0}),\n",
       " Document(page_content='du Mali et à l’étranger..', metadata={'source': '/home/bouba/Workspace/kounafoni-app/data/malijet/source.csv', 'row': 0}),\n",
       " Document(page_content='». Dernière ce projet machiavélique qui n’est pas visiblement soutenu par certains hommes politiques joints par nos soins, malgré leur divergence avec les autorités de la transition, se cache le désir de ces ‘’démocrates’’ de vouloir mettre en place un gouvernement en exil pour agir au nom et au compte d’un pays où ils sont interdits de séjour', metadata={'source': '/home/bouba/Workspace/kounafoni-app/data/malijet/source.csv', 'row': 0}),\n",
       " Document(page_content='Pour certains hommes politiques contactés par nos soins, ce projet est loin d’être une solution viable dans le contexte de la crise sécuritaire et socio-politique de notre pays. Parce que, selon eux, un gouvernement en exil va être une représentation qui n’aura aucune valeur juridique ni aucune légitimité', metadata={'source': '/home/bouba/Workspace/kounafoni-app/data/malijet/source.csv', 'row': 0}),\n",
       " Document(page_content='Au moins à défaut d’avoir de la légalité, il faut jouir de la légitimité. La transition en cours, en dépit de ses imperfections, bénéficie aujourd’hui d’une certaine légitimité auprès de la population', metadata={'source': '/home/bouba/Workspace/kounafoni-app/data/malijet/source.csv', 'row': 0}),\n",
       " Document(page_content='Veulent-ils être plus royalistes que le roi ? Ne sont-ils pas en train de se tromper de combat ? Après s’être mobilisés pour renverser un régime démocratiquement élu, la stratégie du Panel des démocrates devrait être de renforcer leurs confrères du pays pour plus de cohérence, de respect des principes démocratiques, entre autres', metadata={'source': '/home/bouba/Workspace/kounafoni-app/data/malijet/source.csv', 'row': 0}),\n",
       " Document(page_content='Sans le respect de ces valeurs, il est impossible de mettre fin au coup d’Etat. Par ailleurs, ce panel des démocrates appelle la population à participer à la rencontre de concertation en ligne le 18 mai prochain devant conduire à une transition civile élue', metadata={'source': '/home/bouba/Workspace/kounafoni-app/data/malijet/source.csv', 'row': 0}),\n",
       " Document(page_content='Cette rencontre de concertation, explique le communiqué, a pour objectifs de constituer un cadre pour échanger et appeler d’une seule voix à la fin du régime militaire, à la mise en place d’une transition civile, à la tenue des élections législatives pour instituer une assemblée constituante élue et à la sauvegarde des acquis démocratiques et de la souveraineté populaire', metadata={'source': '/home/bouba/Workspace/kounafoni-app/data/malijet/source.csv', 'row': 0}),\n",
       " Document(page_content='populaire au Mali', metadata={'source': '/home/bouba/Workspace/kounafoni-app/data/malijet/source.csv', 'row': 0}),\n",
       " Document(page_content='Dans son scénario, le panel planifie la mise en place d’un gouvernement d’union nationale de 7 membres collégial non partisan élu et mandaté par ce Parlement pour organiser des élections législatives (désignation de députés par consensus local en zones d’insécurité) à partir du 29 septembre 2024 en vue d’une transition civile de refondation élue de 5 ans', metadata={'source': '/home/bouba/Workspace/kounafoni-app/data/malijet/source.csv', 'row': 0}),\n",
       " Document(page_content='Le hic, alors que les autres démocrates se battent tout en exigeant des élections le plus rapidement possible pour le retour à l’ordre constitutionnel, le fameux panel envisage une transition civile de refondation de 5 ans', metadata={'source': '/home/bouba/Workspace/kounafoni-app/data/malijet/source.csv', 'row': 0}),\n",
       " Document(page_content='Également, parmi ses propositions farfelues, le panel souhaite que la transition soit gérée par un Chef d’État honorifique désigné chaque année par exercice tournant parmi les sénateurs. Qu’est-ce qu’un chef de l’État peut faire en un an et atteindre des résultats ? En clair, en plus d’être farfelue, cette proposition infantilise notre situation', metadata={'source': '/home/bouba/Workspace/kounafoni-app/data/malijet/source.csv', 'row': 0})]"
      ]
     },
     "execution_count": 12,
     "metadata": {},
     "output_type": "execute_result"
    }
   ],
   "execution_count": 12
  },
  {
   "metadata": {
    "ExecuteTime": {
     "end_time": "2024-05-22T13:23:02.507602Z",
     "start_time": "2024-05-22T13:23:02.412956Z"
    }
   },
   "cell_type": "code",
   "source": "res = get_length_info(documents)",
   "id": "4cd8692686406b36",
   "outputs": [
    {
     "name": "stdout",
     "output_type": "stream",
     "text": [
      "---------- For character length ----------\n"
     ]
    },
    {
     "data": {
      "text/plain": [
       "count    962.000000\n",
       "mean     279.697505\n",
       "std       93.495508\n",
       "min       14.000000\n",
       "25%      229.000000\n",
       "50%      300.000000\n",
       "75%      356.000000\n",
       "max      387.000000\n",
       "dtype: float64"
      ]
     },
     "metadata": {},
     "output_type": "display_data"
    },
    {
     "name": "stdout",
     "output_type": "stream",
     "text": [
      "---------- Length of words (nb characters) in the corpus ----------\n"
     ]
    },
    {
     "data": {
      "text/plain": [
       "count    40826.000000\n",
       "mean         5.614192\n",
       "std          5.277430\n",
       "min          0.000000\n",
       "25%          2.000000\n",
       "50%          4.000000\n",
       "75%          8.000000\n",
       "max        118.000000\n",
       "dtype: float64"
      ]
     },
     "metadata": {},
     "output_type": "display_data"
    },
    {
     "name": "stdout",
     "output_type": "stream",
     "text": [
      "---------- How many words in each doc ----------\n"
     ]
    },
    {
     "data": {
      "text/plain": [
       "count    962.000000\n",
       "mean      42.438669\n",
       "std       15.873750\n",
       "min        1.000000\n",
       "25%       32.000000\n",
       "50%       46.000000\n",
       "75%       55.000000\n",
       "max       79.000000\n",
       "dtype: float64"
      ]
     },
     "metadata": {},
     "output_type": "display_data"
    },
    {
     "name": "stdout",
     "output_type": "stream",
     "text": [
      "---------- For how many sentences in in each doc ----------\n"
     ]
    },
    {
     "data": {
      "text/plain": [
       "count    962.000000\n",
       "mean       1.918919\n",
       "std        1.287770\n",
       "min        1.000000\n",
       "25%        1.000000\n",
       "50%        2.000000\n",
       "75%        2.000000\n",
       "max       12.000000\n",
       "dtype: float64"
      ]
     },
     "metadata": {},
     "output_type": "display_data"
    },
    {
     "name": "stdout",
     "output_type": "stream",
     "text": [
      "---------- For sentences length in each doc ----------\n"
     ]
    },
    {
     "data": {
      "text/plain": [
       "count    1846.000000\n",
       "mean      145.278982\n",
       "std       105.502656\n",
       "min         0.000000\n",
       "25%        69.000000\n",
       "50%       127.500000\n",
       "75%       205.000000\n",
       "max       387.000000\n",
       "dtype: float64"
      ]
     },
     "metadata": {},
     "output_type": "display_data"
    }
   ],
   "execution_count": 13
  },
  {
   "metadata": {},
   "cell_type": "markdown",
   "source": " We move from 4616 words maxi per doc to 79 words per doc. That might be relevant for the final framework of RAG.",
   "id": "811f82dc75521e64"
  },
  {
   "metadata": {
    "ExecuteTime": {
     "end_time": "2024-05-22T13:23:03.336366Z",
     "start_time": "2024-05-22T13:23:03.332136Z"
    }
   },
   "cell_type": "code",
   "source": "[doc.page_content for doc in documents[:5]]",
   "id": "8c20dcaa549487bc",
   "outputs": [
    {
     "data": {
      "text/plain": [
       "['title: Fin de la transition militaire: des propositions farfelues du Panel des démocrates\\nsource_paper: Info Matin\\ndate: 2024-05-16\\nlink: https://malijet.com/a_la_une_du_mali/290855-fin-de-la-transition-militaire-des-propositions-farfelues-du-pan.html',\n",
       " 'content: Des supposés ‘’démocrates’’ maliens qui n’ont pas osé s’afficher dans leur communiqué de presse d’appel à la mobilisation pour la mise en place d’une transition civile auront-ils le courage de fouler le territoire national pour la concrétisation de leur projet ? La déclaration de ce ‘’Panel des démocrates’’ nous rappelle l’affaire de l’opposant malien, Ainea Ibrahim',\n",
       " 'Ainea Ibrahim CAMARA, qui s’était proclamé président du Mali depuis la Côte d’Ivoire',\n",
       " 'Dans son document, le fameux ‘’Panel des démocrates’’ expose des propositions farfelues en demandant que le pays soit dirigé par un chef d’État honorifique désigné chaque année par exercice tournant parmi les sénateurs...Autre hic, alors que certains démocrates exigent le retour immédiat à l’ordre constitutionnel, eux ils proposent encore une autre transition dite civile de',\n",
       " 'dite civile de 5 ans']"
      ]
     },
     "execution_count": 14,
     "metadata": {},
     "output_type": "execute_result"
    }
   ],
   "execution_count": 14
  },
  {
   "metadata": {
    "ExecuteTime": {
     "end_time": "2024-05-22T13:23:03.929490Z",
     "start_time": "2024-05-22T13:23:03.925156Z"
    }
   },
   "cell_type": "code",
   "source": "[doc.page_content for doc in documents[37:40]]",
   "id": "12684ae1fc5de49a",
   "outputs": [
    {
     "data": {
      "text/plain": [
       "['peuvent être mises à profit pour l’émergence d’une expertise endogène ; la promotion de l’amour de la patrie et l’esprit du don de soi ; la recherche des mécanismes innovants pour soutenir l’effort de guerre ; l’anticipation et l’accompagnement pour le retour des réfugiés et des déplacés dans leurs localités respectives ; la prise des dispositions nécessaires pour la',\n",
       " 'nécessaires pour la réinsertion socio-économique des déplacés et des réfugiés',\n",
       " 'Doter le pays d’un satellite, sanctionner les fausses informations, créer des comités de veille citoyenne Parmi lesdites recommandations figurent la prise en compte de nos valeurs sociétales dans la gestion des crises ; la dotation du Mali d’un satellite de communication et de surveillance pouvant couvrir tout le territoire ; rendre la justice, promouvoir le pardon et le consensus']"
      ]
     },
     "execution_count": 15,
     "metadata": {},
     "output_type": "execute_result"
    }
   ],
   "execution_count": 15
  },
  {
   "metadata": {},
   "cell_type": "markdown",
   "source": "## Embeddings and Vector store",
   "id": "e6838d0a9aba8eff"
  },
  {
   "metadata": {
    "ExecuteTime": {
     "end_time": "2024-05-22T13:23:06.323011Z",
     "start_time": "2024-05-22T13:23:06.316680Z"
    }
   },
   "cell_type": "code",
   "source": [
    "# embeddings_llm = OllamaEmbeddings(model=MODEL_NAME) #mistral or Occiglot\n",
    "# embeddings_llm = OllamaEmbeddings(model=\"mayflowergmbh/occiglot-7b-fr-en-instruct\")\n",
    "# embeddings_llm = OllamaEmbeddings(model=\"snowflake-arctic-embed\")\n",
    "# embeddings_llm = OpenAIEmbeddings()\n",
    "\n",
    "embeddings_llm = OllamaEmbeddings(model=\"sammcj/sfr-embedding-mistral:Q4_K_M\")\n",
    "\n",
    "# Set few params if needed\n",
    "embeddings_llm.show_progress = True\n",
    "embeddings_llm.num_thread = os.cpu_count() - 8 # 10 in my case\n",
    "# embeddings_llm.top_k = 10\n",
    "# embeddings_llm.top_p = .5\n",
    "\n",
    "embeddings_llm"
   ],
   "id": "4cef3c3a490fec01",
   "outputs": [
    {
     "data": {
      "text/plain": [
       "OllamaEmbeddings(base_url='http://localhost:11434', model='sammcj/sfr-embedding-mistral:Q4_K_M', embed_instruction='passage: ', query_instruction='query: ', mirostat=None, mirostat_eta=None, mirostat_tau=None, num_ctx=None, num_gpu=None, num_thread=8, repeat_last_n=None, repeat_penalty=None, temperature=None, stop=None, tfs_z=None, top_k=None, top_p=None, show_progress=True, headers=None, model_kwargs=None)"
      ]
     },
     "execution_count": 16,
     "metadata": {},
     "output_type": "execute_result"
    }
   ],
   "execution_count": 16
  },
  {
   "metadata": {
    "ExecuteTime": {
     "end_time": "2024-05-22T13:23:08.821922Z",
     "start_time": "2024-05-22T13:23:08.816985Z"
    }
   },
   "cell_type": "code",
   "source": [
    "# Exemple\n",
    "documents[3], len(documents[3].page_content)"
   ],
   "id": "70f7aa1256ac622f",
   "outputs": [
    {
     "data": {
      "text/plain": [
       "(Document(page_content='Dans son document, le fameux ‘’Panel des démocrates’’ expose des propositions farfelues en demandant que le pays soit dirigé par un chef d’État honorifique désigné chaque année par exercice tournant parmi les sénateurs...Autre hic, alors que certains démocrates exigent le retour immédiat à l’ordre constitutionnel, eux ils proposent encore une autre transition dite civile de', metadata={'source': '/home/bouba/Workspace/kounafoni-app/data/malijet/source.csv', 'row': 0}),\n",
       " 386)"
      ]
     },
     "execution_count": 17,
     "metadata": {},
     "output_type": "execute_result"
    }
   ],
   "execution_count": 17
  },
  {
   "metadata": {
    "ExecuteTime": {
     "end_time": "2024-05-22T13:03:44.835171Z",
     "start_time": "2024-05-22T13:03:11.333616Z"
    }
   },
   "cell_type": "code",
   "source": "embeddings_llm.embed_query(documents[3].page_content)[:7], len(embeddings_llm.embed_query(documents[3].page_content))",
   "id": "bb2949b778aa79cf",
   "outputs": [
    {
     "name": "stderr",
     "output_type": "stream",
     "text": [
      "OllamaEmbeddings: 100%|██████████| 1/1 [00:18<00:00, 18.63s/it]\n",
      "OllamaEmbeddings: 100%|██████████| 1/1 [00:14<00:00, 14.85s/it]\n"
     ]
    },
    {
     "data": {
      "text/plain": [
       "([2.0487639904022217,\n",
       "  7.367893695831299,\n",
       "  2.412371873855591,\n",
       "  2.96880841255188,\n",
       "  5.586341857910156,\n",
       "  -13.39712905883789,\n",
       "  -2.1971967220306396],\n",
       " 4096)"
      ]
     },
     "execution_count": 25,
     "metadata": {},
     "output_type": "execute_result"
    }
   ],
   "execution_count": 25
  },
  {
   "metadata": {},
   "cell_type": "markdown",
   "source": "## Selection of Vector Store",
   "id": "31641f755d1e6b3e"
  },
  {
   "metadata": {},
   "cell_type": "markdown",
   "source": "Thanks to this brand-new article from Google, we can safely choose any open source Vector Store, make it available to Google NFS Filestore and access it easily through mounting filestore in Cloud Run (see section 3): https://cloud.google.com/blog/products/serverless/introducing-cloud-run-volume-mounts?hl=en",
   "id": "d06c33240e392a47"
  },
  {
   "metadata": {
    "ExecuteTime": {
     "end_time": "2024-05-22T14:15:08.258711Z",
     "start_time": "2024-05-22T14:14:34.998447Z"
    }
   },
   "cell_type": "code",
   "source": [
    "# The embedding is very large, dimension of 4096, so this will take a real long time\n",
    "# Database creation\n",
    "db = Chroma.from_documents(\n",
    "    documents=documents[:2],\n",
    "    embedding=embeddings_llm,\n",
    "    persist_directory=CHROMA_DB_PERSIST_PATH.as_posix(),\n",
    ")\n",
    "db"
   ],
   "id": "2af8b4236d4b4c30",
   "outputs": [
    {
     "name": "stderr",
     "output_type": "stream",
     "text": [
      "OllamaEmbeddings: 100%|██████████| 2/2 [00:32<00:00, 16.49s/it]\n"
     ]
    },
    {
     "data": {
      "text/plain": [
       "<langchain_community.vectorstores.chroma.Chroma at 0x796c30b87790>"
      ]
     },
     "execution_count": 36,
     "metadata": {},
     "output_type": "execute_result"
    }
   ],
   "execution_count": 36
  },
  {
   "metadata": {
    "ExecuteTime": {
     "end_time": "2024-05-23T01:56:50.329528Z",
     "start_time": "2024-05-23T01:56:50.251628Z"
    }
   },
   "cell_type": "code",
   "source": [
    "db = Chroma(\n",
    "    persist_directory=CHROMA_DB_PERSIST_PATH.as_posix(),\n",
    "    embedding_function=embeddings_llm,\n",
    ")\n",
    "\n",
    "persisted_ids = db.get()[\"ids\"]\n",
    "\n",
    "new_documents_to_embed_df = pd.DataFrame({\n",
    "    \"single_id\": [str(uuid.uuid5(uuid.NAMESPACE_DNS, doc.page_content)) for doc in documents],\n",
    "    \"document\": documents\n",
    "})\n",
    "\n",
    "# to keep only different documents (i.e. chunks)\n",
    "new_documents_to_embed_df.drop_duplicates(subset=\"single_id\", inplace=True)\n",
    "\n",
    "# Keep only documents not already embedded\n",
    "new_documents_to_embed_df = new_documents_to_embed_df.query(f\"single_id not in {persisted_ids}\")\n",
    "\n",
    "if new_documents_to_embed_df.empty:\n",
    "    print(\"No documents to embed\")\n",
    "else:\n",
    "    print(\"Embedding documents...\")\n",
    "    display(new_documents_to_embed_df.head())\n",
    "    db.add_documents(\n",
    "        documents=new_documents_to_embed_df.document.tolist(), \n",
    "        embedding=embeddings_llm, \n",
    "        ids=new_documents_to_embed_df.single_id.tolist(), \n",
    "        persist_directory=CHROMA_DB_PERSIST_PATH.as_posix(),\n",
    "    )\n"
   ],
   "id": "7dc1ed2f4249ffc9",
   "outputs": [
    {
     "name": "stdout",
     "output_type": "stream",
     "text": [
      "No documents to embed\n"
     ]
    }
   ],
   "execution_count": 122
  },
  {
   "metadata": {
    "ExecuteTime": {
     "end_time": "2024-05-22T23:32:00.925505Z",
     "start_time": "2024-05-22T23:32:00.921658Z"
    }
   },
   "cell_type": "code",
   "source": [
    "db_check = Chroma(\n",
    "    persist_directory=CHROMA_DB_PERSIST_PATH.as_posix(),\n",
    "    embedding_function=embeddings_llm,\n",
    ")\n",
    "# db_check.get()"
   ],
   "id": "f475746c4170928",
   "outputs": [],
   "execution_count": 121
  },
  {
   "metadata": {
    "ExecuteTime": {
     "end_time": "2024-05-22T14:37:03.119010Z",
     "start_time": "2024-05-22T14:37:03.115110Z"
    }
   },
   "cell_type": "code",
   "source": "# db_check.get(include=['embeddings'])",
   "id": "5d2d60cf0ec55c70",
   "outputs": [],
   "execution_count": 42
  },
  {
   "metadata": {
    "ExecuteTime": {
     "end_time": "2024-05-22T15:08:07.564700Z",
     "start_time": "2024-05-22T15:08:07.519977Z"
    }
   },
   "cell_type": "code",
   "source": "# db_check.delete_collection()",
   "id": "232d0e1ee52fb5ff",
   "outputs": [],
   "execution_count": 62
  },
  {
   "metadata": {
    "ExecuteTime": {
     "end_time": "2024-05-21T12:21:05.502834Z",
     "start_time": "2024-05-21T09:52:55.322263Z"
    }
   },
   "cell_type": "code",
   "source": [
    "# In memory vector store test !\n",
    "\n",
    "# Took more than 36min for 46 documents only; wow, I interrupted with the keyboard!\n",
    "# For model name as occiglot or mistral or sfr-embedding first on retrieval\n",
    "# db = DocArrayInMemorySearch.from_documents(documents, embedding=embeddings_llm)"
   ],
   "id": "bd7d4249e102ea32",
   "outputs": [
    {
     "name": "stderr",
     "output_type": "stream",
     "text": [
      "\n",
      "OllamaEmbeddings:   0%|          | 0/962 [00:00<?, ?it/s]\u001B[A\n",
      "OllamaEmbeddings:   0%|          | 1/962 [00:10<2:47:16, 10.44s/it]\u001B[A\n",
      "OllamaEmbeddings:   0%|          | 2/962 [00:21<2:49:41, 10.61s/it]\u001B[A\n",
      "OllamaEmbeddings:   0%|          | 3/962 [00:24<1:58:18,  7.40s/it]\u001B[A\n",
      "OllamaEmbeddings:   0%|          | 4/962 [00:36<2:23:45,  9.00s/it]\u001B[A\n",
      "OllamaEmbeddings:   1%|          | 5/962 [00:37<1:40:21,  6.29s/it]\u001B[A\n",
      "OllamaEmbeddings:   1%|          | 6/962 [00:52<2:24:09,  9.05s/it]\u001B[A\n",
      "OllamaEmbeddings:   1%|          | 7/962 [01:03<2:38:19,  9.95s/it]\u001B[A\n",
      "OllamaEmbeddings:   1%|          | 8/962 [01:13<2:36:52,  9.87s/it]\u001B[A\n",
      "OllamaEmbeddings:   1%|          | 9/962 [01:28<3:03:32, 11.56s/it]\u001B[A\n",
      "OllamaEmbeddings:   1%|          | 10/962 [01:30<2:16:19,  8.59s/it]\u001B[A\n",
      "OllamaEmbeddings:   1%|          | 11/962 [01:43<2:37:30,  9.94s/it]\u001B[A\n",
      "OllamaEmbeddings:   1%|          | 12/962 [01:57<2:57:26, 11.21s/it]\u001B[A\n",
      "OllamaEmbeddings:   1%|▏         | 13/962 [02:08<2:53:41, 10.98s/it]\u001B[A\n",
      "OllamaEmbeddings:   1%|▏         | 14/962 [02:21<3:05:09, 11.72s/it]\u001B[A\n",
      "OllamaEmbeddings:   2%|▏         | 15/962 [02:31<2:55:38, 11.13s/it]\u001B[A\n",
      "OllamaEmbeddings:   2%|▏         | 16/962 [02:46<3:13:01, 12.24s/it]\u001B[A\n",
      "OllamaEmbeddings:   2%|▏         | 17/962 [02:47<2:19:51,  8.88s/it]\u001B[A\n",
      "OllamaEmbeddings:   2%|▏         | 18/962 [03:01<2:45:06, 10.49s/it]\u001B[A\n",
      "OllamaEmbeddings:   2%|▏         | 19/962 [03:09<2:33:53,  9.79s/it]\u001B[A\n",
      "OllamaEmbeddings:   2%|▏         | 20/962 [03:23<2:53:33, 11.05s/it]\u001B[A\n",
      "OllamaEmbeddings:   2%|▏         | 21/962 [03:30<2:31:24,  9.65s/it]\u001B[A\n",
      "OllamaEmbeddings:   2%|▏         | 22/962 [03:44<2:53:45, 11.09s/it]\u001B[A\n",
      "OllamaEmbeddings:   2%|▏         | 23/962 [03:48<2:21:33,  9.05s/it]\u001B[A\n",
      "OllamaEmbeddings:   2%|▏         | 24/962 [04:01<2:37:58, 10.10s/it]\u001B[A\n",
      "OllamaEmbeddings:   3%|▎         | 25/962 [04:11<2:37:18, 10.07s/it]\u001B[A\n",
      "OllamaEmbeddings:   3%|▎         | 26/962 [04:21<2:38:31, 10.16s/it]\u001B[A\n",
      "OllamaEmbeddings:   3%|▎         | 27/962 [04:37<3:02:36, 11.72s/it]\u001B[A\n",
      "OllamaEmbeddings:   3%|▎         | 28/962 [04:47<2:56:06, 11.31s/it]\u001B[A\n",
      "OllamaEmbeddings:   3%|▎         | 29/962 [04:58<2:55:25, 11.28s/it]\u001B[A\n",
      "OllamaEmbeddings:   3%|▎         | 30/962 [05:10<2:58:06, 11.47s/it]\u001B[A\n",
      "OllamaEmbeddings:   3%|▎         | 31/962 [05:14<2:19:54,  9.02s/it]\u001B[A\n",
      "OllamaEmbeddings:   3%|▎         | 32/962 [05:23<2:22:40,  9.20s/it]\u001B[A\n",
      "OllamaEmbeddings:   3%|▎         | 33/962 [05:39<2:52:55, 11.17s/it]\u001B[A\n",
      "OllamaEmbeddings:   4%|▎         | 34/962 [05:53<3:05:51, 12.02s/it]\u001B[A\n",
      "OllamaEmbeddings:   4%|▎         | 35/962 [05:56<2:22:04,  9.20s/it]\u001B[A\n",
      "OllamaEmbeddings:   4%|▎         | 36/962 [06:05<2:22:59,  9.27s/it]\u001B[A\n",
      "OllamaEmbeddings:   4%|▍         | 37/962 [06:20<2:47:38, 10.87s/it]\u001B[A\n",
      "OllamaEmbeddings:   4%|▍         | 38/962 [06:35<3:07:29, 12.17s/it]\u001B[A\n",
      "OllamaEmbeddings:   4%|▍         | 39/962 [06:39<2:30:44,  9.80s/it]\u001B[A\n",
      "OllamaEmbeddings:   4%|▍         | 40/962 [06:52<2:44:37, 10.71s/it]\u001B[A\n",
      "OllamaEmbeddings:   4%|▍         | 41/962 [07:06<3:00:22, 11.75s/it]\u001B[A\n",
      "OllamaEmbeddings:   4%|▍         | 42/962 [07:19<3:06:43, 12.18s/it]\u001B[A\n",
      "OllamaEmbeddings:   4%|▍         | 43/962 [07:28<2:50:06, 11.11s/it]\u001B[A\n",
      "OllamaEmbeddings:   5%|▍         | 44/962 [07:42<3:04:54, 12.09s/it]\u001B[A\n",
      "OllamaEmbeddings:   5%|▍         | 45/962 [07:55<3:09:25, 12.39s/it]\u001B[A\n",
      "OllamaEmbeddings:   5%|▍         | 46/962 [08:09<3:13:44, 12.69s/it]\u001B[A\n",
      "OllamaEmbeddings:   5%|▍         | 47/962 [08:16<2:50:57, 11.21s/it]\u001B[A\n",
      "OllamaEmbeddings:   5%|▍         | 48/962 [08:32<3:10:24, 12.50s/it]\u001B[A\n",
      "OllamaEmbeddings:   5%|▌         | 49/962 [08:48<3:24:15, 13.42s/it]\u001B[A\n",
      "OllamaEmbeddings:   5%|▌         | 50/962 [08:54<2:53:51, 11.44s/it]\u001B[A\n",
      "OllamaEmbeddings:   5%|▌         | 51/962 [09:17<3:43:32, 14.72s/it]\u001B[A\n",
      "OllamaEmbeddings:   5%|▌         | 52/962 [09:33<3:49:59, 15.16s/it]\u001B[A\n",
      "OllamaEmbeddings:   6%|▌         | 53/962 [09:43<3:26:17, 13.62s/it]\u001B[A\n",
      "OllamaEmbeddings:   6%|▌         | 54/962 [09:53<3:11:26, 12.65s/it]\u001B[A\n",
      "OllamaEmbeddings:   6%|▌         | 55/962 [10:04<3:03:08, 12.11s/it]\u001B[A\n",
      "OllamaEmbeddings:   6%|▌         | 56/962 [10:17<3:06:05, 12.32s/it]\u001B[A\n",
      "OllamaEmbeddings:   6%|▌         | 57/962 [10:19<2:19:24,  9.24s/it]\u001B[A\n",
      "OllamaEmbeddings:   6%|▌         | 58/962 [10:24<1:59:58,  7.96s/it]\u001B[A\n",
      "OllamaEmbeddings:   6%|▌         | 59/962 [10:37<2:22:33,  9.47s/it]\u001B[A\n",
      "OllamaEmbeddings:   6%|▌         | 60/962 [10:44<2:12:39,  8.82s/it]\u001B[A\n",
      "OllamaEmbeddings:   6%|▋         | 61/962 [10:46<1:40:21,  6.68s/it]\u001B[A\n",
      "OllamaEmbeddings:   6%|▋         | 62/962 [10:55<1:52:19,  7.49s/it]\u001B[A\n",
      "OllamaEmbeddings:   7%|▋         | 63/962 [11:03<1:51:33,  7.45s/it]\u001B[A\n",
      "OllamaEmbeddings:   7%|▋         | 64/962 [11:10<1:50:42,  7.40s/it]\u001B[A\n",
      "OllamaEmbeddings:   7%|▋         | 65/962 [11:21<2:07:35,  8.53s/it]\u001B[A\n",
      "OllamaEmbeddings:   7%|▋         | 66/962 [11:28<1:58:52,  7.96s/it]\u001B[A\n",
      "OllamaEmbeddings:   7%|▋         | 67/962 [11:34<1:50:39,  7.42s/it]\u001B[A\n",
      "OllamaEmbeddings:   7%|▋         | 68/962 [11:45<2:04:52,  8.38s/it]\u001B[A\n",
      "OllamaEmbeddings:   7%|▋         | 69/962 [11:55<2:11:59,  8.87s/it]\u001B[A\n",
      "OllamaEmbeddings:   7%|▋         | 70/962 [12:06<2:23:26,  9.65s/it]\u001B[A\n",
      "OllamaEmbeddings:   7%|▋         | 71/962 [12:11<2:03:06,  8.29s/it]\u001B[A\n",
      "OllamaEmbeddings:   7%|▋         | 72/962 [12:12<1:31:35,  6.17s/it]\u001B[A\n",
      "OllamaEmbeddings:   8%|▊         | 73/962 [12:24<1:57:10,  7.91s/it]\u001B[A\n",
      "OllamaEmbeddings:   8%|▊         | 74/962 [12:32<1:55:40,  7.82s/it]\u001B[A\n",
      "OllamaEmbeddings:   8%|▊         | 75/962 [12:42<2:05:45,  8.51s/it]\u001B[A\n",
      "OllamaEmbeddings:   8%|▊         | 76/962 [12:48<1:55:19,  7.81s/it]\u001B[A\n",
      "OllamaEmbeddings:   8%|▊         | 77/962 [12:56<1:55:57,  7.86s/it]\u001B[A\n",
      "OllamaEmbeddings:   8%|▊         | 78/962 [13:04<1:54:05,  7.74s/it]\u001B[A\n",
      "OllamaEmbeddings:   8%|▊         | 79/962 [13:10<1:48:54,  7.40s/it]\u001B[A\n",
      "OllamaEmbeddings:   8%|▊         | 80/962 [13:21<2:04:47,  8.49s/it]\u001B[A\n",
      "OllamaEmbeddings:   8%|▊         | 81/962 [13:23<1:36:12,  6.55s/it]\u001B[A\n",
      "OllamaEmbeddings:   9%|▊         | 82/962 [13:31<1:40:47,  6.87s/it]\u001B[A\n",
      "OllamaEmbeddings:   9%|▊         | 83/962 [13:44<2:05:49,  8.59s/it]\u001B[A\n",
      "OllamaEmbeddings:   9%|▊         | 84/962 [13:50<1:53:51,  7.78s/it]\u001B[A\n",
      "OllamaEmbeddings:   9%|▉         | 85/962 [14:02<2:15:56,  9.30s/it]\u001B[A\n",
      "OllamaEmbeddings:   9%|▉         | 86/962 [14:05<1:45:31,  7.23s/it]\u001B[A\n",
      "OllamaEmbeddings:   9%|▉         | 87/962 [14:15<1:58:17,  8.11s/it]\u001B[A\n",
      "OllamaEmbeddings:   9%|▉         | 88/962 [14:24<2:00:58,  8.31s/it]\u001B[A\n",
      "OllamaEmbeddings:   9%|▉         | 89/962 [14:34<2:07:25,  8.76s/it]\u001B[A\n",
      "OllamaEmbeddings:   9%|▉         | 90/962 [14:43<2:12:01,  9.08s/it]\u001B[A\n",
      "OllamaEmbeddings:   9%|▉         | 91/962 [14:53<2:12:08,  9.10s/it]\u001B[A\n",
      "OllamaEmbeddings:  10%|▉         | 92/962 [14:59<2:01:59,  8.41s/it]\u001B[A\n",
      "OllamaEmbeddings:  10%|▉         | 93/962 [15:10<2:13:00,  9.18s/it]\u001B[A\n",
      "OllamaEmbeddings:  10%|▉         | 94/962 [15:12<1:39:03,  6.85s/it]\u001B[A\n",
      "OllamaEmbeddings:  10%|▉         | 95/962 [15:21<1:47:59,  7.47s/it]\u001B[A\n",
      "OllamaEmbeddings:  10%|▉         | 96/962 [15:35<2:17:06,  9.50s/it]\u001B[A\n",
      "OllamaEmbeddings:  10%|█         | 97/962 [15:44<2:13:47,  9.28s/it]\u001B[A\n",
      "OllamaEmbeddings:  10%|█         | 98/962 [15:51<2:04:24,  8.64s/it]\u001B[A\n",
      "OllamaEmbeddings:  10%|█         | 99/962 [16:01<2:10:54,  9.10s/it]\u001B[A\n",
      "OllamaEmbeddings:  10%|█         | 100/962 [16:03<1:38:46,  6.87s/it]\u001B[A\n",
      "OllamaEmbeddings:  10%|█         | 101/962 [16:10<1:39:41,  6.95s/it]\u001B[A\n",
      "OllamaEmbeddings:  11%|█         | 102/962 [16:19<1:51:17,  7.76s/it]\u001B[A\n",
      "OllamaEmbeddings:  11%|█         | 103/962 [16:31<2:06:08,  8.81s/it]\u001B[A\n",
      "OllamaEmbeddings:  11%|█         | 104/962 [16:37<1:54:33,  8.01s/it]\u001B[A\n",
      "OllamaEmbeddings:  11%|█         | 105/962 [16:42<1:42:53,  7.20s/it]\u001B[A\n",
      "OllamaEmbeddings:  11%|█         | 106/962 [16:54<2:03:46,  8.68s/it]\u001B[A\n",
      "OllamaEmbeddings:  11%|█         | 107/962 [17:03<2:05:02,  8.78s/it]\u001B[A\n",
      "OllamaEmbeddings:  11%|█         | 108/962 [17:12<2:02:41,  8.62s/it]\u001B[A\n",
      "OllamaEmbeddings:  11%|█▏        | 109/962 [17:23<2:13:14,  9.37s/it]\u001B[A\n",
      "OllamaEmbeddings:  11%|█▏        | 110/962 [17:27<1:50:12,  7.76s/it]\u001B[A\n",
      "OllamaEmbeddings:  12%|█▏        | 111/962 [17:36<1:56:54,  8.24s/it]\u001B[A\n",
      "OllamaEmbeddings:  12%|█▏        | 112/962 [17:46<2:05:02,  8.83s/it]\u001B[A\n",
      "OllamaEmbeddings:  12%|█▏        | 113/962 [17:59<2:21:34, 10.01s/it]\u001B[A\n",
      "OllamaEmbeddings:  12%|█▏        | 114/962 [18:10<2:25:10, 10.27s/it]\u001B[A\n",
      "OllamaEmbeddings:  12%|█▏        | 115/962 [18:12<1:49:22,  7.75s/it]\u001B[A\n",
      "OllamaEmbeddings:  12%|█▏        | 116/962 [18:20<1:51:51,  7.93s/it]\u001B[A\n",
      "OllamaEmbeddings:  12%|█▏        | 117/962 [18:30<1:59:01,  8.45s/it]\u001B[A\n",
      "OllamaEmbeddings:  12%|█▏        | 118/962 [18:38<1:58:49,  8.45s/it]\u001B[A\n",
      "OllamaEmbeddings:  12%|█▏        | 119/962 [18:47<2:00:33,  8.58s/it]\u001B[A\n",
      "OllamaEmbeddings:  12%|█▏        | 120/962 [18:58<2:11:29,  9.37s/it]\u001B[A\n",
      "OllamaEmbeddings:  13%|█▎        | 121/962 [19:10<2:21:04, 10.06s/it]\u001B[A\n",
      "OllamaEmbeddings:  13%|█▎        | 122/962 [19:20<2:21:57, 10.14s/it]\u001B[A\n",
      "OllamaEmbeddings:  13%|█▎        | 123/962 [19:27<2:05:46,  8.99s/it]\u001B[A\n",
      "OllamaEmbeddings:  13%|█▎        | 124/962 [19:36<2:05:29,  8.99s/it]\u001B[A\n",
      "OllamaEmbeddings:  13%|█▎        | 125/962 [19:49<2:25:27, 10.43s/it]\u001B[A\n",
      "OllamaEmbeddings:  13%|█▎        | 126/962 [20:02<2:32:42, 10.96s/it]\u001B[A\n",
      "OllamaEmbeddings:  13%|█▎        | 127/962 [20:12<2:30:16, 10.80s/it]\u001B[A\n",
      "OllamaEmbeddings:  13%|█▎        | 128/962 [20:25<2:39:03, 11.44s/it]\u001B[A\n",
      "OllamaEmbeddings:  13%|█▎        | 129/962 [20:36<2:36:23, 11.26s/it]\u001B[A\n",
      "OllamaEmbeddings:  14%|█▎        | 130/962 [20:46<2:33:41, 11.08s/it]\u001B[A\n",
      "OllamaEmbeddings:  14%|█▎        | 131/962 [20:57<2:31:49, 10.96s/it]\u001B[A\n",
      "OllamaEmbeddings:  14%|█▎        | 132/962 [21:10<2:40:43, 11.62s/it]\u001B[A\n",
      "OllamaEmbeddings:  14%|█▍        | 133/962 [21:22<2:39:47, 11.57s/it]\u001B[A\n",
      "OllamaEmbeddings:  14%|█▍        | 134/962 [21:31<2:29:28, 10.83s/it]\u001B[A\n",
      "OllamaEmbeddings:  14%|█▍        | 135/962 [21:41<2:26:36, 10.64s/it]\u001B[A\n",
      "OllamaEmbeddings:  14%|█▍        | 136/962 [21:50<2:20:47, 10.23s/it]\u001B[A\n",
      "OllamaEmbeddings:  14%|█▍        | 137/962 [21:59<2:13:45,  9.73s/it]\u001B[A\n",
      "OllamaEmbeddings:  14%|█▍        | 138/962 [22:11<2:23:08, 10.42s/it]\u001B[A\n",
      "OllamaEmbeddings:  14%|█▍        | 139/962 [22:16<2:00:49,  8.81s/it]\u001B[A\n",
      "OllamaEmbeddings:  15%|█▍        | 140/962 [22:26<2:07:19,  9.29s/it]\u001B[A\n",
      "OllamaEmbeddings:  15%|█▍        | 141/962 [22:37<2:10:47,  9.56s/it]\u001B[A\n",
      "OllamaEmbeddings:  15%|█▍        | 142/962 [22:46<2:09:27,  9.47s/it]\u001B[A\n",
      "OllamaEmbeddings:  15%|█▍        | 143/962 [22:53<2:01:18,  8.89s/it]\u001B[A\n",
      "OllamaEmbeddings:  15%|█▍        | 144/962 [23:04<2:09:59,  9.54s/it]\u001B[A\n",
      "OllamaEmbeddings:  15%|█▌        | 145/962 [23:11<1:58:11,  8.68s/it]\u001B[A\n",
      "OllamaEmbeddings:  15%|█▌        | 146/962 [23:16<1:43:34,  7.62s/it]\u001B[A\n",
      "OllamaEmbeddings:  15%|█▌        | 147/962 [23:21<1:34:00,  6.92s/it]\u001B[A\n",
      "OllamaEmbeddings:  15%|█▌        | 148/962 [23:33<1:52:59,  8.33s/it]\u001B[A\n",
      "OllamaEmbeddings:  15%|█▌        | 149/962 [23:40<1:47:09,  7.91s/it]\u001B[A\n",
      "OllamaEmbeddings:  16%|█▌        | 150/962 [23:46<1:37:52,  7.23s/it]\u001B[A\n",
      "OllamaEmbeddings:  16%|█▌        | 151/962 [23:55<1:44:20,  7.72s/it]\u001B[A\n",
      "OllamaEmbeddings:  16%|█▌        | 152/962 [24:05<1:56:40,  8.64s/it]\u001B[A\n",
      "OllamaEmbeddings:  16%|█▌        | 153/962 [24:17<2:07:08,  9.43s/it]\u001B[A\n",
      "OllamaEmbeddings:  16%|█▌        | 154/962 [24:18<1:34:34,  7.02s/it]\u001B[A\n",
      "OllamaEmbeddings:  16%|█▌        | 155/962 [24:19<1:09:59,  5.20s/it]\u001B[A\n",
      "OllamaEmbeddings:  16%|█▌        | 156/962 [24:29<1:30:23,  6.73s/it]\u001B[A\n",
      "OllamaEmbeddings:  16%|█▋        | 157/962 [24:37<1:33:42,  6.98s/it]\u001B[A\n",
      "OllamaEmbeddings:  16%|█▋        | 158/962 [24:44<1:34:26,  7.05s/it]\u001B[A\n",
      "OllamaEmbeddings:  17%|█▋        | 159/962 [24:56<1:54:09,  8.53s/it]\u001B[A\n",
      "OllamaEmbeddings:  17%|█▋        | 160/962 [25:10<2:16:20, 10.20s/it]\u001B[A\n",
      "OllamaEmbeddings:  17%|█▋        | 161/962 [25:17<2:01:21,  9.09s/it]\u001B[A\n",
      "OllamaEmbeddings:  17%|█▋        | 162/962 [25:27<2:04:34,  9.34s/it]\u001B[A\n",
      "OllamaEmbeddings:  17%|█▋        | 163/962 [25:35<1:59:33,  8.98s/it]\u001B[A\n",
      "OllamaEmbeddings:  17%|█▋        | 164/962 [25:41<1:47:47,  8.10s/it]\u001B[A\n",
      "OllamaEmbeddings:  17%|█▋        | 165/962 [25:47<1:42:13,  7.70s/it]\u001B[A\n",
      "OllamaEmbeddings:  17%|█▋        | 166/962 [25:55<1:43:04,  7.77s/it]\u001B[A\n",
      "OllamaEmbeddings:  17%|█▋        | 167/962 [26:04<1:46:25,  8.03s/it]\u001B[A\n",
      "OllamaEmbeddings:  17%|█▋        | 168/962 [26:13<1:48:03,  8.17s/it]\u001B[A\n",
      "OllamaEmbeddings:  18%|█▊        | 169/962 [26:20<1:45:04,  7.95s/it]\u001B[A\n",
      "OllamaEmbeddings:  18%|█▊        | 170/962 [26:30<1:52:39,  8.53s/it]\u001B[A\n",
      "OllamaEmbeddings:  18%|█▊        | 171/962 [26:36<1:43:24,  7.84s/it]\u001B[A\n",
      "OllamaEmbeddings:  18%|█▊        | 172/962 [26:42<1:35:21,  7.24s/it]\u001B[A\n",
      "OllamaEmbeddings:  18%|█▊        | 173/962 [26:53<1:48:55,  8.28s/it]\u001B[A\n",
      "OllamaEmbeddings:  18%|█▊        | 174/962 [27:03<1:58:15,  9.00s/it]\u001B[A\n",
      "OllamaEmbeddings:  18%|█▊        | 175/962 [27:09<1:43:30,  7.89s/it]\u001B[A\n",
      "OllamaEmbeddings:  18%|█▊        | 176/962 [27:20<1:56:15,  8.88s/it]\u001B[A\n",
      "OllamaEmbeddings:  18%|█▊        | 177/962 [27:24<1:36:02,  7.34s/it]\u001B[A\n",
      "OllamaEmbeddings:  19%|█▊        | 178/962 [27:35<1:51:05,  8.50s/it]\u001B[A\n",
      "OllamaEmbeddings:  19%|█▊        | 179/962 [27:39<1:32:32,  7.09s/it]\u001B[A\n",
      "OllamaEmbeddings:  19%|█▊        | 180/962 [27:46<1:35:18,  7.31s/it]\u001B[A\n",
      "OllamaEmbeddings:  19%|█▉        | 181/962 [27:56<1:42:39,  7.89s/it]\u001B[A\n",
      "OllamaEmbeddings:  19%|█▉        | 182/962 [28:05<1:47:23,  8.26s/it]\u001B[A\n",
      "OllamaEmbeddings:  19%|█▉        | 183/962 [28:11<1:38:49,  7.61s/it]\u001B[A\n",
      "OllamaEmbeddings:  19%|█▉        | 184/962 [28:21<1:49:30,  8.45s/it]\u001B[A\n",
      "OllamaEmbeddings:  19%|█▉        | 185/962 [28:34<2:04:56,  9.65s/it]\u001B[A\n",
      "OllamaEmbeddings:  19%|█▉        | 186/962 [28:36<1:37:37,  7.55s/it]\u001B[A\n",
      "OllamaEmbeddings:  19%|█▉        | 187/962 [28:48<1:54:55,  8.90s/it]\u001B[A\n",
      "OllamaEmbeddings:  20%|█▉        | 188/962 [28:53<1:38:13,  7.61s/it]\u001B[A\n",
      "OllamaEmbeddings:  20%|█▉        | 189/962 [29:04<1:51:13,  8.63s/it]\u001B[A\n",
      "OllamaEmbeddings:  20%|█▉        | 190/962 [29:05<1:22:27,  6.41s/it]\u001B[A\n",
      "OllamaEmbeddings:  20%|█▉        | 191/962 [29:06<1:01:39,  4.80s/it]\u001B[A\n",
      "OllamaEmbeddings:  20%|█▉        | 192/962 [29:17<1:23:37,  6.52s/it]\u001B[A\n",
      "OllamaEmbeddings:  20%|██        | 193/962 [29:26<1:34:16,  7.36s/it]\u001B[A\n",
      "OllamaEmbeddings:  20%|██        | 194/962 [29:37<1:47:27,  8.40s/it]\u001B[A\n",
      "OllamaEmbeddings:  20%|██        | 195/962 [29:47<1:55:00,  9.00s/it]\u001B[A\n",
      "OllamaEmbeddings:  20%|██        | 196/962 [29:55<1:50:02,  8.62s/it]\u001B[A\n",
      "OllamaEmbeddings:  20%|██        | 197/962 [30:07<2:00:34,  9.46s/it]\u001B[A\n",
      "OllamaEmbeddings:  21%|██        | 198/962 [30:08<1:29:50,  7.06s/it]\u001B[A\n",
      "OllamaEmbeddings:  21%|██        | 199/962 [30:19<1:46:14,  8.35s/it]\u001B[A\n",
      "OllamaEmbeddings:  21%|██        | 200/962 [30:28<1:48:41,  8.56s/it]\u001B[A\n",
      "OllamaEmbeddings:  21%|██        | 201/962 [30:39<1:57:30,  9.26s/it]\u001B[A\n",
      "OllamaEmbeddings:  21%|██        | 202/962 [30:50<2:04:12,  9.81s/it]\u001B[A\n",
      "OllamaEmbeddings:  21%|██        | 203/962 [31:01<2:08:15, 10.14s/it]\u001B[A\n",
      "OllamaEmbeddings:  21%|██        | 204/962 [31:12<2:11:48, 10.43s/it]\u001B[A\n",
      "OllamaEmbeddings:  21%|██▏       | 205/962 [31:20<1:59:50,  9.50s/it]\u001B[A\n",
      "OllamaEmbeddings:  21%|██▏       | 206/962 [31:28<1:53:40,  9.02s/it]\u001B[A\n",
      "OllamaEmbeddings:  22%|██▏       | 207/962 [31:32<1:34:19,  7.50s/it]\u001B[A\n",
      "OllamaEmbeddings:  22%|██▏       | 208/962 [31:42<1:43:36,  8.24s/it]\u001B[A\n",
      "OllamaEmbeddings:  22%|██▏       | 209/962 [31:51<1:48:11,  8.62s/it]\u001B[A\n",
      "OllamaEmbeddings:  22%|██▏       | 210/962 [31:55<1:32:02,  7.34s/it]\u001B[A\n",
      "OllamaEmbeddings:  22%|██▏       | 211/962 [32:04<1:37:16,  7.77s/it]\u001B[A\n",
      "OllamaEmbeddings:  22%|██▏       | 212/962 [32:18<2:01:33,  9.72s/it]\u001B[A\n",
      "OllamaEmbeddings:  22%|██▏       | 213/962 [32:20<1:29:50,  7.20s/it]\u001B[A\n",
      "OllamaEmbeddings:  22%|██▏       | 214/962 [32:30<1:42:48,  8.25s/it]\u001B[A\n",
      "OllamaEmbeddings:  22%|██▏       | 215/962 [32:40<1:47:40,  8.65s/it]\u001B[A\n",
      "OllamaEmbeddings:  22%|██▏       | 216/962 [32:49<1:49:07,  8.78s/it]\u001B[A\n",
      "OllamaEmbeddings:  23%|██▎       | 217/962 [33:00<1:58:30,  9.54s/it]\u001B[A\n",
      "OllamaEmbeddings:  23%|██▎       | 218/962 [33:11<2:00:19,  9.70s/it]\u001B[A\n",
      "OllamaEmbeddings:  23%|██▎       | 219/962 [33:20<2:00:56,  9.77s/it]\u001B[A\n",
      "OllamaEmbeddings:  23%|██▎       | 220/962 [33:32<2:05:39, 10.16s/it]\u001B[A\n",
      "OllamaEmbeddings:  23%|██▎       | 221/962 [33:42<2:06:57, 10.28s/it]\u001B[A\n",
      "OllamaEmbeddings:  23%|██▎       | 222/962 [33:49<1:54:09,  9.26s/it]\u001B[A\n",
      "OllamaEmbeddings:  23%|██▎       | 223/962 [33:50<1:24:41,  6.88s/it]\u001B[A\n",
      "OllamaEmbeddings:  23%|██▎       | 224/962 [34:01<1:39:37,  8.10s/it]\u001B[A\n",
      "OllamaEmbeddings:  23%|██▎       | 225/962 [34:11<1:47:25,  8.75s/it]\u001B[A\n",
      "OllamaEmbeddings:  23%|██▎       | 226/962 [34:12<1:17:56,  6.35s/it]\u001B[A\n",
      "OllamaEmbeddings:  24%|██▎       | 227/962 [34:20<1:22:21,  6.72s/it]\u001B[A\n",
      "OllamaEmbeddings:  24%|██▎       | 228/962 [34:26<1:19:56,  6.53s/it]\u001B[A\n",
      "OllamaEmbeddings:  24%|██▍       | 229/962 [34:35<1:28:43,  7.26s/it]\u001B[A\n",
      "OllamaEmbeddings:  24%|██▍       | 230/962 [34:45<1:39:17,  8.14s/it]\u001B[A\n",
      "OllamaEmbeddings:  24%|██▍       | 231/962 [34:52<1:34:47,  7.78s/it]\u001B[A\n",
      "OllamaEmbeddings:  24%|██▍       | 232/962 [34:53<1:09:24,  5.70s/it]\u001B[A\n",
      "OllamaEmbeddings:  24%|██▍       | 233/962 [35:04<1:28:45,  7.31s/it]\u001B[A\n",
      "OllamaEmbeddings:  24%|██▍       | 234/962 [35:11<1:28:00,  7.25s/it]\u001B[A\n",
      "OllamaEmbeddings:  24%|██▍       | 235/962 [35:16<1:20:08,  6.61s/it]\u001B[A\n",
      "OllamaEmbeddings:  25%|██▍       | 236/962 [35:22<1:18:21,  6.48s/it]\u001B[A\n",
      "OllamaEmbeddings:  25%|██▍       | 237/962 [35:32<1:30:55,  7.52s/it]\u001B[A\n",
      "OllamaEmbeddings:  25%|██▍       | 238/962 [35:34<1:09:17,  5.74s/it]\u001B[A\n",
      "OllamaEmbeddings:  25%|██▍       | 239/962 [35:40<1:12:01,  5.98s/it]\u001B[A\n",
      "OllamaEmbeddings:  25%|██▍       | 240/962 [35:52<1:30:49,  7.55s/it]\u001B[A\n",
      "OllamaEmbeddings:  25%|██▌       | 241/962 [35:55<1:16:02,  6.33s/it]\u001B[A\n",
      "OllamaEmbeddings:  25%|██▌       | 242/962 [36:06<1:31:39,  7.64s/it]\u001B[A\n",
      "OllamaEmbeddings:  25%|██▌       | 243/962 [36:07<1:08:09,  5.69s/it]\u001B[A\n",
      "OllamaEmbeddings:  25%|██▌       | 244/962 [36:15<1:17:05,  6.44s/it]\u001B[A\n",
      "OllamaEmbeddings:  25%|██▌       | 245/962 [36:25<1:29:10,  7.46s/it]\u001B[A\n",
      "OllamaEmbeddings:  26%|██▌       | 246/962 [36:33<1:29:17,  7.48s/it]\u001B[A\n",
      "OllamaEmbeddings:  26%|██▌       | 247/962 [36:42<1:35:15,  7.99s/it]\u001B[A\n",
      "OllamaEmbeddings:  26%|██▌       | 248/962 [36:51<1:39:28,  8.36s/it]\u001B[A\n",
      "OllamaEmbeddings:  26%|██▌       | 249/962 [37:01<1:45:44,  8.90s/it]\u001B[A\n",
      "OllamaEmbeddings:  26%|██▌       | 250/962 [37:08<1:37:25,  8.21s/it]\u001B[A\n",
      "OllamaEmbeddings:  26%|██▌       | 251/962 [37:16<1:38:46,  8.33s/it]\u001B[A\n",
      "OllamaEmbeddings:  26%|██▌       | 252/962 [37:28<1:50:36,  9.35s/it]\u001B[A\n",
      "OllamaEmbeddings:  26%|██▋       | 253/962 [37:37<1:50:47,  9.38s/it]\u001B[A\n",
      "OllamaEmbeddings:  26%|██▋       | 254/962 [37:49<1:58:43, 10.06s/it]\u001B[A\n",
      "OllamaEmbeddings:  27%|██▋       | 255/962 [37:56<1:48:09,  9.18s/it]\u001B[A\n",
      "OllamaEmbeddings:  27%|██▋       | 256/962 [38:08<1:55:39,  9.83s/it]\u001B[A\n",
      "OllamaEmbeddings:  27%|██▋       | 257/962 [38:18<1:57:15,  9.98s/it]\u001B[A\n",
      "OllamaEmbeddings:  27%|██▋       | 258/962 [38:21<1:32:02,  7.84s/it]\u001B[A\n",
      "OllamaEmbeddings:  27%|██▋       | 259/962 [38:30<1:37:50,  8.35s/it]\u001B[A\n",
      "OllamaEmbeddings:  27%|██▋       | 260/962 [38:39<1:39:17,  8.49s/it]\u001B[A\n",
      "OllamaEmbeddings:  27%|██▋       | 261/962 [38:50<1:45:51,  9.06s/it]\u001B[A\n",
      "OllamaEmbeddings:  27%|██▋       | 262/962 [38:56<1:35:54,  8.22s/it]\u001B[A\n",
      "OllamaEmbeddings:  27%|██▋       | 263/962 [39:05<1:37:43,  8.39s/it]\u001B[A\n",
      "OllamaEmbeddings:  27%|██▋       | 264/962 [39:12<1:34:46,  8.15s/it]\u001B[A\n",
      "OllamaEmbeddings:  28%|██▊       | 265/962 [39:23<1:43:49,  8.94s/it]\u001B[A\n",
      "OllamaEmbeddings:  28%|██▊       | 266/962 [39:36<1:56:18, 10.03s/it]\u001B[A\n",
      "OllamaEmbeddings:  28%|██▊       | 267/962 [39:45<1:54:49,  9.91s/it]\u001B[A\n",
      "OllamaEmbeddings:  28%|██▊       | 268/962 [40:00<2:10:41, 11.30s/it]\u001B[A\n",
      "OllamaEmbeddings:  28%|██▊       | 269/962 [40:12<2:14:02, 11.61s/it]\u001B[A\n",
      "OllamaEmbeddings:  28%|██▊       | 270/962 [40:25<2:19:17, 12.08s/it]\u001B[A\n",
      "OllamaEmbeddings:  28%|██▊       | 271/962 [40:33<2:04:36, 10.82s/it]\u001B[A\n",
      "OllamaEmbeddings:  28%|██▊       | 272/962 [40:46<2:10:44, 11.37s/it]\u001B[A\n",
      "OllamaEmbeddings:  28%|██▊       | 273/962 [40:57<2:08:59, 11.23s/it]\u001B[A\n",
      "OllamaEmbeddings:  28%|██▊       | 274/962 [41:08<2:08:45, 11.23s/it]\u001B[A\n",
      "OllamaEmbeddings:  29%|██▊       | 275/962 [41:15<1:52:58,  9.87s/it]\u001B[A\n",
      "OllamaEmbeddings:  29%|██▊       | 276/962 [41:28<2:06:48, 11.09s/it]\u001B[A\n",
      "OllamaEmbeddings:  29%|██▉       | 277/962 [41:42<2:14:48, 11.81s/it]\u001B[A\n",
      "OllamaEmbeddings:  29%|██▉       | 278/962 [41:53<2:13:26, 11.71s/it]\u001B[A\n",
      "OllamaEmbeddings:  29%|██▉       | 279/962 [42:09<2:26:15, 12.85s/it]\u001B[A\n",
      "OllamaEmbeddings:  29%|██▉       | 280/962 [42:21<2:24:37, 12.72s/it]\u001B[A\n",
      "OllamaEmbeddings:  29%|██▉       | 281/962 [42:32<2:18:39, 12.22s/it]\u001B[A\n",
      "OllamaEmbeddings:  29%|██▉       | 282/962 [42:47<2:26:30, 12.93s/it]\u001B[A\n",
      "OllamaEmbeddings:  29%|██▉       | 283/962 [43:09<2:56:42, 15.61s/it]\u001B[A\n",
      "OllamaEmbeddings:  30%|██▉       | 284/962 [43:25<2:59:32, 15.89s/it]\u001B[A\n",
      "OllamaEmbeddings:  30%|██▉       | 285/962 [43:42<3:01:45, 16.11s/it]\u001B[A\n",
      "OllamaEmbeddings:  30%|██▉       | 286/962 [43:49<2:31:58, 13.49s/it]\u001B[A\n",
      "OllamaEmbeddings:  30%|██▉       | 287/962 [44:03<2:33:01, 13.60s/it]\u001B[A\n",
      "OllamaEmbeddings:  30%|██▉       | 288/962 [44:14<2:24:15, 12.84s/it]\u001B[A\n",
      "OllamaEmbeddings:  30%|███       | 289/962 [44:27<2:22:45, 12.73s/it]\u001B[A\n",
      "OllamaEmbeddings:  30%|███       | 290/962 [44:37<2:14:03, 11.97s/it]\u001B[A\n",
      "OllamaEmbeddings:  30%|███       | 291/962 [45:00<2:50:57, 15.29s/it]\u001B[A\n",
      "OllamaEmbeddings:  30%|███       | 292/962 [45:15<2:49:08, 15.15s/it]\u001B[A\n",
      "OllamaEmbeddings:  30%|███       | 293/962 [45:28<2:42:12, 14.55s/it]\u001B[A\n",
      "OllamaEmbeddings:  31%|███       | 294/962 [45:43<2:42:38, 14.61s/it]\u001B[A\n",
      "OllamaEmbeddings:  31%|███       | 295/962 [45:57<2:42:37, 14.63s/it]\u001B[A\n",
      "OllamaEmbeddings:  31%|███       | 296/962 [46:10<2:34:44, 13.94s/it]\u001B[A\n",
      "OllamaEmbeddings:  31%|███       | 297/962 [46:20<2:20:53, 12.71s/it]\u001B[A\n",
      "OllamaEmbeddings:  31%|███       | 298/962 [46:33<2:21:32, 12.79s/it]\u001B[A\n",
      "OllamaEmbeddings:  31%|███       | 299/962 [46:46<2:24:11, 13.05s/it]\u001B[A\n",
      "OllamaEmbeddings:  31%|███       | 300/962 [46:56<2:13:41, 12.12s/it]\u001B[A\n",
      "OllamaEmbeddings:  31%|███▏      | 301/962 [47:10<2:20:11, 12.73s/it]\u001B[A\n",
      "OllamaEmbeddings:  31%|███▏      | 302/962 [47:25<2:25:00, 13.18s/it]\u001B[A\n",
      "OllamaEmbeddings:  31%|███▏      | 303/962 [47:40<2:31:24, 13.79s/it]\u001B[A\n",
      "OllamaEmbeddings:  32%|███▏      | 304/962 [47:52<2:26:37, 13.37s/it]\u001B[A\n",
      "OllamaEmbeddings:  32%|███▏      | 305/962 [48:06<2:29:20, 13.64s/it]\u001B[A\n",
      "OllamaEmbeddings:  32%|███▏      | 306/962 [48:17<2:19:19, 12.74s/it]\u001B[A\n",
      "OllamaEmbeddings:  32%|███▏      | 307/962 [48:29<2:15:40, 12.43s/it]\u001B[A\n",
      "OllamaEmbeddings:  32%|███▏      | 308/962 [48:43<2:20:42, 12.91s/it]\u001B[A\n",
      "OllamaEmbeddings:  32%|███▏      | 309/962 [48:59<2:29:35, 13.75s/it]\u001B[A\n",
      "OllamaEmbeddings:  32%|███▏      | 310/962 [49:13<2:32:14, 14.01s/it]\u001B[A\n",
      "OllamaEmbeddings:  32%|███▏      | 311/962 [49:24<2:21:14, 13.02s/it]\u001B[A\n",
      "OllamaEmbeddings:  32%|███▏      | 312/962 [49:31<2:02:28, 11.31s/it]\u001B[A\n",
      "OllamaEmbeddings:  33%|███▎      | 313/962 [49:46<2:14:03, 12.39s/it]\u001B[A\n",
      "OllamaEmbeddings:  33%|███▎      | 314/962 [50:00<2:19:38, 12.93s/it]\u001B[A\n",
      "OllamaEmbeddings:  33%|███▎      | 315/962 [50:12<2:16:10, 12.63s/it]\u001B[A\n",
      "OllamaEmbeddings:  33%|███▎      | 316/962 [50:22<2:08:14, 11.91s/it]\u001B[A\n",
      "OllamaEmbeddings:  33%|███▎      | 317/962 [50:33<2:02:47, 11.42s/it]\u001B[A\n",
      "OllamaEmbeddings:  33%|███▎      | 318/962 [50:49<2:19:28, 12.99s/it]\u001B[A\n",
      "OllamaEmbeddings:  33%|███▎      | 319/962 [51:11<2:45:35, 15.45s/it]\u001B[A\n",
      "OllamaEmbeddings:  33%|███▎      | 320/962 [51:38<3:23:17, 19.00s/it]\u001B[A\n",
      "OllamaEmbeddings:  33%|███▎      | 321/962 [51:48<2:55:13, 16.40s/it]\u001B[A\n",
      "OllamaEmbeddings:  33%|███▎      | 322/962 [52:09<3:09:42, 17.79s/it]\u001B[A\n",
      "OllamaEmbeddings:  34%|███▎      | 323/962 [52:25<3:03:19, 17.21s/it]\u001B[A\n",
      "OllamaEmbeddings:  34%|███▎      | 324/962 [52:38<2:49:16, 15.92s/it]\u001B[A\n",
      "OllamaEmbeddings:  34%|███▍      | 325/962 [52:50<2:37:59, 14.88s/it]\u001B[A\n",
      "OllamaEmbeddings:  34%|███▍      | 326/962 [53:04<2:33:31, 14.48s/it]\u001B[A\n",
      "OllamaEmbeddings:  34%|███▍      | 327/962 [53:17<2:27:03, 13.90s/it]\u001B[A\n",
      "OllamaEmbeddings:  34%|███▍      | 328/962 [53:30<2:24:46, 13.70s/it]\u001B[A\n",
      "OllamaEmbeddings:  34%|███▍      | 329/962 [53:42<2:19:51, 13.26s/it]\u001B[A\n",
      "OllamaEmbeddings:  34%|███▍      | 330/962 [53:50<2:03:43, 11.75s/it]\u001B[A\n",
      "OllamaEmbeddings:  34%|███▍      | 331/962 [54:02<2:05:04, 11.89s/it]\u001B[A\n",
      "OllamaEmbeddings:  35%|███▍      | 332/962 [54:22<2:29:49, 14.27s/it]\u001B[A\n",
      "OllamaEmbeddings:  35%|███▍      | 333/962 [54:33<2:17:03, 13.07s/it]\u001B[A\n",
      "OllamaEmbeddings:  35%|███▍      | 334/962 [54:45<2:15:53, 12.98s/it]\u001B[A\n",
      "OllamaEmbeddings:  35%|███▍      | 335/962 [54:56<2:09:30, 12.39s/it]\u001B[A\n",
      "OllamaEmbeddings:  35%|███▍      | 336/962 [55:14<2:27:03, 14.09s/it]\u001B[A\n",
      "OllamaEmbeddings:  35%|███▌      | 337/962 [55:26<2:18:59, 13.34s/it]\u001B[A\n",
      "OllamaEmbeddings:  35%|███▌      | 338/962 [55:38<2:14:13, 12.91s/it]\u001B[A\n",
      "OllamaEmbeddings:  35%|███▌      | 339/962 [55:58<2:35:16, 14.95s/it]\u001B[A\n",
      "OllamaEmbeddings:  35%|███▌      | 340/962 [56:12<2:34:29, 14.90s/it]\u001B[A\n",
      "OllamaEmbeddings:  35%|███▌      | 341/962 [56:25<2:27:45, 14.28s/it]\u001B[A\n",
      "OllamaEmbeddings:  36%|███▌      | 342/962 [56:32<2:03:51, 11.99s/it]\u001B[A\n",
      "OllamaEmbeddings:  36%|███▌      | 343/962 [56:43<2:01:46, 11.80s/it]\u001B[A\n",
      "OllamaEmbeddings:  36%|███▌      | 344/962 [56:56<2:04:42, 12.11s/it]\u001B[A\n",
      "OllamaEmbeddings:  36%|███▌      | 345/962 [57:07<2:01:07, 11.78s/it]\u001B[A\n",
      "OllamaEmbeddings:  36%|███▌      | 346/962 [57:22<2:09:53, 12.65s/it]\u001B[A\n",
      "OllamaEmbeddings:  36%|███▌      | 347/962 [57:36<2:13:57, 13.07s/it]\u001B[A\n",
      "OllamaEmbeddings:  36%|███▌      | 348/962 [57:47<2:09:15, 12.63s/it]\u001B[A\n",
      "OllamaEmbeddings:  36%|███▋      | 349/962 [57:56<1:58:01, 11.55s/it]\u001B[A\n",
      "OllamaEmbeddings:  36%|███▋      | 350/962 [58:09<1:59:41, 11.73s/it]\u001B[A\n",
      "OllamaEmbeddings:  36%|███▋      | 351/962 [58:23<2:06:39, 12.44s/it]\u001B[A\n",
      "OllamaEmbeddings:  37%|███▋      | 352/962 [58:36<2:09:01, 12.69s/it]\u001B[A\n",
      "OllamaEmbeddings:  37%|███▋      | 353/962 [58:40<1:43:57, 10.24s/it]\u001B[A\n",
      "OllamaEmbeddings:  37%|███▋      | 354/962 [58:55<1:57:19, 11.58s/it]\u001B[A\n",
      "OllamaEmbeddings:  37%|███▋      | 355/962 [58:59<1:32:49,  9.18s/it]\u001B[A\n",
      "OllamaEmbeddings:  37%|███▋      | 356/962 [59:09<1:36:20,  9.54s/it]\u001B[A\n",
      "OllamaEmbeddings:  37%|███▋      | 357/962 [59:16<1:28:38,  8.79s/it]\u001B[A\n",
      "OllamaEmbeddings:  37%|███▋      | 358/962 [59:27<1:33:34,  9.30s/it]\u001B[A\n",
      "OllamaEmbeddings:  37%|███▋      | 359/962 [59:37<1:37:20,  9.69s/it]\u001B[A\n",
      "OllamaEmbeddings:  37%|███▋      | 360/962 [59:44<1:29:13,  8.89s/it]\u001B[A\n",
      "OllamaEmbeddings:  38%|███▊      | 361/962 [59:57<1:41:23, 10.12s/it]\u001B[A\n",
      "OllamaEmbeddings:  38%|███▊      | 362/962 [1:00:13<1:58:23, 11.84s/it]\u001B[A\n",
      "OllamaEmbeddings:  38%|███▊      | 363/962 [1:00:25<1:58:55, 11.91s/it]\u001B[A\n",
      "OllamaEmbeddings:  38%|███▊      | 364/962 [1:00:39<2:03:15, 12.37s/it]\u001B[A\n",
      "OllamaEmbeddings:  38%|███▊      | 365/962 [1:00:51<2:03:07, 12.38s/it]\u001B[A\n",
      "OllamaEmbeddings:  38%|███▊      | 366/962 [1:01:06<2:10:40, 13.16s/it]\u001B[A\n",
      "OllamaEmbeddings:  38%|███▊      | 367/962 [1:01:10<1:43:16, 10.41s/it]\u001B[A\n",
      "OllamaEmbeddings:  38%|███▊      | 368/962 [1:01:23<1:49:47, 11.09s/it]\u001B[A\n",
      "OllamaEmbeddings:  38%|███▊      | 369/962 [1:01:31<1:42:44, 10.39s/it]\u001B[A\n",
      "OllamaEmbeddings:  38%|███▊      | 370/962 [1:01:39<1:35:07,  9.64s/it]\u001B[A\n",
      "OllamaEmbeddings:  39%|███▊      | 371/962 [1:01:47<1:28:43,  9.01s/it]\u001B[A\n",
      "OllamaEmbeddings:  39%|███▊      | 372/962 [1:01:55<1:24:50,  8.63s/it]\u001B[A\n",
      "OllamaEmbeddings:  39%|███▉      | 373/962 [1:02:06<1:31:40,  9.34s/it]\u001B[A\n",
      "OllamaEmbeddings:  39%|███▉      | 374/962 [1:02:07<1:09:19,  7.07s/it]\u001B[A\n",
      "OllamaEmbeddings:  39%|███▉      | 375/962 [1:02:19<1:23:59,  8.59s/it]\u001B[A\n",
      "OllamaEmbeddings:  39%|███▉      | 376/962 [1:02:22<1:05:34,  6.71s/it]\u001B[A\n",
      "OllamaEmbeddings:  39%|███▉      | 377/962 [1:02:33<1:17:37,  7.96s/it]\u001B[A\n",
      "OllamaEmbeddings:  39%|███▉      | 378/962 [1:02:39<1:12:33,  7.45s/it]\u001B[A\n",
      "OllamaEmbeddings:  39%|███▉      | 379/962 [1:02:49<1:20:11,  8.25s/it]\u001B[A\n",
      "OllamaEmbeddings:  40%|███▉      | 380/962 [1:02:57<1:17:47,  8.02s/it]\u001B[A\n",
      "OllamaEmbeddings:  40%|███▉      | 381/962 [1:02:58<57:38,  5.95s/it]  \u001B[A\n",
      "OllamaEmbeddings:  40%|███▉      | 382/962 [1:03:10<1:15:08,  7.77s/it]\u001B[A\n",
      "OllamaEmbeddings:  40%|███▉      | 383/962 [1:03:12<1:00:07,  6.23s/it]\u001B[A\n",
      "OllamaEmbeddings:  40%|███▉      | 384/962 [1:03:21<1:07:02,  6.96s/it]\u001B[A\n",
      "OllamaEmbeddings:  40%|████      | 385/962 [1:03:27<1:03:51,  6.64s/it]\u001B[A\n",
      "OllamaEmbeddings:  40%|████      | 386/962 [1:03:34<1:03:54,  6.66s/it]\u001B[A\n",
      "OllamaEmbeddings:  40%|████      | 387/962 [1:03:44<1:13:13,  7.64s/it]\u001B[A\n",
      "OllamaEmbeddings:  40%|████      | 388/962 [1:03:46<59:36,  6.23s/it]  \u001B[A\n",
      "OllamaEmbeddings:  40%|████      | 389/962 [1:03:55<1:06:22,  6.95s/it]\u001B[A\n",
      "OllamaEmbeddings:  41%|████      | 390/962 [1:04:03<1:10:15,  7.37s/it]\u001B[A\n",
      "OllamaEmbeddings:  41%|████      | 391/962 [1:04:15<1:21:55,  8.61s/it]\u001B[A\n",
      "OllamaEmbeddings:  41%|████      | 392/962 [1:04:24<1:23:22,  8.78s/it]\u001B[A\n",
      "OllamaEmbeddings:  41%|████      | 393/962 [1:04:31<1:18:40,  8.30s/it]\u001B[A\n",
      "OllamaEmbeddings:  41%|████      | 394/962 [1:04:43<1:27:02,  9.19s/it]\u001B[A\n",
      "OllamaEmbeddings:  41%|████      | 395/962 [1:04:45<1:08:38,  7.26s/it]\u001B[A\n",
      "OllamaEmbeddings:  41%|████      | 396/962 [1:04:56<1:18:47,  8.35s/it]\u001B[A\n",
      "OllamaEmbeddings:  41%|████▏     | 397/962 [1:05:08<1:27:11,  9.26s/it]\u001B[A\n",
      "OllamaEmbeddings:  41%|████▏     | 398/962 [1:05:13<1:17:16,  8.22s/it]\u001B[A\n",
      "OllamaEmbeddings:  41%|████▏     | 399/962 [1:05:22<1:19:11,  8.44s/it]\u001B[A\n",
      "OllamaEmbeddings:  42%|████▏     | 400/962 [1:05:31<1:18:45,  8.41s/it]\u001B[A\n",
      "OllamaEmbeddings:  42%|████▏     | 401/962 [1:05:38<1:15:37,  8.09s/it]\u001B[A\n",
      "OllamaEmbeddings:  42%|████▏     | 402/962 [1:05:50<1:26:10,  9.23s/it]\u001B[A\n",
      "OllamaEmbeddings:  42%|████▏     | 403/962 [1:05:56<1:17:27,  8.31s/it]\u001B[A\n",
      "OllamaEmbeddings:  42%|████▏     | 404/962 [1:06:07<1:23:25,  8.97s/it]\u001B[A\n",
      "OllamaEmbeddings:  42%|████▏     | 405/962 [1:06:16<1:25:28,  9.21s/it]\u001B[A\n",
      "OllamaEmbeddings:  42%|████▏     | 406/962 [1:06:24<1:20:53,  8.73s/it]\u001B[A\n",
      "OllamaEmbeddings:  42%|████▏     | 407/962 [1:06:36<1:31:07,  9.85s/it]\u001B[A\n",
      "OllamaEmbeddings:  42%|████▏     | 408/962 [1:06:46<1:31:08,  9.87s/it]\u001B[A\n",
      "OllamaEmbeddings:  43%|████▎     | 409/962 [1:06:55<1:26:09,  9.35s/it]\u001B[A\n",
      "OllamaEmbeddings:  43%|████▎     | 410/962 [1:07:07<1:34:14, 10.24s/it]\u001B[A\n",
      "OllamaEmbeddings:  43%|████▎     | 411/962 [1:07:17<1:33:25, 10.17s/it]\u001B[A\n",
      "OllamaEmbeddings:  43%|████▎     | 412/962 [1:07:28<1:35:20, 10.40s/it]\u001B[A\n",
      "OllamaEmbeddings:  43%|████▎     | 413/962 [1:07:38<1:33:49, 10.25s/it]\u001B[A\n",
      "OllamaEmbeddings:  43%|████▎     | 414/962 [1:07:47<1:30:30,  9.91s/it]\u001B[A\n",
      "OllamaEmbeddings:  43%|████▎     | 415/962 [1:07:56<1:27:42,  9.62s/it]\u001B[A\n",
      "OllamaEmbeddings:  43%|████▎     | 416/962 [1:08:10<1:40:34, 11.05s/it]\u001B[A\n",
      "OllamaEmbeddings:  43%|████▎     | 417/962 [1:08:20<1:38:10, 10.81s/it]\u001B[A\n",
      "OllamaEmbeddings:  43%|████▎     | 418/962 [1:08:31<1:36:52, 10.68s/it]\u001B[A\n",
      "OllamaEmbeddings:  44%|████▎     | 419/962 [1:08:32<1:11:15,  7.87s/it]\u001B[A\n",
      "OllamaEmbeddings:  44%|████▎     | 420/962 [1:08:43<1:20:11,  8.88s/it]\u001B[A\n",
      "OllamaEmbeddings:  44%|████▍     | 421/962 [1:08:49<1:12:33,  8.05s/it]\u001B[A\n",
      "OllamaEmbeddings:  44%|████▍     | 422/962 [1:08:56<1:07:45,  7.53s/it]\u001B[A\n",
      "OllamaEmbeddings:  44%|████▍     | 423/962 [1:09:04<1:08:47,  7.66s/it]\u001B[A\n",
      "OllamaEmbeddings:  44%|████▍     | 424/962 [1:09:15<1:18:17,  8.73s/it]\u001B[A\n",
      "OllamaEmbeddings:  44%|████▍     | 425/962 [1:09:25<1:22:32,  9.22s/it]\u001B[A\n",
      "OllamaEmbeddings:  44%|████▍     | 426/962 [1:09:38<1:30:28, 10.13s/it]\u001B[A\n",
      "OllamaEmbeddings:  44%|████▍     | 427/962 [1:09:44<1:20:21,  9.01s/it]\u001B[A\n",
      "OllamaEmbeddings:  44%|████▍     | 428/962 [1:09:54<1:23:26,  9.38s/it]\u001B[A\n",
      "OllamaEmbeddings:  45%|████▍     | 429/962 [1:10:07<1:31:56, 10.35s/it]\u001B[A\n",
      "OllamaEmbeddings:  45%|████▍     | 430/962 [1:10:16<1:29:47, 10.13s/it]\u001B[A\n",
      "OllamaEmbeddings:  45%|████▍     | 431/962 [1:10:22<1:18:33,  8.88s/it]\u001B[A\n",
      "OllamaEmbeddings:  45%|████▍     | 432/962 [1:10:27<1:07:46,  7.67s/it]\u001B[A\n",
      "OllamaEmbeddings:  45%|████▌     | 433/962 [1:10:37<1:13:30,  8.34s/it]\u001B[A\n",
      "OllamaEmbeddings:  45%|████▌     | 434/962 [1:10:41<1:00:41,  6.90s/it]\u001B[A\n",
      "OllamaEmbeddings:  45%|████▌     | 435/962 [1:10:54<1:16:50,  8.75s/it]\u001B[A\n",
      "OllamaEmbeddings:  45%|████▌     | 436/962 [1:11:06<1:26:57,  9.92s/it]\u001B[A\n",
      "OllamaEmbeddings:  45%|████▌     | 437/962 [1:11:21<1:37:52, 11.19s/it]\u001B[A\n",
      "OllamaEmbeddings:  46%|████▌     | 438/962 [1:11:30<1:34:28, 10.82s/it]\u001B[A\n",
      "OllamaEmbeddings:  46%|████▌     | 439/962 [1:11:42<1:35:49, 10.99s/it]\u001B[A\n",
      "OllamaEmbeddings:  46%|████▌     | 440/962 [1:11:50<1:28:30, 10.17s/it]\u001B[A\n",
      "OllamaEmbeddings:  46%|████▌     | 441/962 [1:11:56<1:16:49,  8.85s/it]\u001B[A\n",
      "OllamaEmbeddings:  46%|████▌     | 442/962 [1:12:07<1:23:22,  9.62s/it]\u001B[A\n",
      "OllamaEmbeddings:  46%|████▌     | 443/962 [1:12:16<1:21:36,  9.43s/it]\u001B[A\n",
      "OllamaEmbeddings:  46%|████▌     | 444/962 [1:12:23<1:14:19,  8.61s/it]\u001B[A\n",
      "OllamaEmbeddings:  46%|████▋     | 445/962 [1:12:33<1:18:42,  9.14s/it]\u001B[A\n",
      "OllamaEmbeddings:  46%|████▋     | 446/962 [1:12:42<1:17:21,  8.99s/it]\u001B[A\n",
      "OllamaEmbeddings:  46%|████▋     | 447/962 [1:12:53<1:22:35,  9.62s/it]\u001B[A\n",
      "OllamaEmbeddings:  47%|████▋     | 448/962 [1:12:55<1:03:14,  7.38s/it]\u001B[A\n",
      "OllamaEmbeddings:  47%|████▋     | 449/962 [1:13:07<1:14:16,  8.69s/it]\u001B[A\n",
      "OllamaEmbeddings:  47%|████▋     | 450/962 [1:13:12<1:04:35,  7.57s/it]\u001B[A\n",
      "OllamaEmbeddings:  47%|████▋     | 451/962 [1:13:29<1:28:33, 10.40s/it]\u001B[A\n",
      "OllamaEmbeddings:  47%|████▋     | 452/962 [1:13:43<1:36:50, 11.39s/it]\u001B[A\n",
      "OllamaEmbeddings:  47%|████▋     | 453/962 [1:13:47<1:17:30,  9.14s/it]\u001B[A\n",
      "OllamaEmbeddings:  47%|████▋     | 454/962 [1:14:03<1:34:51, 11.20s/it]\u001B[A\n",
      "OllamaEmbeddings:  47%|████▋     | 455/962 [1:14:19<1:47:58, 12.78s/it]\u001B[A\n",
      "OllamaEmbeddings:  47%|████▋     | 456/962 [1:14:22<1:23:23,  9.89s/it]\u001B[A\n",
      "OllamaEmbeddings:  48%|████▊     | 457/962 [1:14:26<1:08:06,  8.09s/it]\u001B[A\n",
      "OllamaEmbeddings:  48%|████▊     | 458/962 [1:14:42<1:28:00, 10.48s/it]\u001B[A\n",
      "OllamaEmbeddings:  48%|████▊     | 459/962 [1:14:56<1:35:54, 11.44s/it]\u001B[A\n",
      "OllamaEmbeddings:  48%|████▊     | 460/962 [1:15:12<1:47:45, 12.88s/it]\u001B[A\n",
      "OllamaEmbeddings:  48%|████▊     | 461/962 [1:15:16<1:23:56, 10.05s/it]\u001B[A\n",
      "OllamaEmbeddings:  48%|████▊     | 462/962 [1:15:34<1:44:46, 12.57s/it]\u001B[A\n",
      "OllamaEmbeddings:  48%|████▊     | 463/962 [1:15:50<1:53:26, 13.64s/it]\u001B[A\n",
      "OllamaEmbeddings:  48%|████▊     | 464/962 [1:16:05<1:57:01, 14.10s/it]\u001B[A\n",
      "OllamaEmbeddings:  48%|████▊     | 465/962 [1:16:12<1:37:34, 11.78s/it]\u001B[A\n",
      "OllamaEmbeddings:  48%|████▊     | 466/962 [1:16:24<1:37:43, 11.82s/it]\u001B[A\n",
      "OllamaEmbeddings:  49%|████▊     | 467/962 [1:16:33<1:30:59, 11.03s/it]\u001B[A\n",
      "OllamaEmbeddings:  49%|████▊     | 468/962 [1:16:44<1:32:27, 11.23s/it]\u001B[A\n",
      "OllamaEmbeddings:  49%|████▉     | 469/962 [1:17:00<1:44:04, 12.67s/it]\u001B[A\n",
      "OllamaEmbeddings:  49%|████▉     | 470/962 [1:17:15<1:48:50, 13.27s/it]\u001B[A\n",
      "OllamaEmbeddings:  49%|████▉     | 471/962 [1:17:29<1:49:53, 13.43s/it]\u001B[A\n",
      "OllamaEmbeddings:  49%|████▉     | 472/962 [1:17:40<1:43:57, 12.73s/it]\u001B[A\n",
      "OllamaEmbeddings:  49%|████▉     | 473/962 [1:17:56<1:52:12, 13.77s/it]\u001B[A\n",
      "OllamaEmbeddings:  49%|████▉     | 474/962 [1:17:58<1:22:10, 10.10s/it]\u001B[A\n",
      "OllamaEmbeddings:  49%|████▉     | 475/962 [1:18:15<1:38:47, 12.17s/it]\u001B[A\n",
      "OllamaEmbeddings:  49%|████▉     | 476/962 [1:18:28<1:40:25, 12.40s/it]\u001B[A\n",
      "OllamaEmbeddings:  50%|████▉     | 477/962 [1:18:40<1:40:37, 12.45s/it]\u001B[A\n",
      "OllamaEmbeddings:  50%|████▉     | 478/962 [1:18:49<1:31:14, 11.31s/it]\u001B[A\n",
      "OllamaEmbeddings:  50%|████▉     | 479/962 [1:18:55<1:19:22,  9.86s/it]\u001B[A\n",
      "OllamaEmbeddings:  50%|████▉     | 480/962 [1:19:05<1:19:43,  9.92s/it]\u001B[A\n",
      "OllamaEmbeddings:  50%|█████     | 481/962 [1:19:16<1:22:08, 10.25s/it]\u001B[A\n",
      "OllamaEmbeddings:  50%|█████     | 482/962 [1:19:28<1:24:07, 10.52s/it]\u001B[A\n",
      "OllamaEmbeddings:  50%|█████     | 483/962 [1:19:39<1:25:11, 10.67s/it]\u001B[A\n",
      "OllamaEmbeddings:  50%|█████     | 484/962 [1:19:46<1:18:00,  9.79s/it]\u001B[A\n",
      "OllamaEmbeddings:  50%|█████     | 485/962 [1:19:56<1:17:31,  9.75s/it]\u001B[A\n",
      "OllamaEmbeddings:  51%|█████     | 486/962 [1:20:01<1:06:21,  8.36s/it]\u001B[A\n",
      "OllamaEmbeddings:  51%|█████     | 487/962 [1:20:12<1:11:07,  8.98s/it]\u001B[A\n",
      "OllamaEmbeddings:  51%|█████     | 488/962 [1:20:24<1:19:28, 10.06s/it]\u001B[A\n",
      "OllamaEmbeddings:  51%|█████     | 489/962 [1:20:36<1:22:55, 10.52s/it]\u001B[A\n",
      "OllamaEmbeddings:  51%|█████     | 490/962 [1:20:49<1:28:45, 11.28s/it]\u001B[A\n",
      "OllamaEmbeddings:  51%|█████     | 491/962 [1:20:57<1:20:10, 10.21s/it]\u001B[A\n",
      "OllamaEmbeddings:  51%|█████     | 492/962 [1:21:04<1:13:46,  9.42s/it]\u001B[A\n",
      "OllamaEmbeddings:  51%|█████     | 493/962 [1:21:12<1:09:02,  8.83s/it]\u001B[A\n",
      "OllamaEmbeddings:  51%|█████▏    | 494/962 [1:21:16<58:22,  7.48s/it]  \u001B[A\n",
      "OllamaEmbeddings:  51%|█████▏    | 495/962 [1:21:25<1:01:40,  7.92s/it]\u001B[A\n",
      "OllamaEmbeddings:  52%|█████▏    | 496/962 [1:21:31<57:12,  7.37s/it]  \u001B[A\n",
      "OllamaEmbeddings:  52%|█████▏    | 497/962 [1:21:39<58:35,  7.56s/it]\u001B[A\n",
      "OllamaEmbeddings:  52%|█████▏    | 498/962 [1:21:44<52:49,  6.83s/it]\u001B[A\n",
      "OllamaEmbeddings:  52%|█████▏    | 499/962 [1:21:51<52:45,  6.84s/it]\u001B[A\n",
      "OllamaEmbeddings:  52%|█████▏    | 500/962 [1:21:56<48:04,  6.24s/it]\u001B[A\n",
      "OllamaEmbeddings:  52%|█████▏    | 501/962 [1:22:04<51:37,  6.72s/it]\u001B[A\n",
      "OllamaEmbeddings:  52%|█████▏    | 502/962 [1:22:07<43:23,  5.66s/it]\u001B[A\n",
      "OllamaEmbeddings:  52%|█████▏    | 503/962 [1:22:17<52:53,  6.91s/it]\u001B[A\n",
      "OllamaEmbeddings:  52%|█████▏    | 504/962 [1:22:27<1:00:21,  7.91s/it]\u001B[A\n",
      "OllamaEmbeddings:  52%|█████▏    | 505/962 [1:22:36<1:03:47,  8.38s/it]\u001B[A\n",
      "OllamaEmbeddings:  53%|█████▎    | 506/962 [1:22:48<1:10:29,  9.28s/it]\u001B[A\n",
      "OllamaEmbeddings:  53%|█████▎    | 507/962 [1:22:51<56:23,  7.44s/it]  \u001B[A\n",
      "OllamaEmbeddings:  53%|█████▎    | 508/962 [1:23:01<1:02:22,  8.24s/it]\u001B[A\n",
      "OllamaEmbeddings:  53%|█████▎    | 509/962 [1:23:06<54:09,  7.17s/it]  \u001B[A\n",
      "OllamaEmbeddings:  53%|█████▎    | 510/962 [1:23:14<57:03,  7.57s/it]\u001B[A\n",
      "OllamaEmbeddings:  53%|█████▎    | 511/962 [1:23:23<59:41,  7.94s/it]\u001B[A\n",
      "OllamaEmbeddings:  53%|█████▎    | 512/962 [1:23:29<56:06,  7.48s/it]\u001B[A\n",
      "OllamaEmbeddings:  53%|█████▎    | 513/962 [1:23:42<1:06:50,  8.93s/it]\u001B[A\n",
      "OllamaEmbeddings:  53%|█████▎    | 514/962 [1:23:43<49:25,  6.62s/it]  \u001B[A\n",
      "OllamaEmbeddings:  54%|█████▎    | 515/962 [1:23:54<58:54,  7.91s/it]\u001B[A\n",
      "OllamaEmbeddings:  54%|█████▎    | 516/962 [1:24:06<1:07:35,  9.09s/it]\u001B[A\n",
      "OllamaEmbeddings:  54%|█████▎    | 517/962 [1:24:12<1:00:29,  8.16s/it]\u001B[A\n",
      "OllamaEmbeddings:  54%|█████▍    | 518/962 [1:24:23<1:06:34,  9.00s/it]\u001B[A\n",
      "OllamaEmbeddings:  54%|█████▍    | 519/962 [1:24:33<1:09:36,  9.43s/it]\u001B[A\n",
      "OllamaEmbeddings:  54%|█████▍    | 520/962 [1:24:37<57:10,  7.76s/it]  \u001B[A\n",
      "OllamaEmbeddings:  54%|█████▍    | 521/962 [1:24:46<1:00:01,  8.17s/it]\u001B[A\n",
      "OllamaEmbeddings:  54%|█████▍    | 522/962 [1:24:51<51:58,  7.09s/it]  \u001B[A\n",
      "OllamaEmbeddings:  54%|█████▍    | 523/962 [1:25:01<58:53,  8.05s/it]\u001B[A\n",
      "OllamaEmbeddings:  54%|█████▍    | 524/962 [1:25:06<52:19,  7.17s/it]\u001B[A\n",
      "OllamaEmbeddings:  55%|█████▍    | 525/962 [1:25:07<38:37,  5.30s/it]\u001B[A\n",
      "OllamaEmbeddings:  55%|█████▍    | 526/962 [1:25:18<50:25,  6.94s/it]\u001B[A\n",
      "OllamaEmbeddings:  55%|█████▍    | 527/962 [1:25:27<55:02,  7.59s/it]\u001B[A\n",
      "OllamaEmbeddings:  55%|█████▍    | 528/962 [1:25:38<1:02:56,  8.70s/it]\u001B[A\n",
      "OllamaEmbeddings:  55%|█████▍    | 529/962 [1:25:45<57:52,  8.02s/it]  \u001B[A\n",
      "OllamaEmbeddings:  55%|█████▌    | 530/962 [1:25:53<57:45,  8.02s/it]\u001B[A\n",
      "OllamaEmbeddings:  55%|█████▌    | 531/962 [1:26:01<59:25,  8.27s/it]\u001B[A\n",
      "OllamaEmbeddings:  55%|█████▌    | 532/962 [1:26:10<58:55,  8.22s/it]\u001B[A\n",
      "OllamaEmbeddings:  55%|█████▌    | 533/962 [1:26:17<57:34,  8.05s/it]\u001B[A\n",
      "OllamaEmbeddings:  56%|█████▌    | 534/962 [1:26:22<50:48,  7.12s/it]\u001B[A\n",
      "OllamaEmbeddings:  56%|█████▌    | 535/962 [1:26:33<58:36,  8.24s/it]\u001B[A\n",
      "OllamaEmbeddings:  56%|█████▌    | 536/962 [1:26:43<1:03:02,  8.88s/it]\u001B[A\n",
      "OllamaEmbeddings:  56%|█████▌    | 537/962 [1:26:53<1:04:36,  9.12s/it]\u001B[A\n",
      "OllamaEmbeddings:  56%|█████▌    | 538/962 [1:27:03<1:06:39,  9.43s/it]\u001B[A\n",
      "OllamaEmbeddings:  56%|█████▌    | 539/962 [1:27:14<1:09:19,  9.83s/it]\u001B[A\n",
      "OllamaEmbeddings:  56%|█████▌    | 540/962 [1:27:22<1:05:41,  9.34s/it]\u001B[A\n",
      "OllamaEmbeddings:  56%|█████▌    | 541/962 [1:27:35<1:12:31, 10.34s/it]\u001B[A\n",
      "OllamaEmbeddings:  56%|█████▋    | 542/962 [1:27:43<1:08:44,  9.82s/it]\u001B[A\n",
      "OllamaEmbeddings:  56%|█████▋    | 543/962 [1:27:51<1:04:25,  9.23s/it]\u001B[A\n",
      "OllamaEmbeddings:  57%|█████▋    | 544/962 [1:27:59<1:00:39,  8.71s/it]\u001B[A\n",
      "OllamaEmbeddings:  57%|█████▋    | 545/962 [1:28:06<58:21,  8.40s/it]  \u001B[A\n",
      "OllamaEmbeddings:  57%|█████▋    | 546/962 [1:28:17<1:03:21,  9.14s/it]\u001B[A\n",
      "OllamaEmbeddings:  57%|█████▋    | 547/962 [1:28:19<47:54,  6.93s/it]  \u001B[A\n",
      "OllamaEmbeddings:  57%|█████▋    | 548/962 [1:28:31<58:01,  8.41s/it]\u001B[A\n",
      "OllamaEmbeddings:  57%|█████▋    | 549/962 [1:28:33<45:16,  6.58s/it]\u001B[A\n",
      "OllamaEmbeddings:  57%|█████▋    | 550/962 [1:28:44<53:54,  7.85s/it]\u001B[A\n",
      "OllamaEmbeddings:  57%|█████▋    | 551/962 [1:28:50<50:15,  7.34s/it]\u001B[A\n",
      "OllamaEmbeddings:  57%|█████▋    | 552/962 [1:29:00<55:42,  8.15s/it]\u001B[A\n",
      "OllamaEmbeddings:  57%|█████▋    | 553/962 [1:29:08<53:53,  7.90s/it]\u001B[A\n",
      "OllamaEmbeddings:  58%|█████▊    | 554/962 [1:29:09<39:53,  5.87s/it]\u001B[A\n",
      "OllamaEmbeddings:  58%|█████▊    | 555/962 [1:29:20<51:50,  7.64s/it]\u001B[A\n",
      "OllamaEmbeddings:  58%|█████▊    | 556/962 [1:29:23<41:33,  6.14s/it]\u001B[A\n",
      "OllamaEmbeddings:  58%|█████▊    | 557/962 [1:29:32<46:27,  6.88s/it]\u001B[A\n",
      "OllamaEmbeddings:  58%|█████▊    | 558/962 [1:29:38<44:33,  6.62s/it]\u001B[A\n",
      "OllamaEmbeddings:  58%|█████▊    | 559/962 [1:29:45<44:45,  6.66s/it]\u001B[A\n",
      "OllamaEmbeddings:  58%|█████▊    | 560/962 [1:29:54<51:07,  7.63s/it]\u001B[A\n",
      "OllamaEmbeddings:  58%|█████▊    | 561/962 [1:29:57<41:34,  6.22s/it]\u001B[A\n",
      "OllamaEmbeddings:  58%|█████▊    | 562/962 [1:30:06<46:10,  6.93s/it]\u001B[A\n",
      "OllamaEmbeddings:  59%|█████▊    | 563/962 [1:30:14<48:48,  7.34s/it]\u001B[A\n",
      "OllamaEmbeddings:  59%|█████▊    | 564/962 [1:30:26<56:49,  8.57s/it]\u001B[A\n",
      "OllamaEmbeddings:  59%|█████▊    | 565/962 [1:30:38<1:03:41,  9.63s/it]\u001B[A\n",
      "OllamaEmbeddings:  59%|█████▉    | 566/962 [1:30:46<1:00:38,  9.19s/it]\u001B[A\n",
      "OllamaEmbeddings:  59%|█████▉    | 567/962 [1:30:50<50:56,  7.74s/it]  \u001B[A\n",
      "OllamaEmbeddings:  59%|█████▉    | 568/962 [1:30:58<50:05,  7.63s/it]\u001B[A\n",
      "OllamaEmbeddings:  59%|█████▉    | 569/962 [1:31:07<53:58,  8.24s/it]\u001B[A\n",
      "OllamaEmbeddings:  59%|█████▉    | 570/962 [1:31:17<56:04,  8.58s/it]\u001B[A\n",
      "OllamaEmbeddings:  59%|█████▉    | 571/962 [1:31:26<57:43,  8.86s/it]\u001B[A\n",
      "OllamaEmbeddings:  59%|█████▉    | 572/962 [1:31:36<58:57,  9.07s/it]\u001B[A\n",
      "OllamaEmbeddings:  60%|█████▉    | 573/962 [1:31:45<58:42,  9.06s/it]\u001B[A\n",
      "OllamaEmbeddings:  60%|█████▉    | 574/962 [1:31:55<1:00:14,  9.32s/it]\u001B[A\n",
      "OllamaEmbeddings:  60%|█████▉    | 575/962 [1:32:04<1:00:02,  9.31s/it]\u001B[A\n",
      "OllamaEmbeddings:  60%|█████▉    | 576/962 [1:32:12<57:42,  8.97s/it]  \u001B[A\n",
      "OllamaEmbeddings:  60%|█████▉    | 577/962 [1:32:24<1:03:50,  9.95s/it]\u001B[A\n",
      "OllamaEmbeddings:  60%|██████    | 578/962 [1:32:36<1:06:36, 10.41s/it]\u001B[A\n",
      "OllamaEmbeddings:  60%|██████    | 579/962 [1:32:50<1:14:06, 11.61s/it]\u001B[A\n",
      "OllamaEmbeddings:  60%|██████    | 580/962 [1:32:54<59:28,  9.34s/it]  \u001B[A\n",
      "OllamaEmbeddings:  60%|██████    | 581/962 [1:33:04<59:02,  9.30s/it]\u001B[A\n",
      "OllamaEmbeddings:  60%|██████    | 582/962 [1:33:15<1:03:11,  9.98s/it]\u001B[A\n",
      "OllamaEmbeddings:  61%|██████    | 583/962 [1:33:23<59:27,  9.41s/it]  \u001B[A\n",
      "OllamaEmbeddings:  61%|██████    | 584/962 [1:33:32<58:06,  9.22s/it]\u001B[A\n",
      "OllamaEmbeddings:  61%|██████    | 585/962 [1:33:45<1:04:52, 10.32s/it]\u001B[A\n",
      "OllamaEmbeddings:  61%|██████    | 586/962 [1:33:54<1:02:18,  9.94s/it]\u001B[A\n",
      "OllamaEmbeddings:  61%|██████    | 587/962 [1:34:02<57:56,  9.27s/it]  \u001B[A\n",
      "OllamaEmbeddings:  61%|██████    | 588/962 [1:34:09<54:10,  8.69s/it]\u001B[A\n",
      "OllamaEmbeddings:  61%|██████    | 589/962 [1:34:19<55:37,  8.95s/it]\u001B[A\n",
      "OllamaEmbeddings:  61%|██████▏   | 590/962 [1:34:26<52:51,  8.53s/it]\u001B[A\n",
      "OllamaEmbeddings:  61%|██████▏   | 591/962 [1:34:34<51:12,  8.28s/it]\u001B[A\n",
      "OllamaEmbeddings:  62%|██████▏   | 592/962 [1:34:40<47:08,  7.64s/it]\u001B[A\n",
      "OllamaEmbeddings:  62%|██████▏   | 593/962 [1:34:48<48:18,  7.85s/it]\u001B[A\n",
      "OllamaEmbeddings:  62%|██████▏   | 594/962 [1:35:00<55:51,  9.11s/it]\u001B[A\n",
      "OllamaEmbeddings:  62%|██████▏   | 595/962 [1:35:11<58:42,  9.60s/it]\u001B[A\n",
      "OllamaEmbeddings:  62%|██████▏   | 596/962 [1:35:22<1:01:20, 10.06s/it]\u001B[A\n",
      "OllamaEmbeddings:  62%|██████▏   | 597/962 [1:35:28<54:08,  8.90s/it]  \u001B[A\n",
      "OllamaEmbeddings:  62%|██████▏   | 598/962 [1:35:38<54:58,  9.06s/it]\u001B[A\n",
      "OllamaEmbeddings:  62%|██████▏   | 599/962 [1:35:43<48:08,  7.96s/it]\u001B[A\n",
      "OllamaEmbeddings:  62%|██████▏   | 600/962 [1:35:54<53:08,  8.81s/it]\u001B[A\n",
      "OllamaEmbeddings:  62%|██████▏   | 601/962 [1:35:58<44:02,  7.32s/it]\u001B[A\n",
      "OllamaEmbeddings:  63%|██████▎   | 602/962 [1:36:07<46:54,  7.82s/it]\u001B[A\n",
      "OllamaEmbeddings:  63%|██████▎   | 603/962 [1:36:14<45:03,  7.53s/it]\u001B[A\n",
      "OllamaEmbeddings:  63%|██████▎   | 604/962 [1:36:26<53:34,  8.98s/it]\u001B[A\n",
      "OllamaEmbeddings:  63%|██████▎   | 605/962 [1:36:37<57:19,  9.63s/it]\u001B[A\n",
      "OllamaEmbeddings:  63%|██████▎   | 606/962 [1:36:42<49:16,  8.30s/it]\u001B[A\n",
      "OllamaEmbeddings:  63%|██████▎   | 607/962 [1:36:50<48:40,  8.23s/it]\u001B[A\n",
      "OllamaEmbeddings:  63%|██████▎   | 608/962 [1:36:57<45:31,  7.72s/it]\u001B[A\n",
      "OllamaEmbeddings:  63%|██████▎   | 609/962 [1:37:02<40:20,  6.86s/it]\u001B[A\n",
      "OllamaEmbeddings:  63%|██████▎   | 610/962 [1:37:09<40:22,  6.88s/it]\u001B[A\n",
      "OllamaEmbeddings:  64%|██████▎   | 611/962 [1:37:15<39:06,  6.68s/it]\u001B[A\n",
      "OllamaEmbeddings:  64%|██████▎   | 612/962 [1:37:21<37:22,  6.41s/it]\u001B[A\n",
      "OllamaEmbeddings:  64%|██████▎   | 613/962 [1:37:26<35:58,  6.18s/it]\u001B[A\n",
      "OllamaEmbeddings:  64%|██████▍   | 614/962 [1:37:37<43:26,  7.49s/it]\u001B[A\n",
      "OllamaEmbeddings:  64%|██████▍   | 615/962 [1:37:46<46:49,  8.10s/it]\u001B[A\n",
      "OllamaEmbeddings:  64%|██████▍   | 616/962 [1:37:58<53:09,  9.22s/it]\u001B[A\n",
      "OllamaEmbeddings:  64%|██████▍   | 617/962 [1:38:09<56:09,  9.77s/it]\u001B[A\n",
      "OllamaEmbeddings:  64%|██████▍   | 618/962 [1:38:19<56:26,  9.85s/it]\u001B[A\n",
      "OllamaEmbeddings:  64%|██████▍   | 619/962 [1:38:23<46:12,  8.08s/it]\u001B[A\n",
      "OllamaEmbeddings:  64%|██████▍   | 620/962 [1:38:34<50:50,  8.92s/it]\u001B[A\n",
      "OllamaEmbeddings:  65%|██████▍   | 621/962 [1:38:46<55:48,  9.82s/it]\u001B[A\n",
      "OllamaEmbeddings:  65%|██████▍   | 622/962 [1:38:53<50:57,  8.99s/it]\u001B[A\n",
      "OllamaEmbeddings:  65%|██████▍   | 623/962 [1:39:06<58:03, 10.28s/it]\u001B[A\n",
      "OllamaEmbeddings:  65%|██████▍   | 624/962 [1:39:11<48:26,  8.60s/it]\u001B[A\n",
      "OllamaEmbeddings:  65%|██████▍   | 625/962 [1:39:21<51:10,  9.11s/it]\u001B[A\n",
      "OllamaEmbeddings:  65%|██████▌   | 626/962 [1:39:30<50:43,  9.06s/it]\u001B[A\n",
      "OllamaEmbeddings:  65%|██████▌   | 627/962 [1:39:35<43:33,  7.80s/it]\u001B[A\n",
      "OllamaEmbeddings:  65%|██████▌   | 628/962 [1:39:47<49:23,  8.87s/it]\u001B[A\n",
      "OllamaEmbeddings:  65%|██████▌   | 629/962 [1:39:55<48:24,  8.72s/it]\u001B[A\n",
      "OllamaEmbeddings:  65%|██████▌   | 630/962 [1:40:03<47:28,  8.58s/it]\u001B[A\n",
      "OllamaEmbeddings:  66%|██████▌   | 631/962 [1:40:17<55:30, 10.06s/it]\u001B[A\n",
      "OllamaEmbeddings:  66%|██████▌   | 632/962 [1:40:28<57:48, 10.51s/it]\u001B[A\n",
      "OllamaEmbeddings:  66%|██████▌   | 633/962 [1:40:40<58:45, 10.71s/it]\u001B[A\n",
      "OllamaEmbeddings:  66%|██████▌   | 634/962 [1:40:51<1:00:06, 10.99s/it]\u001B[A\n",
      "OllamaEmbeddings:  66%|██████▌   | 635/962 [1:41:03<1:01:50, 11.35s/it]\u001B[A\n",
      "OllamaEmbeddings:  66%|██████▌   | 636/962 [1:41:16<1:03:19, 11.65s/it]\u001B[A\n",
      "OllamaEmbeddings:  66%|██████▌   | 637/962 [1:41:27<1:02:32, 11.55s/it]\u001B[A\n",
      "OllamaEmbeddings:  66%|██████▋   | 638/962 [1:41:28<45:54,  8.50s/it]  \u001B[A\n",
      "OllamaEmbeddings:  66%|██████▋   | 639/962 [1:41:38<48:03,  8.93s/it]\u001B[A\n",
      "OllamaEmbeddings:  67%|██████▋   | 640/962 [1:41:46<46:34,  8.68s/it]\u001B[A\n",
      "OllamaEmbeddings:  67%|██████▋   | 641/962 [1:41:53<42:38,  7.97s/it]\u001B[A\n",
      "OllamaEmbeddings:  67%|██████▋   | 642/962 [1:42:03<46:39,  8.75s/it]\u001B[A\n",
      "OllamaEmbeddings:  67%|██████▋   | 643/962 [1:42:11<45:24,  8.54s/it]\u001B[A\n",
      "OllamaEmbeddings:  67%|██████▋   | 644/962 [1:42:18<42:29,  8.02s/it]\u001B[A\n",
      "OllamaEmbeddings:  67%|██████▋   | 645/962 [1:42:28<45:48,  8.67s/it]\u001B[A\n",
      "OllamaEmbeddings:  67%|██████▋   | 646/962 [1:42:34<40:13,  7.64s/it]\u001B[A\n",
      "OllamaEmbeddings:  67%|██████▋   | 647/962 [1:42:45<45:50,  8.73s/it]\u001B[A\n",
      "OllamaEmbeddings:  67%|██████▋   | 648/962 [1:42:54<47:07,  9.00s/it]\u001B[A\n",
      "OllamaEmbeddings:  67%|██████▋   | 649/962 [1:42:59<40:04,  7.68s/it]\u001B[A\n",
      "OllamaEmbeddings:  68%|██████▊   | 650/962 [1:43:07<39:47,  7.65s/it]\u001B[A\n",
      "OllamaEmbeddings:  68%|██████▊   | 651/962 [1:43:14<38:24,  7.41s/it]\u001B[A\n",
      "OllamaEmbeddings:  68%|██████▊   | 652/962 [1:43:23<40:59,  7.94s/it]\u001B[A\n",
      "OllamaEmbeddings:  68%|██████▊   | 653/962 [1:43:31<41:20,  8.03s/it]\u001B[A\n",
      "OllamaEmbeddings:  68%|██████▊   | 654/962 [1:43:43<47:03,  9.17s/it]\u001B[A\n",
      "OllamaEmbeddings:  68%|██████▊   | 655/962 [1:43:48<40:33,  7.93s/it]\u001B[A\n",
      "OllamaEmbeddings:  68%|██████▊   | 656/962 [1:43:56<40:11,  7.88s/it]\u001B[A\n",
      "OllamaEmbeddings:  68%|██████▊   | 657/962 [1:44:02<38:21,  7.55s/it]\u001B[A\n",
      "OllamaEmbeddings:  68%|██████▊   | 658/962 [1:44:14<44:51,  8.85s/it]\u001B[A\n",
      "OllamaEmbeddings:  69%|██████▊   | 659/962 [1:44:24<45:39,  9.04s/it]\u001B[A\n",
      "OllamaEmbeddings:  69%|██████▊   | 660/962 [1:44:34<46:45,  9.29s/it]\u001B[A\n",
      "OllamaEmbeddings:  69%|██████▊   | 661/962 [1:44:45<50:03,  9.98s/it]\u001B[A\n",
      "OllamaEmbeddings:  69%|██████▉   | 662/962 [1:44:46<36:53,  7.38s/it]\u001B[A\n",
      "OllamaEmbeddings:  69%|██████▉   | 663/962 [1:45:00<45:51,  9.20s/it]\u001B[A\n",
      "OllamaEmbeddings:  69%|██████▉   | 664/962 [1:45:04<38:32,  7.76s/it]\u001B[A\n",
      "OllamaEmbeddings:  69%|██████▉   | 665/962 [1:45:16<44:12,  8.93s/it]\u001B[A\n",
      "OllamaEmbeddings:  69%|██████▉   | 666/962 [1:45:25<44:29,  9.02s/it]\u001B[A\n",
      "OllamaEmbeddings:  69%|██████▉   | 667/962 [1:45:28<35:50,  7.29s/it]\u001B[A\n",
      "OllamaEmbeddings:  69%|██████▉   | 668/962 [1:45:33<32:17,  6.59s/it]\u001B[A\n",
      "OllamaEmbeddings:  70%|██████▉   | 669/962 [1:45:46<41:05,  8.41s/it]\u001B[A\n",
      "OllamaEmbeddings:  70%|██████▉   | 670/962 [1:45:48<30:50,  6.34s/it]\u001B[A\n",
      "OllamaEmbeddings:  70%|██████▉   | 671/962 [1:45:56<34:02,  7.02s/it]\u001B[A\n",
      "OllamaEmbeddings:  70%|██████▉   | 672/962 [1:46:08<40:19,  8.34s/it]\u001B[A\n",
      "OllamaEmbeddings:  70%|██████▉   | 673/962 [1:46:20<46:17,  9.61s/it]\u001B[A\n",
      "OllamaEmbeddings:  70%|███████   | 674/962 [1:46:28<43:41,  9.10s/it]\u001B[A\n",
      "OllamaEmbeddings:  70%|███████   | 675/962 [1:46:34<39:32,  8.27s/it]\u001B[A\n",
      "OllamaEmbeddings:  70%|███████   | 676/962 [1:46:46<43:51,  9.20s/it]\u001B[A\n",
      "OllamaEmbeddings:  70%|███████   | 677/962 [1:46:54<41:38,  8.77s/it]\u001B[A\n",
      "OllamaEmbeddings:  70%|███████   | 678/962 [1:47:01<40:02,  8.46s/it]\u001B[A\n",
      "OllamaEmbeddings:  71%|███████   | 679/962 [1:47:08<37:11,  7.89s/it]\u001B[A\n",
      "OllamaEmbeddings:  71%|███████   | 680/962 [1:47:18<39:40,  8.44s/it]\u001B[A\n",
      "OllamaEmbeddings:  71%|███████   | 681/962 [1:47:28<41:47,  8.92s/it]\u001B[A\n",
      "OllamaEmbeddings:  71%|███████   | 682/962 [1:47:36<40:24,  8.66s/it]\u001B[A\n",
      "OllamaEmbeddings:  71%|███████   | 683/962 [1:47:41<35:52,  7.72s/it]\u001B[A\n",
      "OllamaEmbeddings:  71%|███████   | 684/962 [1:47:52<39:43,  8.57s/it]\u001B[A\n",
      "OllamaEmbeddings:  71%|███████   | 685/962 [1:48:01<40:57,  8.87s/it]\u001B[A\n",
      "OllamaEmbeddings:  71%|███████▏  | 686/962 [1:48:09<39:19,  8.55s/it]\u001B[A\n",
      "OllamaEmbeddings:  71%|███████▏  | 687/962 [1:48:12<31:45,  6.93s/it]\u001B[A\n",
      "OllamaEmbeddings:  72%|███████▏  | 688/962 [1:48:23<36:44,  8.05s/it]\u001B[A\n",
      "OllamaEmbeddings:  72%|███████▏  | 689/962 [1:48:24<27:33,  6.06s/it]\u001B[A\n",
      "OllamaEmbeddings:  72%|███████▏  | 690/962 [1:48:30<27:10,  6.00s/it]\u001B[A\n",
      "OllamaEmbeddings:  72%|███████▏  | 691/962 [1:48:42<35:34,  7.88s/it]\u001B[A\n",
      "OllamaEmbeddings:  72%|███████▏  | 692/962 [1:48:48<31:38,  7.03s/it]\u001B[A\n",
      "OllamaEmbeddings:  72%|███████▏  | 693/962 [1:49:00<38:17,  8.54s/it]\u001B[A\n",
      "OllamaEmbeddings:  72%|███████▏  | 694/962 [1:49:02<30:02,  6.73s/it]\u001B[A\n",
      "OllamaEmbeddings:  72%|███████▏  | 695/962 [1:49:12<33:42,  7.57s/it]\u001B[A\n",
      "OllamaEmbeddings:  72%|███████▏  | 696/962 [1:49:22<37:36,  8.48s/it]\u001B[A\n",
      "OllamaEmbeddings:  72%|███████▏  | 697/962 [1:49:33<40:35,  9.19s/it]\u001B[A\n",
      "OllamaEmbeddings:  73%|███████▎  | 698/962 [1:49:42<39:29,  8.98s/it]\u001B[A\n",
      "OllamaEmbeddings:  73%|███████▎  | 699/962 [1:49:51<40:17,  9.19s/it]\u001B[A\n",
      "OllamaEmbeddings:  73%|███████▎  | 700/962 [1:49:55<33:03,  7.57s/it]\u001B[A\n",
      "OllamaEmbeddings:  73%|███████▎  | 701/962 [1:50:03<33:03,  7.60s/it]\u001B[A\n",
      "OllamaEmbeddings:  73%|███████▎  | 702/962 [1:50:08<29:37,  6.84s/it]\u001B[A\n",
      "OllamaEmbeddings:  73%|███████▎  | 703/962 [1:50:18<34:31,  8.00s/it]\u001B[A\n",
      "OllamaEmbeddings:  73%|███████▎  | 704/962 [1:50:27<35:24,  8.23s/it]\u001B[A\n",
      "OllamaEmbeddings:  73%|███████▎  | 705/962 [1:50:35<35:09,  8.21s/it]\u001B[A\n",
      "OllamaEmbeddings:  73%|███████▎  | 706/962 [1:50:43<33:38,  7.88s/it]\u001B[A\n",
      "OllamaEmbeddings:  73%|███████▎  | 707/962 [1:50:50<32:40,  7.69s/it]\u001B[A\n",
      "OllamaEmbeddings:  74%|███████▎  | 708/962 [1:50:55<29:17,  6.92s/it]\u001B[A\n",
      "OllamaEmbeddings:  74%|███████▎  | 709/962 [1:51:02<29:22,  6.97s/it]\u001B[A\n",
      "OllamaEmbeddings:  74%|███████▍  | 710/962 [1:51:09<29:15,  6.97s/it]\u001B[A\n",
      "OllamaEmbeddings:  74%|███████▍  | 711/962 [1:51:21<35:27,  8.48s/it]\u001B[A\n",
      "OllamaEmbeddings:  74%|███████▍  | 712/962 [1:51:30<36:18,  8.71s/it]\u001B[A\n",
      "OllamaEmbeddings:  74%|███████▍  | 713/962 [1:51:39<35:40,  8.60s/it]\u001B[A\n",
      "OllamaEmbeddings:  74%|███████▍  | 714/962 [1:51:50<39:21,  9.52s/it]\u001B[A\n",
      "OllamaEmbeddings:  74%|███████▍  | 715/962 [1:51:57<35:41,  8.67s/it]\u001B[A\n",
      "OllamaEmbeddings:  74%|███████▍  | 716/962 [1:52:03<31:57,  7.80s/it]\u001B[A\n",
      "OllamaEmbeddings:  75%|███████▍  | 717/962 [1:52:14<36:17,  8.89s/it]\u001B[A\n",
      "OllamaEmbeddings:  75%|███████▍  | 718/962 [1:52:18<30:26,  7.49s/it]\u001B[A\n",
      "OllamaEmbeddings:  75%|███████▍  | 719/962 [1:52:27<31:36,  7.80s/it]\u001B[A\n",
      "OllamaEmbeddings:  75%|███████▍  | 720/962 [1:52:36<33:34,  8.32s/it]\u001B[A\n",
      "OllamaEmbeddings:  75%|███████▍  | 721/962 [1:52:45<33:25,  8.32s/it]\u001B[A\n",
      "OllamaEmbeddings:  75%|███████▌  | 722/962 [1:52:55<35:31,  8.88s/it]\u001B[A\n",
      "OllamaEmbeddings:  75%|███████▌  | 723/962 [1:53:07<38:42,  9.72s/it]\u001B[A\n",
      "OllamaEmbeddings:  75%|███████▌  | 724/962 [1:53:14<35:30,  8.95s/it]\u001B[A\n",
      "OllamaEmbeddings:  75%|███████▌  | 725/962 [1:53:22<34:40,  8.78s/it]\u001B[A\n",
      "OllamaEmbeddings:  75%|███████▌  | 726/962 [1:53:31<34:57,  8.89s/it]\u001B[A\n",
      "OllamaEmbeddings:  76%|███████▌  | 727/962 [1:53:38<31:52,  8.14s/it]\u001B[A\n",
      "OllamaEmbeddings:  76%|███████▌  | 728/962 [1:53:49<35:33,  9.12s/it]\u001B[A\n",
      "OllamaEmbeddings:  76%|███████▌  | 729/962 [1:53:59<35:56,  9.25s/it]\u001B[A\n",
      "OllamaEmbeddings:  76%|███████▌  | 730/962 [1:54:10<38:22,  9.92s/it]\u001B[A\n",
      "OllamaEmbeddings:  76%|███████▌  | 731/962 [1:54:12<28:47,  7.48s/it]\u001B[A\n",
      "OllamaEmbeddings:  76%|███████▌  | 732/962 [1:54:20<29:39,  7.74s/it]\u001B[A\n",
      "OllamaEmbeddings:  76%|███████▌  | 733/962 [1:54:28<30:00,  7.86s/it]\u001B[A\n",
      "OllamaEmbeddings:  76%|███████▋  | 734/962 [1:54:38<32:03,  8.44s/it]\u001B[A\n",
      "OllamaEmbeddings:  76%|███████▋  | 735/962 [1:54:46<31:41,  8.38s/it]\u001B[A\n",
      "OllamaEmbeddings:  77%|███████▋  | 736/962 [1:54:55<31:26,  8.35s/it]\u001B[A\n",
      "OllamaEmbeddings:  77%|███████▋  | 737/962 [1:55:04<32:11,  8.59s/it]\u001B[A\n",
      "OllamaEmbeddings:  77%|███████▋  | 738/962 [1:55:14<33:26,  8.96s/it]\u001B[A\n",
      "OllamaEmbeddings:  77%|███████▋  | 739/962 [1:55:23<33:51,  9.11s/it]\u001B[A\n",
      "OllamaEmbeddings:  77%|███████▋  | 740/962 [1:55:29<29:53,  8.08s/it]\u001B[A\n",
      "OllamaEmbeddings:  77%|███████▋  | 741/962 [1:55:40<33:08,  9.00s/it]\u001B[A\n",
      "OllamaEmbeddings:  77%|███████▋  | 742/962 [1:55:47<30:33,  8.34s/it]\u001B[A\n",
      "OllamaEmbeddings:  77%|███████▋  | 743/962 [1:55:56<31:23,  8.60s/it]\u001B[A\n",
      "OllamaEmbeddings:  77%|███████▋  | 744/962 [1:56:02<28:31,  7.85s/it]\u001B[A\n",
      "OllamaEmbeddings:  77%|███████▋  | 745/962 [1:56:10<28:49,  7.97s/it]\u001B[A\n",
      "OllamaEmbeddings:  78%|███████▊  | 746/962 [1:56:18<28:30,  7.92s/it]\u001B[A\n",
      "OllamaEmbeddings:  78%|███████▊  | 747/962 [1:56:28<30:20,  8.47s/it]\u001B[A\n",
      "OllamaEmbeddings:  78%|███████▊  | 748/962 [1:56:29<22:51,  6.41s/it]\u001B[A\n",
      "OllamaEmbeddings:  78%|███████▊  | 749/962 [1:56:39<26:35,  7.49s/it]\u001B[A\n",
      "OllamaEmbeddings:  78%|███████▊  | 750/962 [1:56:44<23:46,  6.73s/it]\u001B[A\n",
      "OllamaEmbeddings:  78%|███████▊  | 751/962 [1:56:52<25:04,  7.13s/it]\u001B[A\n",
      "OllamaEmbeddings:  78%|███████▊  | 752/962 [1:56:58<23:31,  6.72s/it]\u001B[A\n",
      "OllamaEmbeddings:  78%|███████▊  | 753/962 [1:57:09<27:52,  8.00s/it]\u001B[A\n",
      "OllamaEmbeddings:  78%|███████▊  | 754/962 [1:57:13<23:43,  6.84s/it]\u001B[A\n",
      "OllamaEmbeddings:  78%|███████▊  | 755/962 [1:57:22<25:00,  7.25s/it]\u001B[A\n",
      "OllamaEmbeddings:  79%|███████▊  | 756/962 [1:57:31<26:54,  7.84s/it]\u001B[A\n",
      "OllamaEmbeddings:  79%|███████▊  | 757/962 [1:57:36<24:32,  7.18s/it]\u001B[A\n",
      "OllamaEmbeddings:  79%|███████▉  | 758/962 [1:57:45<25:42,  7.56s/it]\u001B[A\n",
      "OllamaEmbeddings:  79%|███████▉  | 759/962 [1:57:55<27:47,  8.21s/it]\u001B[A\n",
      "OllamaEmbeddings:  79%|███████▉  | 760/962 [1:58:05<30:11,  8.97s/it]\u001B[A\n",
      "OllamaEmbeddings:  79%|███████▉  | 761/962 [1:58:15<30:42,  9.16s/it]\u001B[A\n",
      "OllamaEmbeddings:  79%|███████▉  | 762/962 [1:58:25<31:54,  9.57s/it]\u001B[A\n",
      "OllamaEmbeddings:  79%|███████▉  | 763/962 [1:58:36<32:36,  9.83s/it]\u001B[A\n",
      "OllamaEmbeddings:  79%|███████▉  | 764/962 [1:58:48<34:34, 10.48s/it]\u001B[A\n",
      "OllamaEmbeddings:  80%|███████▉  | 765/962 [1:58:53<29:01,  8.84s/it]\u001B[A\n",
      "OllamaEmbeddings:  80%|███████▉  | 766/962 [1:59:01<28:00,  8.57s/it]\u001B[A\n",
      "OllamaEmbeddings:  80%|███████▉  | 767/962 [1:59:12<30:27,  9.37s/it]\u001B[A\n",
      "OllamaEmbeddings:  80%|███████▉  | 768/962 [1:59:22<31:13,  9.66s/it]\u001B[A\n",
      "OllamaEmbeddings:  80%|███████▉  | 769/962 [1:59:33<31:35,  9.82s/it]\u001B[A\n",
      "OllamaEmbeddings:  80%|████████  | 770/962 [1:59:43<31:49,  9.94s/it]\u001B[A\n",
      "OllamaEmbeddings:  80%|████████  | 771/962 [1:59:54<32:38, 10.25s/it]\u001B[A\n",
      "OllamaEmbeddings:  80%|████████  | 772/962 [2:00:03<31:51, 10.06s/it]\u001B[A\n",
      "OllamaEmbeddings:  80%|████████  | 773/962 [2:00:14<32:03, 10.18s/it]\u001B[A\n",
      "OllamaEmbeddings:  80%|████████  | 774/962 [2:00:19<27:03,  8.63s/it]\u001B[A\n",
      "OllamaEmbeddings:  81%|████████  | 775/962 [2:00:31<30:02,  9.64s/it]\u001B[A\n",
      "OllamaEmbeddings:  81%|████████  | 776/962 [2:00:34<23:49,  7.69s/it]\u001B[A\n",
      "OllamaEmbeddings:  81%|████████  | 777/962 [2:00:38<20:25,  6.62s/it]\u001B[A\n",
      "OllamaEmbeddings:  81%|████████  | 778/962 [2:00:47<22:12,  7.24s/it]\u001B[A\n",
      "OllamaEmbeddings:  81%|████████  | 779/962 [2:00:53<21:00,  6.89s/it]\u001B[A\n",
      "OllamaEmbeddings:  81%|████████  | 780/962 [2:01:05<25:40,  8.46s/it]\u001B[A\n",
      "OllamaEmbeddings:  81%|████████  | 781/962 [2:01:16<27:37,  9.16s/it]\u001B[A\n",
      "OllamaEmbeddings:  81%|████████▏ | 782/962 [2:01:28<30:14, 10.08s/it]\u001B[A\n",
      "OllamaEmbeddings:  81%|████████▏ | 783/962 [2:01:34<26:06,  8.75s/it]\u001B[A\n",
      "OllamaEmbeddings:  81%|████████▏ | 784/962 [2:01:45<28:04,  9.46s/it]\u001B[A\n",
      "OllamaEmbeddings:  82%|████████▏ | 785/962 [2:01:56<29:19,  9.94s/it]\u001B[A\n",
      "OllamaEmbeddings:  82%|████████▏ | 786/962 [2:02:05<28:02,  9.56s/it]\u001B[A\n",
      "OllamaEmbeddings:  82%|████████▏ | 787/962 [2:02:17<30:50, 10.58s/it]\u001B[A\n",
      "OllamaEmbeddings:  82%|████████▏ | 788/962 [2:02:25<28:15,  9.75s/it]\u001B[A\n",
      "OllamaEmbeddings:  82%|████████▏ | 789/962 [2:02:34<27:10,  9.43s/it]\u001B[A\n",
      "OllamaEmbeddings:  82%|████████▏ | 790/962 [2:02:45<28:27,  9.93s/it]\u001B[A\n",
      "OllamaEmbeddings:  82%|████████▏ | 791/962 [2:02:57<29:45, 10.44s/it]\u001B[A\n",
      "OllamaEmbeddings:  82%|████████▏ | 792/962 [2:03:08<30:01, 10.60s/it]\u001B[A\n",
      "OllamaEmbeddings:  82%|████████▏ | 793/962 [2:03:17<28:48, 10.23s/it]\u001B[A\n",
      "OllamaEmbeddings:  83%|████████▎ | 794/962 [2:03:28<29:06, 10.40s/it]\u001B[A\n",
      "OllamaEmbeddings:  83%|████████▎ | 795/962 [2:03:32<23:52,  8.58s/it]\u001B[A\n",
      "OllamaEmbeddings:  83%|████████▎ | 796/962 [2:03:41<24:01,  8.69s/it]\u001B[A\n",
      "OllamaEmbeddings:  83%|████████▎ | 797/962 [2:03:50<24:27,  8.89s/it]\u001B[A\n",
      "OllamaEmbeddings:  83%|████████▎ | 798/962 [2:04:01<25:57,  9.50s/it]\u001B[A\n",
      "OllamaEmbeddings:  83%|████████▎ | 799/962 [2:04:13<27:31, 10.13s/it]\u001B[A\n",
      "OllamaEmbeddings:  83%|████████▎ | 800/962 [2:04:24<27:44, 10.27s/it]\u001B[A\n",
      "OllamaEmbeddings:  83%|████████▎ | 801/962 [2:04:31<25:16,  9.42s/it]\u001B[A\n",
      "OllamaEmbeddings:  83%|████████▎ | 802/962 [2:04:42<25:58,  9.74s/it]\u001B[A\n",
      "OllamaEmbeddings:  83%|████████▎ | 803/962 [2:04:49<23:39,  8.93s/it]\u001B[A\n",
      "OllamaEmbeddings:  84%|████████▎ | 804/962 [2:04:59<24:27,  9.29s/it]\u001B[A\n",
      "OllamaEmbeddings:  84%|████████▎ | 805/962 [2:05:10<25:42,  9.83s/it]\u001B[A\n",
      "OllamaEmbeddings:  84%|████████▍ | 806/962 [2:05:15<22:01,  8.47s/it]\u001B[A\n",
      "OllamaEmbeddings:  84%|████████▍ | 807/962 [2:05:28<25:02,  9.69s/it]\u001B[A\n",
      "OllamaEmbeddings:  84%|████████▍ | 808/962 [2:05:32<21:05,  8.22s/it]\u001B[A\n",
      "OllamaEmbeddings:  84%|████████▍ | 809/962 [2:05:44<23:32,  9.23s/it]\u001B[A\n",
      "OllamaEmbeddings:  84%|████████▍ | 810/962 [2:05:54<23:44,  9.37s/it]\u001B[A\n",
      "OllamaEmbeddings:  84%|████████▍ | 811/962 [2:06:03<23:45,  9.44s/it]\u001B[A\n",
      "OllamaEmbeddings:  84%|████████▍ | 812/962 [2:06:11<22:13,  8.89s/it]\u001B[A\n",
      "OllamaEmbeddings:  85%|████████▍ | 813/962 [2:06:19<21:50,  8.79s/it]\u001B[A\n",
      "OllamaEmbeddings:  85%|████████▍ | 814/962 [2:06:30<22:48,  9.24s/it]\u001B[A\n",
      "OllamaEmbeddings:  85%|████████▍ | 815/962 [2:06:36<20:09,  8.23s/it]\u001B[A\n",
      "OllamaEmbeddings:  85%|████████▍ | 816/962 [2:06:48<22:58,  9.44s/it]\u001B[A\n",
      "OllamaEmbeddings:  85%|████████▍ | 817/962 [2:06:58<23:05,  9.55s/it]\u001B[A\n",
      "OllamaEmbeddings:  85%|████████▌ | 818/962 [2:07:10<24:35, 10.25s/it]\u001B[A\n",
      "OllamaEmbeddings:  85%|████████▌ | 819/962 [2:07:23<26:26, 11.10s/it]\u001B[A\n",
      "OllamaEmbeddings:  85%|████████▌ | 820/962 [2:07:27<21:11,  8.96s/it]\u001B[A\n",
      "OllamaEmbeddings:  85%|████████▌ | 821/962 [2:07:38<22:42,  9.67s/it]\u001B[A\n",
      "OllamaEmbeddings:  85%|████████▌ | 822/962 [2:07:48<22:55,  9.83s/it]\u001B[A\n",
      "OllamaEmbeddings:  86%|████████▌ | 823/962 [2:07:59<23:41, 10.23s/it]\u001B[A\n",
      "OllamaEmbeddings:  86%|████████▌ | 824/962 [2:08:09<22:50,  9.93s/it]\u001B[A\n",
      "OllamaEmbeddings:  86%|████████▌ | 825/962 [2:08:20<23:40, 10.37s/it]\u001B[A\n",
      "OllamaEmbeddings:  86%|████████▌ | 826/962 [2:08:29<22:38,  9.99s/it]\u001B[A\n",
      "OllamaEmbeddings:  86%|████████▌ | 827/962 [2:08:36<20:19,  9.03s/it]\u001B[A\n",
      "OllamaEmbeddings:  86%|████████▌ | 828/962 [2:08:47<21:37,  9.68s/it]\u001B[A\n",
      "OllamaEmbeddings:  86%|████████▌ | 829/962 [2:08:56<20:55,  9.44s/it]\u001B[A\n",
      "OllamaEmbeddings:  86%|████████▋ | 830/962 [2:09:00<17:03,  7.75s/it]\u001B[A\n",
      "OllamaEmbeddings:  86%|████████▋ | 831/962 [2:09:12<19:48,  9.07s/it]\u001B[A\n",
      "OllamaEmbeddings:  86%|████████▋ | 832/962 [2:09:22<20:21,  9.40s/it]\u001B[A\n",
      "OllamaEmbeddings:  87%|████████▋ | 833/962 [2:09:32<20:46,  9.66s/it]\u001B[A\n",
      "OllamaEmbeddings:  87%|████████▋ | 834/962 [2:09:43<21:15,  9.97s/it]\u001B[A\n",
      "OllamaEmbeddings:  87%|████████▋ | 835/962 [2:09:52<20:44,  9.80s/it]\u001B[A\n",
      "OllamaEmbeddings:  87%|████████▋ | 836/962 [2:10:04<21:57, 10.45s/it]\u001B[A\n",
      "OllamaEmbeddings:  87%|████████▋ | 837/962 [2:10:15<22:06, 10.61s/it]\u001B[A\n",
      "OllamaEmbeddings:  87%|████████▋ | 838/962 [2:10:26<21:50, 10.57s/it]\u001B[A\n",
      "OllamaEmbeddings:  87%|████████▋ | 839/962 [2:10:37<22:03, 10.76s/it]\u001B[A\n",
      "OllamaEmbeddings:  87%|████████▋ | 840/962 [2:10:47<21:24, 10.53s/it]\u001B[A\n",
      "OllamaEmbeddings:  87%|████████▋ | 841/962 [2:10:55<19:37,  9.73s/it]\u001B[A\n",
      "OllamaEmbeddings:  88%|████████▊ | 842/962 [2:11:02<18:09,  9.08s/it]\u001B[A\n",
      "OllamaEmbeddings:  88%|████████▊ | 843/962 [2:11:14<19:12,  9.68s/it]\u001B[A\n",
      "OllamaEmbeddings:  88%|████████▊ | 844/962 [2:11:22<18:06,  9.21s/it]\u001B[A\n",
      "OllamaEmbeddings:  88%|████████▊ | 845/962 [2:11:25<14:39,  7.52s/it]\u001B[A\n",
      "OllamaEmbeddings:  88%|████████▊ | 846/962 [2:11:37<16:52,  8.73s/it]\u001B[A\n",
      "OllamaEmbeddings:  88%|████████▊ | 847/962 [2:11:47<17:31,  9.14s/it]\u001B[A\n",
      "OllamaEmbeddings:  88%|████████▊ | 848/962 [2:11:56<17:37,  9.28s/it]\u001B[A\n",
      "OllamaEmbeddings:  88%|████████▊ | 849/962 [2:12:09<19:06, 10.14s/it]\u001B[A\n",
      "OllamaEmbeddings:  88%|████████▊ | 850/962 [2:12:18<18:20,  9.82s/it]\u001B[A\n",
      "OllamaEmbeddings:  88%|████████▊ | 851/962 [2:12:25<16:31,  8.94s/it]\u001B[A\n",
      "OllamaEmbeddings:  89%|████████▊ | 852/962 [2:12:30<14:28,  7.90s/it]\u001B[A\n",
      "OllamaEmbeddings:  89%|████████▊ | 853/962 [2:12:41<15:58,  8.79s/it]\u001B[A\n",
      "OllamaEmbeddings:  89%|████████▉ | 854/962 [2:12:49<15:39,  8.70s/it]\u001B[A\n",
      "OllamaEmbeddings:  89%|████████▉ | 855/962 [2:12:58<15:34,  8.73s/it]\u001B[A\n",
      "OllamaEmbeddings:  89%|████████▉ | 856/962 [2:13:07<15:19,  8.67s/it]\u001B[A\n",
      "OllamaEmbeddings:  89%|████████▉ | 857/962 [2:13:14<14:21,  8.21s/it]\u001B[A\n",
      "OllamaEmbeddings:  89%|████████▉ | 858/962 [2:13:25<15:51,  9.15s/it]\u001B[A\n",
      "OllamaEmbeddings:  89%|████████▉ | 859/962 [2:13:34<15:43,  9.16s/it]\u001B[A\n",
      "OllamaEmbeddings:  89%|████████▉ | 860/962 [2:13:38<12:59,  7.65s/it]\u001B[A\n",
      "OllamaEmbeddings:  90%|████████▉ | 861/962 [2:13:53<16:12,  9.63s/it]\u001B[A\n",
      "OllamaEmbeddings:  90%|████████▉ | 862/962 [2:14:00<14:55,  8.95s/it]\u001B[A\n",
      "OllamaEmbeddings:  90%|████████▉ | 863/962 [2:14:06<13:20,  8.08s/it]\u001B[A\n",
      "OllamaEmbeddings:  90%|████████▉ | 864/962 [2:14:15<13:29,  8.26s/it]\u001B[A\n",
      "OllamaEmbeddings:  90%|████████▉ | 865/962 [2:14:24<13:38,  8.44s/it]\u001B[A\n",
      "OllamaEmbeddings:  90%|█████████ | 866/962 [2:14:32<13:40,  8.54s/it]\u001B[A\n",
      "OllamaEmbeddings:  90%|█████████ | 867/962 [2:14:42<13:56,  8.80s/it]\u001B[A\n",
      "OllamaEmbeddings:  90%|█████████ | 868/962 [2:14:50<13:25,  8.57s/it]\u001B[A\n",
      "OllamaEmbeddings:  90%|█████████ | 869/962 [2:14:59<13:27,  8.68s/it]\u001B[A\n",
      "OllamaEmbeddings:  90%|█████████ | 870/962 [2:15:10<14:34,  9.50s/it]\u001B[A\n",
      "OllamaEmbeddings:  91%|█████████ | 871/962 [2:15:18<13:33,  8.94s/it]\u001B[A\n",
      "OllamaEmbeddings:  91%|█████████ | 872/962 [2:15:26<12:52,  8.58s/it]\u001B[A\n",
      "OllamaEmbeddings:  91%|█████████ | 873/962 [2:15:35<13:04,  8.82s/it]\u001B[A\n",
      "OllamaEmbeddings:  91%|█████████ | 874/962 [2:15:47<14:28,  9.87s/it]\u001B[A\n",
      "OllamaEmbeddings:  91%|█████████ | 875/962 [2:15:53<12:25,  8.57s/it]\u001B[A\n",
      "OllamaEmbeddings:  91%|█████████ | 876/962 [2:16:03<12:51,  8.97s/it]\u001B[A\n",
      "OllamaEmbeddings:  91%|█████████ | 877/962 [2:16:08<11:11,  7.90s/it]\u001B[A\n",
      "OllamaEmbeddings:  91%|█████████▏| 878/962 [2:16:18<12:01,  8.59s/it]\u001B[A\n",
      "OllamaEmbeddings:  91%|█████████▏| 879/962 [2:16:30<13:11,  9.54s/it]\u001B[A\n",
      "OllamaEmbeddings:  91%|█████████▏| 880/962 [2:16:31<09:39,  7.06s/it]\u001B[A\n",
      "OllamaEmbeddings:  92%|█████████▏| 881/962 [2:16:45<12:12,  9.04s/it]\u001B[A\n",
      "OllamaEmbeddings:  92%|█████████▏| 882/962 [2:16:58<13:28, 10.11s/it]\u001B[A\n",
      "OllamaEmbeddings:  92%|█████████▏| 883/962 [2:17:08<13:29, 10.25s/it]\u001B[A\n",
      "OllamaEmbeddings:  92%|█████████▏| 884/962 [2:17:16<12:21,  9.51s/it]\u001B[A\n",
      "OllamaEmbeddings:  92%|█████████▏| 885/962 [2:17:23<11:13,  8.75s/it]\u001B[A\n",
      "OllamaEmbeddings:  92%|█████████▏| 886/962 [2:17:31<10:43,  8.46s/it]\u001B[A\n",
      "OllamaEmbeddings:  92%|█████████▏| 887/962 [2:17:36<09:26,  7.55s/it]\u001B[A\n",
      "OllamaEmbeddings:  92%|█████████▏| 888/962 [2:17:47<10:27,  8.48s/it]\u001B[A\n",
      "OllamaEmbeddings:  92%|█████████▏| 889/962 [2:17:56<10:32,  8.66s/it]\u001B[A\n",
      "OllamaEmbeddings:  93%|█████████▎| 890/962 [2:18:06<10:58,  9.15s/it]\u001B[A\n",
      "OllamaEmbeddings:  93%|█████████▎| 891/962 [2:18:12<09:38,  8.15s/it]\u001B[A\n",
      "OllamaEmbeddings:  93%|█████████▎| 892/962 [2:18:22<10:14,  8.78s/it]\u001B[A\n",
      "OllamaEmbeddings:  93%|█████████▎| 893/962 [2:18:32<10:26,  9.08s/it]\u001B[A\n",
      "OllamaEmbeddings:  93%|█████████▎| 894/962 [2:18:42<10:28,  9.24s/it]\u001B[A\n",
      "OllamaEmbeddings:  93%|█████████▎| 895/962 [2:18:50<09:49,  8.80s/it]\u001B[A\n",
      "OllamaEmbeddings:  93%|█████████▎| 896/962 [2:18:59<09:46,  8.88s/it]\u001B[A\n",
      "OllamaEmbeddings:  93%|█████████▎| 897/962 [2:19:09<10:12,  9.42s/it]\u001B[A\n",
      "OllamaEmbeddings:  93%|█████████▎| 898/962 [2:19:15<09:00,  8.44s/it]\u001B[A\n",
      "OllamaEmbeddings:  93%|█████████▎| 899/962 [2:19:26<09:40,  9.22s/it]\u001B[A\n",
      "OllamaEmbeddings:  94%|█████████▎| 900/962 [2:19:38<10:10,  9.84s/it]\u001B[A\n",
      "OllamaEmbeddings:  94%|█████████▎| 901/962 [2:19:40<07:40,  7.55s/it]\u001B[A\n",
      "OllamaEmbeddings:  94%|█████████▍| 902/962 [2:19:50<08:19,  8.33s/it]\u001B[A\n",
      "OllamaEmbeddings:  94%|█████████▍| 903/962 [2:19:59<08:26,  8.58s/it]\u001B[A\n",
      "OllamaEmbeddings:  94%|█████████▍| 904/962 [2:20:10<08:57,  9.26s/it]\u001B[A\n",
      "OllamaEmbeddings:  94%|█████████▍| 905/962 [2:20:16<07:44,  8.16s/it]\u001B[A\n",
      "OllamaEmbeddings:  94%|█████████▍| 906/962 [2:20:25<07:55,  8.48s/it]\u001B[A\n",
      "OllamaEmbeddings:  94%|█████████▍| 907/962 [2:20:36<08:20,  9.10s/it]\u001B[A\n",
      "OllamaEmbeddings:  94%|█████████▍| 908/962 [2:20:46<08:33,  9.50s/it]\u001B[A\n",
      "OllamaEmbeddings:  94%|█████████▍| 909/962 [2:20:54<08:07,  9.20s/it]\u001B[A\n",
      "OllamaEmbeddings:  95%|█████████▍| 910/962 [2:21:04<08:01,  9.26s/it]\u001B[A\n",
      "OllamaEmbeddings:  95%|█████████▍| 911/962 [2:21:11<07:27,  8.77s/it]\u001B[A\n",
      "OllamaEmbeddings:  95%|█████████▍| 912/962 [2:21:22<07:41,  9.22s/it]\u001B[A\n",
      "OllamaEmbeddings:  95%|█████████▍| 913/962 [2:21:31<07:36,  9.31s/it]\u001B[A\n",
      "OllamaEmbeddings:  95%|█████████▌| 914/962 [2:21:36<06:27,  8.07s/it]\u001B[A\n",
      "OllamaEmbeddings:  95%|█████████▌| 915/962 [2:21:48<07:02,  8.99s/it]\u001B[A\n",
      "OllamaEmbeddings:  95%|█████████▌| 916/962 [2:21:56<06:44,  8.80s/it]\u001B[A\n",
      "OllamaEmbeddings:  95%|█████████▌| 917/962 [2:22:07<07:03,  9.42s/it]\u001B[A\n",
      "OllamaEmbeddings:  95%|█████████▌| 918/962 [2:22:13<06:07,  8.35s/it]\u001B[A\n",
      "OllamaEmbeddings:  96%|█████████▌| 919/962 [2:22:20<05:48,  8.10s/it]\u001B[A\n",
      "OllamaEmbeddings:  96%|█████████▌| 920/962 [2:22:29<05:53,  8.42s/it]\u001B[A\n",
      "OllamaEmbeddings:  96%|█████████▌| 921/962 [2:22:37<05:40,  8.30s/it]\u001B[A\n",
      "OllamaEmbeddings:  96%|█████████▌| 922/962 [2:22:48<06:03,  9.09s/it]\u001B[A\n",
      "OllamaEmbeddings:  96%|█████████▌| 923/962 [2:22:54<05:11,  7.99s/it]\u001B[A\n",
      "OllamaEmbeddings:  96%|█████████▌| 924/962 [2:23:01<04:59,  7.87s/it]\u001B[A\n",
      "OllamaEmbeddings:  96%|█████████▌| 925/962 [2:23:12<05:25,  8.80s/it]\u001B[A\n",
      "OllamaEmbeddings:  96%|█████████▋| 926/962 [2:23:14<04:05,  6.82s/it]\u001B[A\n",
      "OllamaEmbeddings:  96%|█████████▋| 927/962 [2:23:25<04:34,  7.83s/it]\u001B[A\n",
      "OllamaEmbeddings:  96%|█████████▋| 928/962 [2:23:32<04:24,  7.78s/it]\u001B[A\n",
      "OllamaEmbeddings:  97%|█████████▋| 929/962 [2:23:42<04:33,  8.28s/it]\u001B[A\n",
      "OllamaEmbeddings:  97%|█████████▋| 930/962 [2:23:52<04:39,  8.72s/it]\u001B[A\n",
      "OllamaEmbeddings:  97%|█████████▋| 931/962 [2:24:02<04:51,  9.39s/it]\u001B[A\n",
      "OllamaEmbeddings:  97%|█████████▋| 932/962 [2:24:13<04:55,  9.84s/it]\u001B[A\n",
      "OllamaEmbeddings:  97%|█████████▋| 933/962 [2:24:18<03:57,  8.18s/it]\u001B[A\n",
      "OllamaEmbeddings:  97%|█████████▋| 934/962 [2:24:26<03:48,  8.15s/it]\u001B[A\n",
      "OllamaEmbeddings:  97%|█████████▋| 935/962 [2:24:31<03:18,  7.34s/it]\u001B[A\n",
      "OllamaEmbeddings:  97%|█████████▋| 936/962 [2:24:43<03:49,  8.81s/it]\u001B[A\n",
      "OllamaEmbeddings:  97%|█████████▋| 937/962 [2:24:52<03:38,  8.74s/it]\u001B[A\n",
      "OllamaEmbeddings:  98%|█████████▊| 938/962 [2:25:03<03:44,  9.37s/it]\u001B[A\n",
      "OllamaEmbeddings:  98%|█████████▊| 939/962 [2:25:12<03:35,  9.36s/it]\u001B[A\n",
      "OllamaEmbeddings:  98%|█████████▊| 940/962 [2:25:20<03:13,  8.82s/it]\u001B[A\n",
      "OllamaEmbeddings:  98%|█████████▊| 941/962 [2:25:29<03:05,  8.83s/it]\u001B[A\n",
      "OllamaEmbeddings:  98%|█████████▊| 942/962 [2:25:40<03:11,  9.60s/it]\u001B[A\n",
      "OllamaEmbeddings:  98%|█████████▊| 943/962 [2:25:43<02:24,  7.63s/it]\u001B[A\n",
      "OllamaEmbeddings:  98%|█████████▊| 944/962 [2:25:49<02:10,  7.26s/it]\u001B[A\n",
      "OllamaEmbeddings:  98%|█████████▊| 945/962 [2:25:59<02:17,  8.10s/it]\u001B[A\n",
      "OllamaEmbeddings:  98%|█████████▊| 946/962 [2:26:10<02:22,  8.91s/it]\u001B[A\n",
      "OllamaEmbeddings:  98%|█████████▊| 947/962 [2:26:12<01:40,  6.72s/it]\u001B[A\n",
      "OllamaEmbeddings:  99%|█████████▊| 948/962 [2:26:24<01:57,  8.41s/it]\u001B[A\n",
      "OllamaEmbeddings:  99%|█████████▊| 949/962 [2:26:31<01:44,  8.05s/it]\u001B[A\n",
      "OllamaEmbeddings:  99%|█████████▉| 950/962 [2:26:41<01:41,  8.47s/it]\u001B[A\n",
      "OllamaEmbeddings:  99%|█████████▉| 951/962 [2:26:48<01:29,  8.16s/it]\u001B[A\n",
      "OllamaEmbeddings:  99%|█████████▉| 952/962 [2:26:58<01:26,  8.62s/it]\u001B[A\n",
      "OllamaEmbeddings:  99%|█████████▉| 953/962 [2:27:06<01:16,  8.52s/it]\u001B[A\n",
      "OllamaEmbeddings:  99%|█████████▉| 954/962 [2:27:17<01:14,  9.28s/it]\u001B[A\n",
      "OllamaEmbeddings:  99%|█████████▉| 955/962 [2:27:20<00:50,  7.23s/it]\u001B[A\n",
      "OllamaEmbeddings:  99%|█████████▉| 956/962 [2:27:26<00:41,  6.95s/it]\u001B[A\n",
      "OllamaEmbeddings:  99%|█████████▉| 957/962 [2:27:31<00:31,  6.32s/it]\u001B[A\n",
      "OllamaEmbeddings: 100%|█████████▉| 958/962 [2:27:37<00:24,  6.10s/it]\u001B[A\n",
      "OllamaEmbeddings: 100%|█████████▉| 959/962 [2:27:47<00:22,  7.39s/it]\u001B[A\n",
      "OllamaEmbeddings: 100%|█████████▉| 960/962 [2:27:58<00:17,  8.53s/it]\u001B[A\n",
      "OllamaEmbeddings: 100%|█████████▉| 961/962 [2:28:03<00:07,  7.33s/it]\u001B[A\n",
      "OllamaEmbeddings: 100%|██████████| 962/962 [2:28:09<00:00,  9.24s/it]\u001B[A\n"
     ]
    }
   ],
   "execution_count": 23
  },
  {
   "metadata": {
    "ExecuteTime": {
     "end_time": "2024-05-19T12:27:29.314323Z",
     "start_time": "2024-05-19T12:23:58.069296Z"
    }
   },
   "cell_type": "code",
   "source": [
    "# for snowflake\n",
    "# db2 = DocArrayInMemorySearch.from_documents(documents, embedding=embeddings_llm) "
   ],
   "id": "9d2975291432835c",
   "outputs": [
    {
     "name": "stderr",
     "output_type": "stream",
     "text": [
      "OllamaEmbeddings: 100%|██████████| 219/219 [03:31<00:00,  1.04it/s]\n"
     ]
    }
   ],
   "execution_count": 171
  },
  {
   "metadata": {
    "ExecuteTime": {
     "end_time": "2024-05-17T11:45:50.399018Z",
     "start_time": "2024-05-17T11:45:50.393115Z"
    }
   },
   "cell_type": "code",
   "source": "embeddings_llm",
   "id": "a3d3887e46b81d48",
   "outputs": [
    {
     "data": {
      "text/plain": [
       "OpenAIEmbeddings(client=<openai.resources.embeddings.Embeddings object at 0x7f8b52977700>, async_client=<openai.resources.embeddings.AsyncEmbeddings object at 0x7f8b511c1360>, model='text-embedding-ada-002', dimensions=None, deployment='text-embedding-ada-002', openai_api_version='', openai_api_base=None, openai_api_type='', openai_proxy='', embedding_ctx_length=8191, openai_api_key=SecretStr('**********'), openai_organization=None, allowed_special=None, disallowed_special=None, chunk_size=1000, max_retries=2, request_timeout=None, headers=None, tiktoken_enabled=True, tiktoken_model_name=None, show_progress_bar=False, model_kwargs={}, skip_empty=False, default_headers=None, default_query=None, retry_min_seconds=4, retry_max_seconds=20, http_client=None, http_async_client=None, check_embedding_ctx_length=True)"
      ]
     },
     "execution_count": 88,
     "metadata": {},
     "output_type": "execute_result"
    }
   ],
   "execution_count": 88
  },
  {
   "metadata": {
    "ExecuteTime": {
     "end_time": "2024-05-21T15:16:37.057018Z",
     "start_time": "2024-05-21T15:16:20.896997Z"
    }
   },
   "cell_type": "code",
   "source": [
    "# for openai\n",
    "# db4 = DocArrayInMemorySearch.from_documents(documents, embedding=embeddings_llm)"
   ],
   "id": "4275c9eae893b756",
   "outputs": [],
   "execution_count": 36
  },
  {
   "metadata": {
    "ExecuteTime": {
     "end_time": "2024-05-16T08:36:51.818321Z",
     "start_time": "2024-05-16T08:36:51.637733Z"
    }
   },
   "cell_type": "code",
   "source": [
    "# load db from disk\n",
    "# db3 = Chroma(persist_directory=CHROMA_DB_PERSIST_PATH.as_posix(), embedding_function=embeddings_llm)\n",
    "# db3"
   ],
   "id": "e23dca038e93e09a",
   "outputs": [
    {
     "data": {
      "text/plain": [
       "<langchain_chroma.vectorstores.Chroma at 0x7a4368868cd0>"
      ]
     },
     "execution_count": 11,
     "metadata": {},
     "output_type": "execute_result"
    }
   ],
   "execution_count": 11
  },
  {
   "metadata": {
    "ExecuteTime": {
     "end_time": "2024-05-15T12:54:02.111819Z",
     "start_time": "2024-05-15T12:52:47.485742Z"
    }
   },
   "cell_type": "code",
   "source": "llm.invoke(\"Tu connais le Mali ?\")",
   "id": "cce602ed840cfae4",
   "outputs": [
    {
     "data": {
      "text/plain": [
       "\"\\nCet article sera écrit en anglais. Si vous préférez lire en français, voir notre autre article sur le Mali : <https://www.toutlemondeenligne.com/fr/mali>.\\n\\nThe Mali is a landlocked country located in West Africa. It has a population of approximately 18 million people and its official language is French, although Bambara, the most widely spoken local language, is also used in everyday life. The capital city of Mali is Bamako, which is located in the central part of the country.\\n\\nMali is known for its rich history and culture, as well as its natural beauty. Some popular attractions include the Dogon region, which is home to ancient rock formations and a unique way of life, and Timbuktu, an historic city that was once a major center of trade and learning in Africa.\\n\\nMali is also known for its beautiful landscapes, including vast savannas, rolling hills, and lush forests. Wildlife enthusiasts can enjoy activities such as bird watching, hiking, and camping in the country's national parks, which are home to a diverse range of flora and fauna.\\n\\nDespite its natural beauty and rich cultural heritage, Mali has faced significant challenges in recent years, including political instability, terrorism, and economic hardship. However, with the support of international partners, Mali is working to overcome these challenges and build a brighter future for its people.\""
      ]
     },
     "execution_count": 19,
     "metadata": {},
     "output_type": "execute_result"
    }
   ],
   "execution_count": 19
  },
  {
   "metadata": {},
   "cell_type": "markdown",
   "source": "## Retriever for RAG",
   "id": "59cd98ac136a801a"
  },
  {
   "metadata": {
    "ExecuteTime": {
     "end_time": "2024-05-21T15:16:52.066827Z",
     "start_time": "2024-05-21T15:16:52.061255Z"
    }
   },
   "cell_type": "code",
   "source": [
    "retriever = db.as_retriever(search_kwargs={\"k\": 10}) # Occiglot or sfr-embed\n",
    "# retriever = db2.as_retriever(search_kwargs={\"k\": 10}) # snowflake\n",
    "# retriever = db4.as_retriever(search_kwargs={\"k\": 10}) #openAI\n",
    "# retriever = db3.as_retriever(search_kwargs={\"k\": 5})\n",
    "retriever"
   ],
   "id": "c580b555761db9fc",
   "outputs": [
    {
     "data": {
      "text/plain": [
       "VectorStoreRetriever(tags=['DocArrayInMemorySearch'], vectorstore=<langchain_community.vectorstores.docarray.in_memory.DocArrayInMemorySearch object at 0x74d9a69c96f0>, search_kwargs={'k': 10})"
      ]
     },
     "execution_count": 37,
     "metadata": {},
     "output_type": "execute_result"
    }
   ],
   "execution_count": 37
  },
  {
   "metadata": {
    "ExecuteTime": {
     "end_time": "2024-05-19T12:28:45.118110Z",
     "start_time": "2024-05-19T12:28:44.799791Z"
    }
   },
   "cell_type": "code",
   "source": [
    "query = \"AES\" # snowflake older version\n",
    "retriever.invoke(query), len(retriever.invoke(query))"
   ],
   "id": "edc395197ac7abaa",
   "outputs": [
    {
     "name": "stderr",
     "output_type": "stream",
     "text": [
      "OllamaEmbeddings: 100%|██████████| 1/1 [00:00<00:00, 12.34it/s]\n",
      "OllamaEmbeddings: 100%|██████████| 1/1 [00:00<00:00,  6.69it/s]\n"
     ]
    },
    {
     "data": {
      "text/plain": [
       "([Document(page_content='l’Alliance des États du Sahel (AES)', metadata={'source': '/home/bouba/Workspace/kounafoni-app/data/malijet/source.csv', 'row': 2}),\n",
       "  Document(page_content='mutuelle', metadata={'source': '/home/bouba/Workspace/kounafoni-app/data/malijet/source.csv', 'row': 2}),\n",
       "  Document(page_content='mai', metadata={'source': '/home/bouba/Workspace/kounafoni-app/data/malijet/source.csv', 'row': 0}),\n",
       "  Document(page_content='»', metadata={'source': '/home/bouba/Workspace/kounafoni-app/data/malijet/source.csv', 'row': 0}),\n",
       "  Document(page_content='des principes démocratiques, entre autres', metadata={'source': '/home/bouba/Workspace/kounafoni-app/data/malijet/source.csv', 'row': 0}),\n",
       "  Document(page_content='pour la paix et la réconciliation nationale', metadata={'source': '/home/bouba/Workspace/kounafoni-app/data/malijet/source.csv', 'row': 5}),\n",
       "  Document(page_content='S. Guindo/Malijet.com', metadata={'source': '/home/bouba/Workspace/kounafoni-app/data/malijet/source.csv', 'row': 3}),\n",
       "  Document(page_content='Bureau de l’Information et de la Presse/MAECI', metadata={'source': '/home/bouba/Workspace/kounafoni-app/data/malijet/source.csv', 'row': 2}),\n",
       "  Document(page_content='consulats du Mali et dans les universités de Bamako et de Ségou', metadata={'source': '/home/bouba/Workspace/kounafoni-app/data/malijet/source.csv', 'row': 4}),\n",
       "  Document(page_content='matière de bonnes pratiques contre ce fléau', metadata={'source': '/home/bouba/Workspace/kounafoni-app/data/malijet/source.csv', 'row': 3})],\n",
       " 10)"
      ]
     },
     "execution_count": 173,
     "metadata": {},
     "output_type": "execute_result"
    }
   ],
   "execution_count": 173
  },
  {
   "metadata": {
    "ExecuteTime": {
     "end_time": "2024-05-21T15:17:08.664860Z",
     "start_time": "2024-05-21T15:17:08.659678Z"
    }
   },
   "cell_type": "code",
   "source": [
    "# Prompt template\n",
    "template = \"\"\"\n",
    "Réponds à la question uniquement grâce au contexte suivant et uniquement en langue française.\n",
    "Si tu n'as pas de réponse explicite dans le contexte, réponds \"Je n'ai pas assez d'informations pour répondre correctement\".\n",
    "\n",
    "Contexte : {context}\n",
    "\n",
    "Question : {question}\n",
    "\"\"\"\n",
    "\n",
    "prompt = ChatPromptTemplate.from_template(template)"
   ],
   "id": "e04b7feeb5790a7b",
   "outputs": [],
   "execution_count": 38
  },
  {
   "metadata": {
    "ExecuteTime": {
     "end_time": "2024-05-21T15:17:09.055190Z",
     "start_time": "2024-05-21T15:17:09.051384Z"
    }
   },
   "cell_type": "code",
   "source": [
    "def format_docs(docs):\n",
    "    print([d.page_content for d in docs])\n",
    "    return \"\\n\\n\".join([d.page_content for d in docs])\n",
    "\n",
    "chain = (\n",
    "    {\"context\": retriever | format_docs, \"question\": RunnablePassthrough()}\n",
    "    | prompt\n",
    "    | llm\n",
    "    | StrOutputParser()\n",
    ")\n"
   ],
   "id": "b6beb2a70ad859d3",
   "outputs": [],
   "execution_count": 39
  },
  {
   "metadata": {
    "ExecuteTime": {
     "end_time": "2024-05-21T14:01:07.493934Z",
     "start_time": "2024-05-21T14:01:07.474079Z"
    }
   },
   "cell_type": "code",
   "source": [
    "questions = [\n",
    "    # \"Qui est Oumar Diarra ?\",\n",
    "    # \"Quels sont les actions de l'EUTM ?\",\n",
    "    # \"Cite moi les recommandations retenues lors du dialogue inter malien\",\n",
    "    # \"Quand finit la mission de l'union européenne ?\",\n",
    "    # \"Actualités sur la DIRPA\",\n",
    "    # \"Parle moi de l'agriculture au Mali\",\n",
    "    # \"Que font les FAMA actuellement ?\"\n",
    "    \n",
    "    \"Parle moi du nouveau vérificateur général\",\n",
    "    \"Résume moi en quelques points les dernières actualités maintenant\",\n",
    "    \"Où en est la relation Mali et Russie ?\",\n",
    "    \"Qui est Bassaro Haïdara ?\",\n",
    "    \"Qu'est ce que Assimi a fait récemment ?\",\n",
    "    \"Le dialogie inter malien est il terminé ?\",\n",
    "    \"Qui sont les membres de l'AES ?\",\n",
    "    \"Comment a été la journée du 1er Mai au Mali ?\",\n",
    "    \"Donne moi la date la plus récente des informations dont tu disposes\",\n",
    "    \"Qu'en est il de la crise sécuritaire au Mali ?\",\n",
    "    \"La Belgique a t elle récemment collaborée avec le Mali ?\" # question bonus (must return I dont know)\n",
    "]\n",
    "len(questions)"
   ],
   "id": "e2c25a9197388c95",
   "outputs": [
    {
     "data": {
      "text/plain": [
       "11"
      ]
     },
     "execution_count": 30,
     "metadata": {},
     "output_type": "execute_result"
    }
   ],
   "execution_count": 30
  },
  {
   "metadata": {
    "ExecuteTime": {
     "end_time": "2024-05-21T14:43:27.732413Z",
     "start_time": "2024-05-21T14:01:09.548047Z"
    }
   },
   "cell_type": "code",
   "source": [
    "# for open source models\n",
    "for q in questions:\n",
    "    print(q)\n",
    "    print(chain.invoke(q))\n",
    "    print('-'*50, \"\\n\")"
   ],
   "id": "89bb453fad174648",
   "outputs": [
    {
     "name": "stdout",
     "output_type": "stream",
     "text": [
      "Parle moi du nouveau vérificateur général\n"
     ]
    },
    {
     "name": "stderr",
     "output_type": "stream",
     "text": [
      "\n",
      "OllamaEmbeddings:   0%|          | 0/1 [00:00<?, ?it/s]\u001B[A\n",
      "OllamaEmbeddings: 100%|██████████| 1/1 [00:04<00:00,  4.62s/it]\u001B[A\n"
     ]
    },
    {
     "name": "stdout",
     "output_type": "stream",
     "text": [
      "['L’audience était présidée par le vice-président de la Cour suprême, Moussa Diarra, qui avait à ses côtés  Hamadoun Cissé et Tiécoura Mallé. A l’ouverture de la séance, le greffier a lu la décision du Vérificateur général, Samba Alhamdou Baby, portant nomination du nouveau vérificateur', 'et de Jeunes et les autorités administratives indépendantes', 'Les conclusions qui fâchent sont relatives à la nouvelle prorogation de la transition, à la relecture de la Charte de la transition, à l’appel à la candidature de Assimi GOITA, à l’élévation des jeunes officiers au grade du général', 'la corruption ; l’affichage de tous les tarifs des actes et prestations dans ces domaines et la mise en place rapide de la législation sur la protection des lanceurs d’alerte', 'content: Il est 9 heures lorsque Mohamed Daou, Vérificateur spécialisé en marchés publics au Bureau du Vérificateur général est appelé à la barre où il doit prêter serment devant la Cour suprême. C’était en présence de ses collègues, de ses proches et du directeur de la formation, de la documentation et du personnel, Drissa Mamadou Coulibaly', 'de Femmes et de Jeunes et les autorités administratives indépendantes', 'C’est pourquoi, dira-t-il, depuis quelques années, d’importantes réformes ont été entreprises pour renforcer le cadre institutionnel', 'Et comme vous l’avez instruit, le Comité de Pilotage, tout le long du processus, a usé de tous les moyens mis à sa disposition, de tous les mécanismes et stratégies endogènes pour faire de cette initiative présidentielle un processus inclusif. L’inclusivité a été la trame du travail en profondeur du Comité de Pilotage', 'le contrôle la ligne éditoriale des prêches', 'En 2013, ils ont ouvertement battu campagne dans les mosquées pour  le Candidat feu Ibrahima Boubacar Keita (IBK) qui finira par être élu Président de la République. Comme si cela ne suffisait pas, ils proposaient des personnes à des postes de haut niveau administratif et militaire']\n",
      "Le nouveau Vérificateur Général est Samba Alhamdou Baby. Il a été nommé par la Cour Suprême lors d'une audience présidée par le Vice-Président de la Cour, Moussa Diarra, en présence de Hamadoun Cissé et Tiecoura Malle.\n",
      "-------------------------------------------------- \n",
      "\n",
      "Résume moi en quelques points les dernières actualités maintenant\n"
     ]
    },
    {
     "name": "stderr",
     "output_type": "stream",
     "text": [
      "\n",
      "OllamaEmbeddings:   0%|          | 0/1 [00:00<?, ?it/s]\u001B[A\n",
      "OllamaEmbeddings: 100%|██████████| 1/1 [00:11<00:00, 11.47s/it]\u001B[A\n"
     ]
    },
    {
     "name": "stdout",
     "output_type": "stream",
     "text": [
      "['Ces braves hommes et femmes en tenue ont survécu, ont approché la mort, ont été attaqués et ont patienté de longues années avant que leur mission ne passe pour prioritaire aujourd’hui', 'ceux et celles qui n’ont pas pris part au Dialogue Directe inter-maliens de les rejoindre', 'dont nous vivons les premiers instants ici et ensemble', 'Ces pourparlers directs sans ingérence extérieure visent à permettre des solutions endogènes à la crise que traverse le pays depuis plus d’une décennie. Et depuis cette annonce, les choses sont allées vite et même très vite', 'Ces installations modernes sont conçues pour répondre aux standards internationaux et visent à renforcer l’autosuffisance du Mali dans ces secteurs clés. La mise en service de ce complexe industriel est imminente, et Seydou KEÏTA a assuré que les portes s’ouvriraient très prochainement', 'Jiddou dit Zeidane et Moustaph Koné respectivement directeur et animateur de la radio Coton d’Ansongo dont nous sommes encore sans nouvelles', 'Il a mis en lumière l’engagement du Comité de Pilotage à respecter la diversité d’opinions et culturelle, et à interdire toute forme de discours haineux. Les discussions ont abordé des thématiques directement liées à la vie socioéconomique et culturelle des Maliens, incluant la paix, la réconciliation nationale, les questions politiques, économiques, sécuritaires, et géopolitiques', 'Elle est célébrée au moment où l’environnement médiatique est déchiré entre les défis à affronter, les menaces pesant sur elle et sa vitalité voire sa survie dans ces conditions. Chaque année, la presse malienne célèbre le 3 mai à travers des sous-thèmes reflétant les réalités et préoccupations nationales', 'Attention, mes Colonels ! Le Dialogue Direct Inter-Maliens sans les principaux protagonistes Civils et Militaires de l’Adrar des Ifoghas et du Maasina est plutôt un Monologue entre Initiés du KOMO ! Et sans la classe Politique dont les activités sont suspendues, ce Dialogue devient une Causerie entre Camarades et Amis qui conviennent que la cause est entendue', \"En effet durant 5 jours, l'ensemble des délégués venant des régions et de la diaspora échangerons autour des résultats obtenus lors des phases antérieures. Il s'agira pour eux de trouver des solutions maliennes aux problèmes maliens\"]\n",
      "Les dernières actualités concernent principalement le Dialogue Direct Inter-Maliens, qui vise à trouver des solutions endogènes pour résoudre la crise que traverse le pays depuis plus d'une décennie. Les discussions ont abordé des thématiques liées à la vie socioéconomique et culturelle des Maliens, incluant la paix, la réconciliation nationale, les questions politiques, économiques, sécuritaires et géopolitiques. Le Comité de Pilotage a mis en lumière l'engagement à respecter la diversité d'opinions et culturelle, ainsi qu'à interdire tout discours haineux.\n",
      "-------------------------------------------------- \n",
      "\n",
      "Où en est la relation Mali et Russie ?\n"
     ]
    },
    {
     "name": "stderr",
     "output_type": "stream",
     "text": [
      "\n",
      "OllamaEmbeddings:   0%|          | 0/1 [00:00<?, ?it/s]\u001B[A\n",
      "OllamaEmbeddings: 100%|██████████| 1/1 [00:06<00:00,  6.43s/it]\u001B[A\n"
     ]
    },
    {
     "name": "stdout",
     "output_type": "stream",
     "text": [
      "['Vive le Dialogue Inter-Maliens ! Vive la Paix et la Réconciliation nationale ! Vive le Mali Eternel ! Je vous remercie !', 'L’appui de la Russie leur offre une grande autonomie dans les décisions patriotiques qu’ils prennent En ce sens, ce qui vaut pour la Mauritanie vaut pour l’Algérie, avec qui le Mali est engagé auprès de la Russie et tous deux n’adoubent pas trop les Français', 'A.T.Dansoko/Malijet.com', 'Par Adama Coulibaly', 'On retient de cette cérémonie d’ouverture, une participation à la hauteur de l’événement, la volonté affichée des autorités d’aller vers une paix durable et l’engouement de la population à prendre part aux discussions.  AFANOU KADIA DOUMBIA/Malijet.com', \"Au sortir de cet atelier d'information et d'échanges, les médias conviés ont eu d'amples explications sur le contour et les enjeux du Dialogue inter-Maliens pour la Paix et la réconciliation nationale.   AFANOU KADIA DOUMBIA/Malijet.com\", \"Lors des échanges, des techniques et des stratégies ont été discutées pour lutter contre les fausses nouvelles. Le Doyen Cissé a présenté les résultats d'une étude sous sa direction, révélant que les fausses nouvelles existent depuis longtemps, mais qu'elles ont récemment pris de l'ampleur, mettant ainsi tout le monde en danger.   Kandana/Malijet.com\", 'Elle vient s’ajouter à d’autres initiatives de lutte contre le terrorisme comme le bataillon autonome des forces spéciales et des Centres d’aguerrissement. La Fira n’a pas été créée pour des actions subversives. Il ne faut pas que les Maliens voient le mal partout”, nous a expliqué un haut cadre de l’armée.', 'Pour rappel, l’objectif de ce salon d’exposition est de pouvoir réunir si possible, tous les hommes de médias autour d’un idéal commun, qu’est l’épanouissement du métier de journaliste.  A.T.Dansoko/Malijet.com', \"La réalisation de ces infrastructures routières favorisera le développement économique du pays, la fluidité de la circulation des personnes et des biens, ainsi qu'une meilleure sécurisation des lieux. Zana/Malijet.com\"]\n",
      "La relation entre le Mali et la Russie est actuellement marquée par un soutien mutuel dans les domaines de la sécurité, de l'économie et des relations internationales. Le Mali a sollicité l'aide militaire de la Russie pour lutter contre les groupes terroristes présents sur son territoire, tandis que la Russie soutient le dialogue inter-malien visant à favoriser la paix et la réconciliation nationale. Les deux pays ont également établi des partenariats économiques, notamment dans les secteurs de l'agriculture, du tourisme et de l'énergie.\n",
      "-------------------------------------------------- \n",
      "\n",
      "Qui est Bassaro Haïdara ?\n"
     ]
    },
    {
     "name": "stderr",
     "output_type": "stream",
     "text": [
      "\n",
      "OllamaEmbeddings:   0%|          | 0/1 [00:00<?, ?it/s]\u001B[A\n",
      "OllamaEmbeddings: 100%|██████████| 1/1 [00:09<00:00,  9.01s/it]\u001B[A\n"
     ]
    },
    {
     "name": "stdout",
     "output_type": "stream",
     "text": [
      "['Par Adama Coulibaly', 'Bamako le 20 mai 2024. Prof. Ali Nouhoum Diallo, Maître de Conférences Agrégé de Médecine Interne. Ancien Président de l’Assemblée Nationale du Mali. Ancien Président de Parlement de la CEDEAO. Président d’Honneur du Parti Africain pour la Solidarité et la Justice (Adema-P.A.SJ). 1er Vice-président de l’Alliance pour la Démocratie au Mali (A.De.Ma-Association).', 'Vive le Dialogue Inter-Maliens ! Vive la Paix et la Réconciliation nationale ! Vive le Mali Eternel ! Je vous remercie !', 'C’est pourquoi il a souligné que dans cette perspective qu’il faut considérer le besoin d’éducation aux médias et à l’information qui vise à développer le discernement chez le public, vis-à-vis des informations disponibles sur les supports médiatiques et lutter ainsi contre la mésinformation, la désinformation et la mal information. Par Fatoumata Coulibaly', 'Heureusement qu’il y a eu plus de peur que de mal. Le directeur du CicB s’est personnellement investi à ce que tout soit bien rangé dans la salle. Après avoir regagné sa place au présidium, quelques minutes plus tard,  Pinochet a déclaré d’une voix grave : «Mesdames et Messieurs, bonjour. Nous arrivons au début de la fin...C’est un immense bonheur qui nous anime tous...»', 'content: Du 15 au 17 mai 2024, les travaux de la 1ère édition du colloque international sur le genre et la corruption se sont déroulés, à l’hôtel Radisson Collection (ex Sheraton) avec comme thème : « FEMME ET CORRUPTION : BRISER LE SILENCE ET AGIR ENSEMBLE ! »', 'De son côté, la directrice du projet LUCEG à l’École d’Administration Publique du Québec, Seynabou Top a attiré l’attention sur les conséquences spécifiques de la corruption sur les femmes, notamment dans les secteurs de l’éducation, de la santé, de la justice et sur les corridors routiers. Par Fatoumata Coulibaly', 'A.T.Dansoko/Malijet.com', 'Il leur reste de relever le défi de l’organisation des élections qui sont en instance, pour que le concept de Mali Kura démarre avec la réalité du pouvoir légitime et populaire transmis à un des futurs prochains nombreux candidats gagnant à l’élection présidentielle de fin 2024 ou début 2025. (C’est une prédiction, ce n’est pas officiel)', 'ne faites pas comme les Wodaabe ! Vieil Ali Nouhoum, si tu maîtrisais à ce point, l’art de prendre le pouvoir et de le garder, de gérer le pays, le Mali ne serait pas dans « l’Etat de délabrement où il est ! Les Hommes Politiques maliens ne seraient pas vomis par le peuple comme ils le sont à présent »']\n",
      "Bassaro Haïdara est un homme politique malien.\n",
      "-------------------------------------------------- \n",
      "\n",
      "Qu'est ce que Assimi a fait récemment ?\n"
     ]
    },
    {
     "name": "stderr",
     "output_type": "stream",
     "text": [
      "\n",
      "OllamaEmbeddings:   0%|          | 0/1 [00:00<?, ?it/s]\u001B[A\n",
      "OllamaEmbeddings: 100%|██████████| 1/1 [00:05<00:00,  5.50s/it]\u001B[A\n"
     ]
    },
    {
     "name": "stdout",
     "output_type": "stream",
     "text": [
      "['Vive le Dialogue Inter-Maliens ! Vive la Paix et la Réconciliation nationale ! Vive le Mali Eternel ! Je vous remercie !', 'En souhaitant un plein succès à vos travaux, je déclare ouverte la phase nationale du Dialogue inter-Maliens pour la paix et la réconciliation nationale. Ensemble, nous ferons le Mali Kura. Qu’Allah bénisse le Mali et protège les Maliens ! Je vous remercie.', 'Heureusement qu’il y a eu plus de peur que de mal. Le directeur du CicB s’est personnellement investi à ce que tout soit bien rangé dans la salle. Après avoir regagné sa place au présidium, quelques minutes plus tard,  Pinochet a déclaré d’une voix grave : «Mesdames et Messieurs, bonjour. Nous arrivons au début de la fin...C’est un immense bonheur qui nous anime tous...»', 'C’est sur ces notes d’ESPOIR, et en vous souhaitant à tous un bon retour dans vos foyers respectifs, que je déclare clos, les travaux de la phase nationale du Dialogue inter-Maliens pour la paix et la réconciliation nationale. Ensemble, nous ferons le Mali Kura ! Qu’Allah bénisse le Mali et protège les Maliens ! Je vous remercie.', 'Pour rappel, l’objectif de ce salon d’exposition est de pouvoir réunir si possible, tous les hommes de médias autour d’un idéal commun, qu’est l’épanouissement du métier de journaliste.  A.T.Dansoko/Malijet.com', 'On retient de cette cérémonie d’ouverture, une participation à la hauteur de l’événement, la volonté affichée des autorités d’aller vers une paix durable et l’engouement de la population à prendre part aux discussions.  AFANOU KADIA DOUMBIA/Malijet.com', 'A.T.Dansoko/Malijet.com', \"Lors des échanges, des techniques et des stratégies ont été discutées pour lutter contre les fausses nouvelles. Le Doyen Cissé a présenté les résultats d'une étude sous sa direction, révélant que les fausses nouvelles existent depuis longtemps, mais qu'elles ont récemment pris de l'ampleur, mettant ainsi tout le monde en danger.   Kandana/Malijet.com\", 'Par Adama Coulibaly', \"Au sortir de cet atelier d'information et d'échanges, les médias conviés ont eu d'amples explications sur le contour et les enjeux du Dialogue inter-Maliens pour la Paix et la réconciliation nationale.   AFANOU KADIA DOUMBIA/Malijet.com\"]\n",
      "Assimi Goïta, le président de transition du Mali, a récemment déclaré ouverte la phase nationale du Dialogue inter-Maliens pour la paix et la réconciliation nationale. Il a également exprimé son espoir que les travaux se déroulent dans un climat apaisé et constructif. Prochaine demande.\n",
      "-------------------------------------------------- \n",
      "\n",
      "Le dialogie inter malien est il terminé ?\n"
     ]
    },
    {
     "name": "stderr",
     "output_type": "stream",
     "text": [
      "\n",
      "OllamaEmbeddings:   0%|          | 0/1 [00:00<?, ?it/s]\u001B[A\n",
      "OllamaEmbeddings: 100%|██████████| 1/1 [00:05<00:00,  5.22s/it]\u001B[A\n"
     ]
    },
    {
     "name": "stdout",
     "output_type": "stream",
     "text": [
      "['Vive le Dialogue Inter-Maliens ! Vive la Paix et la Réconciliation nationale ! Vive le Mali Eternel ! Je vous remercie !', 'Il a conclu en lançant un appel à la vigilance et à l’action continue, affirmant que le succès du dialogue était une victoire pour tout le peuple malien, une étape cruciale vers un avenir meilleur et plus stable pour le Mali.', 'C’est sur ces notes d’ESPOIR, et en vous souhaitant à tous un bon retour dans vos foyers respectifs, que je déclare clos, les travaux de la phase nationale du Dialogue inter-Maliens pour la paix et la réconciliation nationale. Ensemble, nous ferons le Mali Kura ! Qu’Allah bénisse le Mali et protège les Maliens ! Je vous remercie.', 'En souhaitant un plein succès à vos travaux, je déclare ouverte la phase nationale du Dialogue inter-Maliens pour la paix et la réconciliation nationale. Ensemble, nous ferons le Mali Kura. Qu’Allah bénisse le Mali et protège les Maliens ! Je vous remercie.', 'Ce tableau reluisant ne doit pas nous faire perdre de vue la réalité de la situation vécue solidairement par tous en temps d’épreuves accrues. Pour dire exactement que la fin du Mali n’est pas pour demain, quel qu’en soit l’aversion que les uns et les autres peuvent avoir pour une telle assertion : «Kolôn juggu yiri bé kari a yéré kono»', 'Son Excellence le Colonel Assimi GOÏTA a encouragé les participants à maintenir un esprit de franchise et de patriotisme pour que les recommandations finales reflètent fidèlement les préoccupations des Maliens. Il a déclaré ouverte la phase nationale du dialogue, exprimant son espoir de succès pour les travaux engagés.', 'Heureusement qu’il y a eu plus de peur que de mal. Le directeur du CicB s’est personnellement investi à ce que tout soit bien rangé dans la salle. Après avoir regagné sa place au présidium, quelques minutes plus tard,  Pinochet a déclaré d’une voix grave : «Mesdames et Messieurs, bonjour. Nous arrivons au début de la fin...C’est un immense bonheur qui nous anime tous...»', 'Il leur reste de relever le défi de l’organisation des élections qui sont en instance, pour que le concept de Mali Kura démarre avec la réalité du pouvoir légitime et populaire transmis à un des futurs prochains nombreux candidats gagnant à l’élection présidentielle de fin 2024 ou début 2025. (C’est une prédiction, ce n’est pas officiel)', 'On retient de cette cérémonie d’ouverture, une participation à la hauteur de l’événement, la volonté affichée des autorités d’aller vers une paix durable et l’engouement de la population à prendre part aux discussions.  AFANOU KADIA DOUMBIA/Malijet.com', \"Au sortir de cet atelier d'information et d'échanges, les médias conviés ont eu d'amples explications sur le contour et les enjeux du Dialogue inter-Maliens pour la Paix et la réconciliation nationale.   AFANOU KADIA DOUMBIA/Malijet.com\"]\n",
      "Non, le dialogue inter-malien n'est pas encore terminé. Il s'agit d'un processus en cours qui vise à favoriser la paix et la réconciliation nationale au Mali.\n",
      "-------------------------------------------------- \n",
      "\n",
      "Qui sont les membres de l'AES ?\n"
     ]
    },
    {
     "name": "stderr",
     "output_type": "stream",
     "text": [
      "\n",
      "OllamaEmbeddings:   0%|          | 0/1 [00:00<?, ?it/s]\u001B[A\n",
      "OllamaEmbeddings: 100%|██████████| 1/1 [00:08<00:00,  8.67s/it]\u001B[A\n"
     ]
    },
    {
     "name": "stdout",
     "output_type": "stream",
     "text": [
      "['Messieurs les Représentants des Autorités Administratives et Indépendantes ; ✓ Mesdames, Messieurs les membres du Cabinet du Président de la Transition ; ✓ Mesdames, Messieurs les Membres du Cabinet du Premier ministre ; ✓ Monsieur le Gouverneur du District de Bamako ; ✓ Madame et Messieurs les Gouverneurs de Régions ; ✓ Monsieur le Chef d’Etat-Major général des Armées ; ✓', 'Bamako le 20 mai 2024. Prof. Ali Nouhoum Diallo, Maître de Conférences Agrégé de Médecine Interne. Ancien Président de l’Assemblée Nationale du Mali. Ancien Président de Parlement de la CEDEAO. Président d’Honneur du Parti Africain pour la Solidarité et la Justice (Adema-P.A.SJ). 1er Vice-président de l’Alliance pour la Démocratie au Mali (A.De.Ma-Association).', 'les membres du Gouvernement ; ➢ Monsieur le Président du Comité de pilotage du Dialogue inter-Maliens pour la paix et la réconciliation nationale ; ➢ Messieurs les représentants des autorités religieuses et des légitimités traditionnelles ; ➢ Mesdames et Messieurs les Membres du Corps diplomatique, consulaire et des organisations internationales accréditées au Mali, ➢', 'content: Du 15 au 17 mai 2024, les travaux de la 1ère édition du colloque international sur le genre et la corruption se sont déroulés, à l’hôtel Radisson Collection (ex Sheraton) avec comme thème : « FEMME ET CORRUPTION : BRISER LE SILENCE ET AGIR ENSEMBLE ! »', 'au Mali, ➢ Mesdames et Messieurs les Responsables des Organisations de la société civile ; ➢ Distingués invités, ➢ Mesdames et Messieurs', 'de Femmes et de Jeunes et les autorités administratives indépendantes', 'et des organisations internationales accréditées au Mali ; Mesdames et Messieurs les Responsables des Organisations de la société civile ; Distingués invités ; Mesdames et Messieurs', 'Il est temps que les FaMa ne soient plus seules dans leur guerre sans merci contre les terroristes jihadistes Ce qui a permis d’en apprendre beaucoup sur et de se défaire des principaux goulots d’étranglement qui empêchaient les FaMa dans leur progression vers la reconquête totale des zones et localités en détresse, pour cause d’agression de Groupes armés terroristes (Gta)', 'Rassemblées par la Rédaction', 'Il leur reste de relever le défi de l’organisation des élections qui sont en instance, pour que le concept de Mali Kura démarre avec la réalité du pouvoir légitime et populaire transmis à un des futurs prochains nombreux candidats gagnant à l’élection présidentielle de fin 2024 ou début 2025. (C’est une prédiction, ce n’est pas officiel)']\n",
      "Les membres de l'AES sont les suivants :\n",
      "- Prof. Ali Nouhoum Diallo, ancien président de l'Assemblée nationale du Mali et ancien président du Parlement de la CEDEAO\n",
      "- Ancien président de l'Adema-P.A.SJ (Parti Africain pour la Solidarité et la Justice)\n",
      "- 1er vice-président de l'Alliance pour la Démocratie au Mali (A.De.Ma-Association)\n",
      "- Les membres du gouvernement\n",
      "- Le président du Comité de pilotage du Dialogue inter-Maliens pour la paix et la réconciliation nationale\n",
      "- Les représentants des autorités religieuses et des légitimités traditionnelles\n",
      "- Les membres du corps diplomatique, consulaire et des organisations internationales accréditées au Mali\n",
      "- Les responsables des organisations de la société civile\n",
      "- Les responsables des organisations internationales accréditées au Mali\n",
      "- Les représentants des autorités administratives indépendantes\n",
      "-------------------------------------------------- \n",
      "\n",
      "Comment a été la journée du 1er Mai au Mali ?\n"
     ]
    },
    {
     "name": "stderr",
     "output_type": "stream",
     "text": [
      "\n",
      "OllamaEmbeddings:   0%|          | 0/1 [00:00<?, ?it/s]\u001B[A\n",
      "OllamaEmbeddings: 100%|██████████| 1/1 [00:07<00:00,  7.64s/it]\u001B[A\n"
     ]
    },
    {
     "name": "stdout",
     "output_type": "stream",
     "text": [
      "[\"Ensuite, l'Association des Professionnels de la Presse en Ligne (APPEL-MALI) a animé une conférence sur l'impact des fausses nouvelles sur la paix, la santé, la cohésion sociale et l'unité nationale, marquant ainsi le début de la semaine de la presse qui se clôturera le 9 mai\", \"Bandiougou DANTE. Après les phases communales qui se sont tenues du 13 au 15 Avril 2024, et celles régionales qui se sont déroulées les 20, 21 et 22 Avril 2024 dans les 19 régions, le district de Bamako, les Ambassades et les consulats,  l'heure est à la dernière phase du Dialogue inter-Maliens qui débutera le lundi 06 mai pour se clôturer le vendredi 10 mai 2024\", 'content: Discours du Président de la Maison de la Presse du Mali dans le cadre de la journée mondiale de la Liberté de la Presse (3 mai 2024)', 'content: Le vendredi 3 mai 2024, à la Maison de la presse, les journalistes maliens se sont retrouvés pour célébrer la 31è édition de la journée Internationale consacrée à la liberté de la presse. Le thème national cette année est: «rôle et place de la presse dans la construction de la concorde nationale»', 'content: Du 15 au 17 mai 2024, les travaux de la 1ère édition du colloque international sur le genre et la corruption se sont déroulés, à l’hôtel Radisson Collection (ex Sheraton) avec comme thème : « FEMME ET CORRUPTION : BRISER LE SILENCE ET AGIR ENSEMBLE ! »', \"Les délégués des quatre centrales syndicales et un représentant du patronat ont également participé aux travaux. A l'issue de la phase finale, de fortes recommandations ont été faites Ouverte le lundi, 06 mai dernier, la phase nationale, qui est en même temps la phase finale, a pris fin le vendredi, 10 mai 2024\", 'Mesdames et Messieurs, Chers confrères,   Au-delà, de la journée mondiale de la Liberté de la Presse, la Maison de la Presse a respecté la tradition en organisant la Semaine Nationale de la Liberté de Presse dont le thème consensuel est : « rôle et place de la Presse dans la construction de la concorde nationale »', 'Son Excellence le Colonel Assimi GOÏTA a encouragé les participants à maintenir un esprit de franchise et de patriotisme pour que les recommandations finales reflètent fidèlement les préoccupations des Maliens. Il a déclaré ouverte la phase nationale du dialogue, exprimant son espoir de succès pour les travaux engagés.', 'Elle se dit consciente que «La commémoration se fait dans un contexte particulier de crise mondiale ayant entraîné dans notre pays le chômage, la restriction des investissements et surtout le Mali avec la crise sécuritaire qui a tout désorganisé»', 'Dans son mot de bienvenue, Mme Djiré Mariam Diallo, Maire de la Commune III, a rappelé que le 1er mai reste pour les travailleurs l’occasion de fêter le travail et toutes les valeurs qui l’accompagnent telles que la performance, l’excellence, la responsabilité, la productivité, l’équité, l’abnégation et la recevabilité']\n",
      "La journée du 1er mai au Mali a été marquée par une célébration de la fête du travail, avec des événements organisés pour commémorer l'occasion. La Maison de la Presse a également respecté la tradition en organisant la Semaine Nationale de la Liberté de Presse, dont le thème consensuel était \"rôle et place de la presse dans la construction de la concorde nationale\".\n",
      "-------------------------------------------------- \n",
      "\n",
      "Donne moi la date la plus récente des informations dont tu disposes\n"
     ]
    },
    {
     "name": "stderr",
     "output_type": "stream",
     "text": [
      "\n",
      "OllamaEmbeddings:   0%|          | 0/1 [00:00<?, ?it/s]\u001B[A\n",
      "OllamaEmbeddings: 100%|██████████| 1/1 [00:05<00:00,  5.89s/it]\u001B[A\n"
     ]
    },
    {
     "name": "stdout",
     "output_type": "stream",
     "text": [
      "['Tout a été dit, tout a été noté et consigné dans les rapports réceptionnés par une Commission de centralisation au sein du Comité de Pilotage et reversés aux commissions thématiques pour traitement et synthétisation, afin de mettre à la disposition des délégués à la Phase nationale des documents cohérents et consolidés', 'ceux et celles qui n’ont pas pris part au Dialogue Directe inter-maliens de les rejoindre', 'Cela nécessiterait aussi qu’il y ait une forte solidarité entre les hommes de média, notamment pour leur sécurité physique, morale et aussi économique. Le troisième niveau, c’est celui des citoyens. Ils ne doivent pas se contenter d’une information qui ne serait pas fiable', 'de haute intensité, c’est à vous, Chers Officiers militaires, de prendre ça en compte', 'Ces installations modernes sont conçues pour répondre aux standards internationaux et visent à renforcer l’autosuffisance du Mali dans ces secteurs clés. La mise en service de ce complexe industriel est imminente, et Seydou KEÏTA a assuré que les portes s’ouvriraient très prochainement', 'dont nous vivons les premiers instants ici et ensemble', 'Attention, mes Colonels ! Le Dialogue Direct Inter-Maliens sans les principaux protagonistes Civils et Militaires de l’Adrar des Ifoghas et du Maasina est plutôt un Monologue entre Initiés du KOMO ! Et sans la classe Politique dont les activités sont suspendues, ce Dialogue devient une Causerie entre Camarades et Amis qui conviennent que la cause est entendue', 'Nous avions été réduits à être des observateurs du martyre de notre peuple, pour des raisons économiques et géostratégiques auxquelles nous étions totalement étrangers', 'Toutes les sensibilités de la Nation y ont apporté leurs contributions. Une forte mobilisation de la Nation autour du Dialogue a été constaté', 'Live dans live Les confrères ont suivi l’ouverture et la clôture cantonné, dans une salle aménagée à cet effet avec les écrans géants. Seuls Ortm et Studio Tamani avaient droit à l’exclusivité des sons et images du dialogue. Quand on n’a pas les moyens de sa politique, il faut adopter la politique de ses moyens']\n",
      "La date la plus récente des informations dont je dispose est celle du 20 mars 2023.\n",
      "-------------------------------------------------- \n",
      "\n",
      "Qu'en est il de la crise sécuritaire au Mali ?\n"
     ]
    },
    {
     "name": "stderr",
     "output_type": "stream",
     "text": [
      "\n",
      "OllamaEmbeddings:   0%|          | 0/1 [00:00<?, ?it/s]\u001B[A\n",
      "OllamaEmbeddings: 100%|██████████| 1/1 [00:05<00:00,  5.70s/it]\u001B[A\n"
     ]
    },
    {
     "name": "stdout",
     "output_type": "stream",
     "text": [
      "['Elle vient s’ajouter à d’autres initiatives de lutte contre le terrorisme comme le bataillon autonome des forces spéciales et des Centres d’aguerrissement. La Fira n’a pas été créée pour des actions subversives. Il ne faut pas que les Maliens voient le mal partout”, nous a expliqué un haut cadre de l’armée.', 'Il leur reste de relever le défi de l’organisation des élections qui sont en instance, pour que le concept de Mali Kura démarre avec la réalité du pouvoir légitime et populaire transmis à un des futurs prochains nombreux candidats gagnant à l’élection présidentielle de fin 2024 ou début 2025. (C’est une prédiction, ce n’est pas officiel)', 'Heureusement qu’il y a eu plus de peur que de mal. Le directeur du CicB s’est personnellement investi à ce que tout soit bien rangé dans la salle. Après avoir regagné sa place au présidium, quelques minutes plus tard,  Pinochet a déclaré d’une voix grave : «Mesdames et Messieurs, bonjour. Nous arrivons au début de la fin...C’est un immense bonheur qui nous anime tous...»', '«Ces hommes armés se sont présentés pour rendre volontairement tous leurs équipements constitués de 5 véhicules, de matériels de guerre composés de mitrailleuses, de munitions et divers équipements militaires. L’Etat-major général des Armées rassure des bonnes dispositions en cours de traitement et de la gestion de ces hommes et des équipements réceptionnés»', 'content: Discours du Président de la Maison de la Presse du Mali dans le cadre de la journée mondiale de la Liberté de la Presse (3 mai 2024)', '\" Mettons-nous ensemble sans arbitre et les yeux dans les yeux, pour se dire ce qui n\\'a pas marché. Que tous les Maliens se réunissent, se parlent, et qu\\'ils proposent des solutions de sortie de crise qui sont endogènes, qui tirent leurs substances dans nos valeurs sociétales\"', 'Vive le Dialogue Inter-Maliens ! Vive la Paix et la Réconciliation nationale ! Vive le Mali Eternel ! Je vous remercie !', 'Par Adama Coulibaly', 'A l’entame de ses propos, le Chef d’Etat-major Général des Armées le Général de Division Oumar DIARRA a souligné que le Mali a entretenu de très bonnes relations avec EUTM durant Onze (11) années de collaboration dans la lutte contre le terrorisme au Mali', 'content: Du 15 au 17 mai 2024, les travaux de la 1ère édition du colloque international sur le genre et la corruption se sont déroulés, à l’hôtel Radisson Collection (ex Sheraton) avec comme thème : « FEMME ET CORRUPTION : BRISER LE SILENCE ET AGIR ENSEMBLE ! »']\n",
      "La situation sécuritaire au Mali reste préoccupante, avec des groupes terroristes et criminels qui continuent d'opérer dans le pays. Cependant, des initiatives telles que la Force Barkhane, les forces spéciales maliennes et les Centres d'aguerrissement ont été mises en place pour lutter contre le terrorisme. De plus, il est important de noter que la Fira (Force d'Intervention Rapide) n'a pas été créée pour des actions subversives et qu'il ne faut pas voir le mal partout. Il reste cependant à relever le défi de l'organisation des élections, afin de garantir une transition démocratique et pacifique vers un pouvoir légitime et populaire.\n",
      "-------------------------------------------------- \n",
      "\n",
      "La Belgique a t elle récemment collaborée avec le Mali ?\n"
     ]
    },
    {
     "name": "stderr",
     "output_type": "stream",
     "text": [
      "\n",
      "OllamaEmbeddings:   0%|          | 0/1 [00:00<?, ?it/s]\u001B[A\n",
      "OllamaEmbeddings: 100%|██████████| 1/1 [00:08<00:00,  8.13s/it]\u001B[A\n"
     ]
    },
    {
     "name": "stdout",
     "output_type": "stream",
     "text": [
      "['Elle vient s’ajouter à d’autres initiatives de lutte contre le terrorisme comme le bataillon autonome des forces spéciales et des Centres d’aguerrissement. La Fira n’a pas été créée pour des actions subversives. Il ne faut pas que les Maliens voient le mal partout”, nous a expliqué un haut cadre de l’armée.', 'content: Du 15 au 17 mai 2024, les travaux de la 1ère édition du colloque international sur le genre et la corruption se sont déroulés, à l’hôtel Radisson Collection (ex Sheraton) avec comme thème : « FEMME ET CORRUPTION : BRISER LE SILENCE ET AGIR ENSEMBLE ! »', 'Il leur reste de relever le défi de l’organisation des élections qui sont en instance, pour que le concept de Mali Kura démarre avec la réalité du pouvoir légitime et populaire transmis à un des futurs prochains nombreux candidats gagnant à l’élection présidentielle de fin 2024 ou début 2025. (C’est une prédiction, ce n’est pas officiel)', 'Bureau de l’Information et de la Presse/MAECI.', 'Vive le Dialogue Inter-Maliens ! Vive la Paix et la Réconciliation nationale ! Vive le Mali Eternel ! Je vous remercie !', 'Heureusement qu’il y a eu plus de peur que de mal. Le directeur du CicB s’est personnellement investi à ce que tout soit bien rangé dans la salle. Après avoir regagné sa place au présidium, quelques minutes plus tard,  Pinochet a déclaré d’une voix grave : «Mesdames et Messieurs, bonjour. Nous arrivons au début de la fin...C’est un immense bonheur qui nous anime tous...»', 'Ont pris part également à cette conférence de presse le ministre de la Communication, de l’Économie numérique et de la Modernisation de l’Administration ainsi que le président de la maison de la presse.  Placée sous le haut patronage du président de la Transition Assimi Goita, cette édition a pour thème : « Professionnalisation des médias au Mali et en Afrique »', 'Certaines allégations dans ces derniers temps ont porté sur la tension qui existerait entre le Mali et la Mauritanie le long des deux frontières et les allégations sur les relations entre la Mali  et l’Algérie qui, pour certains,  auraient pris un coup. Dans ses réponses, le colonel Major Dembélé a déclaré : « Les FAMA n’ont jamais franchi la frontière Mali-Mauritanie »', 'L’appui de la Russie leur offre une grande autonomie dans les décisions patriotiques qu’ils prennent En ce sens, ce qui vaut pour la Mauritanie vaut pour l’Algérie, avec qui le Mali est engagé auprès de la Russie et tous deux n’adoubent pas trop les Français', 'Bamako le 20 mai 2024. Prof. Ali Nouhoum Diallo, Maître de Conférences Agrégé de Médecine Interne. Ancien Président de l’Assemblée Nationale du Mali. Ancien Président de Parlement de la CEDEAO. Président d’Honneur du Parti Africain pour la Solidarité et la Justice (Adema-P.A.SJ). 1er Vice-président de l’Alliance pour la Démocratie au Mali (A.De.Ma-Association).']\n",
      "Je n'ai pas assez d'informations pour répondre correctement à cette question.\n",
      "-------------------------------------------------- \n",
      "\n"
     ]
    }
   ],
   "execution_count": 31
  },
  {
   "metadata": {
    "ExecuteTime": {
     "end_time": "2024-05-21T15:06:50.458878Z",
     "start_time": "2024-05-21T15:06:44.668018Z"
    }
   },
   "cell_type": "code",
   "source": "retriever.invoke(\"AES\")",
   "id": "c3080cfc02f2aa2e",
   "outputs": [
    {
     "name": "stderr",
     "output_type": "stream",
     "text": [
      "\n",
      "OllamaEmbeddings:   0%|          | 0/1 [00:00<?, ?it/s]\u001B[A\n",
      "OllamaEmbeddings: 100%|██████████| 1/1 [00:05<00:00,  5.56s/it]\u001B[A\n"
     ]
    },
    {
     "data": {
      "text/plain": [
       "[Document(page_content='Renforcer l’indépendance et la transparence de l’institution judiciaire pour une meilleure distribution de la justice ; 23. Opérationnaliser la Cour des comptes avec la création de ses chambres régionales ; 24. Accélérer les procédures judiciaires ; 25. Elaborer et faire respecter les manuels de procédures dans les services de l’Etat ; 26', metadata={'source': '/home/bouba/Workspace/kounafoni-app/data/malijet/source.csv', 'row': 14}),\n",
       " Document(page_content='Vulgariser et enseigner les chartes qui ont régi nos Royaumes et Empires ; 18. Développer, multiplier, diversifier, privilégier, pérenniser les accords de partenariats gagnant- gagnant ; 19. Établir une forte coopération entre les Forces de Défense de Sécurité (FDS) des pays de l’AES ; 20', metadata={'source': '/home/bouba/Workspace/kounafoni-app/data/malijet/source.csv', 'row': 14}),\n",
       " Document(page_content='Instaurer un mécanisme de redevabilité et de transparence dans la gestion des ressources publiques ; 27. Renforcer les mécanismes de contrôle de gestion des affaires publiques par la digitalisation et l’informatisation ; 28', metadata={'source': '/home/bouba/Workspace/kounafoni-app/data/malijet/source.csv', 'row': 14}),\n",
       " Document(page_content='Etablir plus de justice et d’équité dans la distribution des distinctions honorifiques ; 31. Elaborer et appliquer un plan de carrière des agents de l’Administration et veiller à une meilleure gestion des ressources humaines ; 32. Favoriser l’appel public à candidature pour certains postes de responsabilité ; 33', metadata={'source': '/home/bouba/Workspace/kounafoni-app/data/malijet/source.csv', 'row': 14}),\n",
       " Document(page_content='Adiaratou/Malijet.com', metadata={'source': '/home/bouba/Workspace/kounafoni-app/data/malijet/source.csv', 'row': 23}),\n",
       " Document(page_content='Mettre en œuvre le Schéma National d’Aménagement du Territoire avec une actualisation des Schémas Régionaux d’Aménagement du Territoire (SRAT) pour le développement équilibré du pays ; 23', metadata={'source': '/home/bouba/Workspace/kounafoni-app/data/malijet/source.csv', 'row': 14}),\n",
       " Document(page_content='Promouvoir et renforcer une justice sociale équitable pour tous ; 24. Poursuivre le renforcement des capacités des Forces armées et de sécurité en formation, équipements, budget et effectifs ; 25. Encadrer les artisans armuriers dont les compétences peuvent être mises à profit pour l’émergence d’une expertise endogène ; 26', metadata={'source': '/home/bouba/Workspace/kounafoni-app/data/malijet/source.csv', 'row': 14}),\n",
       " Document(page_content='Procéder à la réforme institutionnelle de la Mission d’Appui à la Réconciliation Nationale et opérationnaliser les Equipes Régionales d’Appui à la Réconciliation et les Comités communaux de Réconciliation en vue de leur permettre de jouer pleinement leur rôle de structure de mise en œuvre des politiques de paix et de cohésion sociale ; 39', metadata={'source': '/home/bouba/Workspace/kounafoni-app/data/malijet/source.csv', 'row': 14}),\n",
       " Document(page_content='Bâtir une politique forte entre l’AES et les autres regroupements régionaux et internationaux ; 21. Développer un partenariat stratégique sur le plan de la défense et de la sécurité avec les pays limitrophes ; 22. Créer une unité de garde-frontières à l’instar des pays voisins ; 23', metadata={'source': '/home/bouba/Workspace/kounafoni-app/data/malijet/source.csv', 'row': 14}),\n",
       " Document(page_content='En conclusion, «les militaires maliens, conscients de la complexité et du caractère asymétrique de la guerre contre le terrorisme, font preuve d’audace, de détermination et de résilience dans leur combat pour ramener la paix dans leur pays.». Khaly-Moustapha LEYE', metadata={'source': '/home/bouba/Workspace/kounafoni-app/data/malijet/source.csv', 'row': 37})]"
      ]
     },
     "execution_count": 32,
     "metadata": {},
     "output_type": "execute_result"
    }
   ],
   "execution_count": 32
  },
  {
   "metadata": {},
   "cell_type": "markdown",
   "source": "## Récapitulatif",
   "id": "75dc12a11b946a69"
  },
  {
   "metadata": {},
   "cell_type": "markdown",
   "source": [
    "- 8 bons retrieval sur 11 questions [V, V, V, X, V, V, X, V, X, V, V] : V -> True response and X -> Wrong response\n",
    "- 4 bonnes réponses sur 11 questions [X, V, V, X, V, X, X, X, X, X, V] :  V -> True response and X -> Wrong response\n",
    "- Bonne réponse à la question Bonus !\n",
    "- Questions potentielles à rajouter :\n",
    "    - Quand est ce que Abdoulaye Diop rencontrera ses homologues ?\n",
    "    -  Quoi de prévu le 28 Juin à Bamako ?\n",
    "    - Quelle célébrité le président a rencontré ?\n",
    "    - A quand la transition civile au Mali ?"
   ],
   "id": "b4fdfa56c58bde45"
  },
  {
   "metadata": {},
   "cell_type": "markdown",
   "source": "# Some results from OpenAIEmbeddings,far better result",
   "id": "ddd5fd27633320b0"
  },
  {
   "metadata": {
    "ExecuteTime": {
     "end_time": "2024-05-21T15:48:44.407782Z",
     "start_time": "2024-05-21T15:17:35.183244Z"
    }
   },
   "cell_type": "code",
   "source": [
    "# Result from OpenAI Embeddings\n",
    "for q in questions:\n",
    "    print(q)\n",
    "    print(chain.invoke(q))\n",
    "    print('-'*50, \"\\n\")"
   ],
   "id": "7b0a8ea0e30d79e7",
   "outputs": [
    {
     "name": "stdout",
     "output_type": "stream",
     "text": [
      "Parle moi du nouveau vérificateur général\n",
      "['title: BVG : Le nouveau vérificateur Mohamed Daou prête serment\\nsource_paper: Mali Tribune\\ndate: 2024-05-02\\nlink: https://malijet.com/a_la_une_du_mali/290367-bvg--le-nouveau-verificateur-mohamed-daou-prete-serment.html', 'content: Il est 9 heures lorsque Mohamed Daou, Vérificateur spécialisé en marchés publics au Bureau du Vérificateur général est appelé à la barre où il doit prêter serment devant la Cour suprême. C’était en présence de ses collègues, de ses proches et du directeur de la formation, de la documentation et du personnel, Drissa Mamadou Coulibaly', 'L’audience était présidée par le vice-président de la Cour suprême, Moussa Diarra, qui avait à ses côtés  Hamadoun Cissé et Tiécoura Mallé. A l’ouverture de la séance, le greffier a lu la décision du Vérificateur général, Samba Alhamdou Baby, portant nomination du nouveau vérificateur', 'Daou a juré devant la Cour, “de remplir ses fonctions avec honnêteté, impartialité, intégrité et objectivité dans le respect de la Constitution, des lois et règlements de la République et de se comporter en digne et loyal vérificateur“. Sur ce, le président de la Cour lui a donné acte de son serment et l’a renvoyé à l’exercice de ses fonctions. Source : Cecom-BVG', 'Les conclusions qui fâchent sont relatives à la nouvelle prorogation de la transition, à la relecture de la Charte de la transition, à l’appel à la candidature de Assimi GOITA, à l’élévation des jeunes officiers au grade du général', '« De plus, des missions d’inspection ont été systématisées, et des réformes majeures du Code pénal et du Code de procédure pénale sont en cours, avec des projets de loi soumis au Conseil National de Transition pour adoption » a fait savoir le Ministre de la Justice', 'Parmi ces réformes, la création de structures telles que le Pôle National Économique et Financier et le Pôle National de Lutte contre la Cybercriminalité, ainsi que l’Agence de Recouvrement et de Gestion des Avoirs Saisis ou Confisqués, a révélé le Ministre Kassogué', 'Des gouverneurs «ingouvernables» Général de Brigade Ismaïla Cissé, président de la Commission défense et sécurité, peinait manifestement à «gouverner» ses «gouverneurs» au cours des travaux', 'Dembélé, Directeur de la Direction des Informations et des Relations publiques des Armées', 'Gloire à Dieu, nous y sommes, comme depuis le début, quand vous l’annonciez dans votre message du nouvel an, à la Nation, le 31 décembre 2023 ou encore quand vous installiez le Comité de Pilotage le 05 février 2024 au Palais de Koulouba']\n",
      "Le nouveau vérificateur général est Mohamed Daou. Il a prêté serment devant la Cour suprême le 2 mai 2024 et remplit ses fonctions avec honnêteté, impartialité, intégrité et objectivité dans le respect de la Constitution, des lois et règlements de la République.\n",
      "-------------------------------------------------- \n",
      "\n",
      "Résume moi en quelques points les dernières actualités maintenant\n",
      "[\"Lors des échanges, des techniques et des stratégies ont été discutées pour lutter contre les fausses nouvelles. Le Doyen Cissé a présenté les résultats d'une étude sous sa direction, révélant que les fausses nouvelles existent depuis longtemps, mais qu'elles ont récemment pris de l'ampleur, mettant ainsi tout le monde en danger.   Kandana/Malijet.com\", 'Les conclusions qui fâchent sont relatives à la nouvelle prorogation de la transition, à la relecture de la Charte de la transition, à l’appel à la candidature de Assimi GOITA, à l’élévation des jeunes officiers au grade du général', 'Rassemblées par la Rédaction', \"Ensuite, l'Association des Professionnels de la Presse en Ligne (APPEL-MALI) a animé une conférence sur l'impact des fausses nouvelles sur la paix, la santé, la cohésion sociale et l'unité nationale, marquant ainsi le début de la semaine de la presse qui se clôturera le 9 mai\", 'Elle donne également l’opportunité aux acteurs des médias, de se focaliser sur les défis, obstacles et menaces qui pèsent sur le métier. Le président de la maison de la presse, Bandiougou Danté, a rappelé la «disparition» du confrère Birama Touré, dont les siens demeurent à ce jour sans nouvelles', 'De son côté le 1er vice-président de la Maison de la presse, Daouda Konaté dira que les avancées techniques dans les télécommunications entrainent une prolifération des médias et d’autres diffuseurs d’information grâce auxquels les citoyens accèdent à une grande quantité d’informations et de savoirs', 'Ousmane Issoufi MAÏGA, la presse doit véhiculer des messages positifs en situation de crise. \" Lorsque votre pays est en conflit, traverse des crises, la presse est à l\\'avant-garde.\" Il a également souligné l\\'importance de la tenue du Dialogue inter-Maliens qui se fera \"sans arbitre\"', 'La somme de tout cela se déteint inexorablement sur notre sécurité, sur notre cohésion sociale, sur la paix dans notre pays. Ces instants de vie alternent entre espoir et angoisse chez nos compatriotes qui voient très vite la joie du jour changer en crainte le lendemain. Fort heureusement, des résultats édifiants sont venus les apaiser et réinstaller l’espoir', 'En effet, le monde connait une situation d’urgence environnementale qui menace l’existence des générations actuelles et des générations futures. C’est pourquoi les professionnels des médias risquent leur vie pour tenter d’informer le monde sur tous les sujets, de la guerre à la démocratie', 'Pour cette 31ème édition le thème est « La Presse au service de la planète : crise environnementale et urgence du journalisme ». Ce thème rappelle l’importance et la nécessité pour les médias de s’engager dans la préservation de l’environnement']\n",
      "Les dernières actualités sont principalement liées à la lutte contre les fausses nouvelles, aux défis et obstacles rencontrés par les professionnels des médias, ainsi qu'à l'importance de la presse dans les situations de crise. De plus, le thème de cette 31e édition du Dialogue inter-Maliens est \"La Presse au service de la planète : crise environnementale et urgence du journalisme\".\n",
      "-------------------------------------------------- \n",
      "\n",
      "Où en est la relation Mali et Russie ?\n",
      "['L’appui de la Russie leur offre une grande autonomie dans les décisions patriotiques qu’ils prennent En ce sens, ce qui vaut pour la Mauritanie vaut pour l’Algérie, avec qui le Mali est engagé auprès de la Russie et tous deux n’adoubent pas trop les Français', 'On le voit déjà avec l’ONG Human right Watch, repris par le Colonel Yaya Sangaré dans son livre inutile et obviant. Or aujourd’hui, le Mali, le Niger et le Burkina, avec l’assistance des militaires russes, et des officiels russes, bénéficient d’un sûr garant au Conseil de sécurité', 'Ces deux pays ont donc toute la latitude (partage d’information) et la logistique (coopération militaire) pour «soutenir le Mali dans ses efforts de lutte contre le terrorisme et la criminalité transfrontalières»', 'Selon lui, des Maliens sont en formation actuellement en Algérie et du côté algérien, une délégation, il n’ y a  pas longtemps, a séjourné au Mali dans le cadre de la collaboration des deux pays en vue de lutter contre le terrorisme', 'du Mali et à l’étranger..', 'Il a également fait cas des prises de fonctions dans les régions militaires, c’est-à-dire des changements dans certaines zones. Selon le colonel Major Souleymane Dembélé, le Mali a également procédé à la décoration du chef militaire Russe et l’attaché de défense de la Chine', '« Le Mali et la Mauritanie travaillent d’ailleurs main  dans  la main dans le cadre de la lutte contre le terrorisme. Et, les autorités actuelles sont sur cette dynamique et  maintiendront  ces relations fraternelles », va-t-il faire savoir. Il en est de même pour l’Algérie', 'Sans nul doute, le Dialogue inter-Maliens aura tenu toutes ses promesses, et c’est avec un immense espoir que les maliens envisage désormais la résolution durable de la problématique de paix et de réconciliation dans notre pays sans ingérence extérieure. A.B.D', 'Cette orientation de la politique extérieure intervient après moult péripéties diplomatiques au siège des Nations unies, où le Mali officiel s’est débattu dans des débats stériles d’accusation-diabolisation et de contre-accusations exclusion, et avec son ancien allié et partenaire militaire qu’était la France', 'Avant de rappeler que les relations  fraternelles  que le  Mali de Modibo Keita a nouées avec son excellence Moctar Ould Dada de la Mauritanie sont les mêmes relations fraternelles qui continuent entre les deux pays']\n",
      "La relation entre le Mali et la Russie est actuellement très forte. Les deux pays collaborent étroitement dans la lutte contre le terrorisme et la criminalité transfrontalière, avec l'aide des militaires russes et des officiels russes. Le Mali a également prodigué des décorations au chef militaire russe et à l'attaché de défense chinois pour leur soutien dans cette lutte.\n",
      "-------------------------------------------------- \n",
      "\n",
      "Qui est Bassaro Haïdara ?\n",
      "['Au vu de de son expérience, Bassaro Haïdara est un professionnel accompli et un citoyen engagé. Son parcours exemplaire est une source d’inspiration pour les plus jeunes qui aspirent à réussir dans le domaine de l’information et de la communication. A Dicko', 'En plus de ses réalisations professionnelles, Bassaro Haïdara est également un acteur engagé de la société civile. Il a été président du Club Toastmasters Bamako-Soleil, directeur de secteur avec quatre clubs sous sa responsabilité ensuite du directeur de zone avec trois pays (Gambie, Mali et Sénégal) à administrer avec plus de 400 membres', 'title: 14e congres de l’UNTM : Bassaro Haïdara aux commandes de l’information\\nsource_paper: Mali Tribune\\ndate: 2024-05-02\\nlink: https://malijet.com/a_la_une_du_mali/290373-14e-congres-de-l’untm--bassaro-haïdara-aux-commandes-de-l’inform.html', 'A la faveur du 14e congrès de l’UNTM, qui a clos ses travaux le week-end dernier à Bamako, Bassaro Haïdara hérite du prestigieux poste de Secrétaire aux Technologies, à l’Information et à la Communication. Natif du village de Nyamina dans la région de Ségou il y a une quarantaine d’années, M', 'Abou Houzeifa alias Hugo est l’un des chefs militaires de l’Etat islamique au grand Sahara (Eigs), un groupe armé djihadiste très actif dans la Zone des Trois Frontières', \"content: Depuis quelques mois, le parti SADI, fondé par le Dr Oumar Mariko, actuellement en exil, a été assigné en justice par le biais d'un exploit d'huissier. Le 8 janvier dernier, le procès a été reporté à la demande des avocats dudit parti\", 'Au même moment, Harouna Attini de la radio Alafia d’Ansongo s’en est tiré avec quelques blessures et un traumatisme psychologique profond. Plus récemment, le 11 décembre 2023, Almahady Barazy, directeur de la radio Bonferey de Taboye dans le cercle de Bourem a été lui aussi été enlevé par des individus armés non identifiés', 'Il est également le président fondateur de l’Association des supporters du club de football anglais de Manchester United au Mali et du Club Unesco de l’IGLAM. Son engagement associatif lui a valu de nombreuses reconnaissances, dont le titre de “Distingué ToastMaster” (DTM). M Haïdara est un communicant hors pair, doté d’excellentes compétences en leadership et en management', 'Ousmane Tangara', 'Le 18 avril 2021, Moussa Bana DICKO Directeur des programmes de radio Hairé de Boni dans le cercle de Douentza a été enlevé chez lui et reste introuvable.   Le 26 janvier 2023, Sory KONE, Directeur des programmes de la radio DANAYA de Souba dans la région de Ségou, cercle de Farako a été enlevé chez lui et reste lui aussi, encore introuvable']\n",
      "Bassaro Haïdara est un professionnel accompli dans le domaine de l'information et de la communication. Il a été président du Club Toastmasters Bamako-Soleil, directeur de secteur avec quatre clubs sous sa responsabilité ensuite du directeur de zone avec trois pays (Gambie, Mali et Sénégal) à administrer avec plus de 400 membres. Il est également un acteur engagé de la société civile et a été assigné en justice par le biais d'un exploit d'huissier pour son implication dans le parti SADI.\n",
      "-------------------------------------------------- \n",
      "\n",
      "Qu'est ce que Assimi a fait récemment ?\n",
      "['Ousmane Issoufi MAIGA, pour avoir réussi à rassembler les Maliens autour de l’essentiel en quelques semaines. Par ailleurs, le Col. Assimi a lancé un appel à tous ceux qui n’ont pas participé au dialogue afin qu’ils rejoignent les autres Maliens en vue de bâtir une paix durable, condition essentielle de tout développement', '«Même les chevaux ne peuvent être vendus au même prix. Assimi Maréchal et les 5 autres colonels, généraux. Si aujourd’hui ça marche, c’est Assimi qu’on connaît. Et si ça ne marche pas aussi, c’est lui qu’on connait. Et ce sont les autres colonels qui lui ont donné la tête de leur mouvement, en ce moment nous on n’était pas là»', 'title: Assimi Goïta lors du lancement des travaux de la phase nationale du dialogue inter-maliens : « Dans ce combat historique, notre peuple compte d’abord sur ses propres forces... »\\nsource_paper: Le Républicain\\ndate: 2024-05-07\\nlink: https://malijet.com/a_la_une_du_mali/290501-assimi-goïta-lors-du-lancement-des-travaux-de-la-phase-nationale.html', 'title: Assimi Goïta lors du lancement des travaux de la phase nationale du dialogue inter-maliens = « Dans ce combat historique, notre peuple compte d’abord sur ses propres forces... »\\nsource_paper: Le Républicain\\ndate: 2024-05-09\\nlink: https://malijet.com/a_la_une_du_mali/290575-assimi-goïta-lors-du-lancement-des-travaux-de-la-phase-nationale.html', 'Le Président mauritanien, Mohamed Ould Cheikh El Ghazouani, qui a rendez-vous avec le peuple électeur le 29 juin prochain, ne doit pas perdre de vue cette constante, du moment où Assimi n’est pas un belliciste ni les Fama des Va-t-en guerre', 'Son Excellence le Colonel Assimi GOÏTA a encouragé les participants à maintenir un esprit de franchise et de patriotisme pour que les recommandations finales reflètent fidèlement les préoccupations des Maliens. Il a déclaré ouverte la phase nationale du dialogue, exprimant son espoir de succès pour les travaux engagés.', 'Dans son discours d’ouverture, Son Excellence le Colonel Assimi GOÏTA a exprimé sa gratitude envers Allah pour avoir permis la tenue de cette phase nationale, soulignant l’inclusivité du processus depuis son commencement. Il a rappelé les efforts des Maliens à tous les niveaux pour proposer des solutions visant à surmonter la crise et à renforcer le vivre-ensemble', 'À ce propos, tout récemment, une opération des Forces armées maliennes (FAMa) a neutralisé le chef des djihadistes, groupes terroristes alliés à Aqmi ou à Jnin, centrales de recrutement de premier plan des terroristes, et qui sévissaient dans la zone de Youwarou : Ali Sékou alias Diouraydi. C’était le 12 avril dernier', 'Assimi Goita a laissé entendre que : « Le mérite revient tout d’abord au peuple malien résiliant qui a su se mobiliser en ayant une conscience claire des enjeux de l’heure', 'title: Discours de Son Excellence, le colonel Assimi, président de la transition, chef de l’état, à l’occasion de la cérémonie d’ouverture de la phase nationale du dialogue inter-maliens pour la paix et la réconciliation nationale.\\nsource_paper: Malijet\\ndate: 2024-05-06']\n",
      "Assimi Goita a encouragé les participants à maintenir un esprit de franchise et de patriotisme pour que les recommandations finales reflètent fidèlement les préoccupations des Maliens. Il a déclaré ouverte la phase nationale du dialogue, exprimant son espoir de succès pour les travaux engagés.\n",
      "-------------------------------------------------- \n",
      "\n",
      "Le dialogie inter malien est il terminé ?\n",
      "['content: Le dialogue inter-Maliens s’est achevé avec plusieurs recommandations ce vendredi 10 mai 2024, à Bamako', 'Sans nul doute, le Dialogue inter-Maliens aura tenu toutes ses promesses, et c’est avec un immense espoir que les maliens envisage désormais la résolution durable de la problématique de paix et de réconciliation dans notre pays sans ingérence extérieure. A.B.D', 'Cinq jours durant, les participants se sont penchés sur les différentes recommandations formulées lors des rencontres préliminaires. Selon le président de la transition, Col. Assimi Goïta, le dialogue inter maliens vient d’achever sa phase ultime. Cette audience, dira-t-il, justifiait à bien des égards l’initiation du dialogue direct entre les maliens et les maliennes', \"content: Le vendredi 10 mai 2024, le dialogue inter-malien pour la paix et la réconciliation nationale a pris fin par l'annonce de fortes recommandations. Parmi ces recommandations, celles relatives au domaine politique ont retenu le plus l'attention des maliens\", 'Les rideaux des journées consacrées au Dialogue Direct inter-maliens sont tombés. Chacun des participants brandit les résolutions dont il est l’auteur ou co-auteur', 'Le Dialogue inter-Maliens pour la paix et la réconciliation nationale vient d’achever sa phase ultime. À cette heureuse occasion, je voudrais, avant tout propos, rendre grâce à Allah le Tout-Puissant de nous avoir aidés à conduire le train de la fraternité et de l’unité nationale à bon port', \"A la suite de cette annonce, il a proposé la tenue d'un dialogue dit inter-malien pour la paix et la réconciliation nationale. A ses dires, ce dialogue se fera exclusivement entre maliens sans la présence de corps étrangers\", 'Les groupes armés du Nord rentrés en belligérance contre l’État ne participent pas non plus à ce processus qui se veut pourtant inclusif. Du 20 au 22 avril, le train du dialogue poursuit son trajet dans les régions. Même satisfecit à l’issue de cette seconde étape. Ce lundi 6 mai commence donc la dernière étape de ces pourparlers directs inter-maliens', \"Au sortir de cet atelier d'information et d'échanges, les médias conviés ont eu d'amples explications sur le contour et les enjeux du Dialogue inter-Maliens pour la Paix et la réconciliation nationale.   AFANOU KADIA DOUMBIA/Malijet.com\", 'Vive le Dialogue Inter-Maliens ! Vive la Paix et la Réconciliation nationale ! Vive le Mali Eternel ! Je vous remercie !']\n",
      "Oui, le dialogue inter-malien est terminé.\n",
      "-------------------------------------------------- \n",
      "\n",
      "Qui sont les membres de l'AES ?\n",
      "['des Etats de l’AES en ces temps de défis géopolitiques', 'Trois pays de l’Alliance des États du Sahel (AES) qui surveillent comme du lait sur le feu toutes démarches au sein du Conseil de sécurité allant dans le sens de mobiliser la communauté internationale pour une éventuelle frappe sur les pays du Sahel non conforme à l’ordre constitutionnel normal', 'Précédée de la réunion des hauts fonctionnaires prévue le 16 mai, la rencontre ministérielle préparatoire au Sommet des Chefs d’État de l’AES permettra aux Ministres chargés des Affaires Étrangères d’examiner et de valider les textes qui seront soumis à l’adoption des Chefs d’État en vue de l’institutionnalisation et de l’opérationnalisation de la Confédération «', 'Bâtir une politique forte entre l’AES et les autres regroupements régionaux et internationaux ; 21. Développer un partenariat stratégique sur le plan de la défense et de la sécurité avec les pays limitrophes ; 22. Créer une unité de garde-frontières à l’instar des pays voisins ; 23', 'Des États du Sahel (AES) qui surveillent comme du lait sur le feu toutes démarches au sein du Conseil de sécurité   Les Fama, dans ce contexte, ne font que s’entraîner sur des pâles copies de faux djihadistes, en attendant l’entrée des troupes militaires de certains alliés à l’Otan qui voudraient s’essayer à voir ou rendre nos frontières poreuses', 'Vulgariser et enseigner les chartes qui ont régi nos Royaumes et Empires ; 18. Développer, multiplier, diversifier, privilégier, pérenniser les accords de partenariats gagnant- gagnant ; 19. Établir une forte coopération entre les Forces de Défense de Sécurité (FDS) des pays de l’AES ; 20', 'Relire la carte diplomatique en fonction de nos intérêts stratégiques ; 10. Proposer aux pays de l’AES de construire un partenariat dans le domaine de l’Education ; 11. Renforcer la capacité numérique du pays ; 12. Adapter notre politique dans les domaines des Technologies de l’Information et de la Communication (TIC) à nos besoins ; 13', \"la Patrie, Chef de l’État du Niger qui, dès le 16 septembre 2023, à travers la Charte du Liptako-Gourma instituant l'AES, ont, dans un premier temps, mis en place une architecture de défense collective et d’assistance mutuelle\", \"title: Réunion des Ministres des Affaires étrangères des pays membres de l'AES\\nsource_paper: Malijet\\ndate: 2024-05-16\\nlink: https://malijet.com/a_la_une_du_mali/290831-reunion-des-ministres-des-affaires-etrangeres-des-pays-membres-d.html\", 'les membres du Gouvernement ; ➢ Monsieur le Président du Comité de pilotage du Dialogue inter-Maliens pour la paix et la réconciliation nationale ; ➢ Messieurs les représentants des autorités religieuses et des légitimités traditionnelles ; ➢ Mesdames et Messieurs les Membres du Corps diplomatique, consulaire et des organisations internationales accréditées au Mali, ➢']\n",
      "Les membres de l'Alliance des États du Sahel (AES) sont le Burkina Faso, la Mauritanie, le Niger et le Tchad.\n",
      "-------------------------------------------------- \n",
      "\n",
      "Comment a été la journée du 1er Mai au Mali ?\n",
      "['populaire au Mali', 'content: Le mercredi 1er mai 2024, la fête du travail, célébrée depuis 1963 au Mali, a mobilisé du grand monde à la Bourse du Travail en Commune III du district de Bamako, sous l’égide de l’union', 'content: Ce vendredi 3 mai, la presse malienne a célébré la journée internationale de la presse dans les locaux de la Maison de la presse', 'Dans son mot de bienvenue, Mme Djiré Mariam Diallo, Maire de la Commune III, a rappelé que le 1er mai reste pour les travailleurs l’occasion de fêter le travail et toutes les valeurs qui l’accompagnent telles que la performance, l’excellence, la responsabilité, la productivité, l’équité, l’abnégation et la recevabilité', 'content: La presse malienne à l’instar des autres pays du monde célèbre ce 3 mai, la Journée mondiale de la liberté de la presse. Une occasion de passer au peigne fin le parcours des médias en cette période de crise multidimensionnelle et mettre en lumière le rôle crucial du journalisme et de la liberté d’expression dans ce contexte difficile', 'content: A l’occasion de la Journée Mondiale de la Liberté de la Presse célébrée le 3 mai, il est important de se pencher sur la situation de la liberté d’expression au Mali. Malgré les avancées démocratiques observées ces dernières années, le pays continue de faire face à des défis majeurs en matière de liberté de la presse et d’expression', 'content: Le dialogue inter-Maliens s’est achevé avec plusieurs recommandations ce vendredi 10 mai 2024, à Bamako', \"Il en est de même de la gestion des entreprises », a déclaré Yacouba Katilé. Il a fait savoir que le 1er mai (fête du travail) est l'occasion pour leur Centrale syndicale de mener avec celles du Burkina Faso et du Niger, des relations, des mobilisations, de soutien aux régimes des trois pays de l'AES (Alliance des Etats du Sahel)\", 'Elle est célébrée au moment où l’environnement médiatique est déchiré entre les défis à affronter, les menaces pesant sur elle et sa vitalité voire sa survie dans ces conditions. Chaque année, la presse malienne célèbre le 3 mai à travers des sous-thèmes reflétant les réalités et préoccupations nationales', 'content: Discours du Président de la Maison de la Presse du Mali dans le cadre de la journée mondiale de la Liberté de la Presse (3 mai 2024)']\n",
      "La journée du 1er Mai au Mali a été célébrée avec grand succès à la Bourse du Travail en Commune III du district de Bamako, sous l'égide de l'union. La fête du travail a mobilisé du grand monde et a permis aux travailleurs de fêter le travail et toutes les valeurs qui l'accompagnent telles que la performance, l'excellence, la responsabilité, la productivité, l'équité, l'abnégation et la recevabilité.\n",
      "-------------------------------------------------- \n",
      "\n",
      "Donne moi la date la plus récente des informations dont tu disposes\n",
      "['Confrontée qu’elle est à une série d’obstacles mettant en péril sa mission essentielle de fournir de façon libre et indépendante des informations, elle célèbre cette fois-ci l’événement dans un contexte particulier.    Les difficultés financières à surmonter constituent l’un des principaux défis pour les médias maliens', 'Gloire à Dieu, nous y sommes, comme depuis le début, quand vous l’annonciez dans votre message du nouvel an, à la Nation, le 31 décembre 2023 ou encore quand vous installiez le Comité de Pilotage le 05 février 2024 au Palais de Koulouba', \"Lors des échanges, des techniques et des stratégies ont été discutées pour lutter contre les fausses nouvelles. Le Doyen Cissé a présenté les résultats d'une étude sous sa direction, révélant que les fausses nouvelles existent depuis longtemps, mais qu'elles ont récemment pris de l'ampleur, mettant ainsi tout le monde en danger.   Kandana/Malijet.com\", 'Le document final vous a été remis lors d’une cérémonie solennelle le lundi 04 mars 2024 au Palais de Koulouba', 'De son côté le 1er vice-président de la Maison de la presse, Daouda Konaté dira que les avancées techniques dans les télécommunications entrainent une prolifération des médias et d’autres diffuseurs d’information grâce auxquels les citoyens accèdent à une grande quantité d’informations et de savoirs', 'A la date du 02 mai 2024, cette plateforme, en l’espace d’un mois, a reçu la visite de plus de 121 mille internautes avec des contributions et recommandations fortes', 'Dembélé, Directeur de la Direction des Informations et des Relations publiques des Armées', 'Sur ce registre peu reluisant, permettez-moi de citer les assassinats de Dada Bah, animateur à la Radio Dagné FM dans la nuit du 26 au 27 octobre 2023 à Nara par des individus non identifiés, de Abdoul Aziz Djibrilla, animateur à la radio Naata de Labbezanga sur l’axe routier Ansongo-Gao le 7 novembre 2023 et l’enlèvement de ses compagnons de route, Saleck Ag Jiddou dit Zeidane', 'Jiddou dit Zeidane et Moustaph Koné respectivement directeur et animateur de la radio Coton d’Ansongo dont nous sommes encore sans nouvelles', '« Le défi qui en résulte est celui de comment évaluer la pertinence et la fiabilité de cette énorme quantité d’informations » s’est-il interrogé']\n",
      "La date la plus récente des informations dont je dispose est le 02 mai 2024.\n",
      "-------------------------------------------------- \n",
      "\n",
      "Qu'en est il de la crise sécuritaire au Mali ?\n",
      "['Depuis plus d’une décennie, la vie du Malien est suspendue à une interrogation récurrente : de quoi sera fait demain ? Cette question se nourrit de la crise multidimensionnelle que nous vivons, faite de tensions socio-politiques permanentes, d’attaques armées contre les civils et les militaires, de la barbarie terroriste devenue une hydre dans le Sahel, de la gouvernance', 'En matière de la défense et de la sécurité du Mali en proie à de violences accrues depuis plus d’une décennie, les participants au dialogue mettent l’accent que l’action militaire seule n’est pas suffisante pour le retour définitif de la paix au Mali', 'Lancé il y a quelques mois, le dialogue inter-maliens a produit un document qu’il faut apprécier à sa juste valeur même si d’aucuns, notamment de la classe politique le rejettent purement et simplement. En effet, les participants représentant les 24 millions de Maliens ont émis ce qu’ils pensent propice pour traiter l’épineuse question de défense et de sécurité au Mali', 'Une façon aussi pour l’État malien de consolider le retour à la paix, avant le retour à l’ordre constitutionnel normal, au sortir du dialogue inter-Maliens. Toutes choses qui n’auront de sens que dans la mesure où la sécurité sur l’ensemble du territoire retrouvera toute son acuité et sa prégnance', 'Il y a visiblement une fébrilité dans la frontière Mali-Mauritanie due aux actions d’acteurs nuisibles, perturbant  les actions économiques. Par ailleurs, de nos jours, à Kidal, la situation sécuritaire s’est nettement améliorée', 'Parce que la diplomatie n’est pas du jazz, les questions sécuritaires liées à la vie des populations et la protection de leurs biens et de leur personne sont au diapason des enjeux mondiaux actuels en matière de paix et de risques de guerre planétaire accrus. Cela s’explique facilement au Mali', '« Le Mali, naguère paisible, a dû affronter une crise complexe et des conflits exacerbés par des influences internes et externes. Mais, dans un sursaut de dignité, le peuple malien a repris son destin en main, illustré par la reprise de Kidal et d’autres territoires du nord », a déclaré le Président GOÏTA', 'D’ailleurs, le colonel Major Dembélé fera savoir que le Mali, le Burkina et l’Algérie sont en train d’entrevoir comment ils peuvent coaliser pour une lutte commune contre ce phénomène pour l’intérêt des trois pays.  Sur la situation sécuritaire pendant ces 2 mois passés qu’il a passé au peigne fin avant, le colonel Major dira que les opérations des FAMA ont été intenses', 'Nous pouvons ici parler entre autres et non des moindres : du retour de nos Forces armées et de sécurité ainsi que de l’Administration dans la Région de Kidal qui a donné la preuve à la Nation entière que la patience et la résilience sont les deux battants de la porte du possible. Et le possible est malien, l’impossible n’est pas malien', 'Mais, mal leur en a pris ! Car déjà, dans la quasi-totalité des localités du Mali et les régions militaires fortifiées, les Forces de défense et de sécurité ont fini de se préparer à l’éventualité de tout type d’invasion terrestre, avec des vecteurs aériens qui surveillent et des alliés de l’AES prêts à apporter assistance']\n",
      "La crise sécuritaire au Mali est caractérisée par une instabilité chronique, des attaques terroristes et des violences intercommunautaires. Le pays fait face à une insécurité grandissante depuis plus d'une décennie, causée par des tensions socio-politiques permanentes, des attaques armées contre les civils et les militaires, la barbarie terroriste devenue une hydre dans le Sahel, ainsi que des problèmes liés à la gouvernance. Le dialogue inter-maliens a produit un document qui émet des propositions pour traiter l'épineuse question de défense et de sécurité au Mali, mais certains participants rejettent ce document. La situation sécuritaire s'est améliorée à Kidal, mais il y a toujours une instabilité dans la frontière Mali-Mauritanie due aux actions d'acteurs nuisibles perturbant les activités économiques. Le pays est confronté à des enjeux mondiaux actuels en matière de paix et de risques de guerre planeétaire accrus, ce qui s'explique facilement au Mali.\n",
      "-------------------------------------------------- \n",
      "\n",
      "La Belgique a t elle récemment collaborée avec le Mali ?\n",
      "['Selon lui, des Maliens sont en formation actuellement en Algérie et du côté algérien, une délégation, il n’ y a  pas longtemps, a séjourné au Mali dans le cadre de la collaboration des deux pays en vue de lutter contre le terrorisme', 'D’ailleurs, le colonel Major Dembélé fera savoir que le Mali, le Burkina et l’Algérie sont en train d’entrevoir comment ils peuvent coaliser pour une lutte commune contre ce phénomène pour l’intérêt des trois pays.  Sur la situation sécuritaire pendant ces 2 mois passés qu’il a passé au peigne fin avant, le colonel Major dira que les opérations des FAMA ont été intenses', 'Ces deux pays ont donc toute la latitude (partage d’information) et la logistique (coopération militaire) pour «soutenir le Mali dans ses efforts de lutte contre le terrorisme et la criminalité transfrontalières»', 'Pour le commandant de la mission EUTM, cette collaboration avec le Mali lui a permis d’apprendre énormément de choses dans la lutte contre le terrorisme avec les Forces Armées Maliennes. Une photo de famille a marqué la fin de cette rencontre', 'du Mali et à l’étranger..', 'populaire au Mali', '« Le Mali et la Mauritanie travaillent d’ailleurs main  dans  la main dans le cadre de la lutte contre le terrorisme. Et, les autorités actuelles sont sur cette dynamique et  maintiendront  ces relations fraternelles », va-t-il faire savoir. Il en est de même pour l’Algérie', 'Nicola Simard a rappelé la solidité et l’importance de la relation entre le Mali et le Canada depuis plus d’un demi-siècle tout en insistant sur l’accent mis par son pays dans sa collaboration avec le Mali et dans la lutte contre la corruption et la réduction des inégalités basées sur le genre à l’image de ce colloque qui entre dans le cadre du projet \"LUCEG\"', 'Depuis quelques semaines, l’Armée malienne a lancé des opérations de grande envergure pour le nettoyage du territoire sur plusieurs fronts du nord au sud, de la frontières mauritanienne, nigérienne et jusqu’à la frontières algérienne', 'Certaines allégations dans ces derniers temps ont porté sur la tension qui existerait entre le Mali et la Mauritanie le long des deux frontières et les allégations sur les relations entre la Mali  et l’Algérie qui, pour certains,  auraient pris un coup. Dans ses réponses, le colonel Major Dembélé a déclaré : « Les FAMA n’ont jamais franchi la frontière Mali-Mauritanie »']\n",
      "Je n'ai pas assez d'informations pour répondre correctement.\n",
      "-------------------------------------------------- \n",
      "\n"
     ]
    }
   ],
   "execution_count": 40
  }
 ],
 "metadata": {
  "kernelspec": {
   "display_name": "Python 3",
   "language": "python",
   "name": "python3"
  },
  "language_info": {
   "codemirror_mode": {
    "name": "ipython",
    "version": 2
   },
   "file_extension": ".py",
   "mimetype": "text/x-python",
   "name": "python",
   "nbconvert_exporter": "python",
   "pygments_lexer": "ipython2",
   "version": "2.7.6"
  }
 },
 "nbformat": 4,
 "nbformat_minor": 5
}
